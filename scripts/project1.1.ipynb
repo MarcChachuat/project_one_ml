{
 "cells": [
  {
   "cell_type": "code",
   "execution_count": 857,
   "metadata": {
    "collapsed": false,
    "scrolled": true
   },
   "outputs": [
    {
     "name": "stdout",
     "output_type": "stream",
     "text": [
      "The autoreload extension is already loaded. To reload it, use:\n",
      "  %reload_ext autoreload\n"
     ]
    }
   ],
   "source": [
    "# Useful starting lines\n",
    "%matplotlib inline\n",
    "import numpy as np\n",
    "import matplotlib.pyplot as plt\n",
    "\n",
    "from functions import *\n",
    "from helpers import *\n",
    "from proj1_helpers import *\n",
    "from costs import *\n",
    "# from data_preprocessing import *\n",
    "\n",
    "%load_ext autoreload\n",
    "%autoreload 2"
   ]
  },
  {
   "cell_type": "markdown",
   "metadata": {},
   "source": [
    "## Load the training data into feature matrix, class labels, and event ids:"
   ]
  },
  {
   "cell_type": "code",
   "execution_count": 2,
   "metadata": {
    "collapsed": false
   },
   "outputs": [
    {
     "name": "stdout",
     "output_type": "stream",
     "text": [
      "loading of the data : done\n"
     ]
    }
   ],
   "source": [
    "from proj1_helpers import *\n",
    "DATA_TRAIN_PATH = '../data/train.csv' \n",
    "# TODO: download train data and supply path here \n",
    "y, tX, ids = load_csv_data(DATA_TRAIN_PATH)\n",
    "print(\"loading of the data : done\")"
   ]
  },
  {
   "cell_type": "code",
   "execution_count": 1141,
   "metadata": {
    "collapsed": true
   },
   "outputs": [],
   "source": [
    "save_y = '../data/y'\n",
    "save_tX = '../data/tX'\n",
    "np.save(save_y, y)\n",
    "np.save(save_tX, tX)"
   ]
  },
  {
   "cell_type": "markdown",
   "metadata": {},
   "source": [
    "## Data preprocessing"
   ]
  },
  {
   "cell_type": "markdown",
   "metadata": {},
   "source": [
    "## Logistic Regression"
   ]
  },
  {
   "cell_type": "code",
   "execution_count": 231,
   "metadata": {
    "collapsed": true
   },
   "outputs": [],
   "source": [
    "from functions import logistic_regression_GD\n",
    "\n",
    "def prediction(tx, w):\n",
    "    y = tx @ w\n",
    "    y[y > 0] = 1\n",
    "    y[y <= 0] = 0\n",
    "    return y\n",
    "\n",
    "def accuracy(y, y_pred):\n",
    "    return np.mean(y == y_pred)\n",
    "\n",
    "log_features = [1, 3, 4, 5, 8, 9, 13, 16, 19, 23, 26, 29]\n",
    "normal_features = [0, 2, 6, 7, 10, 14, 17, 21, 24, 27]\n",
    "uniform_feature = [15, 18, 20, 25, 28]\n",
    "# two side are large\n",
    "bernoulli_feature = [11, 12]\n",
    "categorical_features = [22]"
   ]
  },
  {
   "cell_type": "markdown",
   "metadata": {},
   "source": [
    "# Understand The Data"
   ]
  },
  {
   "cell_type": "code",
   "execution_count": null,
   "metadata": {
    "collapsed": true
   },
   "outputs": [],
   "source": [
    "from proj1_helpers import *\n",
    "DATA_TRAIN_PATH = '../data/train.csv' \n",
    "# TODO: download train data and supply path here \n",
    "y, tX, ids = load_csv_data(DATA_TRAIN_PATH)\n",
    "print(\"loading of the data : done\")"
   ]
  },
  {
   "cell_type": "markdown",
   "metadata": {},
   "source": [
    "Basic"
   ]
  },
  {
   "cell_type": "code",
   "execution_count": 4,
   "metadata": {
    "collapsed": true
   },
   "outputs": [],
   "source": [
    "n_total_training_samples = tX.shape[0]\n",
    "n_total_features         = tX.shape[1]"
   ]
  },
  {
   "cell_type": "markdown",
   "metadata": {},
   "source": [
    "#### columns with missing values"
   ]
  },
  {
   "cell_type": "code",
   "execution_count": 423,
   "metadata": {
    "collapsed": false
   },
   "outputs": [
    {
     "data": {
      "text/plain": [
       "[0, 4, 5, 6, 12, 23, 24, 25, 26, 27, 28]"
      ]
     },
     "execution_count": 423,
     "metadata": {},
     "output_type": "execute_result"
    }
   ],
   "source": [
    "columns_with_missing_values = []\n",
    "for i in range(n_total_features):\n",
    "    if -999 in tX[:, i]:\n",
    "        columns_with_missing_values.append(i)\n",
    "\n",
    "columns_with_missing_values"
   ]
  },
  {
   "cell_type": "code",
   "execution_count": 359,
   "metadata": {
    "collapsed": true
   },
   "outputs": [],
   "source": [
    "log_features = [1, 3, 4, 5, 8, 9, 13, 16, 19, 23, 26, 29]\n",
    "normal_features = [0, 2, 6, 7, 10, 14, 17, 21, 24, 27]\n",
    "uniform_feature = [15, 18, 20, 25, 28]\n",
    "# two side are large (perhaps beta distribution)\n",
    "bernoulli_feature = [11, 12]\n",
    "categorical_features = [22]"
   ]
  },
  {
   "cell_type": "code",
   "execution_count": 166,
   "metadata": {
    "collapsed": true
   },
   "outputs": [],
   "source": [
    "def split_data(x, y, ratio_of_training):\n",
    "    \"\"\"split the dataset based on the split ratio.\"\"\"\n",
    "    p = np.random.permutation(np.arange(y.shape[0]))\n",
    "    n = int(y.shape[0] * ratio_of_training)\n",
    "    return  x[p][:n], x[p][n:], y[p][:n], y[p][n:]\n",
    "\n",
    "def prediction(tx, w):\n",
    "    y = tx @ w\n",
    "    y[y > 0] = 1\n",
    "    y[y <= 0] = 0\n",
    "    return y\n",
    "\n",
    "def accuracy(y, y_pred):\n",
    "    return np.mean(y == y_pred)"
   ]
  },
  {
   "cell_type": "code",
   "execution_count": 392,
   "metadata": {
    "collapsed": true
   },
   "outputs": [],
   "source": [
    "def transform_y(y):\n",
    "    tmp = y.copy()\n",
    "    tmp[tmp == -1]=0\n",
    "    return tmp\n",
    "\n",
    "def transform_y_back(y):\n",
    "    tmp = y.copy()\n",
    "    tmp[tmp==0]=-1  \n",
    "    return tmp\n",
    "\n",
    "def prediction_and_accuracy(tr_tx, tr_y, te_tx, te_y, w):\n",
    "    return accuracy(tr_y, prediction(tr_tx, w)), accuracy(te_y, prediction(te_tx, w))"
   ]
  },
  {
   "cell_type": "markdown",
   "metadata": {},
   "source": [
    "# Preprocessing"
   ]
  },
  {
   "cell_type": "markdown",
   "metadata": {},
   "source": [
    "#### fill missing values with their means."
   ]
  },
  {
   "cell_type": "code",
   "execution_count": 1138,
   "metadata": {
    "collapsed": false
   },
   "outputs": [
    {
     "name": "stdout",
     "output_type": "stream",
     "text": [
      "2.52758308455e-07\n",
      "Losgistic Regression(0/100000): loss=262923.85734496365\n"
     ]
    },
    {
     "ename": "KeyboardInterrupt",
     "evalue": "",
     "output_type": "error",
     "traceback": [
      "\u001b[0;31m---------------------------------------------------------------------------\u001b[0m",
      "\u001b[0;31mKeyboardInterrupt\u001b[0m                         Traceback (most recent call last)",
      "\u001b[0;32m<ipython-input-1138-ffe48f9c358e>\u001b[0m in \u001b[0;36m<module>\u001b[0;34m()\u001b[0m\n\u001b[1;32m      9\u001b[0m \u001b[0;34m\u001b[0m\u001b[0m\n\u001b[1;32m     10\u001b[0m w = logistic_AGDR(y, logistic_tX, gamma=1/L, \n\u001b[0;32m---> 11\u001b[0;31m                    max_iters = iterations, lambda_=0.00001, regularizor=regularizor_lasso)\n\u001b[0m\u001b[1;32m     12\u001b[0m \u001b[0;34m\u001b[0m\u001b[0m\n\u001b[1;32m     13\u001b[0m \u001b[0;32mdef\u001b[0m \u001b[0mprediction_accuracy\u001b[0m\u001b[0;34m(\u001b[0m\u001b[0my\u001b[0m\u001b[0;34m,\u001b[0m \u001b[0my_pred\u001b[0m\u001b[0;34m)\u001b[0m\u001b[0;34m:\u001b[0m\u001b[0;34m\u001b[0m\u001b[0m\n",
      "\u001b[0;32m/Users/helie/projects/ML_Projects/project_one_ml/scripts/functions.py\u001b[0m in \u001b[0;36mlogistic_AGDR\u001b[0;34m(y, tx, gamma, max_iters, w0, lambda_, regularizor)\u001b[0m\n\u001b[1;32m    288\u001b[0m     \u001b[0;32mfor\u001b[0m \u001b[0mi\u001b[0m \u001b[0;32min\u001b[0m \u001b[0mrange\u001b[0m\u001b[0;34m(\u001b[0m\u001b[0mmax_iters\u001b[0m\u001b[0;34m)\u001b[0m\u001b[0;34m:\u001b[0m\u001b[0;34m\u001b[0m\u001b[0m\n\u001b[1;32m    289\u001b[0m         \u001b[0mw_next\u001b[0m \u001b[0;34m=\u001b[0m \u001b[0mz\u001b[0m \u001b[0;34m-\u001b[0m \u001b[0mgamma\u001b[0m \u001b[0;34m*\u001b[0m \u001b[0mgrad\u001b[0m\u001b[0;34m(\u001b[0m\u001b[0mz\u001b[0m\u001b[0;34m)\u001b[0m\u001b[0;34m\u001b[0m\u001b[0m\n\u001b[0;32m--> 290\u001b[0;31m         \u001b[0;32mif\u001b[0m \u001b[0mloss\u001b[0m\u001b[0;34m(\u001b[0m\u001b[0mw\u001b[0m\u001b[0;34m)\u001b[0m \u001b[0;34m<=\u001b[0m \u001b[0mloss\u001b[0m\u001b[0;34m(\u001b[0m\u001b[0mw_next\u001b[0m\u001b[0;34m)\u001b[0m\u001b[0;34m:\u001b[0m\u001b[0;34m\u001b[0m\u001b[0m\n\u001b[0m\u001b[1;32m    291\u001b[0m             \u001b[0mz\u001b[0m \u001b[0;34m=\u001b[0m \u001b[0mw\u001b[0m\u001b[0;34m\u001b[0m\u001b[0m\n\u001b[1;32m    292\u001b[0m             \u001b[0mt\u001b[0m \u001b[0;34m=\u001b[0m \u001b[0;36m1\u001b[0m\u001b[0;34m\u001b[0m\u001b[0m\n",
      "\u001b[0;32m/Users/helie/projects/ML_Projects/project_one_ml/scripts/functions.py\u001b[0m in \u001b[0;36mloss\u001b[0;34m(w)\u001b[0m\n\u001b[1;32m    276\u001b[0m         \u001b[0;34m\"\"\"compute the cost by negative log likelihood.\"\"\"\u001b[0m\u001b[0;34m\u001b[0m\u001b[0m\n\u001b[1;32m    277\u001b[0m         \u001b[0mr\u001b[0m\u001b[0;34m,\u001b[0m\u001b[0m_\u001b[0m \u001b[0;34m=\u001b[0m \u001b[0mregularizor\u001b[0m\u001b[0;34m(\u001b[0m\u001b[0mw\u001b[0m\u001b[0;34m)\u001b[0m\u001b[0;34m\u001b[0m\u001b[0m\n\u001b[0;32m--> 278\u001b[0;31m         \u001b[0;32mreturn\u001b[0m \u001b[0mnp\u001b[0m\u001b[0;34m.\u001b[0m\u001b[0msum\u001b[0m\u001b[0;34m(\u001b[0m\u001b[0;34m-\u001b[0m\u001b[0mnp\u001b[0m\u001b[0;34m.\u001b[0m\u001b[0mlog\u001b[0m\u001b[0;34m(\u001b[0m\u001b[0;36m1\u001b[0m \u001b[0;34m-\u001b[0m \u001b[0msigmoid\u001b[0m\u001b[0;34m(\u001b[0m\u001b[0mtx\u001b[0m \u001b[0;34m@\u001b[0m \u001b[0mw\u001b[0m\u001b[0;34m)\u001b[0m\u001b[0;34m)\u001b[0m\u001b[0;34m)\u001b[0m \u001b[0;34m-\u001b[0m \u001b[0my\u001b[0m\u001b[0;34m.\u001b[0m\u001b[0mT\u001b[0m \u001b[0;34m@\u001b[0m \u001b[0mtx\u001b[0m \u001b[0;34m@\u001b[0m \u001b[0mw\u001b[0m \u001b[0;34m+\u001b[0m \u001b[0mlambda_\u001b[0m \u001b[0;34m*\u001b[0m \u001b[0mr\u001b[0m\u001b[0;34m\u001b[0m\u001b[0m\n\u001b[0m\u001b[1;32m    279\u001b[0m \u001b[0;34m\u001b[0m\u001b[0m\n\u001b[1;32m    280\u001b[0m     \u001b[0;32mif\u001b[0m \u001b[0mw0\u001b[0m \u001b[0;32mis\u001b[0m \u001b[0;32mNone\u001b[0m\u001b[0;34m:\u001b[0m\u001b[0;34m\u001b[0m\u001b[0m\n",
      "\u001b[0;31mKeyboardInterrupt\u001b[0m: "
     ]
    }
   ],
   "source": [
    "degree = 3\n",
    "iterations = 100000\n",
    "\n",
    "tmp = build_polynomial_without_mixed_term(filled_tX, degree=degree)\n",
    "logistic_tX, mean_x, std_x = standardize(tmp)\n",
    "\n",
    "L = abs(np.linalg.eigvals(logistic_tX.T @ logistic_tX)).max()\n",
    "print(1/L)\n",
    "\n",
    "w = logistic_AGDR(y, logistic_tX, gamma=1/L, \n",
    "                   max_iters = iterations, lambda_=0.00001, regularizor=regularizor_lasso)\n",
    "\n",
    "def prediction_accuracy(y, y_pred):\n",
    "    return np.mean(y == y_pred)\n",
    "\n",
    "logistic_pred_y = predict_labels(w, logistic_tX)\n",
    "err_log = prediction_accuracy(ytrain, logistic_pred_y)\n",
    "print (\"logistic regression of degree\", 4)\n",
    "print (err_log)\n",
    "\n",
    "tmp = build_polynomial_without_mixed_term(xvalid1bis, degree=degree)\n",
    "validation_tx = standardize(tmp)\n",
    "\n",
    "print (\"validation accuracy: \", prediction_accuracy(yvalid, predict_labels(w, validation_tx)))"
   ]
  },
  {
   "cell_type": "code",
   "execution_count": 634,
   "metadata": {
    "collapsed": false,
    "scrolled": true
   },
   "outputs": [
    {
     "data": {
      "image/png": "[encoded data removed]",
      "text/plain": [
       "<matplotlib.figure.Figure at 0x10875a5f8>"
      ]
     },
     "metadata": {},
     "output_type": "display_data"
    }
   ],
   "source": [
    "# Time Visualization\n",
    "from ipywidgets import IntSlider, interact\n",
    "from IPython.display import display\n",
    "\n",
    "def fill_na(tx=tX, method=np.mean):\n",
    "    filled = tx.copy()\n",
    "    for col in columns_with_missing_values:\n",
    "        tmp = filled[:, col]\n",
    "        tmp[tmp == -999] = method(tmp[tmp != -999])\n",
    "        filled[:, col] = tmp\n",
    "    return filled\n",
    "\n",
    "def plot_hist(tx, i, transformation=None):\n",
    "    plt.figure()\n",
    "    if transformation is None:\n",
    "        plt.hist(tx[:, i], bins=100)\n",
    "    else:\n",
    "        plt.hist(transformation(tx[:, i]), bins=100)\n",
    "    plt.title(\"feature %i\" % i)\n",
    "    plt.show()\n",
    "    \n",
    "# before processing \n",
    "interactive(lambda x:plot_hist(tX, x), x=IntSlider(min=0, max=29))"
   ]
  },
  {
   "cell_type": "markdown",
   "metadata": {},
   "source": [
    "    Good Features                   : [7, 10, 14, 15, 17, 18, 20\n",
    "    Suffering from outlier          : [3, 8, 19, 23, 26, 29]\n",
    "    Suffering from outlier (skewed) : [1, 2, 5, 9, 13, 16, 21]\n",
    "    missing values                  : [0, 4, 6, 12, 23, 24, 25, 26, 27, 28]\n",
    "    categorical                     : [11, 12, 22]"
   ]
  },
  {
   "cell_type": "code",
   "execution_count": 1091,
   "metadata": {
    "collapsed": false
   },
   "outputs": [],
   "source": [
    "Good_Features                   = [7, 10, 14, 15, 17, 18, 20]\n",
    "Suffering_from_outlier          = [3, 8, 19, 23, 26, 29]\n",
    "Suffering_from_outlier_skewed   = [1, 2, 5, 9, 13, 16, 21]\n",
    "missing_values                  = [0, 4, 5, 6, 12, 23, 24, 25, 26, 27, 28]\n",
    "categorical                     = [11, 12, 22]\n",
    "non_categorical                 = [x for x in range(30) if x not in categorical]\n",
    "Features_with_outlier           = np.union1d(Suffering_from_outlier_skewed, Suffering_from_outlier)"
   ]
  },
  {
   "cell_type": "code",
   "execution_count": 1014,
   "metadata": {
    "collapsed": true
   },
   "outputs": [],
   "source": [
    "completeness_status_tX = np.sum(tX == -999, axis=1)\n",
    "non_missing_tX         = tX[completeness_status_tX==0, :]\n",
    "missing_tX             = tX[completeness_status_tX!=0, :]"
   ]
  },
  {
   "cell_type": "code",
   "execution_count": 1067,
   "metadata": {
    "collapsed": true
   },
   "outputs": [],
   "source": [
    "def logs_of_features(tx, feature_lists):\n",
    "    return np.log(tx[:, feature_lists] + 1e-8)\n",
    "\n",
    "def decompose_categorical_features(tx):\n",
    "    # For feature tx{:, 11}\n",
    "    tmp11 = 1 * (tx[:, 11] > 0)    \n",
    "    tmp12 = 1 * (tx[:, 12] > 0.5)\n",
    "    \n",
    "    tmp22_0 = tx[:, 22].copy()\n",
    "    tmp22_0 = 1 * (tmp22_0 == 0)\n",
    "    \n",
    "    tmp22_1 = tx[:, 22].copy()\n",
    "    tmp22_1 = 1 * (tmp22_1 == 1)\n",
    "    \n",
    "    tmp22_2 = tx[:, 22].copy()\n",
    "    tmp22_2 = 1 * (tmp22_2 == 2)\n",
    "    \n",
    "    tmp22_3 = tx[:, 22].copy()\n",
    "    tmp22_3 = 1 * (tmp22_3 == 3)\n",
    "\n",
    "    m = np.c_[tmp11, tmp12, tmp22_0, tmp22_1, tmp22_2, tmp22_3]\n",
    "    if np.linalg.matrix_rank(m) < 6:\n",
    "        print (np.linalg.matrix_rank(m))\n",
    "        print (m)\n",
    "        print (\"Feature decomposition results in singularity\")\n",
    "    return m"
   ]
  },
  {
   "cell_type": "code",
   "execution_count": 1114,
   "metadata": {
    "collapsed": false
   },
   "outputs": [
    {
     "data": {
      "text/plain": [
       "108"
      ]
     },
     "execution_count": 1114,
     "metadata": {},
     "output_type": "execute_result"
    }
   ],
   "source": [
    "poly_tX.shape[1]"
   ]
  },
  {
   "cell_type": "code",
   "execution_count": 1116,
   "metadata": {
    "collapsed": false
   },
   "outputs": [
    {
     "data": {
      "text/plain": [
       "6"
      ]
     },
     "execution_count": 1116,
     "metadata": {},
     "output_type": "execute_result"
    }
   ],
   "source": [
    "decomposed_tX.shape[1]"
   ]
  },
  {
   "cell_type": "code",
   "execution_count": 1119,
   "metadata": {
    "collapsed": false
   },
   "outputs": [
    {
     "data": {
      "text/plain": [
       "array([ 0.15116186,  0.21826215, -5.04049425,  3.73928037,  3.21179471,\n",
       "        2.19237402])"
      ]
     },
     "execution_count": 1119,
     "metadata": {},
     "output_type": "execute_result"
    }
   ],
   "source": [
    "w[108:114]"
   ]
  },
  {
   "cell_type": "code",
   "execution_count": 1113,
   "metadata": {
    "collapsed": false
   },
   "outputs": [
    {
     "name": "stdout",
     "output_type": "stream",
     "text": [
      "[ 0  2  7 31 37 47 54 55 56 61 63 73 84 91 98]\n"
     ]
    },
    {
     "data": {
      "text/plain": [
       "array([ 19.08872793,  14.30756479,  16.4090869 , -61.42722856,\n",
       "       -37.28161281,  12.12797737, -38.44387495, -31.61727634,\n",
       "        11.0479459 ,  10.02961668,  94.00667723,  11.43962656,\n",
       "        71.9602947 , -18.22266129,  35.28852604, -24.39112541,\n",
       "        36.87640824, -16.33589521, -28.63099965,  11.11530519,\n",
       "       -11.30043654, -59.94103878, -10.06137713, -73.97941383,\n",
       "        24.33272386, -11.76771908, -21.95944171,  13.00005561,  10.54535122])"
      ]
     },
     "execution_count": 1113,
     "metadata": {},
     "output_type": "execute_result"
    }
   ],
   "source": [
    "th=10\n",
    "print(np.arange(len(w))[abs(w > th)])\n",
    "w[abs(w)> th]"
   ]
  },
  {
   "cell_type": "code",
   "execution_count": 1103,
   "metadata": {
    "collapsed": false
   },
   "outputs": [
    {
     "data": {
      "text/plain": [
       "(25000, 128)"
      ]
     },
     "execution_count": 1103,
     "metadata": {},
     "output_type": "execute_result"
    }
   ],
   "source": [
    "# engineered_tX = \n",
    "no_missing_featuers = [i for i in range(30) if i not in missing_values]\n",
    "\n",
    "filled_tX           = fill_na(tX, np.median)\n",
    "log_tX              = logs_of_features(filled_tX, Features_with_outlier)\n",
    "decomposed_tX       = decompose_categorical_features(filled_tX)\n",
    "poly_tX             = build_polynomial_without_mixed_term(filled_tX[:, non_categorical], degree=4)\n",
    "\n",
    "tX8, mean_x, std_x = standardize(np.c_[poly_tX, decomposed_tX, log_tX])\n",
    "\n",
    "training_ratio = 0.9\n",
    "y8 = transform_y(y)\n",
    "train_tX8, cv_tX8, train_y8, cv_y8 = split_data(tX8, y8, training_ratio)\n",
    "cv_tX8.shape"
   ]
  },
  {
   "cell_type": "code",
   "execution_count": 1124,
   "metadata": {
    "collapsed": false
   },
   "outputs": [
    {
     "name": "stdout",
     "output_type": "stream",
     "text": [
      "0.000175127525558\n",
      "Losgistic Regression(0/100000): loss=1048.668438268728\n",
      "Losgistic Regression(100/100000): loss=137.74977623127228\n",
      "Losgistic Regression(200/100000): loss=107.67354656163215\n",
      "Losgistic Regression(300/100000): loss=100.1708774298158\n",
      "Losgistic Regression(400/100000): loss=96.11517199548318\n",
      "Losgistic Regression(500/100000): loss=92.55801068925695\n",
      "Losgistic Regression(600/100000): loss=85.80416093288075\n",
      "Losgistic Regression(700/100000): loss=79.90494207214722\n",
      "Losgistic Regression(800/100000): loss=74.61366508674054\n",
      "Losgistic Regression(900/100000): loss=69.03141771862849\n",
      "Losgistic Regression(1000/100000): loss=62.9531181591113\n",
      "Losgistic Regression(1100/100000): loss=57.958126857889404\n",
      "Losgistic Regression(1200/100000): loss=53.887712060175396\n",
      "Losgistic Regression(1300/100000): loss=50.21579936837567\n",
      "Losgistic Regression(1400/100000): loss=46.9277166190745\n",
      "Losgistic Regression(1500/100000): loss=43.915171597247095\n",
      "Losgistic Regression(1600/100000): loss=41.04227775427714\n",
      "Losgistic Regression(1700/100000): loss=38.21614858484615\n",
      "Losgistic Regression(1800/100000): loss=35.55198979137834\n",
      "Losgistic Regression(1900/100000): loss=33.10561762033622\n",
      "Losgistic Regression(2000/100000): loss=30.852833824293477\n",
      "Losgistic Regression(2100/100000): loss=28.81935216988032\n",
      "Losgistic Regression(2200/100000): loss=26.95934856707307\n",
      "Losgistic Regression(2300/100000): loss=25.33088228824996\n",
      "Losgistic Regression(2400/100000): loss=23.92655702061115\n",
      "Losgistic Regression(2500/100000): loss=22.685520548285425\n",
      "Losgistic Regression(2600/100000): loss=21.598220249612968\n",
      "Losgistic Regression(2700/100000): loss=20.647923121845004\n",
      "Losgistic Regression(2800/100000): loss=19.826691741064423\n",
      "Losgistic Regression(2900/100000): loss=19.06959254054511\n",
      "Losgistic Regression(3000/100000): loss=18.301177383530913\n",
      "Losgistic Regression(3100/100000): loss=17.475413829230984\n",
      "Losgistic Regression(3200/100000): loss=16.551415618952273\n",
      "Losgistic Regression(3300/100000): loss=15.522290966929365\n",
      "Losgistic Regression(3400/100000): loss=14.381496084675392\n",
      "Losgistic Regression(3500/100000): loss=13.133829220571636\n",
      "Losgistic Regression(3600/100000): loss=11.804341448104715\n",
      "Losgistic Regression(3700/100000): loss=10.412765448577954\n",
      "Losgistic Regression(3800/100000): loss=8.987342961407517\n",
      "Losgistic Regression(3900/100000): loss=7.526849325163201\n",
      "Losgistic Regression(4000/100000): loss=6.006172053752169\n",
      "Losgistic Regression(4100/100000): loss=4.4180714813263675\n",
      "Losgistic Regression(4200/100000): loss=2.758816055573928\n",
      "Losgistic Regression(4300/100000): loss=1.0288371123609905\n",
      "Losgistic Regression(4400/100000): loss=-0.7674991852592393\n",
      "Losgistic Regression(4500/100000): loss=-2.6348521384330033\n",
      "Losgistic Regression(4600/100000): loss=-4.568808206037468\n",
      "Losgistic Regression(4700/100000): loss=-6.557225509601554\n",
      "Losgistic Regression(4800/100000): loss=-8.592796903920386\n",
      "Losgistic Regression(4900/100000): loss=-10.665434004173262\n",
      "Losgistic Regression(5000/100000): loss=-12.763937728612683\n",
      "Losgistic Regression(5100/100000): loss=-14.884883780084225\n",
      "Losgistic Regression(5200/100000): loss=-17.030737313056445\n",
      "Losgistic Regression(5300/100000): loss=-19.20531808045158\n",
      "Losgistic Regression(5400/100000): loss=-21.407593927512714\n",
      "Losgistic Regression(5500/100000): loss=-23.630049247003566\n",
      "Losgistic Regression(5600/100000): loss=-25.863607785618115\n",
      "Losgistic Regression(5700/100000): loss=-28.09744178146933\n",
      "Losgistic Regression(5800/100000): loss=-30.320043503642836\n",
      "Losgistic Regression(5900/100000): loss=-32.526675597550145\n",
      "Losgistic Regression(6000/100000): loss=-34.719831844486144\n",
      "Losgistic Regression(6100/100000): loss=-36.904202047019325\n",
      "Losgistic Regression(6200/100000): loss=-39.0836778716773\n",
      "Losgistic Regression(6300/100000): loss=-41.261643197018074\n",
      "Losgistic Regression(6400/100000): loss=-43.44105361329896\n",
      "Losgistic Regression(6500/100000): loss=-45.62556812534967\n",
      "Losgistic Regression(6600/100000): loss=-47.8179744354213\n",
      "Losgistic Regression(6700/100000): loss=-50.01909047744706\n",
      "Losgistic Regression(6800/100000): loss=-52.491254826529676\n",
      "Losgistic Regression(6900/100000): loss=-55.242120752759234\n",
      "Losgistic Regression(7000/100000): loss=-57.999478646925304\n",
      "Losgistic Regression(7100/100000): loss=-60.76288945389442\n",
      "Losgistic Regression(7200/100000): loss=-63.53261065536898\n",
      "Losgistic Regression(7300/100000): loss=-66.31032555059245\n",
      "Losgistic Regression(7400/100000): loss=-69.10057408024996\n",
      "Losgistic Regression(7500/100000): loss=-71.95510280964875\n",
      "Losgistic Regression(7600/100000): loss=-74.98256351140307\n",
      "Losgistic Regression(7700/100000): loss=-78.02286631055905\n",
      "Losgistic Regression(7800/100000): loss=-81.07649533713844\n",
      "Losgistic Regression(7900/100000): loss=-84.14585060022374\n",
      "Losgistic Regression(8000/100000): loss=-87.2323046628291\n",
      "Losgistic Regression(8100/100000): loss=-90.33587398355597\n",
      "Losgistic Regression(8200/100000): loss=-93.45435991516729\n",
      "Losgistic Regression(8300/100000): loss=-96.58324560313686\n",
      "Losgistic Regression(8400/100000): loss=-99.71621869685316\n",
      "Losgistic Regression(8500/100000): loss=-102.84582957080363\n",
      "Losgistic Regression(8600/100000): loss=-105.96397883388205\n",
      "Losgistic Regression(8700/100000): loss=-109.06439737880319\n",
      "Losgistic Regression(8800/100000): loss=-112.14356114584551\n",
      "Losgistic Regression(8900/100000): loss=-115.19980879626664\n",
      "Losgistic Regression(9000/100000): loss=-118.23296732030589\n",
      "Losgistic Regression(9100/100000): loss=-121.2448553112153\n",
      "Losgistic Regression(9200/100000): loss=-124.23717763859565\n",
      "Losgistic Regression(9300/100000): loss=-127.21171972276727\n",
      "Losgistic Regression(9400/100000): loss=-130.16937210059112\n",
      "Losgistic Regression(9500/100000): loss=-133.1524915723778\n",
      "Losgistic Regression(9600/100000): loss=-136.23344604962304\n",
      "Losgistic Regression(9700/100000): loss=-139.29058719026094\n",
      "Losgistic Regression(9800/100000): loss=-142.31960906314615\n",
      "Losgistic Regression(9900/100000): loss=-145.3170267884727\n",
      "Losgistic Regression(10000/100000): loss=-148.28061506218583\n",
      "Losgistic Regression(10100/100000): loss=-151.20927068417623\n",
      "Losgistic Regression(10200/100000): loss=-154.16016989118754\n",
      "Losgistic Regression(10300/100000): loss=-157.15558636803905\n",
      "Losgistic Regression(10400/100000): loss=-160.11720983438232\n",
      "Losgistic Regression(10500/100000): loss=-163.04616073127718\n",
      "Losgistic Regression(10600/100000): loss=-165.9433177870134\n",
      "Losgistic Regression(10700/100000): loss=-168.80937514179337\n",
      "Losgistic Regression(10800/100000): loss=-171.64444440287699\n",
      "Losgistic Regression(10900/100000): loss=-174.44915265222917\n",
      "Losgistic Regression(11000/100000): loss=-177.22440142005485\n",
      "Losgistic Regression(11100/100000): loss=-179.97084396643555\n",
      "Losgistic Regression(11200/100000): loss=-182.68962638832753\n",
      "Losgistic Regression(11300/100000): loss=-185.38186986139726\n",
      "Losgistic Regression(11400/100000): loss=-188.04840954907476\n",
      "Losgistic Regression(11500/100000): loss=-190.68958743558255\n",
      "Losgistic Regression(11600/100000): loss=-193.30507327496852\n",
      "Losgistic Regression(11700/100000): loss=-195.89456945213166\n",
      "Losgistic Regression(11800/100000): loss=-198.45867057134484\n",
      "Losgistic Regression(11900/100000): loss=-200.99861063214692\n",
      "Losgistic Regression(12000/100000): loss=-203.5152392910597\n",
      "Losgistic Regression(12100/100000): loss=-206.0100819027642\n",
      "Losgistic Regression(12200/100000): loss=-208.48377774665428\n",
      "Losgistic Regression(12300/100000): loss=-210.9363700058455\n",
      "Losgistic Regression(12400/100000): loss=-213.3688387632592\n",
      "Losgistic Regression(12500/100000): loss=-215.7801819968183\n",
      "Losgistic Regression(12600/100000): loss=-218.17059187707014\n",
      "Losgistic Regression(12700/100000): loss=-220.54102006627772\n",
      "Losgistic Regression(12800/100000): loss=-222.89133936522123\n",
      "Losgistic Regression(12900/100000): loss=-225.22215811742862\n",
      "Losgistic Regression(13000/100000): loss=-227.53324066743394\n",
      "Losgistic Regression(13100/100000): loss=-229.82411996316335\n",
      "Losgistic Regression(13200/100000): loss=-232.09411498829633\n",
      "Losgistic Regression(13300/100000): loss=-234.3435414415833\n",
      "Losgistic Regression(13400/100000): loss=-236.57357015696155\n",
      "Losgistic Regression(13500/100000): loss=-238.78380410682638\n",
      "Losgistic Regression(13600/100000): loss=-240.97524647943604\n",
      "Losgistic Regression(13700/100000): loss=-243.1655039698269\n",
      "Losgistic Regression(13800/100000): loss=-245.40357053908215\n",
      "Losgistic Regression(13900/100000): loss=-247.6256480273219\n",
      "Losgistic Regression(14000/100000): loss=-249.832705413328\n",
      "Losgistic Regression(14100/100000): loss=-252.0313888628121\n",
      "Losgistic Regression(14200/100000): loss=-254.28593150089392\n",
      "Losgistic Regression(14300/100000): loss=-256.5271335772955\n",
      "Losgistic Regression(14400/100000): loss=-258.75317295420376\n",
      "Losgistic Regression(14500/100000): loss=-260.9639276179949\n",
      "Losgistic Regression(14600/100000): loss=-263.16004045665113\n",
      "Losgistic Regression(14700/100000): loss=-265.34003579183747\n",
      "Losgistic Regression(14800/100000): loss=-267.5027352487026\n",
      "Losgistic Regression(14900/100000): loss=-269.64892717941973\n",
      "Losgistic Regression(15000/100000): loss=-271.7778667035937\n",
      "Losgistic Regression(15100/100000): loss=-273.8882051035366\n",
      "Losgistic Regression(15200/100000): loss=-275.98000950109264\n",
      "Losgistic Regression(15300/100000): loss=-278.05362056928624\n",
      "Losgistic Regression(15400/100000): loss=-280.1085879269893\n",
      "Losgistic Regression(15500/100000): loss=-282.1449614938927\n",
      "Losgistic Regression(15600/100000): loss=-284.1643067188541\n",
      "Losgistic Regression(15700/100000): loss=-286.1673014443434\n",
      "Losgistic Regression(15800/100000): loss=-288.1541532270073\n",
      "Losgistic Regression(15900/100000): loss=-290.1261892856546\n",
      "Losgistic Regression(16000/100000): loss=-292.08485282139577\n",
      "Losgistic Regression(16100/100000): loss=-294.03010315651375\n",
      "Losgistic Regression(16200/100000): loss=-295.9617682228971\n",
      "Losgistic Regression(16300/100000): loss=-297.8801148482043\n",
      "Losgistic Regression(16400/100000): loss=-299.7847500127763\n",
      "Losgistic Regression(16500/100000): loss=-301.67520622486825\n",
      "Losgistic Regression(16600/100000): loss=-303.55156744053795\n",
      "Losgistic Regression(16700/100000): loss=-305.41407747914263\n",
      "Losgistic Regression(16800/100000): loss=-307.2626602612771\n",
      "Losgistic Regression(16900/100000): loss=-309.0972478149129\n",
      "Losgistic Regression(17000/100000): loss=-310.91825442412573\n",
      "Losgistic Regression(17100/100000): loss=-312.7263164353936\n",
      "Losgistic Regression(17200/100000): loss=-314.5213957564004\n",
      "Losgistic Regression(17300/100000): loss=-316.3033342875438\n",
      "Losgistic Regression(17400/100000): loss=-318.0726395401679\n",
      "Losgistic Regression(17500/100000): loss=-319.82968960200674\n",
      "Losgistic Regression(17600/100000): loss=-321.5743416255216\n",
      "Losgistic Regression(17700/100000): loss=-323.3069238750122\n",
      "Losgistic Regression(17800/100000): loss=-325.02825693384153\n",
      "Losgistic Regression(17900/100000): loss=-326.738569412126\n",
      "Losgistic Regression(18000/100000): loss=-328.43778404860217\n",
      "Losgistic Regression(18100/100000): loss=-330.12635431441936\n",
      "Losgistic Regression(18200/100000): loss=-331.8046677715197\n",
      "Losgistic Regression(18300/100000): loss=-333.47257660037417\n",
      "Losgistic Regression(18400/100000): loss=-335.1301256352461\n",
      "Losgistic Regression(18500/100000): loss=-336.7775483529911\n",
      "Losgistic Regression(18600/100000): loss=-338.41539679728106\n",
      "Losgistic Regression(18700/100000): loss=-340.0432986809556\n",
      "Losgistic Regression(18800/100000): loss=-341.66169215345354\n",
      "Losgistic Regression(18900/100000): loss=-343.27122594884185\n",
      "Losgistic Regression(19000/100000): loss=-344.87252380085175\n",
      "Losgistic Regression(19100/100000): loss=-346.4656483347508\n",
      "Losgistic Regression(19200/100000): loss=-348.05039859302866\n",
      "Losgistic Regression(19300/100000): loss=-349.6274715989946\n",
      "Losgistic Regression(19400/100000): loss=-351.197553032867\n",
      "Losgistic Regression(19500/100000): loss=-352.76076211707806\n",
      "Losgistic Regression(19600/100000): loss=-354.317225235094\n",
      "Losgistic Regression(19700/100000): loss=-355.86740746084536\n",
      "Losgistic Regression(19800/100000): loss=-357.4120852829315\n",
      "Losgistic Regression(19900/100000): loss=-358.95111423468217\n",
      "Losgistic Regression(20000/100000): loss=-360.48426830574175\n",
      "Losgistic Regression(20100/100000): loss=-362.0119448043722\n",
      "Losgistic Regression(20200/100000): loss=-363.53427782180876\n",
      "Losgistic Regression(20300/100000): loss=-365.0506658031387\n",
      "Losgistic Regression(20400/100000): loss=-366.56097921299903\n",
      "Losgistic Regression(20500/100000): loss=-368.06498461243723\n",
      "Losgistic Regression(20600/100000): loss=-369.5626717212602\n",
      "Losgistic Regression(20700/100000): loss=-371.05355717387147\n",
      "Losgistic Regression(20800/100000): loss=-372.53718606927316\n",
      "Losgistic Regression(20900/100000): loss=-374.0144171286929\n",
      "Losgistic Regression(21000/100000): loss=-375.48564715430376\n",
      "Losgistic Regression(21100/100000): loss=-376.95106056595165\n",
      "Losgistic Regression(21200/100000): loss=-378.4106294095854\n",
      "Losgistic Regression(21300/100000): loss=-379.8650022749274\n",
      "Losgistic Regression(21400/100000): loss=-381.31443027458255\n",
      "Losgistic Regression(21500/100000): loss=-382.75916171667535\n",
      "Losgistic Regression(21600/100000): loss=-384.1995471345085\n",
      "Losgistic Regression(21700/100000): loss=-385.63568394009855\n",
      "Losgistic Regression(21800/100000): loss=-387.0676433084891\n",
      "Losgistic Regression(21900/100000): loss=-388.49552753809104\n",
      "Losgistic Regression(22000/100000): loss=-389.91952442380654\n",
      "Losgistic Regression(22100/100000): loss=-391.33977541971103\n",
      "Losgistic Regression(22200/100000): loss=-392.756386592773\n",
      "Losgistic Regression(22300/100000): loss=-394.16965426670373\n",
      "Losgistic Regression(22400/100000): loss=-395.57944498413224\n",
      "Losgistic Regression(22500/100000): loss=-396.9855029341151\n",
      "Losgistic Regression(22600/100000): loss=-398.38784565626173\n",
      "Losgistic Regression(22700/100000): loss=-399.7864990645093\n",
      "Losgistic Regression(22800/100000): loss=-401.1811903053316\n",
      "Losgistic Regression(22900/100000): loss=-402.5717150367665\n",
      "Losgistic Regression(23000/100000): loss=-403.95809044309055\n",
      "Losgistic Regression(23100/100000): loss=-405.340297366244\n",
      "Losgistic Regression(23200/100000): loss=-406.7182611324963\n",
      "Losgistic Regression(23300/100000): loss=-408.09192684678663\n",
      "Losgistic Regression(23400/100000): loss=-409.46126765228666\n",
      "Losgistic Regression(23500/100000): loss=-410.82628720063275\n",
      "Losgistic Regression(23600/100000): loss=-412.23167892656295\n",
      "Losgistic Regression(23700/100000): loss=-413.6566666819037\n",
      "Losgistic Regression(23800/100000): loss=-415.077871212705\n",
      "Losgistic Regression(23900/100000): loss=-416.49501001394657\n",
      "Losgistic Regression(24000/100000): loss=-417.90830996275923\n",
      "Losgistic Regression(24100/100000): loss=-419.31809993799163\n",
      "Losgistic Regression(24200/100000): loss=-420.72436668632554\n",
      "Losgistic Regression(24300/100000): loss=-422.1269980641207\n",
      "Losgistic Regression(24400/100000): loss=-423.52591878353405\n",
      "Losgistic Regression(24500/100000): loss=-424.9212112261048\n",
      "Losgistic Regression(24600/100000): loss=-426.31258427414014\n",
      "Losgistic Regression(24700/100000): loss=-427.7003542844649\n",
      "Losgistic Regression(24800/100000): loss=-429.0847360130417\n",
      "Losgistic Regression(24900/100000): loss=-430.46564733626036\n",
      "Losgistic Regression(25000/100000): loss=-431.8427050282197\n",
      "Losgistic Regression(25100/100000): loss=-433.21583090194184\n",
      "Losgistic Regression(25200/100000): loss=-434.5852754101093\n",
      "Losgistic Regression(25300/100000): loss=-435.9509375338133\n",
      "Losgistic Regression(25400/100000): loss=-437.312466626151\n",
      "Losgistic Regression(25500/100000): loss=-438.66968315908554\n",
      "Losgistic Regression(25600/100000): loss=-440.02270248281707\n",
      "Losgistic Regression(25700/100000): loss=-441.3714516972829\n",
      "Losgistic Regression(25800/100000): loss=-442.71578479983503\n",
      "Losgistic Regression(25900/100000): loss=-444.05571748621935\n",
      "Losgistic Regression(26000/100000): loss=-445.39128795172616\n",
      "Losgistic Regression(26100/100000): loss=-446.722565474426\n",
      "Losgistic Regression(26200/100000): loss=-448.0495672732155\n",
      "Losgistic Regression(26300/100000): loss=-449.372362632392\n",
      "Losgistic Regression(26400/100000): loss=-450.69107455741744\n",
      "Losgistic Regression(26500/100000): loss=-452.00581109135373\n",
      "Losgistic Regression(26600/100000): loss=-453.3164336261824\n",
      "Losgistic Regression(26700/100000): loss=-454.62266852711565\n",
      "Losgistic Regression(26800/100000): loss=-455.9243112883063\n",
      "Losgistic Regression(26900/100000): loss=-457.2212740826369\n",
      "Losgistic Regression(27000/100000): loss=-458.51354929360133\n",
      "Losgistic Regression(27100/100000): loss=-459.8012129609606\n",
      "Losgistic Regression(27200/100000): loss=-461.0841939177743\n",
      "Losgistic Regression(27300/100000): loss=-462.362346428772\n",
      "Losgistic Regression(27400/100000): loss=-463.63562971728595\n",
      "Losgistic Regression(27500/100000): loss=-464.90419043315165\n",
      "Losgistic Regression(27600/100000): loss=-466.1682467124724\n",
      "Losgistic Regression(27700/100000): loss=-467.4278183685724\n",
      "Losgistic Regression(27800/100000): loss=-468.6828267932904\n",
      "Losgistic Regression(27900/100000): loss=-469.9333353526901\n",
      "Losgistic Regression(28000/100000): loss=-471.1794603311704\n",
      "Losgistic Regression(28100/100000): loss=-472.42131161168624\n",
      "Losgistic Regression(28200/100000): loss=-473.65881382959617\n",
      "Losgistic Regression(28300/100000): loss=-474.89199671796496\n",
      "Losgistic Regression(28400/100000): loss=-476.12091899997256\n",
      "Losgistic Regression(28500/100000): loss=-477.3455726133253\n",
      "Losgistic Regression(28600/100000): loss=-478.5660200616348\n",
      "Losgistic Regression(28700/100000): loss=-479.78235035837184\n",
      "Losgistic Regression(28800/100000): loss=-480.9946080899812\n",
      "Losgistic Regression(28900/100000): loss=-482.2027424378341\n",
      "Losgistic Regression(29000/100000): loss=-483.40682045412865\n",
      "Losgistic Regression(29100/100000): loss=-484.6069543116321\n",
      "Losgistic Regression(29200/100000): loss=-485.80308772208883\n",
      "Losgistic Regression(29300/100000): loss=-486.9951241328083\n",
      "Losgistic Regression(29400/100000): loss=-488.1831364520319\n",
      "Losgistic Regression(29500/100000): loss=-489.3673456149588\n",
      "Losgistic Regression(29600/100000): loss=-490.54781985700794\n",
      "Losgistic Regression(29700/100000): loss=-491.7244302443689\n",
      "Losgistic Regression(29800/100000): loss=-492.89711563316115\n",
      "Losgistic Regression(29900/100000): loss=-494.0659799699114\n",
      "Losgistic Regression(30000/100000): loss=-495.23114400676377\n",
      "Losgistic Regression(30100/100000): loss=-496.39252770233657\n",
      "Losgistic Regression(30200/100000): loss=-497.5500037990474\n",
      "Losgistic Regression(30300/100000): loss=-498.70355971030335\n",
      "Losgistic Regression(30400/100000): loss=-499.8532054917997\n",
      "Losgistic Regression(30500/100000): loss=-500.9989193269476\n",
      "Losgistic Regression(30600/100000): loss=-502.14073691429326\n",
      "Losgistic Regression(30700/100000): loss=-503.27875685856566\n",
      "Losgistic Regression(30800/100000): loss=-504.41303410170076\n",
      "Losgistic Regression(30900/100000): loss=-505.54355319539803\n",
      "Losgistic Regression(31000/100000): loss=-506.6701827530849\n",
      "Losgistic Regression(31100/100000): loss=-507.79300309419705\n",
      "Losgistic Regression(31200/100000): loss=-508.91318495686477\n",
      "Losgistic Regression(31300/100000): loss=-510.03039924700334\n",
      "Losgistic Regression(31400/100000): loss=-511.1445592835074\n",
      "Losgistic Regression(31500/100000): loss=-512.2549280128228\n",
      "Losgistic Regression(31600/100000): loss=-513.361568796061\n",
      "Losgistic Regression(31700/100000): loss=-514.464885458226\n",
      "Losgistic Regression(31800/100000): loss=-515.5647990818829\n",
      "Losgistic Regression(31900/100000): loss=-516.6618309389428\n",
      "Losgistic Regression(32000/100000): loss=-517.7550616005263\n",
      "Losgistic Regression(32100/100000): loss=-518.8443481731438\n",
      "Losgistic Regression(32200/100000): loss=-519.9300686770058\n",
      "Losgistic Regression(32300/100000): loss=-521.0120515839122\n",
      "Losgistic Regression(32400/100000): loss=-522.0908546846496\n",
      "Losgistic Regression(32500/100000): loss=-523.1661745073368\n",
      "Losgistic Regression(32600/100000): loss=-524.2377887913698\n",
      "Losgistic Regression(32700/100000): loss=-525.3055874095385\n",
      "Losgistic Regression(32800/100000): loss=-526.3695250553897\n",
      "Losgistic Regression(32900/100000): loss=-527.4301879867958\n",
      "Losgistic Regression(33000/100000): loss=-528.4871969901978\n",
      "Losgistic Regression(33100/100000): loss=-529.540266730559\n",
      "Losgistic Regression(33200/100000): loss=-530.5888312308906\n",
      "Losgistic Regression(33300/100000): loss=-531.6332793753651\n",
      "Losgistic Regression(33400/100000): loss=-532.6744568283103\n",
      "Losgistic Regression(33500/100000): loss=-533.7115000896043\n",
      "Losgistic Regression(33600/100000): loss=-534.7447294914567\n",
      "Losgistic Regression(33700/100000): loss=-535.7742613130105\n",
      "Losgistic Regression(33800/100000): loss=-536.7996993695103\n",
      "Losgistic Regression(33900/100000): loss=-537.8210213081851\n",
      "Losgistic Regression(34000/100000): loss=-538.8386466958098\n",
      "Losgistic Regression(34100/100000): loss=-539.8524297489475\n",
      "Losgistic Regression(34200/100000): loss=-540.8629852398005\n",
      "Losgistic Regression(34300/100000): loss=-541.8703422069461\n",
      "Losgistic Regression(34400/100000): loss=-542.8733995667561\n",
      "Losgistic Regression(34500/100000): loss=-543.8728345851389\n",
      "Losgistic Regression(34600/100000): loss=-544.8695086697454\n",
      "Losgistic Regression(34700/100000): loss=-545.8629557876282\n",
      "Losgistic Regression(34800/100000): loss=-546.8535797255628\n",
      "Losgistic Regression(34900/100000): loss=-547.8412162577858\n",
      "Losgistic Regression(35000/100000): loss=-548.8255467689398\n",
      "Losgistic Regression(35100/100000): loss=-549.8068084991528\n",
      "Losgistic Regression(35200/100000): loss=-550.7849876685409\n",
      "Losgistic Regression(35300/100000): loss=-551.7604489914152\n",
      "Losgistic Regression(35400/100000): loss=-552.7330200860066\n",
      "Losgistic Regression(35500/100000): loss=-553.7019374130635\n",
      "Losgistic Regression(35600/100000): loss=-554.6673195443153\n",
      "Losgistic Regression(35700/100000): loss=-555.6296543803305\n",
      "Losgistic Regression(35800/100000): loss=-556.5886828826789\n",
      "Losgistic Regression(35900/100000): loss=-557.5440506370654\n",
      "Losgistic Regression(36000/100000): loss=-558.4955758469541\n",
      "Losgistic Regression(36100/100000): loss=-559.4431387124387\n",
      "Losgistic Regression(36200/100000): loss=-560.3867890079874\n",
      "Losgistic Regression(36300/100000): loss=-561.3271077992516\n",
      "Losgistic Regression(36400/100000): loss=-562.2642201373816\n",
      "Losgistic Regression(36500/100000): loss=-563.1977345501997\n",
      "Losgistic Regression(36600/100000): loss=-564.1275396606112\n",
      "Losgistic Regression(36700/100000): loss=-565.0534773123086\n",
      "Losgistic Regression(36800/100000): loss=-565.9755442561834\n",
      "Losgistic Regression(36900/100000): loss=-566.894174936435\n",
      "Losgistic Regression(37000/100000): loss=-567.8095146225171\n",
      "Losgistic Regression(37100/100000): loss=-568.7214572471948\n",
      "Losgistic Regression(37200/100000): loss=-569.6299015530308\n",
      "Losgistic Regression(37300/100000): loss=-570.5344194001075\n",
      "Losgistic Regression(37400/100000): loss=-571.4352366408807\n",
      "Losgistic Regression(37500/100000): loss=-572.3330628541523\n",
      "Losgistic Regression(37600/100000): loss=-573.2279596621695\n",
      "Losgistic Regression(37700/100000): loss=-574.1194937131665\n",
      "Losgistic Regression(37800/100000): loss=-575.0076269823977\n",
      "Losgistic Regression(37900/100000): loss=-575.8925436740373\n",
      "Losgistic Regression(38000/100000): loss=-576.774310580537\n",
      "Losgistic Regression(38100/100000): loss=-577.653064651497\n",
      "Losgistic Regression(38200/100000): loss=-578.5286854960933\n",
      "Losgistic Regression(38300/100000): loss=-579.4008555018085\n",
      "Losgistic Regression(38400/100000): loss=-580.2693987698743\n",
      "Losgistic Regression(38500/100000): loss=-581.1345308504807\n",
      "Losgistic Regression(38600/100000): loss=-581.9964724294778\n",
      "Losgistic Regression(38700/100000): loss=-582.8553942384458\n",
      "Losgistic Regression(38800/100000): loss=-583.7113284721738\n",
      "Losgistic Regression(38900/100000): loss=-584.5640851412294\n",
      "Losgistic Regression(39000/100000): loss=-585.4136205414417\n",
      "Losgistic Regression(39100/100000): loss=-586.2599250173206\n",
      "Losgistic Regression(39200/100000): loss=-587.1031202470969\n",
      "Losgistic Regression(39300/100000): loss=-587.9433558191058\n",
      "Losgistic Regression(39400/100000): loss=-588.7812302168833\n",
      "Losgistic Regression(39500/100000): loss=-589.6161340343098\n",
      "Losgistic Regression(39600/100000): loss=-590.4477374150515\n",
      "Losgistic Regression(39700/100000): loss=-591.2761272845938\n",
      "Losgistic Regression(39800/100000): loss=-592.1013019705117\n",
      "Losgistic Regression(39900/100000): loss=-592.9237324760792\n",
      "Losgistic Regression(40000/100000): loss=-593.7469293902747\n",
      "Losgistic Regression(40100/100000): loss=-594.5688492265446\n",
      "Losgistic Regression(40200/100000): loss=-595.3876833679959\n",
      "Losgistic Regression(40300/100000): loss=-596.203257059725\n",
      "Losgistic Regression(40400/100000): loss=-597.015527330575\n",
      "Losgistic Regression(40500/100000): loss=-597.8250962675716\n",
      "Losgistic Regression(40600/100000): loss=-598.631972089547\n",
      "Losgistic Regression(40700/100000): loss=-599.4361500894973\n",
      "Losgistic Regression(40800/100000): loss=-600.2377377869454\n",
      "Losgistic Regression(40900/100000): loss=-601.0364162793921\n",
      "Losgistic Regression(41000/100000): loss=-601.8326056057429\n",
      "Losgistic Regression(41100/100000): loss=-602.6264961622032\n",
      "Losgistic Regression(41200/100000): loss=-603.4179883769834\n",
      "Losgistic Regression(41300/100000): loss=-604.2070563805313\n",
      "Losgistic Regression(41400/100000): loss=-604.9937260547117\n",
      "Losgistic Regression(41500/100000): loss=-605.7777801781322\n",
      "Losgistic Regression(41600/100000): loss=-606.5596435919704\n",
      "Losgistic Regression(41700/100000): loss=-607.3392901536749\n",
      "Losgistic Regression(41800/100000): loss=-608.1162578487312\n",
      "Losgistic Regression(41900/100000): loss=-608.8908487767148\n",
      "Losgistic Regression(42000/100000): loss=-609.6631430955061\n",
      "Losgistic Regression(42100/100000): loss=-610.4329305644276\n",
      "Losgistic Regression(42200/100000): loss=-611.200542110957\n",
      "Losgistic Regression(42300/100000): loss=-611.965922483923\n",
      "Losgistic Regression(42400/100000): loss=-612.7289249159248\n",
      "Losgistic Regression(42500/100000): loss=-613.4898591990792\n",
      "Losgistic Regression(42600/100000): loss=-614.248763968668\n",
      "Losgistic Regression(42700/100000): loss=-615.0054966315806\n",
      "Losgistic Regression(42800/100000): loss=-615.760369103917\n",
      "Losgistic Regression(42900/100000): loss=-616.5135786825373\n",
      "Losgistic Regression(43000/100000): loss=-617.2652014719037\n",
      "Losgistic Regression(43100/100000): loss=-618.0155503825749\n",
      "Losgistic Regression(43200/100000): loss=-618.7646849339378\n",
      "Losgistic Regression(43300/100000): loss=-619.5123975824666\n",
      "Losgistic Regression(43400/100000): loss=-620.2585303434494\n",
      "Losgistic Regression(43500/100000): loss=-621.0032121861636\n",
      "Losgistic Regression(43600/100000): loss=-621.7464795796186\n",
      "Losgistic Regression(43700/100000): loss=-622.4882614666136\n",
      "Losgistic Regression(43800/100000): loss=-623.228445770503\n",
      "Losgistic Regression(43900/100000): loss=-623.9670867752388\n",
      "Losgistic Regression(44000/100000): loss=-624.704045831006\n",
      "Losgistic Regression(44100/100000): loss=-625.4391624182497\n",
      "Losgistic Regression(44200/100000): loss=-626.1726903264524\n",
      "Losgistic Regression(44300/100000): loss=-626.9048936426941\n",
      "Losgistic Regression(44400/100000): loss=-627.6357569570624\n",
      "Losgistic Regression(44500/100000): loss=-628.3654101305525\n",
      "Losgistic Regression(44600/100000): loss=-629.0938224675522\n",
      "Losgistic Regression(44700/100000): loss=-629.8209277487008\n",
      "Losgistic Regression(44800/100000): loss=-630.5469849171884\n",
      "Losgistic Regression(44900/100000): loss=-631.272200249032\n",
      "Losgistic Regression(45000/100000): loss=-631.9963724571285\n",
      "Losgistic Regression(45100/100000): loss=-632.7194459924389\n",
      "Losgistic Regression(45200/100000): loss=-633.4415553358302\n",
      "Losgistic Regression(45300/100000): loss=-634.1626050070213\n",
      "Losgistic Regression(45400/100000): loss=-634.8825651940534\n",
      "Losgistic Regression(45500/100000): loss=-635.6014699331147\n",
      "Losgistic Regression(45600/100000): loss=-636.3191486734441\n",
      "Losgistic Regression(45700/100000): loss=-637.0354434011815\n",
      "Losgistic Regression(45800/100000): loss=-637.7504727178015\n",
      "Losgistic Regression(45900/100000): loss=-638.4644334053888\n",
      "Losgistic Regression(46000/100000): loss=-639.1774870400177\n",
      "Losgistic Regression(46100/100000): loss=-639.8896941596597\n",
      "Losgistic Regression(46200/100000): loss=-640.6010429798914\n",
      "Losgistic Regression(46300/100000): loss=-641.3116365110344\n",
      "Losgistic Regression(46400/100000): loss=-642.0216633532749\n",
      "Losgistic Regression(46500/100000): loss=-642.7311950351564\n",
      "Losgistic Regression(46600/100000): loss=-643.4402224912956\n",
      "Losgistic Regression(46700/100000): loss=-644.1486481279084\n",
      "Losgistic Regression(46800/100000): loss=-644.8563875228855\n",
      "Losgistic Regression(46900/100000): loss=-645.5634467478485\n",
      "Losgistic Regression(47000/100000): loss=-646.2697291658592\n",
      "Losgistic Regression(47100/100000): loss=-646.9751105453734\n",
      "Losgistic Regression(47200/100000): loss=-647.6795252914122\n",
      "Losgistic Regression(47300/100000): loss=-648.3828649176353\n",
      "Losgistic Regression(47400/100000): loss=-649.0849563798602\n",
      "Losgistic Regression(47500/100000): loss=-649.7858207520186\n",
      "Losgistic Regression(47600/100000): loss=-650.4855299800722\n",
      "Losgistic Regression(47700/100000): loss=-651.1840125642753\n",
      "Losgistic Regression(47800/100000): loss=-651.8812979436583\n",
      "Losgistic Regression(47900/100000): loss=-652.5775121715782\n",
      "Losgistic Regression(48000/100000): loss=-653.2726506882912\n",
      "Losgistic Regression(48100/100000): loss=-653.9668176526295\n",
      "Losgistic Regression(48200/100000): loss=-654.6602313365413\n",
      "Losgistic Regression(48300/100000): loss=-655.3528097992809\n",
      "Losgistic Regression(48400/100000): loss=-656.0443015075346\n",
      "Losgistic Regression(48500/100000): loss=-656.7345894535334\n",
      "Losgistic Regression(48600/100000): loss=-657.4237755659892\n",
      "Losgistic Regression(48700/100000): loss=-658.1121610135641\n",
      "Losgistic Regression(48800/100000): loss=-658.8000860149268\n",
      "Losgistic Regression(48900/100000): loss=-659.4872149443055\n",
      "Losgistic Regression(49000/100000): loss=-660.1727746132518\n",
      "Losgistic Regression(49100/100000): loss=-660.8565051790719\n",
      "Losgistic Regression(49200/100000): loss=-661.5385488380822\n",
      "Losgistic Regression(49300/100000): loss=-662.2194129056583\n",
      "Losgistic Regression(49400/100000): loss=-662.8990228942539\n",
      "Losgistic Regression(49500/100000): loss=-663.577214408973\n",
      "Losgistic Regression(49600/100000): loss=-664.2537924106557\n",
      "Losgistic Regression(49700/100000): loss=-664.9287041812005\n",
      "Losgistic Regression(49800/100000): loss=-665.6020854272496\n",
      "Losgistic Regression(49900/100000): loss=-666.2739866111774\n",
      "Losgistic Regression(50000/100000): loss=-666.9443063992346\n",
      "Losgistic Regression(50100/100000): loss=-667.6130719703888\n",
      "Losgistic Regression(50200/100000): loss=-668.2802055426533\n",
      "Losgistic Regression(50300/100000): loss=-668.9460142420799\n",
      "Losgistic Regression(50400/100000): loss=-669.6104020601958\n",
      "Losgistic Regression(50500/100000): loss=-670.2731102748644\n",
      "Losgistic Regression(50600/100000): loss=-670.9341312513657\n",
      "Losgistic Regression(50700/100000): loss=-671.5936157339639\n",
      "Losgistic Regression(50800/100000): loss=-672.2517205050916\n",
      "Losgistic Regression(50900/100000): loss=-672.9084642569997\n",
      "Losgistic Regression(51000/100000): loss=-673.5636808123342\n",
      "Losgistic Regression(51100/100000): loss=-674.2170654711233\n",
      "Losgistic Regression(51200/100000): loss=-674.868401585104\n",
      "Losgistic Regression(51300/100000): loss=-675.5178990146582\n",
      "Losgistic Regression(51400/100000): loss=-676.1658606009347\n",
      "Losgistic Regression(51500/100000): loss=-676.8122436064468\n",
      "Losgistic Regression(51600/100000): loss=-677.4567690269735\n",
      "Losgistic Regression(51700/100000): loss=-678.0993086560424\n",
      "Losgistic Regression(51800/100000): loss=-678.7399141791908\n",
      "Losgistic Regression(51900/100000): loss=-679.378596810834\n",
      "Losgistic Regression(52000/100000): loss=-680.0151899609841\n",
      "Losgistic Regression(52100/100000): loss=-680.6499113459149\n",
      "Losgistic Regression(52200/100000): loss=-681.2831161882544\n",
      "Losgistic Regression(52300/100000): loss=-681.9145845081938\n",
      "Losgistic Regression(52400/100000): loss=-682.5439148649411\n",
      "Losgistic Regression(52500/100000): loss=-683.1716297388034\n",
      "Losgistic Regression(52600/100000): loss=-683.7972805025136\n",
      "Losgistic Regression(52700/100000): loss=-684.420704277071\n",
      "Losgistic Regression(52800/100000): loss=-685.0420003041545\n",
      "Losgistic Regression(52900/100000): loss=-685.6617440976617\n",
      "Losgistic Regression(53000/100000): loss=-686.2799764588381\n",
      "Losgistic Regression(53100/100000): loss=-686.8964487823971\n",
      "Losgistic Regression(53200/100000): loss=-687.5108907730363\n",
      "Losgistic Regression(53300/100000): loss=-688.1234757316308\n",
      "Losgistic Regression(53400/100000): loss=-688.7339144273129\n",
      "Losgistic Regression(53500/100000): loss=-689.3424662845987\n",
      "Losgistic Regression(53600/100000): loss=-689.9493222573674\n",
      "Losgistic Regression(53700/100000): loss=-690.5545622575879\n",
      "Losgistic Regression(53800/100000): loss=-691.1581139400846\n",
      "Losgistic Regression(53900/100000): loss=-691.7598541514388\n",
      "Losgistic Regression(54000/100000): loss=-692.3601413879531\n",
      "Losgistic Regression(54100/100000): loss=-692.9588658577874\n",
      "Losgistic Regression(54200/100000): loss=-693.555838368761\n",
      "Losgistic Regression(54300/100000): loss=-694.1512500451951\n",
      "Losgistic Regression(54400/100000): loss=-694.745237661904\n",
      "Losgistic Regression(54500/100000): loss=-695.3377223585086\n",
      "Losgistic Regression(54600/100000): loss=-695.9287541062527\n",
      "Losgistic Regression(54700/100000): loss=-696.5182287532188\n",
      "Losgistic Regression(54800/100000): loss=-697.1061566601836\n",
      "Losgistic Regression(54900/100000): loss=-697.6923810731273\n",
      "Losgistic Regression(55000/100000): loss=-698.2854606246659\n",
      "Losgistic Regression(55100/100000): loss=-698.8855159233756\n",
      "Losgistic Regression(55200/100000): loss=-699.484210820183\n",
      "Losgistic Regression(55300/100000): loss=-700.0814798541664\n",
      "Losgistic Regression(55400/100000): loss=-700.6774282508455\n",
      "Losgistic Regression(55500/100000): loss=-701.2720583644734\n",
      "Losgistic Regression(55600/100000): loss=-701.8653756096592\n",
      "Losgistic Regression(55700/100000): loss=-702.4575420915212\n",
      "Losgistic Regression(55800/100000): loss=-703.0487782338181\n",
      "Losgistic Regression(55900/100000): loss=-703.6392140239782\n",
      "Losgistic Regression(56000/100000): loss=-704.2287132690227\n",
      "Losgistic Regression(56100/100000): loss=-704.8172648927195\n",
      "Losgistic Regression(56200/100000): loss=-705.4048069969147\n",
      "Losgistic Regression(56300/100000): loss=-705.9911876821557\n",
      "Losgistic Regression(56400/100000): loss=-706.5764007459965\n",
      "Losgistic Regression(56500/100000): loss=-707.1605484642971\n",
      "Losgistic Regression(56600/100000): loss=-707.7435444693938\n",
      "Losgistic Regression(56700/100000): loss=-708.3253978996781\n",
      "Losgistic Regression(56800/100000): loss=-708.9060532904127\n",
      "Losgistic Regression(56900/100000): loss=-709.4855577381303\n",
      "Losgistic Regression(57000/100000): loss=-710.0638189013786\n",
      "Losgistic Regression(57100/100000): loss=-710.6407434683825\n",
      "Losgistic Regression(57200/100000): loss=-711.216485675017\n",
      "Losgistic Regression(57300/100000): loss=-711.7910496363849\n",
      "Losgistic Regression(57400/100000): loss=-712.364712022724\n",
      "Losgistic Regression(57500/100000): loss=-712.9377419218555\n",
      "Losgistic Regression(57600/100000): loss=-713.5103620171818\n",
      "Losgistic Regression(57700/100000): loss=-714.0823888241822\n",
      "Losgistic Regression(57800/100000): loss=-714.6535811054077\n",
      "Losgistic Regression(57900/100000): loss=-715.2239588044126\n",
      "Losgistic Regression(58000/100000): loss=-715.7938949461657\n",
      "Losgistic Regression(58100/100000): loss=-716.3633538961651\n",
      "Losgistic Regression(58200/100000): loss=-716.9322442558282\n",
      "Losgistic Regression(58300/100000): loss=-717.5006869378049\n",
      "Losgistic Regression(58400/100000): loss=-718.0687104038113\n",
      "Losgistic Regression(58500/100000): loss=-718.6362316544079\n",
      "Losgistic Regression(58600/100000): loss=-719.2031382816541\n",
      "Losgistic Regression(58700/100000): loss=-719.7694504413138\n",
      "Losgistic Regression(58800/100000): loss=-720.3352280775731\n",
      "Losgistic Regression(58900/100000): loss=-720.9003695408139\n",
      "Losgistic Regression(59000/100000): loss=-721.4650028673136\n",
      "Losgistic Regression(59100/100000): loss=-722.0293468073867\n",
      "Losgistic Regression(59200/100000): loss=-722.5933633964331\n",
      "Losgistic Regression(59300/100000): loss=-723.15696387366\n",
      "Losgistic Regression(59400/100000): loss=-723.7202778457176\n",
      "Losgistic Regression(59500/100000): loss=-724.2831891623363\n",
      "Losgistic Regression(59600/100000): loss=-724.8455787497719\n",
      "Losgistic Regression(59700/100000): loss=-725.4074559471721\n",
      "Losgistic Regression(59800/100000): loss=-725.9691840801711\n",
      "Losgistic Regression(59900/100000): loss=-726.5309490743093\n",
      "Losgistic Regression(60000/100000): loss=-727.0924914821993\n",
      "Losgistic Regression(60100/100000): loss=-727.653442855139\n",
      "Losgistic Regression(60200/100000): loss=-728.213777633998\n",
      "Losgistic Regression(60300/100000): loss=-728.7736255067462\n",
      "Losgistic Regression(60400/100000): loss=-729.3329613168776\n",
      "Losgistic Regression(60500/100000): loss=-729.8916982024173\n",
      "Losgistic Regression(60600/100000): loss=-730.4497987657306\n",
      "Losgistic Regression(60700/100000): loss=-731.0073781490279\n",
      "Losgistic Regression(60800/100000): loss=-731.5645275443848\n",
      "Losgistic Regression(60900/100000): loss=-732.1212449001358\n",
      "Losgistic Regression(61000/100000): loss=-732.6774750744786\n",
      "Losgistic Regression(61100/100000): loss=-733.2330458725966\n",
      "Losgistic Regression(61200/100000): loss=-733.7878481179421\n",
      "Losgistic Regression(61300/100000): loss=-734.3420192841422\n",
      "Losgistic Regression(61400/100000): loss=-734.8957953353774\n",
      "Losgistic Regression(61500/100000): loss=-735.4492525214863\n",
      "Losgistic Regression(61600/100000): loss=-736.0023237439218\n",
      "Losgistic Regression(61700/100000): loss=-736.5549702981916\n",
      "Losgistic Regression(61800/100000): loss=-737.1071969006341\n",
      "Losgistic Regression(61900/100000): loss=-737.6589329294234\n",
      "Losgistic Regression(62000/100000): loss=-738.2100779052951\n",
      "Losgistic Regression(62100/100000): loss=-738.7607332153686\n",
      "Losgistic Regression(62200/100000): loss=-739.3110326348345\n",
      "Losgistic Regression(62300/100000): loss=-739.8609682516958\n",
      "Losgistic Regression(62400/100000): loss=-740.4104310165517\n",
      "Losgistic Regression(62500/100000): loss=-740.9593519194258\n",
      "Losgistic Regression(62600/100000): loss=-741.5076728815906\n",
      "Losgistic Regression(62700/100000): loss=-742.0552690357767\n",
      "Losgistic Regression(62800/100000): loss=-742.6020030328646\n",
      "Losgistic Regression(62900/100000): loss=-743.1478691133957\n",
      "Losgistic Regression(63000/100000): loss=-743.6929789856035\n",
      "Losgistic Regression(63100/100000): loss=-744.2374318365859\n",
      "Losgistic Regression(63200/100000): loss=-744.7813803326967\n",
      "Losgistic Regression(63300/100000): loss=-745.3249202909205\n",
      "Losgistic Regression(63400/100000): loss=-745.8679531841625\n",
      "Losgistic Regression(63500/100000): loss=-746.4102926707684\n",
      "Losgistic Regression(63600/100000): loss=-746.951841828034\n",
      "Losgistic Regression(63700/100000): loss=-747.492682468852\n",
      "Losgistic Regression(63800/100000): loss=-748.0329511620968\n",
      "Losgistic Regression(63900/100000): loss=-748.5727371998898\n",
      "Losgistic Regression(64000/100000): loss=-749.1120976496758\n",
      "Losgistic Regression(64100/100000): loss=-749.6510295526446\n",
      "Losgistic Regression(64200/100000): loss=-750.1894117278126\n",
      "Losgistic Regression(64300/100000): loss=-750.727096632306\n",
      "Losgistic Regression(64400/100000): loss=-751.2641608869012\n",
      "Losgistic Regression(64500/100000): loss=-751.8005338956573\n",
      "Losgistic Regression(64600/100000): loss=-752.336093540855\n",
      "Losgistic Regression(64700/100000): loss=-752.8708220356393\n",
      "Losgistic Regression(64800/100000): loss=-753.4046417572118\n",
      "Losgistic Regression(64900/100000): loss=-753.937654491334\n",
      "Losgistic Regression(65000/100000): loss=-754.4698011353986\n",
      "Losgistic Regression(65100/100000): loss=-755.00101814901\n",
      "Losgistic Regression(65200/100000): loss=-755.531418967687\n",
      "Losgistic Regression(65300/100000): loss=-756.0609226985754\n",
      "Losgistic Regression(65400/100000): loss=-756.589520668057\n",
      "Losgistic Regression(65500/100000): loss=-757.1171841129213\n",
      "Losgistic Regression(65600/100000): loss=-757.6440661409787\n",
      "Losgistic Regression(65700/100000): loss=-758.1704099634572\n",
      "Losgistic Regression(65800/100000): loss=-758.6961949068116\n",
      "Losgistic Regression(65900/100000): loss=-759.221106629152\n",
      "Losgistic Regression(66000/100000): loss=-759.7450874519243\n",
      "Losgistic Regression(66100/100000): loss=-760.268391801723\n",
      "Losgistic Regression(66200/100000): loss=-760.7910794385509\n",
      "Losgistic Regression(66300/100000): loss=-761.3132135708852\n",
      "Losgistic Regression(66400/100000): loss=-761.8347516542223\n",
      "Losgistic Regression(66500/100000): loss=-762.3556263165702\n",
      "Losgistic Regression(66600/100000): loss=-762.8757721589666\n",
      "Losgistic Regression(66700/100000): loss=-763.3950880632078\n",
      "Losgistic Regression(66800/100000): loss=-763.9135578337751\n",
      "Losgistic Regression(66900/100000): loss=-764.4313332992067\n",
      "Losgistic Regression(67000/100000): loss=-764.9483901644261\n",
      "Losgistic Regression(67100/100000): loss=-765.4646258613874\n",
      "Losgistic Regression(67200/100000): loss=-765.9801368174768\n",
      "Losgistic Regression(67300/100000): loss=-766.4949924655472\n",
      "Losgistic Regression(67400/100000): loss=-767.0089856528637\n",
      "Losgistic Regression(67500/100000): loss=-767.522081200821\n",
      "Losgistic Regression(67600/100000): loss=-768.0343468313644\n",
      "Losgistic Regression(67700/100000): loss=-768.5457901922401\n",
      "Losgistic Regression(67800/100000): loss=-769.0563550603187\n",
      "Losgistic Regression(67900/100000): loss=-769.565868882966\n",
      "Losgistic Regression(68000/100000): loss=-770.0744839045911\n",
      "Losgistic Regression(68100/100000): loss=-770.5825376824894\n",
      "Losgistic Regression(68200/100000): loss=-771.0902080288781\n",
      "Losgistic Regression(68300/100000): loss=-771.5972724003334\n",
      "Losgistic Regression(68400/100000): loss=-772.1034898726905\n",
      "Losgistic Regression(68500/100000): loss=-772.6088154409422\n",
      "Losgistic Regression(68600/100000): loss=-773.113356470384\n",
      "Losgistic Regression(68700/100000): loss=-773.6172621473227\n",
      "Losgistic Regression(68800/100000): loss=-774.1204935364487\n",
      "Losgistic Regression(68900/100000): loss=-774.6229330668583\n",
      "Losgistic Regression(69000/100000): loss=-775.12453430427\n",
      "Losgistic Regression(69100/100000): loss=-775.6253458278998\n",
      "Losgistic Regression(69200/100000): loss=-776.125619192483\n",
      "Losgistic Regression(69300/100000): loss=-776.6255774376029\n",
      "Losgistic Regression(69400/100000): loss=-777.1251921462873\n",
      "Losgistic Regression(69500/100000): loss=-777.6242158811523\n",
      "Losgistic Regression(69600/100000): loss=-778.1225034680101\n",
      "Losgistic Regression(69700/100000): loss=-778.6201935857796\n",
      "Losgistic Regression(69800/100000): loss=-779.1174989291565\n",
      "Losgistic Regression(69900/100000): loss=-779.6144738400742\n",
      "Losgistic Regression(70000/100000): loss=-780.1109787282198\n",
      "Losgistic Regression(70100/100000): loss=-780.6068459243676\n",
      "Losgistic Regression(70200/100000): loss=-781.101995323657\n",
      "Losgistic Regression(70300/100000): loss=-781.5964442258438\n",
      "Losgistic Regression(70400/100000): loss=-782.0903504873905\n",
      "Losgistic Regression(70500/100000): loss=-782.5838417146103\n",
      "Losgistic Regression(70600/100000): loss=-783.0769036454428\n",
      "Losgistic Regression(70700/100000): loss=-783.5694801606126\n",
      "Losgistic Regression(70800/100000): loss=-784.0615166873507\n",
      "Losgistic Regression(70900/100000): loss=-784.5529615972357\n",
      "Losgistic Regression(71000/100000): loss=-785.0437808910162\n",
      "Losgistic Regression(71100/100000): loss=-785.5339786064355\n",
      "Losgistic Regression(71200/100000): loss=-786.0235913347988\n",
      "Losgistic Regression(71300/100000): loss=-786.5127037189498\n",
      "Losgistic Regression(71400/100000): loss=-787.0013331292516\n",
      "Losgistic Regression(71500/100000): loss=-787.4893419096536\n",
      "Losgistic Regression(71600/100000): loss=-787.976627236017\n",
      "Losgistic Regression(71700/100000): loss=-788.4632083638955\n",
      "Losgistic Regression(71800/100000): loss=-788.9491445974638\n",
      "Losgistic Regression(71900/100000): loss=-789.4345131679\n",
      "Losgistic Regression(72000/100000): loss=-789.9193723498863\n",
      "Losgistic Regression(72100/100000): loss=-790.4037384813715\n",
      "Losgistic Regression(72200/100000): loss=-790.8876381948296\n",
      "Losgistic Regression(72300/100000): loss=-791.3711004815675\n",
      "Losgistic Regression(72400/100000): loss=-791.8541102988004\n",
      "Losgistic Regression(72500/100000): loss=-792.3366929894768\n",
      "Losgistic Regression(72600/100000): loss=-792.8189503301486\n",
      "Losgistic Regression(72700/100000): loss=-793.3009118358849\n",
      "Losgistic Regression(72800/100000): loss=-793.7825443191758\n",
      "Losgistic Regression(72900/100000): loss=-794.2638514012416\n",
      "Losgistic Regression(73000/100000): loss=-794.7448575751241\n",
      "Losgistic Regression(73100/100000): loss=-795.2255632828688\n",
      "Losgistic Regression(73200/100000): loss=-795.7059478242935\n",
      "Losgistic Regression(73300/100000): loss=-796.1860430002889\n",
      "Losgistic Regression(73400/100000): loss=-796.6659398140981\n",
      "Losgistic Regression(73500/100000): loss=-797.1456633334404\n",
      "Losgistic Regression(73600/100000): loss=-797.62491251369\n",
      "Losgistic Regression(73700/100000): loss=-798.1038795194579\n",
      "Losgistic Regression(73800/100000): loss=-798.5827263783281\n",
      "Losgistic Regression(73900/100000): loss=-799.0611614160466\n",
      "Losgistic Regression(74000/100000): loss=-799.539142593011\n",
      "Losgistic Regression(74100/100000): loss=-800.0168654333964\n",
      "Losgistic Regression(74200/100000): loss=-800.4943928947448\n",
      "Losgistic Regression(74300/100000): loss=-800.9718944029803\n",
      "Losgistic Regression(74400/100000): loss=-801.4493205873068\n",
      "Losgistic Regression(74500/100000): loss=-801.9266463189273\n",
      "Losgistic Regression(74600/100000): loss=-802.4040563999428\n",
      "Losgistic Regression(74700/100000): loss=-802.8814004473442\n",
      "Losgistic Regression(74800/100000): loss=-803.3585182154576\n",
      "Losgistic Regression(74900/100000): loss=-803.8354584809299\n",
      "Losgistic Regression(75000/100000): loss=-804.3121600158906\n",
      "Losgistic Regression(75100/100000): loss=-804.7883349049141\n",
      "Losgistic Regression(75200/100000): loss=-805.2637296008593\n",
      "Losgistic Regression(75300/100000): loss=-805.7385523620458\n",
      "Losgistic Regression(75400/100000): loss=-806.2130121696139\n",
      "Losgistic Regression(75500/100000): loss=-806.6873200765231\n",
      "Losgistic Regression(75600/100000): loss=-807.1615235473163\n",
      "Losgistic Regression(75700/100000): loss=-807.635391387885\n",
      "Losgistic Regression(75800/100000): loss=-808.1086177975425\n",
      "Losgistic Regression(75900/100000): loss=-808.580968353313\n",
      "Losgistic Regression(76000/100000): loss=-809.0525338384246\n",
      "Losgistic Regression(76100/100000): loss=-809.5236465487648\n",
      "Losgistic Regression(76200/100000): loss=-809.9944366804975\n",
      "Losgistic Regression(76300/100000): loss=-810.4650745054932\n",
      "Losgistic Regression(76400/100000): loss=-810.9356658198842\n",
      "Losgistic Regression(76500/100000): loss=-811.4060364281397\n",
      "Losgistic Regression(76600/100000): loss=-811.8761562876027\n",
      "Losgistic Regression(76700/100000): loss=-812.3459860645828\n",
      "Losgistic Regression(76800/100000): loss=-812.8154479271997\n",
      "Losgistic Regression(76900/100000): loss=-813.2845279242988\n",
      "Losgistic Regression(77000/100000): loss=-813.7532021393116\n",
      "Losgistic Regression(77100/100000): loss=-814.2216698928574\n",
      "Losgistic Regression(77200/100000): loss=-814.6899811711675\n",
      "Losgistic Regression(77300/100000): loss=-815.1582287076068\n",
      "Losgistic Regression(77400/100000): loss=-815.6263127256332\n",
      "Losgistic Regression(77500/100000): loss=-816.0941062352993\n",
      "Losgistic Regression(77600/100000): loss=-816.5616643016571\n",
      "Losgistic Regression(77700/100000): loss=-817.0287255324845\n",
      "Losgistic Regression(77800/100000): loss=-817.495055170794\n",
      "Losgistic Regression(77900/100000): loss=-817.9606750816283\n",
      "Losgistic Regression(78000/100000): loss=-818.42578760338\n",
      "Losgistic Regression(78100/100000): loss=-818.8906576465713\n",
      "Losgistic Regression(78200/100000): loss=-819.3553949933063\n",
      "Losgistic Regression(78300/100000): loss=-819.8200896604557\n",
      "Losgistic Regression(78400/100000): loss=-820.2847370303167\n",
      "Losgistic Regression(78500/100000): loss=-820.7491775981104\n",
      "Losgistic Regression(78600/100000): loss=-821.2131563977371\n",
      "Losgistic Regression(78700/100000): loss=-821.6766062313701\n",
      "Losgistic Regression(78800/100000): loss=-822.1396504887139\n",
      "Losgistic Regression(78900/100000): loss=-822.6023161143106\n",
      "Losgistic Regression(79000/100000): loss=-823.064449959353\n",
      "Losgistic Regression(79100/100000): loss=-823.5259581155884\n",
      "Losgistic Regression(79200/100000): loss=-823.9870164621549\n",
      "Losgistic Regression(79300/100000): loss=-824.4478797724479\n",
      "Losgistic Regression(79400/100000): loss=-824.908667769704\n",
      "Losgistic Regression(79500/100000): loss=-825.3692833947309\n",
      "Losgistic Regression(79600/100000): loss=-825.8295179218467\n",
      "Losgistic Regression(79700/100000): loss=-826.2892229356198\n",
      "Losgistic Regression(79800/100000): loss=-826.7483018646509\n",
      "Losgistic Regression(79900/100000): loss=-827.2068243515844\n",
      "Losgistic Regression(80000/100000): loss=-827.6648604444716\n",
      "Losgistic Regression(80100/100000): loss=-828.1224863505336\n",
      "Losgistic Regression(80200/100000): loss=-828.5798394749983\n",
      "Losgistic Regression(80300/100000): loss=-829.0368502082357\n",
      "Losgistic Regression(80400/100000): loss=-829.4933681208807\n",
      "Losgistic Regression(80500/100000): loss=-829.9492590054239\n",
      "Losgistic Regression(80600/100000): loss=-830.4044661359466\n",
      "Losgistic Regression(80700/100000): loss=-830.8590299309814\n",
      "Losgistic Regression(80800/100000): loss=-831.3129515247433\n",
      "Losgistic Regression(80900/100000): loss=-831.7662199328153\n",
      "Losgistic Regression(81000/100000): loss=-832.2188332891159\n",
      "Losgistic Regression(81100/100000): loss=-832.6708379544026\n",
      "Losgistic Regression(81200/100000): loss=-833.1222975438278\n",
      "Losgistic Regression(81300/100000): loss=-833.5732265653068\n",
      "Losgistic Regression(81400/100000): loss=-834.0236996619383\n",
      "Losgistic Regression(81500/100000): loss=-834.4738104761861\n",
      "Losgistic Regression(81600/100000): loss=-834.9235861614264\n",
      "Losgistic Regression(81700/100000): loss=-835.3729707838933\n",
      "Losgistic Regression(81800/100000): loss=-835.821857385228\n",
      "Losgistic Regression(81900/100000): loss=-836.2702103260557\n",
      "Losgistic Regression(82000/100000): loss=-836.7181438255502\n",
      "Losgistic Regression(82100/100000): loss=-837.1657992164253\n",
      "Losgistic Regression(82200/100000): loss=-837.613234143949\n",
      "Losgistic Regression(82300/100000): loss=-838.0604629444042\n",
      "Losgistic Regression(82400/100000): loss=-838.5074450202485\n",
      "Losgistic Regression(82500/100000): loss=-838.9540894736765\n",
      "Losgistic Regression(82600/100000): loss=-839.4003273826229\n",
      "Losgistic Regression(82700/100000): loss=-839.846167727601\n",
      "Losgistic Regression(82800/100000): loss=-840.2916749006343\n",
      "Losgistic Regression(82900/100000): loss=-840.736868417601\n",
      "Losgistic Regression(83000/100000): loss=-841.1817419756443\n",
      "Losgistic Regression(83100/100000): loss=-841.6263165312573\n",
      "Losgistic Regression(83200/100000): loss=-842.0706115869168\n",
      "Losgistic Regression(83300/100000): loss=-842.5146310291018\n",
      "Losgistic Regression(83400/100000): loss=-842.958354956282\n",
      "Losgistic Regression(83500/100000): loss=-843.4017933125306\n",
      "Losgistic Regression(83600/100000): loss=-843.8449718607228\n",
      "Losgistic Regression(83700/100000): loss=-844.287841437737\n",
      "Losgistic Regression(83800/100000): loss=-844.7303330783999\n",
      "Losgistic Regression(83900/100000): loss=-845.1724425396098\n",
      "Losgistic Regression(84000/100000): loss=-845.6142111322727\n",
      "Losgistic Regression(84100/100000): loss=-846.055645400765\n",
      "Losgistic Regression(84200/100000): loss=-846.4965849446937\n",
      "Losgistic Regression(84300/100000): loss=-846.9369788977752\n",
      "Losgistic Regression(84400/100000): loss=-847.3768057983544\n",
      "Losgistic Regression(84500/100000): loss=-847.8159847482776\n",
      "Losgistic Regression(84600/100000): loss=-848.2545322321045\n",
      "Losgistic Regression(84700/100000): loss=-848.6925383297771\n",
      "Losgistic Regression(84800/100000): loss=-849.1300554945535\n",
      "Losgistic Regression(84900/100000): loss=-849.5671111836112\n",
      "Losgistic Regression(85000/100000): loss=-850.00375993519\n",
      "Losgistic Regression(85100/100000): loss=-850.4400458416426\n",
      "Losgistic Regression(85200/100000): loss=-850.8759984185389\n",
      "Losgistic Regression(85300/100000): loss=-851.3116906932096\n",
      "Losgistic Regression(85400/100000): loss=-851.7471613181181\n",
      "Losgistic Regression(85500/100000): loss=-852.1824194459988\n",
      "Losgistic Regression(85600/100000): loss=-852.6174978296634\n",
      "Losgistic Regression(85700/100000): loss=-853.0523849336984\n",
      "Losgistic Regression(85800/100000): loss=-853.4870340912898\n",
      "Losgistic Regression(85900/100000): loss=-853.921464479032\n",
      "Losgistic Regression(86000/100000): loss=-854.3557850522975\n",
      "Losgistic Regression(86100/100000): loss=-854.7899834533022\n",
      "Losgistic Regression(86200/100000): loss=-855.223957238064\n",
      "Losgistic Regression(86300/100000): loss=-855.6576790508896\n",
      "Losgistic Regression(86400/100000): loss=-856.0911858389186\n",
      "Losgistic Regression(86500/100000): loss=-856.5244607012678\n",
      "Losgistic Regression(86600/100000): loss=-856.9574219349248\n",
      "Losgistic Regression(86700/100000): loss=-857.3900178783074\n",
      "Losgistic Regression(86800/100000): loss=-857.8223002043444\n",
      "Losgistic Regression(86900/100000): loss=-858.2543475700132\n",
      "Losgistic Regression(87000/100000): loss=-858.6861947900221\n",
      "Losgistic Regression(87100/100000): loss=-859.1213306866621\n",
      "Losgistic Regression(87200/100000): loss=-859.5592871377427\n",
      "Losgistic Regression(87300/100000): loss=-859.9971248527106\n",
      "Losgistic Regression(87400/100000): loss=-860.4348730379525\n",
      "Losgistic Regression(87500/100000): loss=-860.8725338341299\n",
      "Losgistic Regression(87600/100000): loss=-861.3100895985422\n",
      "Losgistic Regression(87700/100000): loss=-861.7474733278366\n",
      "Losgistic Regression(87800/100000): loss=-862.1846156330265\n",
      "Losgistic Regression(87900/100000): loss=-862.6215020004602\n",
      "Losgistic Regression(88000/100000): loss=-863.0581685248708\n",
      "Losgistic Regression(88100/100000): loss=-863.4946475109489\n",
      "Losgistic Regression(88200/100000): loss=-863.9309438072163\n",
      "Losgistic Regression(88300/100000): loss=-864.3670529216183\n",
      "Losgistic Regression(88400/100000): loss=-864.8029220691496\n",
      "Losgistic Regression(88500/100000): loss=-865.2384406566122\n",
      "Losgistic Regression(88600/100000): loss=-865.6734997069403\n",
      "Losgistic Regression(88700/100000): loss=-866.1080136434529\n",
      "Losgistic Regression(88800/100000): loss=-866.5419637128869\n",
      "Losgistic Regression(88900/100000): loss=-866.9753850543063\n",
      "Losgistic Regression(89000/100000): loss=-867.4082740328857\n",
      "Losgistic Regression(89100/100000): loss=-867.8405964799219\n",
      "Losgistic Regression(89200/100000): loss=-868.272430634694\n",
      "Losgistic Regression(89300/100000): loss=-868.7039781030495\n",
      "Losgistic Regression(89400/100000): loss=-869.1353927613623\n",
      "Losgistic Regression(89500/100000): loss=-869.5666999855733\n",
      "Losgistic Regression(89600/100000): loss=-869.9978619603792\n",
      "Losgistic Regression(89700/100000): loss=-870.4288115150928\n",
      "Losgistic Regression(89800/100000): loss=-870.859457018606\n",
      "Losgistic Regression(89900/100000): loss=-871.2897315158222\n",
      "Losgistic Regression(90000/100000): loss=-871.7196277656932\n",
      "Losgistic Regression(90100/100000): loss=-872.1492021107439\n",
      "Losgistic Regression(90200/100000): loss=-872.5785746302149\n",
      "Losgistic Regression(90300/100000): loss=-873.0078822730128\n",
      "Losgistic Regression(90400/100000): loss=-873.4371704429972\n",
      "Losgistic Regression(90500/100000): loss=-873.866378803873\n",
      "Losgistic Regression(90600/100000): loss=-874.2954321226836\n",
      "Losgistic Regression(90700/100000): loss=-874.724264653975\n",
      "Losgistic Regression(90800/100000): loss=-875.1528056296759\n",
      "Losgistic Regression(90900/100000): loss=-875.5810282618938\n",
      "Losgistic Regression(91000/100000): loss=-876.0089786870179\n",
      "Losgistic Regression(91100/100000): loss=-876.4431781607117\n",
      "Losgistic Regression(91200/100000): loss=-876.8778982302136\n",
      "Losgistic Regression(91300/100000): loss=-877.3123683209329\n",
      "Losgistic Regression(91400/100000): loss=-877.7466029303679\n",
      "Losgistic Regression(91500/100000): loss=-878.1805999296246\n",
      "Losgistic Regression(91600/100000): loss=-878.6143470191024\n",
      "Losgistic Regression(91700/100000): loss=-879.0478618533823\n",
      "Losgistic Regression(91800/100000): loss=-879.4811666127538\n",
      "Losgistic Regression(91900/100000): loss=-879.9142378700299\n",
      "Losgistic Regression(92000/100000): loss=-880.3470004262282\n",
      "Losgistic Regression(92100/100000): loss=-880.7793851973515\n",
      "Losgistic Regression(92200/100000): loss=-881.2113921057149\n",
      "Losgistic Regression(92300/100000): loss=-881.6430933048639\n",
      "Losgistic Regression(92400/100000): loss=-882.074577545771\n",
      "Losgistic Regression(92500/100000): loss=-882.505888507617\n",
      "Losgistic Regression(92600/100000): loss=-882.9370269802719\n",
      "Losgistic Regression(92700/100000): loss=-883.3679940158389\n",
      "Losgistic Regression(92800/100000): loss=-883.79878827473\n",
      "Losgistic Regression(92900/100000): loss=-884.229383342753\n",
      "Losgistic Regression(93000/100000): loss=-884.6597372900953\n",
      "Losgistic Regression(93100/100000): loss=-885.089813112098\n",
      "Losgistic Regression(93200/100000): loss=-885.5195789926403\n",
      "Losgistic Regression(93300/100000): loss=-885.9489940809793\n",
      "Losgistic Regression(93400/100000): loss=-886.3780148890785\n",
      "Losgistic Regression(93500/100000): loss=-886.8066213444455\n",
      "Losgistic Regression(93600/100000): loss=-887.234833882016\n",
      "Losgistic Regression(93700/100000): loss=-887.6626993931987\n",
      "Losgistic Regression(93800/100000): loss=-888.0902588829897\n",
      "Losgistic Regression(93900/100000): loss=-888.5175307637641\n",
      "Losgistic Regression(94000/100000): loss=-888.9445056310012\n",
      "Losgistic Regression(94100/100000): loss=-889.3711372144896\n",
      "Losgistic Regression(94200/100000): loss=-889.7973625684878\n",
      "Losgistic Regression(94300/100000): loss=-890.2231484611341\n",
      "Losgistic Regression(94400/100000): loss=-890.6485030114679\n",
      "Losgistic Regression(94500/100000): loss=-891.0734356203736\n",
      "Losgistic Regression(94600/100000): loss=-891.4979324335733\n",
      "Losgistic Regression(94700/100000): loss=-891.9219882588452\n",
      "Losgistic Regression(94800/100000): loss=-892.3456269466242\n",
      "Losgistic Regression(94900/100000): loss=-892.7688766186359\n",
      "Losgistic Regression(95000/100000): loss=-893.191754795024\n",
      "Losgistic Regression(95100/100000): loss=-893.614274189193\n",
      "Losgistic Regression(95200/100000): loss=-894.0364495373841\n",
      "Losgistic Regression(95300/100000): loss=-894.4583023259238\n",
      "Losgistic Regression(95400/100000): loss=-894.8798484915229\n",
      "Losgistic Regression(95500/100000): loss=-895.3010732589855\n",
      "Losgistic Regression(95600/100000): loss=-895.721931041576\n",
      "Losgistic Regression(95700/100000): loss=-896.1423814892016\n",
      "Losgistic Regression(95800/100000): loss=-896.5624141223777\n",
      "Losgistic Regression(95900/100000): loss=-896.9820318086015\n",
      "Losgistic Regression(96000/100000): loss=-897.4012425370103\n",
      "Losgistic Regression(96100/100000): loss=-897.8200780258045\n",
      "Losgistic Regression(96200/100000): loss=-898.2385846602306\n",
      "Losgistic Regression(96300/100000): loss=-898.6567852900869\n",
      "Losgistic Regression(96400/100000): loss=-899.0746654332812\n",
      "Losgistic Regression(96500/100000): loss=-899.4921950221067\n",
      "Losgistic Regression(96600/100000): loss=-899.90934853096\n",
      "Losgistic Regression(96700/100000): loss=-900.3261140512318\n",
      "Losgistic Regression(96800/100000): loss=-900.7425057760308\n",
      "Losgistic Regression(96900/100000): loss=-901.1585595325331\n",
      "Losgistic Regression(97000/100000): loss=-901.5743002448379\n",
      "Losgistic Regression(97100/100000): loss=-901.9897281153999\n",
      "Losgistic Regression(97200/100000): loss=-902.4048449612617\n",
      "Losgistic Regression(97300/100000): loss=-902.8196757483244\n",
      "Losgistic Regression(97400/100000): loss=-903.2342556962693\n",
      "Losgistic Regression(97500/100000): loss=-903.648607448682\n",
      "Losgistic Regression(97600/100000): loss=-904.0627310044516\n",
      "Losgistic Regression(97700/100000): loss=-904.4766041404455\n",
      "Losgistic Regression(97800/100000): loss=-904.8901939182418\n",
      "Losgistic Regression(97900/100000): loss=-905.3034710211468\n",
      "Losgistic Regression(98000/100000): loss=-905.7164100271526\n",
      "Losgistic Regression(98100/100000): loss=-906.1289847698852\n",
      "Losgistic Regression(98200/100000): loss=-906.5411773468722\n",
      "Losgistic Regression(98300/100000): loss=-906.9529887135254\n",
      "Losgistic Regression(98400/100000): loss=-907.3644295980915\n",
      "Losgistic Regression(98500/100000): loss=-907.7755006932168\n",
      "Losgistic Regression(98600/100000): loss=-908.1861874723331\n",
      "Losgistic Regression(98700/100000): loss=-908.5964687870561\n",
      "Losgistic Regression(98800/100000): loss=-909.0063153764071\n",
      "Losgistic Regression(98900/100000): loss=-909.4156795146939\n",
      "Losgistic Regression(99000/100000): loss=-909.8245020506362\n",
      "Losgistic Regression(99100/100000): loss=-910.2327410009128\n",
      "Losgistic Regression(99200/100000): loss=-910.6403967693702\n",
      "Losgistic Regression(99300/100000): loss=-911.0475111177448\n",
      "Losgistic Regression(99400/100000): loss=-911.4541423784316\n",
      "Losgistic Regression(99500/100000): loss=-911.8603433308514\n",
      "Losgistic Regression(99600/100000): loss=-912.2661539022191\n",
      "Losgistic Regression(99700/100000): loss=-912.6715977481425\n",
      "Losgistic Regression(99800/100000): loss=-913.0766808040088\n",
      "Losgistic Regression(99900/100000): loss=-913.4814004532573\n",
      "0.933333333333 0.68212\n"
     ]
    }
   ],
   "source": [
    "idxes = np.arange(300)\n",
    "# cols = np.array([ 3, 20, 22, 39])\n",
    "cols = np.arange(train_tX8.shape[1])\n",
    "L = np.linalg.eigvals(train_tX8[idxes][:, cols].T @ train_tX8[idxes][:, cols]).max()\n",
    "print(1/L)\n",
    "\n",
    "w = logistic_AGDR(train_y8[idxes], train_tX8[idxes][:, cols], gamma=1/L, \n",
    "                   max_iters = 100000, lambda_=0.0001, regularizor=regularizor_lasso)\n",
    "\n",
    "tr_acc, te_acc = prediction_and_accuracy(train_tX8[idxes][:, cols], train_y8[idxes], \n",
    "                                         cv_tX8[:, cols], cv_y8, w)\n",
    "print(tr_acc, te_acc)"
   ]
  },
  {
   "cell_type": "markdown",
   "metadata": {},
   "source": [
    "## "
   ]
  },
  {
   "cell_type": "code",
   "execution_count": 1126,
   "metadata": {
    "collapsed": false
   },
   "outputs": [
    {
     "data": {
      "text/plain": [
       "(25000, 149)"
      ]
     },
     "execution_count": 1126,
     "metadata": {},
     "output_type": "execute_result"
    }
   ],
   "source": [
    "# engineered_tX = \n",
    "no_missing_featuers = [i for i in range(30) if i not in missing_values]\n",
    "\n",
    "filled_tX           = fill_na(tX, np.median)\n",
    "log_tX              = logs_of_features(filled_tX, Features_with_outlier)\n",
    "decomposed_tX       = decompose_categorical_features(filled_tX)\n",
    "poly_tX             = build_polynomial_without_mixed_term(filled_tX[:, non_categorical], degree=5)\n",
    "\n",
    "tX8, mean_x, std_x = standardize(np.c_[poly_tX, log_tX])\n",
    "\n",
    "training_ratio = 0.9\n",
    "y8 = transform_y(y)\n",
    "train_tX8, cv_tX8, train_y8, cv_y8 = split_data(tX8, y8, training_ratio)\n",
    "cv_tX8.shape"
   ]
  },
  {
   "cell_type": "code",
   "execution_count": 1135,
   "metadata": {
    "collapsed": false
   },
   "outputs": [
    {
     "name": "stdout",
     "output_type": "stream",
     "text": [
      "6.02316980927e-06\n",
      "Losgistic Regression(0/100000): loss=42093.73794136925\n",
      "Losgistic Regression(100/100000): loss=5276.098018050719\n",
      "Losgistic Regression(200/100000): loss=4544.430018019927\n",
      "Losgistic Regression(300/100000): loss=4398.393022698131\n",
      "Losgistic Regression(400/100000): loss=4335.590978131491\n",
      "Losgistic Regression(500/100000): loss=4295.4604567826955\n",
      "Losgistic Regression(600/100000): loss=4253.764295775035\n",
      "Losgistic Regression(700/100000): loss=4220.572169570715\n",
      "Losgistic Regression(800/100000): loss=4188.1499211171185\n",
      "Losgistic Regression(900/100000): loss=4162.686750729248\n",
      "Losgistic Regression(1000/100000): loss=4150.683255933189\n",
      "Losgistic Regression(1100/100000): loss=4147.632724808571\n",
      "Losgistic Regression(1200/100000): loss=4147.885647637343\n",
      "Losgistic Regression(1300/100000): loss=4148.098606411034\n",
      "Losgistic Regression(1400/100000): loss=4148.27532452301\n",
      "Losgistic Regression(1500/100000): loss=4148.421051091622\n",
      "Losgistic Regression(1600/100000): loss=4148.541389458011\n",
      "Losgistic Regression(1700/100000): loss=4148.641432327882\n",
      "Losgistic Regression(1800/100000): loss=4148.725469979565\n",
      "Losgistic Regression(1900/100000): loss=4148.796984145812\n",
      "Losgistic Regression(2000/100000): loss=4148.858744791348\n",
      "Losgistic Regression(2100/100000): loss=4148.912930510838\n",
      "Losgistic Regression(2200/100000): loss=4148.961242472745\n",
      "Losgistic Regression(2300/100000): loss=4149.0050024722605\n",
      "Losgistic Regression(2400/100000): loss=4149.045233619678\n",
      "Totoal number of iterations =  2400\n",
      "Loss =  4149.04523362\n",
      "0.8191 0.80852\n"
     ]
    }
   ],
   "source": [
    "idxes = np.arange(10000)\n",
    "# cols = np.array([ 3, 20, 22, 39])\n",
    "cols = np.arange(train_tX8.shape[1])\n",
    "L = np.linalg.eigvals(train_tX8[idxes][:, cols].T @ train_tX8[idxes][:, cols]).max()\n",
    "print(1/L)\n",
    "\n",
    "w = logistic_AGDR(train_y8[idxes], train_tX8[idxes][:, cols], gamma=1/L, \n",
    "                   max_iters = 100000, lambda_=0.1, regularizor=regularizor_lasso)\n",
    "\n",
    "tr_acc, te_acc = prediction_and_accuracy(train_tX8[idxes][:, cols], train_y8[idxes], \n",
    "                                         cv_tX8[:, cols], cv_y8, w)\n",
    "print(tr_acc, te_acc)"
   ]
  },
  {
   "cell_type": "code",
   "execution_count": 1133,
   "metadata": {
    "collapsed": false
   },
   "outputs": [
    {
     "data": {
      "text/plain": [
       "array([ 7.00702259,  4.57459022,  3.72892952,  7.13106015,  4.95173598,\n",
       "        6.26408165,  3.19347592])"
      ]
     },
     "execution_count": 1133,
     "metadata": {},
     "output_type": "execute_result"
    }
   ],
   "source": [
    "w[abs(w>3)]"
   ]
  },
  {
   "cell_type": "markdown",
   "metadata": {},
   "source": [
    "## If we only use those features not missing"
   ]
  },
  {
   "cell_type": "markdown",
   "metadata": {},
   "source": [
    "It will lose important information"
   ]
  },
  {
   "cell_type": "code",
   "execution_count": 647,
   "metadata": {
    "collapsed": false
   },
   "outputs": [],
   "source": [
    "no_missing_featuers = [i for i in range(30) if i not in columns_with_missing_values]"
   ]
  },
  {
   "cell_type": "code",
   "execution_count": 648,
   "metadata": {
    "collapsed": false
   },
   "outputs": [
    {
     "data": {
      "text/plain": [
       "(250000, 58)"
      ]
     },
     "execution_count": 648,
     "metadata": {},
     "output_type": "execute_result"
    }
   ],
   "source": [
    "tmp = build_polynomial_without_mixed_term(tX[:, no_missing_featuers], degree = 3)\n",
    "tX6, mean_x6, std_x6 = standardize(tmp)\n",
    "y6 = transform_y(y)\n",
    "tX6.shape"
   ]
  },
  {
   "cell_type": "code",
   "execution_count": 649,
   "metadata": {
    "collapsed": false
   },
   "outputs": [
    {
     "data": {
      "text/plain": [
       "(25000, 58)"
      ]
     },
     "execution_count": 649,
     "metadata": {},
     "output_type": "execute_result"
    }
   ],
   "source": [
    "training_ratio = 0.9\n",
    "train_tX6, cv_tX6, train_y6, cv_y6 = split_data(tX6, y6, training_ratio)\n",
    "cv_tX6.shape"
   ]
  },
  {
   "cell_type": "code",
   "execution_count": 652,
   "metadata": {
    "collapsed": false,
    "scrolled": false
   },
   "outputs": [
    {
     "name": "stdout",
     "output_type": "stream",
     "text": [
      "9.5626812771e-05\n",
      "Losgistic Regression(0/10000): loss=56635.91876811694\n",
      "Losgistic Regression(1000/10000): loss=-70010.60927836965\n",
      "Losgistic Regression(2000/10000): loss=-85440.47538549885\n",
      "Losgistic Regression(3000/10000): loss=-94429.26704526579\n",
      "Losgistic Regression(4000/10000): loss=-100765.83908769637\n",
      "Losgistic Regression(5000/10000): loss=-105695.19605704182\n",
      "Losgistic Regression(6000/10000): loss=-109808.0258851113\n",
      "Losgistic Regression(7000/10000): loss=-113411.64391236744\n",
      "Losgistic Regression(8000/10000): loss=-116671.54858691993\n",
      "Losgistic Regression(9000/10000): loss=-119669.28184539902\n",
      "0.798 0.76268\n"
     ]
    }
   ],
   "source": [
    "idxes = np.arange(5000)\n",
    "L = np.linalg.eigvals(train_tX6[idxes].T @ train_tX6[idxes]).max()\n",
    "print(1/L)\n",
    "\n",
    "w, losses = reg_logistic_regression_GD(train_y6[idxes], train_tX6[idxes], gamma=1/L, \n",
    "                   max_iters = 100000, lambda_=0.0001, regularizor=regularizor_lasso)\n",
    "\n",
    "tr_acc, te_acc = prediction_and_accuracy(train_tX6[idxes], train_y6[idxes], cv_tX6, cv_y6, w)\n",
    "print(tr_acc, te_acc)"
   ]
  },
  {
   "cell_type": "code",
   "execution_count": 1012,
   "metadata": {
    "collapsed": false
   },
   "outputs": [
    {
     "data": {
      "image/png": "[encoded data removed]",
      "text/plain": [
       "<matplotlib.figure.Figure at 0x1abce1f28>"
      ]
     },
     "metadata": {},
     "output_type": "display_data"
    },
    {
     "data": {
      "image/png": "[encoded data removed]",
      "text/plain": [
       "<matplotlib.figure.Figure at 0x108d86e80>"
      ]
     },
     "metadata": {},
     "output_type": "display_data"
    },
    {
     "data": {
      "image/png": "[encoded data removed]",
      "text/plain": [
       "<matplotlib.figure.Figure at 0x11ce67e10>"
      ]
     },
     "metadata": {},
     "output_type": "display_data"
    },
    {
     "data": {
      "image/png": "[encoded data removed]",
      "text/plain": [
       "<matplotlib.figure.Figure at 0x1086ab860>"
      ]
     },
     "metadata": {},
     "output_type": "display_data"
    },
    {
     "data": {
      "image/png": "[encoded data removed]",
      "text/plain": [
       "<matplotlib.figure.Figure at 0x10a240eb8>"
      ]
     },
     "metadata": {},
     "output_type": "display_data"
    },
    {
     "data": {
      "image/png": "[encoded data removed]",
      "text/plain": [
       "<matplotlib.figure.Figure at 0x1090f8cf8>"
      ]
     },
     "metadata": {},
     "output_type": "display_data"
    }
   ],
   "source": [
    "for i in Suffering_from_outlier:\n",
    "    plt.hist(np.log(non_missing_tX[:, i]+1e-8),bins=100)\n",
    "    plt.show()"
   ]
  },
  {
   "cell_type": "code",
   "execution_count": 963,
   "metadata": {
    "collapsed": false
   },
   "outputs": [
    {
     "data": {
      "image/png": "[encoded data removed]",
      "text/plain": [
       "<matplotlib.figure.Figure at 0x1085ba9e8>"
      ]
     },
     "metadata": {},
     "output_type": "display_data"
    }
   ],
   "source": [
    "n = 28\n",
    "plt.hist(tX[tX[:, n] != -999, n],bins=100)\n",
    "plt.show()"
   ]
  },
  {
   "cell_type": "markdown",
   "metadata": {},
   "source": [
    "#### Expand features to reduce bias"
   ]
  },
  {
   "cell_type": "code",
   "execution_count": 133,
   "metadata": {
    "collapsed": false
   },
   "outputs": [
    {
     "data": {
      "text/plain": [
       "array([[  0,   1,   0,   1,   0,   1],\n",
       "       [  2,   3,   4,   9,   8,  27],\n",
       "       [  4,   5,  16,  25,  64, 125],\n",
       "       [  6,   7,  36,  49, 216, 343],\n",
       "       [  8,   9,  64,  81, 512, 729]])"
      ]
     },
     "execution_count": 133,
     "metadata": {},
     "output_type": "execute_result"
    }
   ],
   "source": [
    "def build_polynomial_without_mixed_term(tx, degree=2):\n",
    "    n = tx.shape[0]\n",
    "    tmp = tx\n",
    "    for i in range(2, degree+1):\n",
    "        tmp = np.c_[tmp, tx**i]\n",
    "    # The function standardize will add a column of 1s in the first column\n",
    "    return tmp\n",
    "\n",
    "build_polynomial_without_mixed_term(np.arange(10).reshape(5,2), 3)"
   ]
  },
  {
   "cell_type": "markdown",
   "metadata": {},
   "source": [
    "## Classifier 1\n",
    "\n",
    "specifications\n",
    "    - polynomial of degree 2\n",
    "    - didin't apply log to some features\n",
    "    - validation (not cross validation)"
   ]
  },
  {
   "cell_type": "markdown",
   "metadata": {},
   "source": [
    "fill -999 with mean/median/..."
   ]
  },
  {
   "cell_type": "code",
   "execution_count": 119,
   "metadata": {
    "collapsed": false
   },
   "outputs": [
    {
     "data": {
      "text/plain": [
       "[0, 1, 2, 3, 4, 5, 7, 8, 9, 10, 12, 13, 16, 19, 21, 22, 23, 26, 29]"
      ]
     },
     "execution_count": 119,
     "metadata": {},
     "output_type": "execute_result"
    }
   ],
   "source": [
    "filled_tX = fill_na()\n",
    "\n",
    "columns_non_negative = []\n",
    "for i in range(n_total_features):\n",
    "    if len(filled_tX[filled_tX[:, i] < 0, i]) == 0:\n",
    "        columns_non_negative.append(i)\n",
    "\n",
    "columns_non_negative"
   ]
  },
  {
   "cell_type": "markdown",
   "metadata": {},
   "source": [
    "Here is the data used for interactive data analysis."
   ]
  },
  {
   "cell_type": "code",
   "execution_count": 122,
   "metadata": {
    "collapsed": false
   },
   "outputs": [
    {
     "data": {
      "image/png": "[encoded data removed]",
      "text/plain": [
       "<matplotlib.figure.Figure at 0x105f6fa20>"
      ]
     },
     "metadata": {},
     "output_type": "display_data"
    }
   ],
   "source": [
    "interactive(lambda x:plot_hist(filled_tX, x), x=IntSlider(value=1, min=0, max=n_total_features-1))"
   ]
  },
  {
   "cell_type": "code",
   "execution_count": 117,
   "metadata": {
    "collapsed": false,
    "scrolled": true
   },
   "outputs": [],
   "source": [
    "# some of the data is not allowed to perform log\n",
    "def plot_function(idx):\n",
    "    if idx in columns_non_negative:\n",
    "        plot_hist(filled_tX, idx, lambda y: np.log(y+1e-6))\n",
    "    else:\n",
    "        pass\n",
    "    \n",
    "interactive(plot_function, idx=IntSlider(value=1, min=0, max=n_total_features-1))"
   ]
  },
  {
   "cell_type": "markdown",
   "metadata": {},
   "source": [
    "#### standardize the columns"
   ]
  },
  {
   "cell_type": "code",
   "execution_count": 136,
   "metadata": {
    "collapsed": false
   },
   "outputs": [
    {
     "data": {
      "text/plain": [
       "(250000, 61)"
      ]
     },
     "execution_count": 136,
     "metadata": {},
     "output_type": "execute_result"
    }
   ],
   "source": [
    "tmp = build_polynomial_without_mixed_term(filled_tX, degree = 2)\n",
    "## We can take logs of each column Here *******************************\n",
    "tX1, mean_x1, std_x1 = standardize(tmp)\n",
    "y1 = transform_y(y)\n",
    "tX1.shape"
   ]
  },
  {
   "cell_type": "markdown",
   "metadata": {},
   "source": [
    "### sepearte training sets and cross validation sets and Predict w"
   ]
  },
  {
   "cell_type": "code",
   "execution_count": 546,
   "metadata": {
    "collapsed": false
   },
   "outputs": [
    {
     "data": {
      "text/plain": [
       "(25000, 61)"
      ]
     },
     "execution_count": 546,
     "metadata": {},
     "output_type": "execute_result"
    }
   ],
   "source": [
    "training_ratio = 0.9\n",
    "train_tX1, cv_tX1, train_y1, cv_y1 = split_data(tX1, y1, training_ratio)\n",
    "cv_tX1.shape"
   ]
  },
  {
   "cell_type": "code",
   "execution_count": 547,
   "metadata": {
    "collapsed": false
   },
   "outputs": [],
   "source": [
    "plot_info = np.array(info)\n",
    "sizes = plot_info[:, 2]\n",
    "tr_error = plot_info[:, 0]\n",
    "te_error = plot_info[:, 1]"
   ]
  },
  {
   "cell_type": "code",
   "execution_count": 548,
   "metadata": {
    "collapsed": false
   },
   "outputs": [
    {
     "data": {
      "image/png": "[encoded data removed]",
      "text/plain": [
       "<matplotlib.figure.Figure at 0x1244c95f8>"
      ]
     },
     "metadata": {},
     "output_type": "display_data"
    }
   ],
   "source": [
    "plt.plot(sizes, tr_error, 'r*-', sizes, te_error, 'b-')\n",
    "plt.show()"
   ]
  },
  {
   "cell_type": "markdown",
   "metadata": {},
   "source": [
    "## For how large the size, we can train it very accurately"
   ]
  },
  {
   "cell_type": "markdown",
   "metadata": {},
   "source": [
    "gamma=0.1\n",
    "lambda=0.01\n",
    "\n",
    "|training size|iteration| acc train| acc test|\n",
    "|:--:|:---:|:---:|\n",
    "|100|1000| 0.98|0.70|\n",
    "|150|1000|0.88|0.7|\n",
    "|150|5000|0.93|0.71|\n",
    "|150|10000|0.96|0.72464|\n",
    "|150|20000|0.947|0.707|\n",
    "|150|20000|0.953333333333| 0.70664|\n",
    "|200|10000|0.885| 0.70876|\n",
    "|10000|1000|0.6934| 0.69128|\n",
    "\n",
    "we can see that with the grow of training size, the same classifier performs bad on traing set very quickly. For the same training sets, the grows of iterations can improve training performance, but can hardly influence test error.\n",
    "\n",
    "Our model suffers from bias."
   ]
  },
  {
   "cell_type": "code",
   "execution_count": 554,
   "metadata": {
    "collapsed": false
   },
   "outputs": [
    {
     "name": "stdout",
     "output_type": "stream",
     "text": [
      "Losgistic Regression(0/2000): loss=-4257.306958500683\n",
      "Losgistic Regression(1000/2000): loss=-16823.984342794996\n",
      "0.845 0.73416\n"
     ]
    }
   ],
   "source": [
    "idxes = np.arange(200)\n",
    "w, losses = reg_logistic_regression_GD(train_y1[idxes], train_tX1[idxes], gamma=0.001, \n",
    "                       max_iters = 2000, lambda_=0, regularizor=regularizor_lasso)\n",
    "\n",
    "tr_acc, te_acc = prediction_and_accuracy(train_tX1[idxes], train_y1[idxes], cv_tX1, cv_y1, w)\n",
    "print(tr_acc, te_acc)"
   ]
  },
  {
   "cell_type": "markdown",
   "metadata": {},
   "source": [
    "We see that the (original) feature 2, 4, 15, 18 has small feature in in it self, but their square can be large"
   ]
  },
  {
   "cell_type": "markdown",
   "metadata": {},
   "source": [
    "# Classfier 2: Higher Order Polynomial"
   ]
  },
  {
   "cell_type": "code",
   "execution_count": 356,
   "metadata": {
    "collapsed": false
   },
   "outputs": [
    {
     "data": {
      "text/plain": [
       "[0, 1, 2, 3, 4, 5, 7, 8, 9, 10, 12, 13, 16, 19, 21, 22, 23, 26, 29]"
      ]
     },
     "execution_count": 356,
     "metadata": {},
     "output_type": "execute_result"
    }
   ],
   "source": [
    "filled_tX = fill_na()\n",
    "\n",
    "columns_non_negative = []\n",
    "for i in range(n_total_features):\n",
    "    if len(filled_tX[filled_tX[:, i] < 0, i]) == 0:\n",
    "        columns_non_negative.append(i)\n",
    "\n",
    "columns_non_negative"
   ]
  },
  {
   "cell_type": "markdown",
   "metadata": {},
   "source": [
    "#### standardize the columns"
   ]
  },
  {
   "cell_type": "code",
   "execution_count": 253,
   "metadata": {
    "collapsed": false
   },
   "outputs": [
    {
     "data": {
      "text/plain": [
       "(250000, 91)"
      ]
     },
     "execution_count": 253,
     "metadata": {},
     "output_type": "execute_result"
    }
   ],
   "source": [
    "tmp = build_polynomial_without_mixed_term(filled_tX, degree = 3)\n",
    "## We can take logs of each column Here *******************************\n",
    "tX2, mean_x2, std_x2 = standardize(tmp)\n",
    "y2 = transform_y(y)\n",
    "tX2.shape"
   ]
  },
  {
   "cell_type": "markdown",
   "metadata": {},
   "source": [
    "### sepearte training sets and cross validation sets and Predict w"
   ]
  },
  {
   "cell_type": "code",
   "execution_count": 260,
   "metadata": {
    "collapsed": false
   },
   "outputs": [
    {
     "data": {
      "text/plain": [
       "(25000, 91)"
      ]
     },
     "execution_count": 260,
     "metadata": {},
     "output_type": "execute_result"
    }
   ],
   "source": [
    "training_ratio = 0.9\n",
    "train_tX2, cv_tX2, train_y2, cv_y2 = split_data(tX2, y2, training_ratio)\n",
    "cv_tX2.shape"
   ]
  },
  {
   "cell_type": "code",
   "execution_count": 357,
   "metadata": {
    "collapsed": false,
    "scrolled": true
   },
   "outputs": [
    {
     "name": "stdout",
     "output_type": "stream",
     "text": [
      "1.31858812606e-05\n",
      "Losgistic Regression(0/100000): loss=-1576381.4131746194\n",
      "Losgistic Regression(1000/100000): loss=-2609588.730715125\n",
      "Losgistic Regression(2000/100000): loss=-3167813.2138219867\n",
      "Losgistic Regression(3000/100000): loss=-3472116.763273852\n",
      "Losgistic Regression(4000/100000): loss=-3685713.505443715\n",
      "Losgistic Regression(5000/100000): loss=-3849144.4587358832\n",
      "Losgistic Regression(6000/100000): loss=-3981252.780542511\n",
      "Losgistic Regression(7000/100000): loss=-4091986.6941092336\n",
      "Losgistic Regression(8000/100000): loss=-4187103.3739277883\n",
      "Losgistic Regression(9000/100000): loss=-4270247.950210498\n",
      "Losgistic Regression(10000/100000): loss=-4343888.490349865\n",
      "Losgistic Regression(11000/100000): loss=-4409771.966527175\n",
      "Losgistic Regression(12000/100000): loss=-4469173.647771348\n",
      "Losgistic Regression(13000/100000): loss=-4523053.768381426\n",
      "Losgistic Regression(14000/100000): loss=-4572165.075756724\n",
      "Losgistic Regression(15000/100000): loss=-4617120.198719306\n",
      "Losgistic Regression(16000/100000): loss=-4658431.460440949\n",
      "Losgistic Regression(17000/100000): loss=-4696533.776438372\n",
      "Losgistic Regression(18000/100000): loss=-4731798.785862885\n",
      "Losgistic Regression(19000/100000): loss=-4764546.182064939\n",
      "Losgistic Regression(20000/100000): loss=-4795051.625150841\n",
      "Losgistic Regression(21000/100000): loss=-4823553.743449943\n",
      "Losgistic Regression(22000/100000): loss=-4850259.862277383\n",
      "Losgistic Regression(23000/100000): loss=-4875350.531390548\n",
      "Losgistic Regression(24000/100000): loss=-4898983.454344895\n",
      "Losgistic Regression(25000/100000): loss=-4921297.340273586\n",
      "Losgistic Regression(26000/100000): loss=-4942413.462051473\n",
      "Losgistic Regression(27000/100000): loss=-4962438.986907133\n",
      "Losgistic Regression(28000/100000): loss=-4981468.558170063\n",
      "Losgistic Regression(29000/100000): loss=-4999585.841008508\n",
      "Losgistic Regression(30000/100000): loss=-5016864.965058875\n",
      "Losgistic Regression(31000/100000): loss=-5033371.745346901\n",
      "Losgistic Regression(32000/100000): loss=-5049164.741337445\n",
      "Losgistic Regression(33000/100000): loss=-5064296.186086943\n",
      "Losgistic Regression(34000/100000): loss=-5078812.804623643\n",
      "Losgistic Regression(35000/100000): loss=-5092756.393514927\n",
      "Losgistic Regression(36000/100000): loss=-5106165.058016837\n",
      "Losgistic Regression(37000/100000): loss=-5119072.781526758\n",
      "Losgistic Regression(38000/100000): loss=-5131511.020404617\n",
      "Losgistic Regression(39000/100000): loss=-5143507.664347334\n",
      "Losgistic Regression(40000/100000): loss=-5155088.63508416\n",
      "Losgistic Regression(41000/100000): loss=-5166277.743503345\n",
      "Losgistic Regression(42000/100000): loss=-5177096.9263597075\n",
      "Losgistic Regression(43000/100000): loss=-5187566.4487711685\n",
      "Losgistic Regression(44000/100000): loss=-5197705.050099795\n",
      "Losgistic Regression(45000/100000): loss=-5207530.119119958\n",
      "Losgistic Regression(46000/100000): loss=-5217057.79366191\n",
      "Losgistic Regression(47000/100000): loss=-5226303.074583019\n",
      "Losgistic Regression(48000/100000): loss=-5235279.921821131\n",
      "Losgistic Regression(49000/100000): loss=-5244001.340726925\n",
      "Losgistic Regression(50000/100000): loss=-5252479.46022717\n",
      "Losgistic Regression(51000/100000): loss=-5260725.603928999\n",
      "Losgistic Regression(52000/100000): loss=-5268750.354984655\n",
      "Losgistic Regression(53000/100000): loss=-5276563.615347583\n",
      "Losgistic Regression(54000/100000): loss=-5284174.659932345\n",
      "Losgistic Regression(55000/100000): loss=-5291592.18611666\n",
      "Losgistic Regression(56000/100000): loss=-5298824.358974835\n",
      "Losgistic Regression(57000/100000): loss=-5305878.852597846\n",
      "Losgistic Regression(58000/100000): loss=-5312762.887828574\n",
      "Losgistic Regression(59000/100000): loss=-5319483.252422188\n",
      "Losgistic Regression(60000/100000): loss=-5326046.3873747615\n",
      "Losgistic Regression(61000/100000): loss=-5332458.353504039\n",
      "Losgistic Regression(62000/100000): loss=-5338724.852569162\n",
      "Losgistic Regression(63000/100000): loss=-5344851.300808033\n",
      "Losgistic Regression(64000/100000): loss=-5350842.828958583\n",
      "Losgistic Regression(65000/100000): loss=-5356704.300721952\n",
      "Losgistic Regression(66000/100000): loss=-5362440.331261646\n",
      "Losgistic Regression(67000/100000): loss=-5368055.304237758\n",
      "Losgistic Regression(68000/100000): loss=-5373553.387373273\n",
      "Losgistic Regression(69000/100000): loss=-5378938.546697936\n",
      "Losgistic Regression(70000/100000): loss=-5384214.559610502\n",
      "Losgistic Regression(71000/100000): loss=-5389385.026880057\n",
      "Losgistic Regression(72000/100000): loss=-5394453.383690101\n",
      "Losgistic Regression(73000/100000): loss=-5399422.909817011\n",
      "Losgistic Regression(74000/100000): loss=-5404296.739022105\n",
      "Losgistic Regression(75000/100000): loss=-5409077.867729876\n",
      "Losgistic Regression(76000/100000): loss=-5413769.163055664\n",
      "Losgistic Regression(77000/100000): loss=-5418373.370240863\n",
      "Losgistic Regression(78000/100000): loss=-5422893.119547225\n",
      "Losgistic Regression(79000/100000): loss=-5427330.9326570975\n",
      "Losgistic Regression(80000/100000): loss=-5431689.228621795\n",
      "Losgistic Regression(81000/100000): loss=-5435970.329396363\n",
      "Losgistic Regression(82000/100000): loss=-5440176.464994871\n",
      "Losgistic Regression(83000/100000): loss=-5444309.778297924\n",
      "Losgistic Regression(84000/100000): loss=-5448372.329540389\n",
      "Losgistic Regression(85000/100000): loss=-5452366.100504982\n",
      "Losgistic Regression(86000/100000): loss=-5456293.185446158\n",
      "Losgistic Regression(87000/100000): loss=-5460155.1175794825\n",
      "Losgistic Regression(88000/100000): loss=-5463953.779596244\n",
      "Losgistic Regression(89000/100000): loss=-5467690.875100382\n",
      "Losgistic Regression(90000/100000): loss=-5471368.045793549\n",
      "Losgistic Regression(91000/100000): loss=-5474986.876479005\n",
      "Losgistic Regression(92000/100000): loss=-5478548.896940535\n",
      "Losgistic Regression(93000/100000): loss=-5482055.584147429\n",
      "Losgistic Regression(94000/100000): loss=-5485508.364485841\n",
      "Losgistic Regression(95000/100000): loss=-5488908.615921628\n",
      "Losgistic Regression(96000/100000): loss=-5492257.670073381\n",
      "Losgistic Regression(97000/100000): loss=-5495556.814190101\n",
      "Losgistic Regression(98000/100000): loss=-5498807.293032587\n",
      "Losgistic Regression(99000/100000): loss=-5502010.310660532\n",
      "0.8172 0.80656\n"
     ]
    }
   ],
   "source": [
    "idxes = np.arange(5000)\n",
    "L=np.linalg.eigvals(train_tX2[idxes].T @ train_tX2[idxes]).max()\n",
    "print(1/L)\n",
    "w, losses = reg_logistic_regression_GD(train_y2[idxes], train_tX2[idxes], gamma=1/L, \n",
    "                       max_iters = 100000, lambda_=0.0001, regularizor=regularizor_lasso)\n",
    "\n",
    "tr_acc, te_acc = prediction_and_accuracy(train_tX2[idxes], train_y2[idxes], cv_tX2, cv_y2, w)\n",
    "print(tr_acc, te_acc)"
   ]
  },
  {
   "cell_type": "code",
   "execution_count": 364,
   "metadata": {
    "collapsed": false,
    "scrolled": true
   },
   "outputs": [
    {
     "name": "stdout",
     "output_type": "stream",
     "text": [
      "6.6932772662e-06\n",
      "Losgistic Regression(0/100000): loss=434457.21842224855\n",
      "Losgistic Regression(1000/100000): loss=-10234622.776920963\n",
      "Losgistic Regression(2000/100000): loss=-12230873.927219868\n",
      "Losgistic Regression(3000/100000): loss=-13370184.385959959\n",
      "Losgistic Regression(4000/100000): loss=-14177368.686676051\n",
      "Losgistic Regression(5000/100000): loss=-14804224.395295477\n",
      "Losgistic Regression(6000/100000): loss=-15313039.706620015\n",
      "Losgistic Regression(7000/100000): loss=-15737437.263241317\n",
      "Losgistic Regression(8000/100000): loss=-16098504.39866479\n",
      "Losgistic Regression(9000/100000): loss=-16410311.024095053\n",
      "Losgistic Regression(10000/100000): loss=-16682700.350381702\n",
      "Losgistic Regression(11000/100000): loss=-16922849.827691004\n",
      "Losgistic Regression(12000/100000): loss=-17136175.98913687\n",
      "Losgistic Regression(13000/100000): loss=-17326879.368117437\n",
      "Losgistic Regression(14000/100000): loss=-17498293.407778494\n",
      "Losgistic Regression(15000/100000): loss=-17653107.48084559\n",
      "Losgistic Regression(16000/100000): loss=-17793529.65548029\n",
      "Losgistic Regression(17000/100000): loss=-17921393.395987857\n",
      "Losgistic Regression(18000/100000): loss=-18038237.25761377\n",
      "Losgistic Regression(19000/100000): loss=-18145364.019332215\n",
      "Losgistic Regression(20000/100000): loss=-18243884.099737927\n",
      "Losgistic Regression(21000/100000): loss=-18334751.18453073\n",
      "Losgistic Regression(22000/100000): loss=-18418786.030906536\n",
      "Losgistic Regression(23000/100000): loss=-18496700.57322757\n",
      "Losgistic Regression(24000/100000): loss=-18569113.75459297\n",
      "Losgistic Regression(25000/100000): loss=-18636565.985747747\n",
      "Losgistic Regression(26000/100000): loss=-18699530.91251867\n",
      "Losgistic Regression(27000/100000): loss=-18758425.16131391\n",
      "Losgistic Regression(28000/100000): loss=-18813617.131521203\n",
      "Losgistic Regression(29000/100000): loss=-18865433.07428224\n",
      "Losgistic Regression(30000/100000): loss=-18914163.557746664\n",
      "Losgistic Regression(31000/100000): loss=-18960068.0583519\n",
      "Losgistic Regression(32000/100000): loss=-19003378.944174524\n",
      "Losgistic Regression(33000/100000): loss=-19044304.78913666\n",
      "Losgistic Regression(34000/100000): loss=-19083033.163536843\n",
      "Losgistic Regression(35000/100000): loss=-19119733.020641763\n",
      "Losgistic Regression(36000/100000): loss=-19154556.770490967\n",
      "Losgistic Regression(37000/100000): loss=-19187642.10459073\n",
      "Losgistic Regression(38000/100000): loss=-19219113.613513943\n",
      "Losgistic Regression(39000/100000): loss=-19249083.985745035\n",
      "Losgistic Regression(40000/100000): loss=-19277656.17267111\n",
      "Losgistic Regression(41000/100000): loss=-19304923.26221315\n",
      "Losgistic Regression(42000/100000): loss=-19330970.35926909\n",
      "Losgistic Regression(43000/100000): loss=-19355875.180184305\n",
      "Losgistic Regression(44000/100000): loss=-19379708.859251298\n",
      "Losgistic Regression(45000/100000): loss=-19402536.647963177\n",
      "Losgistic Regression(46000/100000): loss=-19424418.52547581\n",
      "Losgistic Regression(47000/100000): loss=-19445409.734691165\n",
      "Losgistic Regression(48000/100000): loss=-19465561.254464686\n",
      "Losgistic Regression(49000/100000): loss=-19484920.21633419\n",
      "Losgistic Regression(50000/100000): loss=-19503530.27297856\n",
      "Losgistic Regression(51000/100000): loss=-19521431.924608763\n",
      "Losgistic Regression(52000/100000): loss=-19538662.808669314\n",
      "Losgistic Regression(53000/100000): loss=-19555257.95751001\n",
      "Losgistic Regression(54000/100000): loss=-19571250.028062366\n",
      "Losgistic Regression(55000/100000): loss=-19586669.621781625\n",
      "Losgistic Regression(56000/100000): loss=-19601544.96572731\n",
      "Losgistic Regression(57000/100000): loss=-19615902.92292718\n",
      "Losgistic Regression(58000/100000): loss=-19629768.48523869\n",
      "Losgistic Regression(59000/100000): loss=-19643165.110032324\n",
      "Losgistic Regression(60000/100000): loss=-19656115.52071395\n",
      "Losgistic Regression(61000/100000): loss=-19668639.440809503\n",
      "Losgistic Regression(62000/100000): loss=-19680756.558475815\n",
      "Losgistic Regression(63000/100000): loss=-19692485.377999134\n",
      "Losgistic Regression(64000/100000): loss=-19703843.2780626\n",
      "Losgistic Regression(65000/100000): loss=-19714846.658731826\n",
      "Losgistic Regression(66000/100000): loss=-19725511.017401554\n",
      "Losgistic Regression(67000/100000): loss=-19735851.0127058\n",
      "Losgistic Regression(68000/100000): loss=-19745880.52210366\n",
      "Losgistic Regression(69000/100000): loss=-19755612.69436495\n",
      "Losgistic Regression(70000/100000): loss=-19765059.997607972\n",
      "Losgistic Regression(71000/100000): loss=-19774234.26339828\n",
      "Losgistic Regression(72000/100000): loss=-19783146.727319214\n",
      "Losgistic Regression(73000/100000): loss=-19791808.066357877\n",
      "Losgistic Regression(74000/100000): loss=-19800228.433412656\n",
      "Losgistic Regression(75000/100000): loss=-19808417.489186414\n",
      "Losgistic Regression(76000/100000): loss=-19816384.43170213\n",
      "Losgistic Regression(77000/100000): loss=-19824138.023650773\n",
      "Losgistic Regression(78000/100000): loss=-19831686.617763985\n",
      "Losgistic Regression(79000/100000): loss=-19839038.180371005\n",
      "Losgistic Regression(80000/100000): loss=-19846200.40784303\n",
      "Losgistic Regression(81000/100000): loss=-19853180.31290167\n",
      "Losgistic Regression(82000/100000): loss=-19859985.01820347\n",
      "Losgistic Regression(83000/100000): loss=-19866621.119001914\n",
      "Losgistic Regression(84000/100000): loss=-19873094.94309165\n",
      "Losgistic Regression(85000/100000): loss=-19879412.547330413\n",
      "Losgistic Regression(86000/100000): loss=-19885579.728835315\n",
      "Losgistic Regression(87000/100000): loss=-19891602.03770426\n",
      "Losgistic Regression(88000/100000): loss=-19897484.78940485\n",
      "Losgistic Regression(89000/100000): loss=-19903233.07653867\n",
      "Losgistic Regression(90000/100000): loss=-19908851.77993583\n",
      "Losgistic Regression(91000/100000): loss=-19914345.57909794\n",
      "Losgistic Regression(92000/100000): loss=-19919718.96202289\n",
      "Losgistic Regression(93000/100000): loss=-19924976.2344513\n",
      "Losgistic Regression(94000/100000): loss=-19930121.528572276\n",
      "Losgistic Regression(95000/100000): loss=-19935158.811225545\n",
      "Losgistic Regression(96000/100000): loss=-19940091.891634226\n",
      "Losgistic Regression(97000/100000): loss=-19944924.428700306\n",
      "Losgistic Regression(98000/100000): loss=-19949659.93789192\n",
      "Losgistic Regression(99000/100000): loss=-19954301.79774978\n",
      "0.8108 0.8062\n"
     ]
    }
   ],
   "source": [
    "idxes = np.arange(10000)\n",
    "L=np.linalg.eigvals(train_tX2[idxes].T @ train_tX2[idxes]).max()\n",
    "print(1/L)\n",
    "w, losses = reg_logistic_regression_GD(train_y2[idxes], train_tX2[idxes], gamma=1/L, \n",
    "                       max_iters = 100000, lambda_=0.0001, regularizor=regularizor_lasso)\n",
    "\n",
    "tr_acc, te_acc = prediction_and_accuracy(train_tX2[idxes], train_y2[idxes], cv_tX2, cv_y2, w)\n",
    "print(tr_acc, te_acc)"
   ]
  },
  {
   "cell_type": "code",
   "execution_count": 330,
   "metadata": {
    "collapsed": false,
    "scrolled": true
   },
   "outputs": [
    {
     "data": {
      "text/plain": [
       "array([ 0,  7, 10, 13, 16,  0,  2,  8,  9, 13, 19,  0,  1,  3,  9, 13, 19,\n",
       "        0])"
      ]
     },
     "execution_count": 330,
     "metadata": {},
     "output_type": "execute_result"
    }
   ],
   "source": [
    "np.arange(91)[abs(w)>1]%30"
   ]
  },
  {
   "cell_type": "markdown",
   "metadata": {},
   "source": [
    "# Classifier 3"
   ]
  },
  {
   "cell_type": "code",
   "execution_count": 467,
   "metadata": {
    "collapsed": false
   },
   "outputs": [
    {
     "data": {
      "text/plain": [
       "array([[  0.00000000e+00,   1.00000000e+00,   0.00000000e+00,\n",
       "          1.00000000e+00,   9.99999500e-07,   9.99999000e-13,\n",
       "          9.99998500e-19],\n",
       "       [  2.00000000e+00,   3.00000000e+00,   4.00000000e+00,\n",
       "          9.00000000e+00,   1.09861262e+00,   1.20694969e+00,\n",
       "          1.32597017e+00],\n",
       "       [  4.00000000e+00,   5.00000000e+00,   1.60000000e+01,\n",
       "          2.50000000e+01,   1.60943811e+00,   2.59029104e+00,\n",
       "          4.16891312e+00],\n",
       "       [  6.00000000e+00,   7.00000000e+00,   3.60000000e+01,\n",
       "          4.90000000e+01,   1.94591029e+00,   3.78656686e+00,\n",
       "          7.36831943e+00],\n",
       "       [  8.00000000e+00,   9.00000000e+00,   6.40000000e+01,\n",
       "          8.10000000e+01,   2.19722469e+00,   4.82779633e+00,\n",
       "          1.06077533e+01]])"
      ]
     },
     "execution_count": 467,
     "metadata": {},
     "output_type": "execute_result"
    }
   ],
   "source": [
    "def build_polynomial_without_mixed_term_with_log(tx, log_cols, degree=2):\n",
    "    n = tx.shape[0]\n",
    "    tmp = tx\n",
    "    for i in range(2, degree+1):\n",
    "        tmp = np.c_[tmp, tx**i]\n",
    "        \n",
    "    tmp = np.c_[tmp, np.log(tx[:, log_cols] + 1e-6)]\n",
    "    tmp = np.c_[tmp, (np.log(tx[:, log_cols] + 1e-6))**2]\n",
    "    tmp = np.c_[tmp, (np.log(tx[:, log_cols] + 1e-6))**3]\n",
    "    return tmp\n",
    "\n",
    "build_polynomial_without_mixed_term_with_log(np.arange(10).reshape(5,2), [1], 2)"
   ]
  },
  {
   "cell_type": "code",
   "execution_count": 382,
   "metadata": {
    "collapsed": false
   },
   "outputs": [
    {
     "data": {
      "text/plain": [
       "(250000, 133)"
      ]
     },
     "execution_count": 382,
     "metadata": {},
     "output_type": "execute_result"
    }
   ],
   "source": [
    "tmp = build_polynomial_without_mixed_term_with_log(filled_tX, log_features, degree = 4)\n",
    "tX3, mean_x3, std_x3 = standardize(tmp)\n",
    "y3 = transform_y(y)\n",
    "tX3.shape"
   ]
  },
  {
   "cell_type": "code",
   "execution_count": 383,
   "metadata": {
    "collapsed": false
   },
   "outputs": [
    {
     "data": {
      "text/plain": [
       "(25000, 133)"
      ]
     },
     "execution_count": 383,
     "metadata": {},
     "output_type": "execute_result"
    }
   ],
   "source": [
    "training_ratio = 0.9\n",
    "train_tX3, cv_tX3, train_y3, cv_y3 = split_data(tX3, y3, training_ratio)\n",
    "cv_tX3.shape"
   ]
  },
  {
   "cell_type": "code",
   "execution_count": 394,
   "metadata": {
    "collapsed": false,
    "scrolled": true
   },
   "outputs": [
    {
     "name": "stdout",
     "output_type": "stream",
     "text": [
      "1.18430305201e-05\n",
      "Losgistic Regression(0/10000): loss=-2611163.012880917\n",
      "Losgistic Regression(1000/10000): loss=-3936990.4564067796\n",
      "Losgistic Regression(2000/10000): loss=-4313944.990193981\n",
      "Losgistic Regression(3000/10000): loss=-4530935.028052804\n",
      "Losgistic Regression(4000/10000): loss=-4686759.265161883\n",
      "Losgistic Regression(5000/10000): loss=-4806968.908878522\n",
      "Losgistic Regression(6000/10000): loss=-4904122.84751413\n",
      "Losgistic Regression(7000/10000): loss=-4985372.565744881\n",
      "Losgistic Regression(8000/10000): loss=-5055214.850281095\n",
      "Losgistic Regression(9000/10000): loss=-5116816.102477511\n",
      "0.813 0.80572\n"
     ]
    }
   ],
   "source": [
    "idxes = np.arange(5000)\n",
    "L=np.linalg.eigvals(train_tX3[idxes].T @ train_tX3[idxes]).max()\n",
    "print(1/L)\n",
    "w, losses = reg_logistic_regression_GD(train_y3[idxes], train_tX3[idxes], gamma=0.0001, \n",
    "                       max_iters = 10000, lambda_=0.00, regularizor=regularizor_ridge)\n",
    "\n",
    "tr_acc, te_acc = prediction_and_accuracy(train_tX3[idxes], train_y3[idxes], cv_tX3, cv_y3, w)\n",
    "print(tr_acc, te_acc)"
   ]
  },
  {
   "cell_type": "markdown",
   "metadata": {},
   "source": [
    "## For higher dimensions"
   ]
  },
  {
   "cell_type": "code",
   "execution_count": 399,
   "metadata": {
    "collapsed": false
   },
   "outputs": [
    {
     "data": {
      "text/plain": [
       "(250000, 115)"
      ]
     },
     "execution_count": 399,
     "metadata": {},
     "output_type": "execute_result"
    }
   ],
   "source": [
    "tmp = build_polynomial_without_mixed_term_with_log(filled_tX, log_features, degree = 3)\n",
    "tX4, mean_x4, std_x4 = standardize(tmp)\n",
    "y4 = transform_y(y)\n",
    "tX4.shape"
   ]
  },
  {
   "cell_type": "code",
   "execution_count": 400,
   "metadata": {
    "collapsed": false
   },
   "outputs": [
    {
     "data": {
      "text/plain": [
       "(25000, 115)"
      ]
     },
     "execution_count": 400,
     "metadata": {},
     "output_type": "execute_result"
    }
   ],
   "source": [
    "training_ratio = 0.9\n",
    "train_tX4, cv_tX4, train_y4, cv_y4 = split_data(tX4, y4, training_ratio)\n",
    "cv_tX4.shape"
   ]
  },
  {
   "cell_type": "code",
   "execution_count": 440,
   "metadata": {
    "collapsed": false,
    "scrolled": true
   },
   "outputs": [
    {
     "name": "stdout",
     "output_type": "stream",
     "text": [
      "0.00025368797602\n",
      "Losgistic Regression(0/10000): loss=-893711.0623600627\n",
      "Losgistic Regression(1000/10000): loss=-944014.4622320133\n",
      "Losgistic Regression(2000/10000): loss=-1033972.7961426789\n",
      "Losgistic Regression(3000/10000): loss=-1083628.4283881453\n",
      "Losgistic Regression(4000/10000): loss=-1114844.76407547\n",
      "Losgistic Regression(5000/10000): loss=-1136101.0571259223\n",
      "Losgistic Regression(6000/10000): loss=-1151420.8972547455\n",
      "Losgistic Regression(7000/10000): loss=-1162947.157179648\n",
      "Losgistic Regression(8000/10000): loss=-1171919.5317238276\n",
      "Losgistic Regression(9000/10000): loss=-1179101.937071516\n",
      "0.83 0.80236\n",
      "Losgistic Regression(0/10000): loss=-888225.356995657\n",
      "Losgistic Regression(1000/10000): loss=-914899.2770507383\n",
      "Losgistic Regression(2000/10000): loss=-951666.3112675188\n",
      "Losgistic Regression(3000/10000): loss=-972020.5028958153\n",
      "Losgistic Regression(4000/10000): loss=-986281.9179660012\n",
      "Losgistic Regression(5000/10000): loss=-997211.5103137465\n",
      "Losgistic Regression(6000/10000): loss=-1006039.1417347568\n",
      "Losgistic Regression(7000/10000): loss=-1013453.2140185822\n",
      "Losgistic Regression(8000/10000): loss=-1019863.7194260703\n",
      "Losgistic Regression(9000/10000): loss=-1025526.9867476765\n",
      "0.8255 0.79928\n",
      "Losgistic Regression(0/10000): loss=-187414.56318102175\n",
      "Losgistic Regression(1000/10000): loss=-910476.2669747613\n",
      "Losgistic Regression(2000/10000): loss=-996468.4181271823\n",
      "Losgistic Regression(3000/10000): loss=-1026000.330118845\n",
      "Losgistic Regression(4000/10000): loss=-1043636.8692616977\n",
      "Losgistic Regression(5000/10000): loss=-1056548.6702058925\n",
      "Losgistic Regression(6000/10000): loss=-1067113.3076216786\n",
      "Losgistic Regression(7000/10000): loss=-1076316.6124512162\n",
      "Losgistic Regression(8000/10000): loss=-1084619.7870569746\n",
      "Losgistic Regression(9000/10000): loss=-1092261.81118189\n",
      "0.8165 0.79644\n",
      "Losgistic Regression(0/10000): loss=-842663.2328824318\n",
      "Losgistic Regression(1000/10000): loss=-1047295.7661965976\n",
      "Losgistic Regression(2000/10000): loss=-1079830.0264446877\n",
      "Losgistic Regression(3000/10000): loss=-1097823.3417883508\n",
      "Losgistic Regression(4000/10000): loss=-1109819.1619287694\n",
      "Losgistic Regression(5000/10000): loss=-1118843.2123723465\n",
      "Losgistic Regression(6000/10000): loss=-1126232.0238309514\n",
      "Losgistic Regression(7000/10000): loss=-1132621.3044755156\n",
      "Losgistic Regression(8000/10000): loss=-1138341.6483244142\n",
      "Losgistic Regression(9000/10000): loss=-1143581.6129379468\n",
      "0.8255 0.79868\n",
      "Losgistic Regression(0/10000): loss=-1117242.3208371364\n",
      "Losgistic Regression(1000/10000): loss=-1098595.7163759307\n",
      "Losgistic Regression(2000/10000): loss=-1125809.8024460913\n",
      "Losgistic Regression(3000/10000): loss=-1145343.612964509\n",
      "Losgistic Regression(4000/10000): loss=-1161280.2159424936\n",
      "Losgistic Regression(5000/10000): loss=-1174947.0665290602\n",
      "Losgistic Regression(6000/10000): loss=-1186946.4629059574\n",
      "Losgistic Regression(7000/10000): loss=-1197634.9089258444\n",
      "Losgistic Regression(8000/10000): loss=-1207261.5873182365\n",
      "Losgistic Regression(9000/10000): loss=-1216015.444156253\n",
      "0.831 0.80144\n",
      "Losgistic Regression(0/10000): loss=-643959.0156982732\n",
      "Losgistic Regression(1000/10000): loss=-848835.6779847938\n",
      "Losgistic Regression(2000/10000): loss=-855704.3382310825\n",
      "Losgistic Regression(3000/10000): loss=-851982.8594892009\n",
      "Losgistic Regression(4000/10000): loss=-863694.2728537429\n",
      "Losgistic Regression(5000/10000): loss=-871568.5971944006\n",
      "Losgistic Regression(6000/10000): loss=-876234.9026945467\n",
      "Losgistic Regression(7000/10000): loss=-879035.2786650405\n",
      "Losgistic Regression(8000/10000): loss=-880842.3302220242\n",
      "Losgistic Regression(9000/10000): loss=-882136.956801291\n",
      "0.8355 0.79776\n",
      "Losgistic Regression(0/10000): loss=-611656.6876125119\n",
      "Losgistic Regression(1000/10000): loss=-942485.5925478501\n",
      "Losgistic Regression(2000/10000): loss=-949216.2162596553\n",
      "Losgistic Regression(3000/10000): loss=-959263.9295640655\n",
      "Losgistic Regression(4000/10000): loss=-969699.1326666051\n",
      "Losgistic Regression(5000/10000): loss=-979632.7007027564\n",
      "Losgistic Regression(6000/10000): loss=-988748.808773844\n",
      "Losgistic Regression(7000/10000): loss=-997175.1088148319\n",
      "Losgistic Regression(8000/10000): loss=-1005486.9257729569\n",
      "Losgistic Regression(9000/10000): loss=-1013761.0200689401\n",
      "0.8275 0.79768\n",
      "Losgistic Regression(0/10000): loss=-1140339.7282607036\n",
      "Losgistic Regression(1000/10000): loss=-1369592.4545054086\n",
      "Losgistic Regression(2000/10000): loss=-1369830.5020148335\n",
      "Losgistic Regression(3000/10000): loss=-1373978.547302951\n",
      "Losgistic Regression(4000/10000): loss=-1380831.6398379337\n",
      "Losgistic Regression(5000/10000): loss=-1388917.1492501264\n",
      "Losgistic Regression(6000/10000): loss=-1397399.8462677891\n",
      "Losgistic Regression(7000/10000): loss=-1405842.2714541412\n",
      "Losgistic Regression(8000/10000): loss=-1414019.987908485\n",
      "Losgistic Regression(9000/10000): loss=-1421820.6718661443\n",
      "0.837 0.80384\n",
      "Losgistic Regression(0/10000): loss=-852138.2869366638\n",
      "Losgistic Regression(1000/10000): loss=-1140690.0437953426\n",
      "Losgistic Regression(2000/10000): loss=-1165826.4970581883\n",
      "Losgistic Regression(3000/10000): loss=-1181301.0602005483\n",
      "Losgistic Regression(4000/10000): loss=-1191602.564569472\n",
      "Losgistic Regression(5000/10000): loss=-1201917.7019693856\n",
      "Losgistic Regression(6000/10000): loss=-1209903.2126902395\n",
      "Losgistic Regression(7000/10000): loss=-1215820.7919976818\n",
      "Losgistic Regression(8000/10000): loss=-1220097.5045952047\n",
      "Losgistic Regression(9000/10000): loss=-1222974.4896819138\n",
      "0.843 0.7962\n",
      "Losgistic Regression(0/10000): loss=-901449.4085884681\n",
      "Losgistic Regression(1000/10000): loss=-849347.3003788169\n",
      "Losgistic Regression(2000/10000): loss=-850472.9386638028\n",
      "Losgistic Regression(3000/10000): loss=-853298.5861760261\n",
      "Losgistic Regression(4000/10000): loss=-855070.8852689307\n",
      "Losgistic Regression(5000/10000): loss=-856211.637571377\n",
      "Losgistic Regression(6000/10000): loss=-857233.9460180368\n",
      "Losgistic Regression(7000/10000): loss=-858392.121052195\n",
      "Losgistic Regression(8000/10000): loss=-859730.2400875996\n",
      "Losgistic Regression(9000/10000): loss=-861192.9838514352\n",
      "0.8205 0.80228\n"
     ]
    }
   ],
   "source": [
    "idxes = np.arange(200)\n",
    "L=np.linalg.eigvals(train_tX4[idxes].T @ train_tX4[idxes]).max()\n",
    "print(1/L)\n",
    "\n",
    "w = np.random.randn(train_tX4.shape[1]) * 0.1\n",
    "maximum_size = train_y4.shape[0]\n",
    "\n",
    "for i in range(10):\n",
    "    idxes = np.random.randint(0, maximum_size, 2000)\n",
    "    w, losses = reg_logistic_regression_SGD(train_y4[idxes], train_tX4[idxes], gamma=1/L, \n",
    "                       max_iters = 10000, lambda_=0.0001, regularizor=regularizor_lasso, w0=w)\n",
    "\n",
    "    tr_acc, te_acc = prediction_and_accuracy(train_tX4[idxes], train_y4[idxes], cv_tX4, cv_y4, w)\n",
    "    print(tr_acc, te_acc)"
   ]
  },
  {
   "cell_type": "code",
   "execution_count": 442,
   "metadata": {
    "collapsed": false
   },
   "outputs": [
    {
     "name": "stdout",
     "output_type": "stream",
     "text": [
      "0.8205 0.80228\n"
     ]
    }
   ],
   "source": [
    "tr_acc, te_acc = prediction_and_accuracy(train_tX4[idxes], train_y4[idxes], cv_tX4, cv_y4, w)\n",
    "print(tr_acc, te_acc)"
   ]
  },
  {
   "cell_type": "markdown",
   "metadata": {},
   "source": [
    "## For Higher Dimensions"
   ]
  },
  {
   "cell_type": "code",
   "execution_count": 858,
   "metadata": {
    "collapsed": false
   },
   "outputs": [
    {
     "data": {
      "text/plain": [
       "(250000, 187)"
      ]
     },
     "execution_count": 858,
     "metadata": {},
     "output_type": "execute_result"
    }
   ],
   "source": [
    "tmp = build_polynomial_without_mixed_term_with_log(filled_tX, log_features, degree = 5)\n",
    "tX5, mean_x5, std_x5 = standardize(tmp)\n",
    "y5 = transform_y(y)\n",
    "tX5.shape"
   ]
  },
  {
   "cell_type": "code",
   "execution_count": 645,
   "metadata": {
    "collapsed": false
   },
   "outputs": [
    {
     "data": {
      "text/plain": [
       "(25000, 187)"
      ]
     },
     "execution_count": 645,
     "metadata": {},
     "output_type": "execute_result"
    }
   ],
   "source": [
    "training_ratio = 0.9\n",
    "train_tX5, cv_tX5, train_y5, cv_y5 = split_data(tX5, y5, training_ratio)\n",
    "cv_tX5.shape"
   ]
  },
  {
   "cell_type": "code",
   "execution_count": 646,
   "metadata": {
    "collapsed": false,
    "scrolled": true
   },
   "outputs": [
    {
     "name": "stdout",
     "output_type": "stream",
     "text": [
      "2.23143465589e-05\n",
      "Losgistic Regression(0/20000): loss=-152948.4985915193\n",
      "Losgistic Regression(1000/20000): loss=-558222.8949306096\n",
      "Losgistic Regression(2000/20000): loss=-641129.1642222997\n",
      "Losgistic Regression(3000/20000): loss=-694583.4965614841\n",
      "Losgistic Regression(4000/20000): loss=-733162.1216511249\n",
      "Losgistic Regression(5000/20000): loss=-763211.2116422988\n",
      "Losgistic Regression(6000/20000): loss=-787804.3128164957\n",
      "Losgistic Regression(7000/20000): loss=-808619.5440130396\n",
      "Losgistic Regression(8000/20000): loss=-826656.972967146\n",
      "Losgistic Regression(9000/20000): loss=-842556.2018722652\n",
      "Losgistic Regression(10000/20000): loss=-856751.7948597504\n",
      "Losgistic Regression(11000/20000): loss=-869553.7814276543\n",
      "Losgistic Regression(12000/20000): loss=-881193.2501136299\n",
      "Losgistic Regression(13000/20000): loss=-891847.882410691\n",
      "Losgistic Regression(14000/20000): loss=-901657.8873610676\n",
      "Losgistic Regression(15000/20000): loss=-910736.4680695792\n",
      "Losgistic Regression(16000/20000): loss=-919176.2815885241\n",
      "Losgistic Regression(17000/20000): loss=-927054.5826593324\n",
      "Losgistic Regression(18000/20000): loss=-934436.5140949821\n",
      "Losgistic Regression(19000/20000): loss=-941377.1463648106\n",
      "0.816 0.78864\n"
     ]
    }
   ],
   "source": [
    "idxes = np.arange(2000)\n",
    "L = np.linalg.eigvals(train_tX5[idxes].T @ train_tX5[idxes]).max()\n",
    "print(1/L)\n",
    "\n",
    "w, losses = reg_logistic_regression_GD(train_y5[idxes], train_tX5[idxes], gamma=1/L, \n",
    "                   max_iters = 20000, lambda_=0.0001, regularizor=regularizor_lasso)\n",
    "\n",
    "tr_acc, te_acc = prediction_and_accuracy(train_tX5[idxes], train_y5[idxes], cv_tX5, cv_y5, w)\n",
    "print(tr_acc, te_acc)"
   ]
  },
  {
   "cell_type": "code",
   "execution_count": null,
   "metadata": {
    "collapsed": true
   },
   "outputs": [],
   "source": []
  },
  {
   "cell_type": "markdown",
   "metadata": {},
   "source": [
    "## If we only use those features not missing"
   ]
  },
  {
   "cell_type": "markdown",
   "metadata": {},
   "source": [
    "It will lose important information"
   ]
  },
  {
   "cell_type": "code",
   "execution_count": 861,
   "metadata": {
    "collapsed": false
   },
   "outputs": [
    {
     "data": {
      "text/plain": [
       "(250000, 58)"
      ]
     },
     "execution_count": 861,
     "metadata": {},
     "output_type": "execute_result"
    }
   ],
   "source": [
    "tmp = build_polynomial_without_mixed_term(tX[:, no_missing_featuers], degree = 3)\n",
    "tX6, mean_x6, std_x6 = standardize(tmp)\n",
    "y6 = transform_y(y)\n",
    "tX6.shape"
   ]
  },
  {
   "cell_type": "code",
   "execution_count": 862,
   "metadata": {
    "collapsed": false
   },
   "outputs": [
    {
     "data": {
      "text/plain": [
       "(25000, 58)"
      ]
     },
     "execution_count": 862,
     "metadata": {},
     "output_type": "execute_result"
    }
   ],
   "source": [
    "training_ratio = 0.9\n",
    "train_tX6, cv_tX6, train_y6, cv_y6 = split_data(tX6, y6, training_ratio)\n",
    "cv_tX6.shape"
   ]
  },
  {
   "cell_type": "code",
   "execution_count": 864,
   "metadata": {
    "collapsed": false,
    "scrolled": true
   },
   "outputs": [
    {
     "name": "stdout",
     "output_type": "stream",
     "text": [
      "[ 5.12022288 -8.43261199 -6.13306021  5.49985935]\n"
     ]
    },
    {
     "data": {
      "text/plain": [
       "array([ 3, 20, 22, 39])"
      ]
     },
     "execution_count": 864,
     "metadata": {},
     "output_type": "execute_result"
    }
   ],
   "source": [
    "threshold = 5\n",
    "print(w[abs(w)>threshold])\n",
    "np.arange(len(w))[abs(w)>threshold]"
   ]
  },
  {
   "cell_type": "code",
   "execution_count": 865,
   "metadata": {
    "collapsed": false,
    "scrolled": false
   },
   "outputs": [
    {
     "name": "stdout",
     "output_type": "stream",
     "text": [
      "9.38726863049e-06\n",
      "Losgistic Regression(0/10000): loss=172062.31224921555\n",
      "Losgistic Regression(1000/10000): loss=-906856.8877039328\n",
      "Losgistic Regression(2000/10000): loss=-2222880.6517023114\n",
      "Losgistic Regression(3000/10000): loss=-2897843.0219437107\n",
      "Losgistic Regression(4000/10000): loss=-3356243.367217049\n",
      "Losgistic Regression(5000/10000): loss=-3704817.9229270555\n",
      "Losgistic Regression(6000/10000): loss=-3985748.037510811\n",
      "Losgistic Regression(7000/10000): loss=-4219904.215027729\n",
      "Losgistic Regression(8000/10000): loss=-4419567.694428677\n",
      "Losgistic Regression(9000/10000): loss=-4592789.371367343\n",
      "0.7818 0.77852\n"
     ]
    }
   ],
   "source": [
    "idxes = np.arange(10000)\n",
    "# cols = np.array([ 3, 20, 22, 39])\n",
    "cols = np.arange(train_tX6.shape[1])\n",
    "L = np.linalg.eigvals(train_tX6[idxes][:, cols].T @ train_tX6[idxes][:, cols]).max()\n",
    "print(1/L)\n",
    "\n",
    "w, losses = reg_logistic_regression_GD(train_y6[idxes], train_tX6[idxes][:, cols], gamma=1/L, \n",
    "                   max_iters = 10000, lambda_=0.000, regularizor=regularizor_lasso)\n",
    "\n",
    "tr_acc, te_acc = prediction_and_accuracy(train_tX6[idxes][:, cols], train_y6[idxes], \n",
    "                                         cv_tX6[:, cols], cv_y6, w)\n",
    "print(tr_acc, te_acc)"
   ]
  },
  {
   "cell_type": "code",
   "execution_count": 845,
   "metadata": {
    "collapsed": false
   },
   "outputs": [
    {
     "name": "stdout",
     "output_type": "stream",
     "text": [
      "9.38726863049e-06\n",
      "Losgistic Regression(0/100000): loss=-35582399.471180476\n",
      "Losgistic Regression(1000/100000): loss=-7323507.9188665375\n",
      "Totoal number of iterations =  1865\n",
      "Loss =  -8238216.81808\n",
      "0.7911 0.78972\n"
     ]
    }
   ],
   "source": [
    "idxes = np.arange(10000)\n",
    "# cols = np.array([ 3, 20, 22, 39])\n",
    "cols = np.arange(train_tX6.shape[1])\n",
    "L = np.linalg.eigvals(train_tX6[idxes][:, cols].T @ train_tX6[idxes][:, cols]).max()\n",
    "print(1/L)\n",
    "\n",
    "w = logistic_AGDR(train_y6[idxes], train_tX6[idxes][:, cols], gamma=1/L, \n",
    "                   max_iters = 100000, lambda_=0.0001, regularizor=regularizor_lasso)\n",
    "\n",
    "tr_acc, te_acc = prediction_and_accuracy(train_tX6[idxes][:, cols], train_y6[idxes], \n",
    "                                         cv_tX6[:, cols], cv_y6, w)\n",
    "print(tr_acc, te_acc)"
   ]
  },
  {
   "cell_type": "markdown",
   "metadata": {},
   "source": [
    "# Better results"
   ]
  },
  {
   "cell_type": "code",
   "execution_count": 764,
   "metadata": {
    "collapsed": false
   },
   "outputs": [],
   "source": [
    "no_missing_featuers = [i for i in range(30) if i not in columns_with_missing_values]"
   ]
  },
  {
   "cell_type": "code",
   "execution_count": 766,
   "metadata": {
    "collapsed": true
   },
   "outputs": [],
   "source": [
    "non_missing_tX = tX[status_tX == 0, :]\n",
    "missing_tX = tX[status_tX != 0, :]"
   ]
  },
  {
   "cell_type": "code",
   "execution_count": 866,
   "metadata": {
    "collapsed": false
   },
   "outputs": [
    {
     "data": {
      "text/plain": [
       "(250000, 121)"
      ]
     },
     "execution_count": 866,
     "metadata": {},
     "output_type": "execute_result"
    }
   ],
   "source": [
    "tmp = build_polynomial_without_mixed_term(fill_na(tX, np.median), degree=4)\n",
    "tX7, mean_x7, std_x7 = standardize(tmp)\n",
    "y7 = transform_y(y)\n",
    "tX7.shape"
   ]
  },
  {
   "cell_type": "code",
   "execution_count": 867,
   "metadata": {
    "collapsed": false
   },
   "outputs": [
    {
     "data": {
      "text/plain": [
       "(25000, 121)"
      ]
     },
     "execution_count": 867,
     "metadata": {},
     "output_type": "execute_result"
    }
   ],
   "source": [
    "training_ratio = 0.9\n",
    "train_tX7, cv_tX7, train_y7, cv_y7 = split_data(tX7, y7, training_ratio)\n",
    "cv_tX7.shape"
   ]
  },
  {
   "cell_type": "code",
   "execution_count": 817,
   "metadata": {
    "collapsed": false,
    "scrolled": true
   },
   "outputs": [
    {
     "name": "stdout",
     "output_type": "stream",
     "text": [
      "1.29134200029e-05\n",
      "Losgistic Regression(0/100000): loss=-1864570.8664358312\n",
      "Losgistic Regression(1000/100000): loss=-3643706.596277618\n",
      "Losgistic Regression(2000/100000): loss=-4075325.443160949\n",
      "Losgistic Regression(3000/100000): loss=-4287686.346307418\n",
      "Losgistic Regression(4000/100000): loss=-4422673.567931138\n",
      "Losgistic Regression(5000/100000): loss=-4520877.584452401\n",
      "Losgistic Regression(6000/100000): loss=-4598137.39963385\n",
      "Losgistic Regression(7000/100000): loss=-4662064.837419295\n",
      "Losgistic Regression(8000/100000): loss=-4716886.13889026\n",
      "Losgistic Regression(9000/100000): loss=-4765307.290995987\n",
      "Losgistic Regression(10000/100000): loss=-4809598.738261102\n",
      "Losgistic Regression(11000/100000): loss=-4851464.061950497\n",
      "Losgistic Regression(12000/100000): loss=-4890956.69237179\n",
      "Losgistic Regression(13000/100000): loss=-4927619.743856777\n",
      "Losgistic Regression(14000/100000): loss=-4961382.561498515\n",
      "Losgistic Regression(15000/100000): loss=-4992435.593707586\n",
      "Losgistic Regression(16000/100000): loss=-5021044.3438392915\n",
      "Losgistic Regression(17000/100000): loss=-5047466.9535095645\n",
      "Losgistic Regression(18000/100000): loss=-5071931.429541111\n",
      "Losgistic Regression(19000/100000): loss=-5094637.569716239\n",
      "Losgistic Regression(20000/100000): loss=-5115765.259024078\n",
      "Losgistic Regression(21000/100000): loss=-5135480.828422836\n",
      "Losgistic Regression(22000/100000): loss=-5153939.896351397\n",
      "Losgistic Regression(23000/100000): loss=-5171287.4732818855\n",
      "Losgistic Regression(24000/100000): loss=-5187657.084715055\n",
      "Losgistic Regression(25000/100000): loss=-5203169.620982077\n",
      "Losgistic Regression(26000/100000): loss=-5217932.40559449\n",
      "Losgistic Regression(27000/100000): loss=-5232038.745916452\n",
      "Losgistic Regression(28000/100000): loss=-5245567.946259948\n",
      "Losgistic Regression(29000/100000): loss=-5258586.0049151555\n",
      "Losgistic Regression(30000/100000): loss=-5271146.967419196\n",
      "Losgistic Regression(31000/100000): loss=-5283294.772769553\n",
      "Losgistic Regression(32000/100000): loss=-5295065.298615652\n",
      "Losgistic Regression(33000/100000): loss=-5306488.2961415425\n",
      "Losgistic Regression(34000/100000): loss=-5317589.000192996\n",
      "Losgistic Regression(35000/100000): loss=-5328389.357797124\n",
      "Losgistic Regression(36000/100000): loss=-5338908.803456933\n",
      "Losgistic Regression(37000/100000): loss=-5349164.85147364\n",
      "Losgistic Regression(38000/100000): loss=-5359173.448142794\n",
      "Losgistic Regression(39000/100000): loss=-5368949.190376322\n",
      "Losgistic Regression(40000/100000): loss=-5378505.483709117\n",
      "Losgistic Regression(41000/100000): loss=-5387854.661161445\n",
      "Losgistic Regression(42000/100000): loss=-5397008.08059066\n",
      "Losgistic Regression(43000/100000): loss=-5405976.20957648\n",
      "Losgistic Regression(44000/100000): loss=-5414768.701932477\n",
      "Losgistic Regression(45000/100000): loss=-5423394.474478419\n",
      "Losgistic Regression(46000/100000): loss=-5431861.766656872\n",
      "Losgistic Regression(47000/100000): loss=-5440178.17512868\n",
      "Losgistic Regression(48000/100000): loss=-5448350.749920648\n",
      "Losgistic Regression(49000/100000): loss=-5456386.028629373\n",
      "Losgistic Regression(50000/100000): loss=-5464290.080584549\n",
      "Losgistic Regression(51000/100000): loss=-5472068.548131858\n",
      "Losgistic Regression(52000/100000): loss=-5479726.684264392\n",
      "Losgistic Regression(53000/100000): loss=-5487269.386710359\n",
      "Losgistic Regression(54000/100000): loss=-5494701.248541947\n",
      "Losgistic Regression(55000/100000): loss=-5502026.980492024\n",
      "Losgistic Regression(56000/100000): loss=-5509250.122016809\n",
      "Losgistic Regression(57000/100000): loss=-5516374.60887975\n",
      "Losgistic Regression(58000/100000): loss=-5523403.684532766\n",
      "Losgistic Regression(59000/100000): loss=-5530340.766697148\n",
      "Losgistic Regression(60000/100000): loss=-5537188.989474765\n",
      "Losgistic Regression(61000/100000): loss=-5543951.306882298\n",
      "Losgistic Regression(62000/100000): loss=-5550630.5075865295\n",
      "Losgistic Regression(63000/100000): loss=-5557229.22848768\n",
      "Losgistic Regression(64000/100000): loss=-5563749.966684369\n",
      "Losgistic Regression(65000/100000): loss=-5570195.090127384\n",
      "Losgistic Regression(66000/100000): loss=-5576566.847204941\n",
      "Losgistic Regression(67000/100000): loss=-5582867.375431598\n",
      "Losgistic Regression(68000/100000): loss=-5589098.709329092\n",
      "Losgistic Regression(69000/100000): loss=-5595262.787616861\n",
      "Losgistic Regression(70000/100000): loss=-5601361.459770841\n",
      "Losgistic Regression(71000/100000): loss=-5607396.492016925\n",
      "Losgistic Regression(72000/100000): loss=-5613369.572812814\n",
      "Losgistic Regression(73000/100000): loss=-5619282.317877667\n",
      "Losgistic Regression(74000/100000): loss=-5625136.274796649\n",
      "Losgistic Regression(75000/100000): loss=-5630932.927238138\n",
      "Losgistic Regression(76000/100000): loss=-5636673.698870133\n",
      "Losgistic Regression(77000/100000): loss=-5642359.956923308\n",
      "Losgistic Regression(78000/100000): loss=-5647993.015484103\n",
      "Losgistic Regression(79000/100000): loss=-5653574.138545258\n",
      "Losgistic Regression(80000/100000): loss=-5659104.542817296\n",
      "Losgistic Regression(81000/100000): loss=-5664585.400329293\n",
      "Losgistic Regression(82000/100000): loss=-5670017.840837759\n",
      "Losgistic Regression(83000/100000): loss=-5675402.95406031\n",
      "Losgistic Regression(84000/100000): loss=-5680741.79175004\n",
      "Losgistic Regression(85000/100000): loss=-5686035.369624019\n",
      "Losgistic Regression(86000/100000): loss=-5691284.669158835\n",
      "Losgistic Regression(87000/100000): loss=-5696490.639264311\n",
      "Losgistic Regression(88000/100000): loss=-5701654.197845706\n",
      "Losgistic Regression(89000/100000): loss=-5706776.233263827\n",
      "Losgistic Regression(90000/100000): loss=-5711857.605701283\n",
      "Losgistic Regression(91000/100000): loss=-5716899.148442664\n",
      "Losgistic Regression(92000/100000): loss=-5721901.669075482\n",
      "Losgistic Regression(93000/100000): loss=-5726865.985871929\n",
      "Losgistic Regression(94000/100000): loss=-5731792.82632645\n",
      "Losgistic Regression(95000/100000): loss=-5736682.914850668\n",
      "Losgistic Regression(96000/100000): loss=-5741536.96905027\n",
      "Losgistic Regression(97000/100000): loss=-5746355.685295286\n",
      "Losgistic Regression(98000/100000): loss=-5751139.739748536\n",
      "Losgistic Regression(99000/100000): loss=-5755889.789231069\n",
      "0.8194 0.81232\n"
     ]
    }
   ],
   "source": [
    "idxes = np.arange(5000)\n",
    "L = np.linalg.eigvals(train_tX7[idxes].T @ train_tX7[idxes]).max()\n",
    "print(1/L)\n",
    "\n",
    "w, losses = reg_logistic_regression_GD(train_y7[idxes], train_tX7[idxes], gamma=0.0001, \n",
    "                   max_iters = 100000, lambda_=0.00001, regularizor=regularizor_lasso)\n",
    "\n",
    "tr_acc, te_acc = prediction_and_accuracy(train_tX7[idxes], train_y7[idxes], cv_tX7, cv_y7, w)\n",
    "print(tr_acc, te_acc)"
   ]
  },
  {
   "cell_type": "code",
   "execution_count": 824,
   "metadata": {
    "collapsed": false
   },
   "outputs": [
    {
     "name": "stdout",
     "output_type": "stream",
     "text": [
      "[  6.54558852   6.64933073  12.05224732   6.48064661]\n",
      "[ 0  7 34 61 62 90 92 97]\n"
     ]
    }
   ],
   "source": [
    "print(w[abs(w>5)])\n",
    "print(np.arange(len(w))[abs(w>3)])"
   ]
  },
  {
   "cell_type": "code",
   "execution_count": 816,
   "metadata": {
    "collapsed": false,
    "scrolled": true
   },
   "outputs": [
    {
     "name": "stdout",
     "output_type": "stream",
     "text": [
      "6.37656429545e-06\n",
      "Losgistic Regression(0/150000): loss=-24496155.36677372\n",
      "Losgistic Regression(1000/150000): loss=-16726315.597480152\n",
      "Losgistic Regression(2000/150000): loss=-17252993.276240055\n",
      "Losgistic Regression(3000/150000): loss=-17436995.475730643\n"
     ]
    },
    {
     "ename": "KeyboardInterrupt",
     "evalue": "",
     "output_type": "error",
     "traceback": [
      "\u001b[0;31m---------------------------------------------------------------------------\u001b[0m",
      "\u001b[0;31mKeyboardInterrupt\u001b[0m                         Traceback (most recent call last)",
      "\u001b[0;32m<ipython-input-816-f3ae6abf92e8>\u001b[0m in \u001b[0;36m<module>\u001b[0;34m()\u001b[0m\n\u001b[1;32m      4\u001b[0m \u001b[0;34m\u001b[0m\u001b[0m\n\u001b[1;32m      5\u001b[0m w, losses = reg_logistic_regression_GD(train_y7[idxes], train_tX7[idxes], gamma=0.0001, \n\u001b[0;32m----> 6\u001b[0;31m                    max_iters = 150000, lambda_=0.00001, regularizor=regularizor_lasso)\n\u001b[0m\u001b[1;32m      7\u001b[0m \u001b[0;34m\u001b[0m\u001b[0m\n\u001b[1;32m      8\u001b[0m \u001b[0mtr_acc\u001b[0m\u001b[0;34m,\u001b[0m \u001b[0mte_acc\u001b[0m \u001b[0;34m=\u001b[0m \u001b[0mprediction_and_accuracy\u001b[0m\u001b[0;34m(\u001b[0m\u001b[0mtrain_tX7\u001b[0m\u001b[0;34m[\u001b[0m\u001b[0midxes\u001b[0m\u001b[0;34m]\u001b[0m\u001b[0;34m,\u001b[0m \u001b[0mtrain_y7\u001b[0m\u001b[0;34m[\u001b[0m\u001b[0midxes\u001b[0m\u001b[0;34m]\u001b[0m\u001b[0;34m,\u001b[0m \u001b[0mcv_tX7\u001b[0m\u001b[0;34m,\u001b[0m \u001b[0mcv_y7\u001b[0m\u001b[0;34m,\u001b[0m \u001b[0mw\u001b[0m\u001b[0;34m)\u001b[0m\u001b[0;34m\u001b[0m\u001b[0m\n",
      "\u001b[0;32m/Users/helie/projects/ML_Projects/project_one_ml/scripts/functions.py\u001b[0m in \u001b[0;36mreg_logistic_regression_GD\u001b[0;34m(y, tx, gamma, max_iters, lambda_, regularizor)\u001b[0m\n\u001b[1;32m    216\u001b[0m \u001b[0;32mdef\u001b[0m \u001b[0mreg_logistic_regression_GD\u001b[0m\u001b[0;34m(\u001b[0m\u001b[0my\u001b[0m\u001b[0;34m,\u001b[0m \u001b[0mtx\u001b[0m\u001b[0;34m,\u001b[0m \u001b[0mgamma\u001b[0m\u001b[0;34m,\u001b[0m \u001b[0mmax_iters\u001b[0m\u001b[0;34m,\u001b[0m \u001b[0mlambda_\u001b[0m\u001b[0;34m,\u001b[0m \u001b[0mregularizor\u001b[0m\u001b[0;34m=\u001b[0m\u001b[0mregularizor_ridge\u001b[0m\u001b[0;34m)\u001b[0m\u001b[0;34m:\u001b[0m\u001b[0;34m\u001b[0m\u001b[0m\n\u001b[1;32m    217\u001b[0m     \u001b[0;32massert\u001b[0m\u001b[0;34m(\u001b[0m\u001b[0mlambda_\u001b[0m\u001b[0;34m>=\u001b[0m \u001b[0;36m0\u001b[0m\u001b[0;34m)\u001b[0m\u001b[0;34m\u001b[0m\u001b[0m\n\u001b[0;32m--> 218\u001b[0;31m     \u001b[0;32mreturn\u001b[0m \u001b[0mreg_logistic_regression_GD_with_init\u001b[0m\u001b[0;34m(\u001b[0m\u001b[0my\u001b[0m\u001b[0;34m,\u001b[0m \u001b[0mtx\u001b[0m\u001b[0;34m,\u001b[0m \u001b[0mgamma\u001b[0m\u001b[0;34m,\u001b[0m \u001b[0mmax_iters\u001b[0m\u001b[0;34m,\u001b[0m \u001b[0mlambda_\u001b[0m\u001b[0;34m=\u001b[0m\u001b[0mlambda_\u001b[0m\u001b[0;34m,\u001b[0m\u001b[0mregularizor\u001b[0m\u001b[0;34m=\u001b[0m\u001b[0mregularizor\u001b[0m\u001b[0;34m)\u001b[0m\u001b[0;34m\u001b[0m\u001b[0m\n\u001b[0m\u001b[1;32m    219\u001b[0m \u001b[0;34m\u001b[0m\u001b[0m\n\u001b[1;32m    220\u001b[0m \u001b[0;32mdef\u001b[0m \u001b[0mlogistic_regression_SGD\u001b[0m\u001b[0;34m(\u001b[0m\u001b[0my\u001b[0m\u001b[0;34m,\u001b[0m \u001b[0mtx\u001b[0m\u001b[0;34m,\u001b[0m \u001b[0mgamma\u001b[0m\u001b[0;34m,\u001b[0m \u001b[0mmax_iters\u001b[0m\u001b[0;34m,\u001b[0m \u001b[0mw0\u001b[0m\u001b[0;34m=\u001b[0m\u001b[0;32mNone\u001b[0m\u001b[0;34m)\u001b[0m\u001b[0;34m:\u001b[0m\u001b[0;34m\u001b[0m\u001b[0m\n",
      "\u001b[0;32m/Users/helie/projects/ML_Projects/project_one_ml/scripts/functions.py\u001b[0m in \u001b[0;36mreg_logistic_regression_GD_with_init\u001b[0;34m(y, tx, gamma, max_iters, w0, lambda_, regularizor)\u001b[0m\n\u001b[1;32m    263\u001b[0m     \u001b[0;32mfor\u001b[0m \u001b[0mi\u001b[0m \u001b[0;32min\u001b[0m \u001b[0mrange\u001b[0m\u001b[0;34m(\u001b[0m\u001b[0mmax_iters\u001b[0m\u001b[0;34m)\u001b[0m\u001b[0;34m:\u001b[0m\u001b[0;34m\u001b[0m\u001b[0m\n\u001b[1;32m    264\u001b[0m         \u001b[0mw\u001b[0m \u001b[0;34m=\u001b[0m \u001b[0mw\u001b[0m \u001b[0;34m-\u001b[0m \u001b[0mgamma\u001b[0m \u001b[0;34m*\u001b[0m \u001b[0mlogistic_gradient\u001b[0m\u001b[0;34m(\u001b[0m\u001b[0my\u001b[0m\u001b[0;34m,\u001b[0m \u001b[0mtx\u001b[0m\u001b[0;34m,\u001b[0m \u001b[0mw\u001b[0m\u001b[0;34m)\u001b[0m\u001b[0;34m\u001b[0m\u001b[0m\n\u001b[0;32m--> 265\u001b[0;31m         \u001b[0mcost\u001b[0m \u001b[0;34m=\u001b[0m \u001b[0mlogistic_loss\u001b[0m\u001b[0;34m(\u001b[0m\u001b[0my\u001b[0m\u001b[0;34m,\u001b[0m \u001b[0mtx\u001b[0m\u001b[0;34m,\u001b[0m \u001b[0mw\u001b[0m\u001b[0;34m)\u001b[0m\u001b[0;34m\u001b[0m\u001b[0m\n\u001b[0m\u001b[1;32m    266\u001b[0m         \u001b[0;32mif\u001b[0m \u001b[0mi\u001b[0m \u001b[0;34m%\u001b[0m \u001b[0;36m1000\u001b[0m \u001b[0;34m==\u001b[0m \u001b[0;36m0\u001b[0m\u001b[0;34m:\u001b[0m\u001b[0;34m\u001b[0m\u001b[0m\n\u001b[1;32m    267\u001b[0m             \u001b[0mprint\u001b[0m \u001b[0;34m(\u001b[0m\u001b[0;34m\"Losgistic Regression({bi}/{ti}): loss={l}\"\u001b[0m\u001b[0;34m.\u001b[0m\u001b[0mformat\u001b[0m\u001b[0;34m(\u001b[0m\u001b[0mbi\u001b[0m\u001b[0;34m=\u001b[0m\u001b[0mi\u001b[0m\u001b[0;34m,\u001b[0m \u001b[0mti\u001b[0m\u001b[0;34m=\u001b[0m\u001b[0mmax_iters\u001b[0m\u001b[0;34m,\u001b[0m \u001b[0ml\u001b[0m\u001b[0;34m=\u001b[0m\u001b[0mcost\u001b[0m\u001b[0;34m)\u001b[0m\u001b[0;34m)\u001b[0m\u001b[0;34m\u001b[0m\u001b[0m\n",
      "\u001b[0;32m/Users/helie/projects/ML_Projects/project_one_ml/scripts/functions.py\u001b[0m in \u001b[0;36mlogistic_loss\u001b[0;34m(y, tx, w)\u001b[0m\n\u001b[1;32m    249\u001b[0m         \u001b[0;34m\"\"\"compute the cost by negative log likelihood.\"\"\"\u001b[0m\u001b[0;34m\u001b[0m\u001b[0m\n\u001b[1;32m    250\u001b[0m         \u001b[0mr\u001b[0m\u001b[0;34m,\u001b[0m\u001b[0m_\u001b[0m \u001b[0;34m=\u001b[0m \u001b[0mregularizor\u001b[0m\u001b[0;34m(\u001b[0m\u001b[0mw\u001b[0m\u001b[0;34m)\u001b[0m\u001b[0;34m\u001b[0m\u001b[0m\n\u001b[0;32m--> 251\u001b[0;31m         \u001b[0;32mreturn\u001b[0m \u001b[0mnp\u001b[0m\u001b[0;34m.\u001b[0m\u001b[0msum\u001b[0m\u001b[0;34m(\u001b[0m\u001b[0;34m-\u001b[0m\u001b[0mnp\u001b[0m\u001b[0;34m.\u001b[0m\u001b[0mlog\u001b[0m\u001b[0;34m(\u001b[0m\u001b[0;36m1\u001b[0m \u001b[0;34m-\u001b[0m \u001b[0msigmoid\u001b[0m\u001b[0;34m(\u001b[0m\u001b[0mtx\u001b[0m \u001b[0;34m@\u001b[0m \u001b[0mw\u001b[0m\u001b[0;34m)\u001b[0m\u001b[0;34m)\u001b[0m \u001b[0;34m-\u001b[0m \u001b[0my\u001b[0m\u001b[0;34m.\u001b[0m\u001b[0mT\u001b[0m \u001b[0;34m@\u001b[0m \u001b[0mtx\u001b[0m \u001b[0;34m@\u001b[0m \u001b[0mw\u001b[0m\u001b[0;34m)\u001b[0m \u001b[0;34m+\u001b[0m \u001b[0mlambda_\u001b[0m \u001b[0;34m*\u001b[0m \u001b[0mr\u001b[0m\u001b[0;34m\u001b[0m\u001b[0m\n\u001b[0m\u001b[1;32m    252\u001b[0m \u001b[0;34m\u001b[0m\u001b[0m\n\u001b[1;32m    253\u001b[0m     \u001b[0;32mdef\u001b[0m \u001b[0mlogistic_gradient\u001b[0m\u001b[0;34m(\u001b[0m\u001b[0my\u001b[0m\u001b[0;34m,\u001b[0m \u001b[0mtx\u001b[0m\u001b[0;34m,\u001b[0m \u001b[0mw\u001b[0m\u001b[0;34m)\u001b[0m\u001b[0;34m:\u001b[0m\u001b[0;34m\u001b[0m\u001b[0m\n",
      "\u001b[0;32m/Users/helie/projects/ML_Projects/project_one_ml/scripts/functions.py\u001b[0m in \u001b[0;36msigmoid\u001b[0;34m(x, clip_range)\u001b[0m\n\u001b[1;32m    201\u001b[0m     \u001b[0;31m# to avoid overflow in exponential, clip input x into a reasonable large range\u001b[0m\u001b[0;34m\u001b[0m\u001b[0;34m\u001b[0m\u001b[0m\n\u001b[1;32m    202\u001b[0m     \u001b[0mcliped_x\u001b[0m \u001b[0;34m=\u001b[0m \u001b[0mnp\u001b[0m\u001b[0;34m.\u001b[0m\u001b[0mclip\u001b[0m\u001b[0;34m(\u001b[0m\u001b[0mx\u001b[0m\u001b[0;34m,\u001b[0m \u001b[0;34m-\u001b[0m\u001b[0mclip_range\u001b[0m\u001b[0;34m,\u001b[0m \u001b[0mclip_range\u001b[0m\u001b[0;34m)\u001b[0m\u001b[0;34m\u001b[0m\u001b[0m\n\u001b[0;32m--> 203\u001b[0;31m     \u001b[0;32mreturn\u001b[0m \u001b[0;36m1\u001b[0m\u001b[0;34m/\u001b[0m\u001b[0;34m(\u001b[0m\u001b[0;36m1\u001b[0m\u001b[0;34m+\u001b[0m\u001b[0mnp\u001b[0m\u001b[0;34m.\u001b[0m\u001b[0mexp\u001b[0m\u001b[0;34m(\u001b[0m\u001b[0;34m-\u001b[0m\u001b[0mcliped_x\u001b[0m\u001b[0;34m)\u001b[0m\u001b[0;34m)\u001b[0m\u001b[0;34m\u001b[0m\u001b[0m\n\u001b[0m\u001b[1;32m    204\u001b[0m \u001b[0;34m\u001b[0m\u001b[0m\n\u001b[1;32m    205\u001b[0m \u001b[0;32mdef\u001b[0m \u001b[0mregularizor_lasso\u001b[0m\u001b[0;34m(\u001b[0m\u001b[0mw\u001b[0m\u001b[0;34m)\u001b[0m\u001b[0;34m:\u001b[0m\u001b[0;34m\u001b[0m\u001b[0m\n",
      "\u001b[0;31mKeyboardInterrupt\u001b[0m: "
     ]
    }
   ],
   "source": [
    "idxes = np.arange(10000)\n",
    "L = np.linalg.eigvals(train_tX7[idxes].T @ train_tX7[idxes]).max()\n",
    "print(1/L)\n",
    "\n",
    "w, losses = reg_logistic_regression_GD(train_y7[idxes], train_tX7[idxes], gamma=0.0001, \n",
    "                   max_iters = 150000, lambda_=0.00001, regularizor=regularizor_lasso)\n",
    "\n",
    "tr_acc, te_acc = prediction_and_accuracy(train_tX7[idxes], train_y7[idxes], cv_tX7, cv_y7, w)\n",
    "print(tr_acc, te_acc)"
   ]
  },
  {
   "cell_type": "code",
   "execution_count": 704,
   "metadata": {
    "collapsed": false
   },
   "outputs": [
    {
     "name": "stdout",
     "output_type": "stream",
     "text": [
      "6.37656429545e-06\n",
      "Losgistic Regression(0/200000): loss=9221233.193410587\n",
      "Losgistic Regression(1000/200000): loss=-8296709.870189696\n",
      "Losgistic Regression(2000/200000): loss=-9862373.335854245\n",
      "Losgistic Regression(3000/200000): loss=-10831655.627667965\n",
      "Losgistic Regression(4000/200000): loss=-11536115.326674325\n",
      "Losgistic Regression(5000/200000): loss=-12075983.19691701\n",
      "Losgistic Regression(6000/200000): loss=-12511679.921146508\n",
      "Losgistic Regression(7000/200000): loss=-12874634.530713344\n",
      "Losgistic Regression(8000/200000): loss=-13183781.813886058\n",
      "Losgistic Regression(9000/200000): loss=-13451475.683294827\n",
      "Losgistic Regression(10000/200000): loss=-13686264.729243582\n",
      "Losgistic Regression(11000/200000): loss=-13894353.282241577\n",
      "Losgistic Regression(12000/200000): loss=-14080409.165111527\n",
      "Losgistic Regression(13000/200000): loss=-14248028.215456463\n",
      "Losgistic Regression(14000/200000): loss=-14400034.902295291\n",
      "Losgistic Regression(15000/200000): loss=-14538685.367201654\n",
      "Losgistic Regression(16000/200000): loss=-14665810.422242574\n",
      "Losgistic Regression(17000/200000): loss=-14782916.78769217\n",
      "Losgistic Regression(18000/200000): loss=-14891254.333433822\n",
      "Losgistic Regression(19000/200000): loss=-14991873.216922691\n",
      "Losgistic Regression(20000/200000): loss=-15085661.818622943\n",
      "Losgistic Regression(21000/200000): loss=-15173374.494184973\n",
      "Losgistic Regression(22000/200000): loss=-15255657.076266274\n",
      "Losgistic Regression(23000/200000): loss=-15333064.691913279\n",
      "Losgistic Regression(24000/200000): loss=-15406077.250464492\n",
      "Losgistic Regression(25000/200000): loss=-15475111.46468787\n",
      "Losgistic Regression(26000/200000): loss=-15540530.164464993\n",
      "Losgistic Regression(27000/200000): loss=-15602652.144422477\n",
      "Losgistic Regression(28000/200000): loss=-15661756.59855738\n",
      "Losgistic Regression(29000/200000): loss=-15718090.681211257\n",
      "Losgistic Regression(30000/200000): loss=-15771873.42853335\n",
      "Losgistic Regression(31000/200000): loss=-15823299.724603375\n",
      "Losgistic Regression(32000/200000): loss=-15872544.122707773\n",
      "Losgistic Regression(33000/200000): loss=-15919762.216177683\n",
      "Losgistic Regression(34000/200000): loss=-15965094.412630633\n",
      "Losgistic Regression(35000/200000): loss=-16008667.626215851\n",
      "Losgistic Regression(36000/200000): loss=-16050596.762161136\n",
      "Losgistic Regression(37000/200000): loss=-16090986.244844718\n",
      "Losgistic Regression(38000/200000): loss=-16129931.068899903\n",
      "Losgistic Regression(39000/200000): loss=-16167518.469641412\n",
      "Losgistic Regression(40000/200000): loss=-16203826.843156993\n",
      "Losgistic Regression(41000/200000): loss=-16238932.811184576\n",
      "Losgistic Regression(42000/200000): loss=-16272902.172215093\n",
      "Losgistic Regression(43000/200000): loss=-16305797.218551645\n",
      "Losgistic Regression(44000/200000): loss=-16337675.812302783\n",
      "Losgistic Regression(45000/200000): loss=-16368591.519090205\n",
      "Losgistic Regression(46000/200000): loss=-16398594.604502432\n",
      "Losgistic Regression(47000/200000): loss=-16427731.442229554\n",
      "Losgistic Regression(48000/200000): loss=-16456045.163175305\n",
      "Losgistic Regression(49000/200000): loss=-16483576.566281792\n",
      "Losgistic Regression(50000/200000): loss=-16510363.634348368\n",
      "Losgistic Regression(51000/200000): loss=-16536442.011038754\n",
      "Losgistic Regression(52000/200000): loss=-16561845.182608223\n",
      "Losgistic Regression(53000/200000): loss=-16586604.646016343\n",
      "Losgistic Regression(54000/200000): loss=-16610750.062645478\n",
      "Losgistic Regression(55000/200000): loss=-16634309.397241011\n",
      "Losgistic Regression(56000/200000): loss=-16657309.043296032\n",
      "Losgistic Regression(57000/200000): loss=-16679774.237536144\n",
      "Losgistic Regression(58000/200000): loss=-16701727.997607468\n",
      "Losgistic Regression(59000/200000): loss=-16723192.803961642\n",
      "Losgistic Regression(60000/200000): loss=-16744190.123113343\n",
      "Losgistic Regression(61000/200000): loss=-16764739.620601697\n",
      "Losgistic Regression(62000/200000): loss=-16784860.445874166\n",
      "Losgistic Regression(63000/200000): loss=-16804570.634906154\n",
      "Losgistic Regression(64000/200000): loss=-16823887.316555038\n",
      "Losgistic Regression(65000/200000): loss=-16842826.765116077\n",
      "Losgistic Regression(66000/200000): loss=-16861404.44877828\n",
      "Losgistic Regression(67000/200000): loss=-16879635.062913246\n",
      "Losgistic Regression(68000/200000): loss=-16897532.499491137\n",
      "Losgistic Regression(69000/200000): loss=-16915109.627233636\n",
      "Losgistic Regression(70000/200000): loss=-16932375.62675917\n",
      "Losgistic Regression(71000/200000): loss=-16949321.877258256\n",
      "Losgistic Regression(72000/200000): loss=-16965873.97368649\n",
      "Losgistic Regression(73000/200000): loss=-16982136.042267747\n",
      "Losgistic Regression(74000/200000): loss=-17000237.152673308\n",
      "Losgistic Regression(75000/200000): loss=-17021583.65598896\n",
      "Losgistic Regression(76000/200000): loss=-17043970.591341488\n",
      "Losgistic Regression(77000/200000): loss=-17065941.128483687\n",
      "Losgistic Regression(78000/200000): loss=-17087095.663208783\n",
      "Losgistic Regression(79000/200000): loss=-17107384.282479513\n",
      "Losgistic Regression(80000/200000): loss=-17126848.869228657\n",
      "Losgistic Regression(81000/200000): loss=-17145552.507693302\n",
      "Losgistic Regression(82000/200000): loss=-17163559.630797774\n",
      "Losgistic Regression(83000/200000): loss=-17180930.142480195\n",
      "Losgistic Regression(84000/200000): loss=-17197717.83383353\n",
      "Losgistic Regression(85000/200000): loss=-17213970.2926287\n",
      "Losgistic Regression(86000/200000): loss=-17229729.377108026\n",
      "Losgistic Regression(87000/200000): loss=-17245031.749546144\n",
      "Losgistic Regression(88000/200000): loss=-17259909.73608141\n",
      "Losgistic Regression(89000/200000): loss=-17274391.761022363\n",
      "Losgistic Regression(90000/200000): loss=-17288502.964557145\n",
      "Losgistic Regression(91000/200000): loss=-17302265.49544166\n",
      "Losgistic Regression(92000/200000): loss=-17315699.62697328\n",
      "Losgistic Regression(93000/200000): loss=-17328822.959768597\n",
      "Losgistic Regression(94000/200000): loss=-17341651.570914235\n",
      "Losgistic Regression(95000/200000): loss=-17354199.99790428\n",
      "Losgistic Regression(96000/200000): loss=-17366481.44938831\n",
      "Losgistic Regression(97000/200000): loss=-17378507.98603965\n",
      "Losgistic Regression(98000/200000): loss=-17390290.671500623\n",
      "Losgistic Regression(99000/200000): loss=-17401839.699547835\n",
      "Losgistic Regression(100000/200000): loss=-17413164.50190193\n",
      "Losgistic Regression(101000/200000): loss=-17424273.83997349\n",
      "Losgistic Regression(102000/200000): loss=-17435175.883154728\n",
      "Losgistic Regression(103000/200000): loss=-17445878.27579568\n",
      "Losgistic Regression(104000/200000): loss=-17456388.19463346\n",
      "Losgistic Regression(105000/200000): loss=-17466712.39815364\n",
      "Losgistic Regression(106000/200000): loss=-17476857.269118346\n",
      "Losgistic Regression(107000/200000): loss=-17486828.851301502\n",
      "Losgistic Regression(108000/200000): loss=-17496632.881289374\n",
      "Losgistic Regression(109000/200000): loss=-17506274.816098414\n",
      "Losgistic Regression(110000/200000): loss=-17515759.857220694\n",
      "Losgistic Regression(111000/200000): loss=-17525092.97162176\n",
      "Losgistic Regression(112000/200000): loss=-17534278.910133857\n",
      "Losgistic Regression(113000/200000): loss=-17543322.22362305\n",
      "Losgistic Regression(114000/200000): loss=-17552227.27724787\n",
      "Losgistic Regression(115000/200000): loss=-17560998.263080467\n",
      "Losgistic Regression(116000/200000): loss=-17569639.21132063\n",
      "Losgistic Regression(117000/200000): loss=-17578154.000299282\n",
      "Losgistic Regression(118000/200000): loss=-17586546.36543788\n",
      "Losgistic Regression(119000/200000): loss=-17594819.907306068\n",
      "Losgistic Regression(120000/200000): loss=-17602978.098898266\n",
      "Losgistic Regression(121000/200000): loss=-17611024.292234577\n",
      "Losgistic Regression(122000/200000): loss=-17618961.724371083\n",
      "Losgistic Regression(123000/200000): loss=-17626793.5228987\n",
      "Losgistic Regression(124000/200000): loss=-17634522.71099164\n",
      "Losgistic Regression(125000/200000): loss=-17642152.212063603\n",
      "Losgistic Regression(126000/200000): loss=-17649684.85407687\n",
      "Losgistic Regression(127000/200000): loss=-17657123.37354593\n",
      "Losgistic Regression(128000/200000): loss=-17664470.41927034\n",
      "Losgistic Regression(129000/200000): loss=-17671728.555826336\n",
      "Losgistic Regression(130000/200000): loss=-17678900.26684325\n",
      "Losgistic Regression(131000/200000): loss=-17685987.958087157\n",
      "Losgistic Regression(132000/200000): loss=-17692993.96037038\n",
      "Losgistic Regression(133000/200000): loss=-17699920.532303743\n",
      "Losgistic Regression(134000/200000): loss=-17706769.86290609\n",
      "Losgistic Regression(135000/200000): loss=-17713544.074083492\n",
      "Losgistic Regression(136000/200000): loss=-17720245.222988892\n",
      "Losgistic Regression(137000/200000): loss=-17726875.304272033\n",
      "Losgistic Regression(138000/200000): loss=-17733436.25222772\n",
      "Losgistic Regression(139000/200000): loss=-17739929.94285017\n",
      "Losgistic Regression(140000/200000): loss=-17746358.1958\n",
      "Losgistic Regression(141000/200000): loss=-17752722.776288506\n",
      "Losgistic Regression(142000/200000): loss=-17759025.396886405\n",
      "Losgistic Regression(143000/200000): loss=-17765267.71926001\n",
      "Losgistic Regression(144000/200000): loss=-17771451.35583935\n",
      "Losgistic Regression(145000/200000): loss=-17777577.87142259\n",
      "Losgistic Regression(146000/200000): loss=-17783648.78471932\n",
      "Losgistic Regression(147000/200000): loss=-17789665.569836583\n",
      "Losgistic Regression(148000/200000): loss=-17795629.6577095\n",
      "Losgistic Regression(149000/200000): loss=-17801542.437480263\n",
      "Losgistic Regression(150000/200000): loss=-17807405.257826913\n",
      "Losgistic Regression(151000/200000): loss=-17813219.42824462\n",
      "Losgistic Regression(152000/200000): loss=-17818986.22028161\n",
      "Losgistic Regression(153000/200000): loss=-17824706.868730955\n",
      "Losgistic Regression(154000/200000): loss=-17830382.57278132\n",
      "Losgistic Regression(155000/200000): loss=-17836014.49712678\n",
      "Losgistic Regression(156000/200000): loss=-17841603.773038916\n",
      "Losgistic Regression(157000/200000): loss=-17847151.499401823\n",
      "Losgistic Regression(158000/200000): loss=-17852658.743710753\n",
      "Losgistic Regression(159000/200000): loss=-17858126.54303678\n",
      "Losgistic Regression(160000/200000): loss=-17863555.90496046\n",
      "Losgistic Regression(161000/200000): loss=-17868947.808470927\n",
      "Losgistic Regression(162000/200000): loss=-17874303.20483662\n",
      "Losgistic Regression(163000/200000): loss=-17879623.018446036\n",
      "Losgistic Regression(164000/200000): loss=-17884908.147619877\n",
      "Losgistic Regression(165000/200000): loss=-17890159.465396725\n",
      "Losgistic Regression(166000/200000): loss=-17895377.82029177\n",
      "Losgistic Regression(167000/200000): loss=-17900564.037030887\n",
      "Losgistic Regression(168000/200000): loss=-17905718.91725986\n",
      "Losgistic Regression(169000/200000): loss=-17910843.24023039\n",
      "Losgistic Regression(170000/200000): loss=-17915938.003268752\n",
      "Losgistic Regression(171000/200000): loss=-17921003.317106325\n",
      "Losgistic Regression(172000/200000): loss=-17926040.29152501\n",
      "Losgistic Regression(173000/200000): loss=-17931049.655804064\n",
      "Losgistic Regression(174000/200000): loss=-17936032.079917077\n",
      "Losgistic Regression(175000/200000): loss=-17940988.21335437\n",
      "Losgistic Regression(176000/200000): loss=-17945918.689526442\n",
      "Losgistic Regression(177000/200000): loss=-17950824.126050126\n",
      "Losgistic Regression(178000/200000): loss=-17955705.12467692\n",
      "Losgistic Regression(179000/200000): loss=-17960562.27135848\n",
      "Losgistic Regression(180000/200000): loss=-17965396.13645041\n",
      "Losgistic Regression(181000/200000): loss=-17970207.275002968\n",
      "Losgistic Regression(182000/200000): loss=-17974996.227101076\n",
      "Losgistic Regression(183000/200000): loss=-17979763.51822546\n",
      "Losgistic Regression(184000/200000): loss=-17984509.659622066\n",
      "Losgistic Regression(185000/200000): loss=-17989235.148673024\n",
      "Losgistic Regression(186000/200000): loss=-17993940.46926314\n",
      "Losgistic Regression(187000/200000): loss=-17998626.09214151\n",
      "Losgistic Regression(188000/200000): loss=-18003292.475274738\n",
      "Losgistic Regression(189000/200000): loss=-18007940.06419316\n",
      "Losgistic Regression(190000/200000): loss=-18012569.292327724\n",
      "Losgistic Regression(191000/200000): loss=-18017180.581338838\n",
      "Losgistic Regression(192000/200000): loss=-18021774.341436442\n",
      "Losgistic Regression(193000/200000): loss=-18026350.971691515\n",
      "Losgistic Regression(194000/200000): loss=-18030910.86033916\n",
      "Losgistic Regression(195000/200000): loss=-18035454.38507335\n",
      "Losgistic Regression(196000/200000): loss=-18039981.91333365\n",
      "Losgistic Regression(197000/200000): loss=-18044493.802584063\n",
      "Losgistic Regression(198000/200000): loss=-18048990.40058408\n",
      "Losgistic Regression(199000/200000): loss=-18053472.0456523\n",
      "0.8153 0.81116\n"
     ]
    }
   ],
   "source": [
    "idxes = np.arange(10000)\n",
    "L = np.linalg.eigvals(train_tX7[idxes].T @ train_tX7[idxes]).max()\n",
    "print(1/L)\n",
    "\n",
    "w, losses = reg_logistic_regression_GD(train_y7[idxes], train_tX7[idxes], gamma=1/L, \n",
    "                   max_iters = 200000, lambda_=0.0001, regularizor=regularizor_lasso)\n",
    "\n",
    "tr_acc, te_acc = prediction_and_accuracy(train_tX7[idxes], train_y7[idxes], cv_tX7, cv_y7, w)\n",
    "print(tr_acc, te_acc)"
   ]
  },
  {
   "cell_type": "code",
   "execution_count": 763,
   "metadata": {
    "collapsed": false,
    "scrolled": true
   },
   "outputs": [
    {
     "name": "stdout",
     "output_type": "stream",
     "text": [
      "(3.69755411847e-06+0j)\n",
      "Losgistic Regression(0/500000): loss=(2050782.064924333+0j)\n"
     ]
    },
    {
     "ename": "KeyboardInterrupt",
     "evalue": "",
     "output_type": "error",
     "traceback": [
      "\u001b[0;31m---------------------------------------------------------------------------\u001b[0m",
      "\u001b[0;31mKeyboardInterrupt\u001b[0m                         Traceback (most recent call last)",
      "\u001b[0;32m<ipython-input-763-6c0ef4884038>\u001b[0m in \u001b[0;36m<module>\u001b[0;34m()\u001b[0m\n\u001b[1;32m      3\u001b[0m \u001b[0mprint\u001b[0m\u001b[0;34m(\u001b[0m\u001b[0;36m1\u001b[0m\u001b[0;34m/\u001b[0m\u001b[0mL\u001b[0m\u001b[0;34m)\u001b[0m\u001b[0;34m\u001b[0m\u001b[0m\n\u001b[1;32m      4\u001b[0m w, losses = reg_logistic_regression_GD(train_y7[idxes], train_tX7[idxes], gamma=1/L, \n\u001b[0;32m----> 5\u001b[0;31m                max_iters = 500000, lambda_= 1e-6, regularizor=regularizor_lasso)\n\u001b[0m\u001b[1;32m      6\u001b[0m \u001b[0;34m\u001b[0m\u001b[0m\n\u001b[1;32m      7\u001b[0m \u001b[0mtr_acc\u001b[0m\u001b[0;34m,\u001b[0m \u001b[0mte_acc\u001b[0m \u001b[0;34m=\u001b[0m \u001b[0mprediction_and_accuracy\u001b[0m\u001b[0;34m(\u001b[0m\u001b[0mtrain_tX7\u001b[0m\u001b[0;34m[\u001b[0m\u001b[0midxes\u001b[0m\u001b[0;34m]\u001b[0m\u001b[0;34m,\u001b[0m \u001b[0mtrain_y7\u001b[0m\u001b[0;34m[\u001b[0m\u001b[0midxes\u001b[0m\u001b[0;34m]\u001b[0m\u001b[0;34m,\u001b[0m \u001b[0mcv_tX7\u001b[0m\u001b[0;34m,\u001b[0m \u001b[0mcv_y7\u001b[0m\u001b[0;34m,\u001b[0m \u001b[0mw\u001b[0m\u001b[0;34m)\u001b[0m\u001b[0;34m\u001b[0m\u001b[0m\n",
      "\u001b[0;32m/Users/helie/projects/ML_Projects/project_one_ml/scripts/functions.py\u001b[0m in \u001b[0;36mreg_logistic_regression_GD\u001b[0;34m(y, tx, gamma, max_iters, lambda_, regularizor)\u001b[0m\n\u001b[1;32m    216\u001b[0m \u001b[0;32mdef\u001b[0m \u001b[0mreg_logistic_regression_GD\u001b[0m\u001b[0;34m(\u001b[0m\u001b[0my\u001b[0m\u001b[0;34m,\u001b[0m \u001b[0mtx\u001b[0m\u001b[0;34m,\u001b[0m \u001b[0mgamma\u001b[0m\u001b[0;34m,\u001b[0m \u001b[0mmax_iters\u001b[0m\u001b[0;34m,\u001b[0m \u001b[0mlambda_\u001b[0m\u001b[0;34m,\u001b[0m \u001b[0mregularizor\u001b[0m\u001b[0;34m=\u001b[0m\u001b[0mregularizor_ridge\u001b[0m\u001b[0;34m)\u001b[0m\u001b[0;34m:\u001b[0m\u001b[0;34m\u001b[0m\u001b[0m\n\u001b[1;32m    217\u001b[0m     \u001b[0;32massert\u001b[0m\u001b[0;34m(\u001b[0m\u001b[0mlambda_\u001b[0m\u001b[0;34m>=\u001b[0m \u001b[0;36m0\u001b[0m\u001b[0;34m)\u001b[0m\u001b[0;34m\u001b[0m\u001b[0m\n\u001b[0;32m--> 218\u001b[0;31m     \u001b[0;32mreturn\u001b[0m \u001b[0mreg_logistic_regression_GD_with_init\u001b[0m\u001b[0;34m(\u001b[0m\u001b[0my\u001b[0m\u001b[0;34m,\u001b[0m \u001b[0mtx\u001b[0m\u001b[0;34m,\u001b[0m \u001b[0mgamma\u001b[0m\u001b[0;34m,\u001b[0m \u001b[0mmax_iters\u001b[0m\u001b[0;34m,\u001b[0m \u001b[0mlambda_\u001b[0m\u001b[0;34m=\u001b[0m\u001b[0mlambda_\u001b[0m\u001b[0;34m,\u001b[0m\u001b[0mregularizor\u001b[0m\u001b[0;34m=\u001b[0m\u001b[0mregularizor\u001b[0m\u001b[0;34m)\u001b[0m\u001b[0;34m\u001b[0m\u001b[0m\n\u001b[0m\u001b[1;32m    219\u001b[0m \u001b[0;34m\u001b[0m\u001b[0m\n\u001b[1;32m    220\u001b[0m \u001b[0;32mdef\u001b[0m \u001b[0mlogistic_regression_SGD\u001b[0m\u001b[0;34m(\u001b[0m\u001b[0my\u001b[0m\u001b[0;34m,\u001b[0m \u001b[0mtx\u001b[0m\u001b[0;34m,\u001b[0m \u001b[0mgamma\u001b[0m\u001b[0;34m,\u001b[0m \u001b[0mmax_iters\u001b[0m\u001b[0;34m,\u001b[0m \u001b[0mw0\u001b[0m\u001b[0;34m=\u001b[0m\u001b[0;32mNone\u001b[0m\u001b[0;34m)\u001b[0m\u001b[0;34m:\u001b[0m\u001b[0;34m\u001b[0m\u001b[0m\n",
      "\u001b[0;32m/Users/helie/projects/ML_Projects/project_one_ml/scripts/functions.py\u001b[0m in \u001b[0;36mreg_logistic_regression_GD_with_init\u001b[0;34m(y, tx, gamma, max_iters, w0, lambda_, regularizor)\u001b[0m\n\u001b[1;32m    262\u001b[0m \u001b[0;34m\u001b[0m\u001b[0m\n\u001b[1;32m    263\u001b[0m     \u001b[0;32mfor\u001b[0m \u001b[0mi\u001b[0m \u001b[0;32min\u001b[0m \u001b[0mrange\u001b[0m\u001b[0;34m(\u001b[0m\u001b[0mmax_iters\u001b[0m\u001b[0;34m)\u001b[0m\u001b[0;34m:\u001b[0m\u001b[0;34m\u001b[0m\u001b[0m\n\u001b[0;32m--> 264\u001b[0;31m         \u001b[0mw\u001b[0m \u001b[0;34m=\u001b[0m \u001b[0mw\u001b[0m \u001b[0;34m-\u001b[0m \u001b[0mgamma\u001b[0m \u001b[0;34m*\u001b[0m \u001b[0mlogistic_gradient\u001b[0m\u001b[0;34m(\u001b[0m\u001b[0my\u001b[0m\u001b[0;34m,\u001b[0m \u001b[0mtx\u001b[0m\u001b[0;34m,\u001b[0m \u001b[0mw\u001b[0m\u001b[0;34m)\u001b[0m\u001b[0;34m\u001b[0m\u001b[0m\n\u001b[0m\u001b[1;32m    265\u001b[0m         \u001b[0mcost\u001b[0m \u001b[0;34m=\u001b[0m \u001b[0mlogistic_loss\u001b[0m\u001b[0;34m(\u001b[0m\u001b[0my\u001b[0m\u001b[0;34m,\u001b[0m \u001b[0mtx\u001b[0m\u001b[0;34m,\u001b[0m \u001b[0mw\u001b[0m\u001b[0;34m)\u001b[0m\u001b[0;34m\u001b[0m\u001b[0m\n\u001b[1;32m    266\u001b[0m         \u001b[0;32mif\u001b[0m \u001b[0mi\u001b[0m \u001b[0;34m%\u001b[0m \u001b[0;36m1000\u001b[0m \u001b[0;34m==\u001b[0m \u001b[0;36m0\u001b[0m\u001b[0;34m:\u001b[0m\u001b[0;34m\u001b[0m\u001b[0m\n",
      "\u001b[0;32m/Users/helie/projects/ML_Projects/project_one_ml/scripts/functions.py\u001b[0m in \u001b[0;36mlogistic_gradient\u001b[0;34m(y, tx, w)\u001b[0m\n\u001b[1;32m    254\u001b[0m         \u001b[0;34m\"\"\"compute the gradient of loss.\"\"\"\u001b[0m\u001b[0;34m\u001b[0m\u001b[0m\n\u001b[1;32m    255\u001b[0m         \u001b[0m_\u001b[0m\u001b[0;34m,\u001b[0m \u001b[0mg\u001b[0m \u001b[0;34m=\u001b[0m \u001b[0mregularizor\u001b[0m\u001b[0;34m(\u001b[0m\u001b[0mw\u001b[0m\u001b[0;34m)\u001b[0m\u001b[0;34m\u001b[0m\u001b[0m\n\u001b[0;32m--> 256\u001b[0;31m         \u001b[0;32mreturn\u001b[0m \u001b[0mtx\u001b[0m\u001b[0;34m.\u001b[0m\u001b[0mT\u001b[0m \u001b[0;34m@\u001b[0m \u001b[0;34m(\u001b[0m\u001b[0msigmoid\u001b[0m\u001b[0;34m(\u001b[0m\u001b[0mtx\u001b[0m \u001b[0;34m@\u001b[0m \u001b[0mw\u001b[0m\u001b[0;34m)\u001b[0m \u001b[0;34m-\u001b[0m \u001b[0my\u001b[0m\u001b[0;34m)\u001b[0m \u001b[0;34m+\u001b[0m \u001b[0mlambda_\u001b[0m \u001b[0;34m*\u001b[0m \u001b[0mg\u001b[0m\u001b[0;34m\u001b[0m\u001b[0m\n\u001b[0m\u001b[1;32m    257\u001b[0m \u001b[0;34m\u001b[0m\u001b[0m\n\u001b[1;32m    258\u001b[0m     \u001b[0mw\u001b[0m \u001b[0;34m=\u001b[0m \u001b[0mnp\u001b[0m\u001b[0;34m.\u001b[0m\u001b[0mrandom\u001b[0m\u001b[0;34m.\u001b[0m\u001b[0mrandn\u001b[0m\u001b[0;34m(\u001b[0m\u001b[0mtx\u001b[0m\u001b[0;34m.\u001b[0m\u001b[0mshape\u001b[0m\u001b[0;34m[\u001b[0m\u001b[0;36m1\u001b[0m\u001b[0;34m]\u001b[0m\u001b[0;34m)\u001b[0m \u001b[0;34m*\u001b[0m \u001b[0;36m0.1\u001b[0m\u001b[0;34m\u001b[0m\u001b[0m\n",
      "\u001b[0;31mKeyboardInterrupt\u001b[0m: "
     ]
    }
   ],
   "source": [
    "idxes = np.arange(5000)\n",
    "L = np.linalg.eigvals(train_tX7[idxes].T @ train_tX7[idxes]).max()\n",
    "print(1/L)\n",
    "w, losses = reg_logistic_regression_GD(train_y7[idxes], train_tX7[idxes], gamma=1/L, \n",
    "               max_iters = 500000, lambda_= 1e-6, regularizor=regularizor_lasso)\n",
    "\n",
    "tr_acc, te_acc = prediction_and_accuracy(train_tX7[idxes], train_y7[idxes], cv_tX7, cv_y7, w)\n",
    "print(i, tr_acc, te_acc)"
   ]
  },
  {
   "cell_type": "code",
   "execution_count": 719,
   "metadata": {
    "collapsed": false
   },
   "outputs": [],
   "source": [
    "correlation_list = []\n",
    "for i in range(len(w)-1):\n",
    "    correlation_list.append(np.corrcoef(train_y7, train_tX7[:, i])[0, 1])"
   ]
  },
  {
   "cell_type": "code",
   "execution_count": 722,
   "metadata": {
    "collapsed": false,
    "scrolled": true
   },
   "outputs": [
    {
     "data": {
      "text/plain": [
       "array([  2.65129855e-02,  -3.51612919e-01,  -1.38712350e-02,\n",
       "         1.91876052e-01,   2.03718015e-01,   2.13023438e-01,\n",
       "        -1.83174366e-01,   1.31601540e-02,  -1.51333685e-02,\n",
       "         1.52662286e-01,  -1.96198138e-01,   2.72353631e-01,\n",
       "         1.75387841e-01,   2.34864606e-01,  -2.94158012e-04,\n",
       "        -4.79748618e-03,  -3.29888084e-02,   2.48140191e-03,\n",
       "         4.86870767e-03,   2.12883597e-02,   5.62790946e-03,\n",
       "         1.35090525e-01,   1.33094440e-01,   1.15036848e-01,\n",
       "        -2.56697681e-04,   1.39365659e-03,   2.32211127e-02,\n",
       "         1.37242072e-03,  -4.50596689e-03,   1.33843107e-01,\n",
       "        -4.22503370e-02,  -2.09894679e-01,  -6.31467775e-02,\n",
       "         1.06434966e-01,   2.33094856e-01,   1.75096532e-01,\n",
       "         1.81317012e-01,  -1.37815655e-02,   2.06173286e-03,\n",
       "         8.84978519e-02,  -1.00459724e-01,   4.62967153e-02,\n",
       "         2.13143137e-01,   1.26363568e-01,  -1.12019572e-01,\n",
       "        -1.44671666e-03,  -1.92796971e-02,  -1.46377790e-01,\n",
       "        -2.47121748e-03,   2.22883334e-02,   3.23624906e-04,\n",
       "         8.30113265e-02,   8.62348200e-02,   8.07217753e-02,\n",
       "         1.95750276e-01,   8.85521759e-02,   8.77029235e-03,\n",
       "         1.86384871e-01,   9.52482953e-02,   5.11589268e-02,\n",
       "        -4.90664985e-02,  -6.30038984e-02,  -3.63508109e-02,\n",
       "         1.63276303e-02,   2.27360557e-01,   1.18168301e-01,\n",
       "        -1.33579922e-01,  -3.81670787e-02,   2.93492027e-03,\n",
       "         3.91113254e-02,  -3.36458940e-02,   2.50089338e-01,\n",
       "         2.17023486e-01,   3.74269855e-02,   1.29428493e-03,\n",
       "        -2.43513983e-03,  -7.84938556e-03,   2.89080197e-03,\n",
       "         2.86141122e-03,   4.57132011e-03,   2.39176022e-03,\n",
       "         3.90604196e-02,   4.98079693e-02,   4.44785511e-02,\n",
       "         1.97998449e-03,   1.51299647e-03,  -4.17043612e-03,\n",
       "         3.91378005e-04,  -3.77494031e-03,   8.12723929e-03,\n",
       "        -3.44925065e-02,  -1.38334072e-02,  -1.32643427e-02,\n",
       "         4.37465398e-03,   2.10426051e-01,   7.36977091e-02,\n",
       "         1.12715032e-01,  -5.77959765e-02,   2.92614511e-03,\n",
       "         1.38871506e-02,  -1.16356262e-02,   2.98185903e-02,\n",
       "         2.14309616e-01,   7.91169191e-03,  -1.07215211e-01,\n",
       "        -9.44478783e-04,  -3.61987122e-03,  -1.36937512e-01,\n",
       "        -2.15002143e-03,   3.04912762e-03,  -3.29993414e-04,\n",
       "         1.36936533e-02,   2.46375152e-02,   1.97294368e-02,\n",
       "         1.56738089e-01,   6.60647683e-02,  -6.78762277e-03,\n",
       "         1.59555743e-01,   7.45483074e-02,  -4.56185279e-03])"
      ]
     },
     "execution_count": 722,
     "metadata": {},
     "output_type": "execute_result"
    }
   ],
   "source": [
    "c = np.array(correlation_list)"
   ]
  },
  {
   "cell_type": "code",
   "execution_count": 728,
   "metadata": {
    "collapsed": false
   },
   "outputs": [
    {
     "data": {
      "text/plain": [
       "array([ 14,  15,  17,  18,  20,  24,  25,  27,  28,  38,  45,  48,  50,\n",
       "        56,  68,  74,  75,  76,  77,  78,  79,  80,  84,  85,  86,  87,\n",
       "        88,  89,  93,  98, 103, 105, 106, 108, 109, 110, 116, 119])"
      ]
     },
     "execution_count": 728,
     "metadata": {},
     "output_type": "execute_result"
    }
   ],
   "source": [
    "np.arange(len(c))[abs(c) < 0.01]"
   ]
  },
  {
   "cell_type": "code",
   "execution_count": 730,
   "metadata": {
    "collapsed": false,
    "scrolled": true
   },
   "outputs": [
    {
     "data": {
      "text/plain": [
       "array([  2,   6,   9,  11,  14,  15,  20,  24,  25,  27,  36,  41,  47,\n",
       "        48,  50,  55,  56,  68,  72,  74,  75,  77,  80,  82,  84,  85,\n",
       "        87, 101, 104, 108, 110, 115, 117])"
      ]
     },
     "execution_count": 730,
     "metadata": {},
     "output_type": "execute_result"
    }
   ],
   "source": [
    "np.arange(len(w))[abs(w) < 0.1]"
   ]
  },
  {
   "cell_type": "markdown",
   "metadata": {},
   "source": [
    "## Best Results ever"
   ]
  },
  {
   "cell_type": "code",
   "execution_count": 882,
   "metadata": {
    "collapsed": false
   },
   "outputs": [
    {
     "name": "stdout",
     "output_type": "stream",
     "text": [
      "6.37656429545e-06\n",
      "Losgistic Regression(0/150000): loss=6128.661958753694\n",
      "Losgistic Regression(1000/150000): loss=4382.793973805763\n",
      "Losgistic Regression(2000/150000): loss=4321.439300698346\n",
      "Losgistic Regression(3000/150000): loss=4291.208251980238\n",
      "Losgistic Regression(4000/150000): loss=4270.574245773539\n",
      "Losgistic Regression(5000/150000): loss=4255.255208797125\n",
      "Losgistic Regression(6000/150000): loss=4244.187346417512\n",
      "Losgistic Regression(7000/150000): loss=4236.342382593083\n",
      "Losgistic Regression(8000/150000): loss=4229.2149455352765\n",
      "Losgistic Regression(9000/150000): loss=4222.549848793302\n",
      "Losgistic Regression(10000/150000): loss=4216.256821112506\n",
      "Losgistic Regression(11000/150000): loss=4210.280363793595\n",
      "Losgistic Regression(12000/150000): loss=4204.581620909371\n",
      "Losgistic Regression(13000/150000): loss=4199.130612876477\n",
      "Losgistic Regression(14000/150000): loss=4193.902700925177\n",
      "Losgistic Regression(15000/150000): loss=4188.876869375156\n",
      "Losgistic Regression(16000/150000): loss=4184.034829564825\n",
      "Losgistic Regression(17000/150000): loss=4179.3605048153\n",
      "Losgistic Regression(18000/150000): loss=4175.203975960235\n",
      "Losgistic Regression(19000/150000): loss=4172.128890451348\n",
      "Losgistic Regression(20000/150000): loss=4169.404308525439\n",
      "Losgistic Regression(21000/150000): loss=4166.945582792079\n",
      "Losgistic Regression(22000/150000): loss=4164.697910753656\n",
      "Losgistic Regression(23000/150000): loss=4162.623370955874\n",
      "Losgistic Regression(24000/150000): loss=4160.694444672941\n",
      "Losgistic Regression(25000/150000): loss=4158.890417925157\n",
      "Losgistic Regression(26000/150000): loss=4157.195232293507\n",
      "Losgistic Regression(27000/150000): loss=4155.596121161573\n",
      "Losgistic Regression(28000/150000): loss=4154.082702688859\n",
      "Losgistic Regression(29000/150000): loss=4152.646368926147\n",
      "Losgistic Regression(30000/150000): loss=4151.279853515938\n",
      "Losgistic Regression(31000/150000): loss=4149.976926771299\n",
      "Losgistic Regression(32000/150000): loss=4148.732176552424\n",
      "Losgistic Regression(33000/150000): loss=4147.540849240619\n",
      "Losgistic Regression(34000/150000): loss=4146.398730789539\n",
      "Losgistic Regression(35000/150000): loss=4145.3020601081635\n",
      "Losgistic Regression(36000/150000): loss=4144.247460850778\n",
      "Losgistic Regression(37000/150000): loss=4143.231888176198\n",
      "Losgistic Regression(38000/150000): loss=4142.252586093812\n",
      "Losgistic Regression(39000/150000): loss=4141.307052495995\n",
      "Losgistic Regression(40000/150000): loss=4140.393009940427\n",
      "Losgistic Regression(41000/150000): loss=4139.50838085982\n",
      "Losgistic Regression(42000/150000): loss=4138.65126787957\n",
      "Losgistic Regression(43000/150000): loss=4137.819930481284\n",
      "Losgistic Regression(44000/150000): loss=4137.0127732559595\n",
      "Losgistic Regression(45000/150000): loss=4136.228330432692\n",
      "Losgistic Regression(46000/150000): loss=4135.465253085196\n",
      "Losgistic Regression(47000/150000): loss=4134.1443323593485\n",
      "Losgistic Regression(48000/150000): loss=4132.836213664394\n",
      "Losgistic Regression(49000/150000): loss=4131.548598167255\n",
      "Losgistic Regression(50000/150000): loss=4130.280447452421\n",
      "Losgistic Regression(51000/150000): loss=4129.030794438789\n",
      "Losgistic Regression(52000/150000): loss=4127.7987378407415\n",
      "Losgistic Regression(53000/150000): loss=4126.583436998648\n",
      "Losgistic Regression(54000/150000): loss=4125.3841070212775\n",
      "Losgistic Regression(55000/150000): loss=4124.200014284044\n",
      "Losgistic Regression(56000/150000): loss=4123.030472284158\n",
      "Losgistic Regression(57000/150000): loss=4121.87483784062\n",
      "Losgistic Regression(58000/150000): loss=4120.732507621012\n",
      "Losgistic Regression(59000/150000): loss=4119.602914974805\n",
      "Losgistic Regression(60000/150000): loss=4118.485527050165\n",
      "Losgistic Regression(61000/150000): loss=4117.379842171625\n",
      "Losgistic Regression(62000/150000): loss=4116.28538745605\n",
      "Losgistic Regression(63000/150000): loss=4115.201716646274\n",
      "Losgistic Regression(64000/150000): loss=4114.128408140856\n",
      "Losgistic Regression(65000/150000): loss=4113.065063202537\n",
      "Losgistic Regression(66000/150000): loss=4112.011304327397\n",
      "Losgistic Regression(67000/150000): loss=4110.966773759254\n",
      "Losgistic Regression(68000/150000): loss=4109.931132134869\n",
      "Losgistic Regression(69000/150000): loss=4108.9040572471185\n",
      "Losgistic Regression(70000/150000): loss=4107.88524291448\n",
      "Losgistic Regression(71000/150000): loss=4106.874397946057\n",
      "Losgistic Regression(72000/150000): loss=4105.8712451931\n",
      "Losgistic Regression(73000/150000): loss=4104.875520678365\n",
      "Losgistic Regression(74000/150000): loss=4103.886972795643\n",
      "Losgistic Regression(75000/150000): loss=4102.905361572792\n",
      "Losgistic Regression(76000/150000): loss=4101.930457992193\n",
      "Losgistic Regression(77000/150000): loss=4100.962043363106\n",
      "Losgistic Regression(78000/150000): loss=4099.999908741166\n",
      "Losgistic Regression(79000/150000): loss=4099.043854390546\n",
      "Losgistic Regression(80000/150000): loss=4098.093689285304\n",
      "Losgistic Regression(81000/150000): loss=4097.149230644885\n",
      "Losgistic Regression(82000/150000): loss=4096.2103035032105\n",
      "Losgistic Regression(83000/150000): loss=4095.2767403064836\n",
      "Losgistic Regression(84000/150000): loss=4094.348380641769\n",
      "Losgistic Regression(85000/150000): loss=4093.4250696102904\n",
      "Losgistic Regression(86000/150000): loss=4092.5066611711864\n",
      "Losgistic Regression(87000/150000): loss=4091.593013716083\n",
      "Losgistic Regression(88000/150000): loss=4090.6839912387345\n",
      "Losgistic Regression(89000/150000): loss=4089.779463475005\n",
      "Losgistic Regression(90000/150000): loss=4088.8793054909006\n",
      "Losgistic Regression(91000/150000): loss=4087.9833973753302\n",
      "Losgistic Regression(92000/150000): loss=4087.091623991697\n",
      "Losgistic Regression(93000/150000): loss=4086.2038746801322\n",
      "Losgistic Regression(94000/150000): loss=4085.3200435459976\n",
      "Losgistic Regression(95000/150000): loss=4084.4400271378972\n",
      "Losgistic Regression(96000/150000): loss=4083.563726604002\n",
      "Losgistic Regression(97000/150000): loss=4082.6910490395876\n",
      "Losgistic Regression(98000/150000): loss=4081.821904073697\n",
      "Losgistic Regression(99000/150000): loss=4080.9562047323307\n",
      "Losgistic Regression(100000/150000): loss=4080.0938673345763\n",
      "Losgistic Regression(101000/150000): loss=4079.234811363942\n",
      "Losgistic Regression(102000/150000): loss=4078.3789593505944\n",
      "Losgistic Regression(103000/150000): loss=4077.5262367569426\n",
      "Losgistic Regression(104000/150000): loss=4076.6765718659494\n",
      "Losgistic Regression(105000/150000): loss=4075.8298956724216\n",
      "Losgistic Regression(106000/150000): loss=4074.986141777644\n",
      "Losgistic Regression(107000/150000): loss=4074.145246287765\n",
      "Losgistic Regression(108000/150000): loss=4073.3071477161557\n",
      "Losgistic Regression(109000/150000): loss=4072.471786889442\n",
      "Losgistic Regression(110000/150000): loss=4071.639106857446\n",
      "Losgistic Regression(111000/150000): loss=4070.8090528066728\n",
      "Losgistic Regression(112000/150000): loss=4069.981571977565\n",
      "Losgistic Regression(113000/150000): loss=4069.1566135849607\n",
      "Losgistic Regression(114000/150000): loss=4068.334128741864\n",
      "Losgistic Regression(115000/150000): loss=4067.514070386298\n",
      "Losgistic Regression(116000/150000): loss=4066.6963932110834\n",
      "Losgistic Regression(117000/150000): loss=4065.8810555570626\n",
      "Losgistic Regression(118000/150000): loss=4065.068013712836\n",
      "Losgistic Regression(119000/150000): loss=4064.25722701785\n",
      "Losgistic Regression(120000/150000): loss=4063.44865651399\n",
      "Losgistic Regression(121000/150000): loss=4062.642264707486\n",
      "Losgistic Regression(122000/150000): loss=4061.83801549441\n",
      "Losgistic Regression(123000/150000): loss=4061.0358741047557\n",
      "Losgistic Regression(124000/150000): loss=4060.235807051358\n",
      "Losgistic Regression(125000/150000): loss=4059.437782534584\n",
      "Losgistic Regression(126000/150000): loss=4058.641769063937\n",
      "Losgistic Regression(127000/150000): loss=4057.8477366387892\n",
      "Losgistic Regression(128000/150000): loss=4057.055656489738\n",
      "Losgistic Regression(129000/150000): loss=4056.2655008337697\n",
      "Losgistic Regression(130000/150000): loss=4055.477242900723\n",
      "Losgistic Regression(131000/150000): loss=4054.6908568974927\n",
      "Losgistic Regression(132000/150000): loss=4053.906317968484\n",
      "Losgistic Regression(133000/150000): loss=4053.1236021583495\n",
      "Losgistic Regression(134000/150000): loss=4052.3426863762284\n",
      "Losgistic Regression(135000/150000): loss=4051.5635483610204\n",
      "Losgistic Regression(136000/150000): loss=4050.7861666489475\n",
      "Losgistic Regression(137000/150000): loss=4050.010520541866\n",
      "Losgistic Regression(138000/150000): loss=4049.236590076733\n",
      "Losgistic Regression(139000/150000): loss=4048.46435599626\n",
      "Losgistic Regression(140000/150000): loss=4047.6937997206537\n",
      "Losgistic Regression(141000/150000): loss=4046.9249033204223\n",
      "Losgistic Regression(142000/150000): loss=4046.1576494901965\n",
      "Losgistic Regression(143000/150000): loss=4045.3920215234975\n",
      "Losgistic Regression(144000/150000): loss=4044.62800328853\n",
      "Losgistic Regression(145000/150000): loss=4043.8655792049185\n",
      "Losgistic Regression(146000/150000): loss=4043.1047339495753\n",
      "Losgistic Regression(147000/150000): loss=4042.3454523613855\n",
      "Losgistic Regression(148000/150000): loss=4041.587721752981\n",
      "Losgistic Regression(149000/150000): loss=4040.8315283470806\n",
      "0.8207 0.81404\n"
     ]
    }
   ],
   "source": [
    "idxes = np.arange(10000)\n",
    "L = np.linalg.eigvals(train_tX7[idxes].T @ train_tX7[idxes]).max()\n",
    "print(1/L)\n",
    "\n",
    "w, losses = reg_logistic_regression_GD(train_y7[idxes], train_tX7[idxes], gamma=0.0001, \n",
    "                   max_iters = 150000, lambda_=0.00001, regularizor=regularizor_lasso)\n",
    "\n",
    "tr_acc, te_acc = prediction_and_accuracy(train_tX7[idxes], train_y7[idxes], cv_tX7, cv_y7, w)\n",
    "print(tr_acc, te_acc)"
   ]
  },
  {
   "cell_type": "code",
   "execution_count": 902,
   "metadata": {
    "collapsed": false
   },
   "outputs": [
    {
     "name": "stdout",
     "output_type": "stream",
     "text": [
      "2.79002650416e-06\n",
      "Losgistic Regression(0/150000): loss=7981.108636380177\n",
      "Losgistic Regression(100/150000): loss=7981.110107054736\n",
      "0.00147067455873\n",
      "Totoal number of iterations =  100\n",
      "Loss =  7981.11010705\n",
      "0.8212 0.8158\n"
     ]
    }
   ],
   "source": [
    "idxes = np.arange(20000)\n",
    "L = np.linalg.eigvals(train_tX7[idxes].T @ train_tX7[idxes]).max()\n",
    "print(1/L)\n",
    "\n",
    "w_agdr = logistic_AGDR(train_y7[idxes], train_tX7[idxes], gamma=1/L, \n",
    "                   max_iters = 150000, lambda_=0.00001, regularizor=regularizor_lasso, w0=w_agdr)\n",
    "\n",
    "tr_acc, te_acc = prediction_and_accuracy(train_tX7[idxes], train_y7[idxes], \n",
    "                                         cv_tX7, cv_y7, w_agdr)\n",
    "print(tr_acc, te_acc)"
   ]
  },
  {
   "cell_type": "code",
   "execution_count": 898,
   "metadata": {
    "collapsed": false
   },
   "outputs": [
    {
     "data": {
      "text/plain": [
       "array([  1.03230119e+01,   8.72829146e-01,   1.80618295e+00,\n",
       "         1.76614532e-01,  -1.91718656e+00,  -1.73407054e+00,\n",
       "        -1.32845968e-01,   9.99409928e+00,  -7.84458112e-02,\n",
       "        -3.32218947e-01,  -2.93981054e+00,   6.25846578e-02,\n",
       "         2.12576775e-01,  -3.39203801e-01,   4.39780896e-02,\n",
       "         1.62641950e-02,   2.70709896e+00,   3.43499201e-02,\n",
       "         4.74550806e-04,  -4.25686853e-01,   3.12686061e-02,\n",
       "         1.08517303e+00,   1.53254173e-01,   1.58320298e+00,\n",
       "        -3.96805792e-02,  -1.08817579e-02,   9.38729270e-01,\n",
       "         4.75880670e-02,  -3.50876529e-02,  -2.82148526e-01,\n",
       "        -2.61762925e+01,  -6.11373725e+00,  -1.23944036e+01,\n",
       "         1.76741777e+00,   7.22834343e+00,   5.69466116e+00,\n",
       "        -8.47058102e-02,  -1.86781609e+01,   8.90956905e-01,\n",
       "        -8.66581649e-01,   4.15964929e+00,   2.46080678e-01,\n",
       "        -3.35989271e-01,   1.86089696e+00,  -1.25807891e-01,\n",
       "        -1.22027872e-02,  -2.70569586e+00,  -5.39981561e-02,\n",
       "        -8.49681047e-03,   1.25436194e+00,   1.27764654e-01,\n",
       "        -3.08091596e+00,  -3.66003968e-01,  -2.30929260e+00,\n",
       "         4.62760443e-01,   4.48733387e-04,  -1.55529567e+00,\n",
       "         2.14080777e-01,  -1.34783452e-01,   4.31905630e-01,\n",
       "         2.63126895e+01,   1.40998997e+01,   2.85073516e+01,\n",
       "        -6.44607326e+00,  -9.56901543e+00,  -8.50945214e+00,\n",
       "         1.17511098e-01,   1.34765696e+01,  -1.35748213e+00,\n",
       "        -1.09208800e+00,  -5.56262088e+00,   4.69336829e-02,\n",
       "         5.51453701e-01,  -3.21813813e+00,  -3.75410025e-02,\n",
       "         1.18378061e-02,   3.13523163e+00,  -3.99101954e-02,\n",
       "        -5.86370670e-03,  -4.10003952e+00,  -4.38851120e-02,\n",
       "         3.42151408e+00,   7.29297450e-01,   1.54673037e+00,\n",
       "         3.68621403e-02,   1.13320625e-02,   1.18483982e+00,\n",
       "        -5.18247532e-02,   4.77361125e-02,   1.89507617e+00,\n",
       "        -1.01275719e+01,  -1.28326833e+01,  -3.10041595e+01,\n",
       "         7.02536302e+00,   4.51901849e+00,   5.29566808e+00,\n",
       "        -1.00078938e-01,  -3.27021273e+00,  -3.11344134e-01,\n",
       "         1.15438954e+00,   3.93413646e+00,  -2.01111235e-01,\n",
       "        -2.05113489e-01,   3.33579368e+00,   1.85179401e-03,\n",
       "        -1.53057287e-02,  -2.01172006e+00,  -1.43486395e-01,\n",
       "         1.24575918e-02,   4.47377555e+00,  -1.64239763e-01,\n",
       "        -1.74098854e+00,  -5.94978937e-01,  -3.97707694e-01,\n",
       "        -9.38507595e-02,  -3.10589372e-02,  -1.01056097e-01,\n",
       "        -7.57379114e-03,   1.24677337e-01,  -2.10009147e+00,\n",
       "        -1.56260684e+00])"
      ]
     },
     "execution_count": 898,
     "metadata": {},
     "output_type": "execute_result"
    }
   ],
   "source": [
    "w_agdr"
   ]
  },
  {
   "cell_type": "code",
   "execution_count": 900,
   "metadata": {
    "collapsed": false
   },
   "outputs": [
    {
     "data": {
      "text/plain": [
       "array([  1.03230119e+01,   8.72829146e-01,   1.80618295e+00,\n",
       "         1.76614532e-01,  -1.91718656e+00,  -1.73407054e+00,\n",
       "        -1.32845968e-01,   9.99409928e+00,  -7.84458112e-02,\n",
       "        -3.32218947e-01,  -2.93981054e+00,   6.25846578e-02,\n",
       "         2.12576775e-01,  -3.39203801e-01,   4.39780896e-02,\n",
       "         1.62641950e-02,   2.70709896e+00,   3.43499201e-02,\n",
       "         4.74550806e-04,  -4.25686853e-01,   3.12686061e-02,\n",
       "         1.08517303e+00,   1.53254173e-01,   1.58320298e+00,\n",
       "        -3.96805792e-02,  -1.08817579e-02,   9.38729270e-01,\n",
       "         4.75880670e-02,  -3.50876529e-02,  -2.82148526e-01,\n",
       "        -2.61762925e+01,  -6.11373725e+00,  -1.23944036e+01,\n",
       "         1.76741777e+00,   7.22834343e+00,   5.69466116e+00,\n",
       "        -8.47058102e-02,  -1.86781609e+01,   8.90956905e-01,\n",
       "        -8.66581649e-01,   4.15964929e+00,   2.46080678e-01,\n",
       "        -3.35989271e-01,   1.86089696e+00,  -1.25807891e-01,\n",
       "        -1.22027872e-02,  -2.70569586e+00,  -5.39981561e-02,\n",
       "        -8.49681047e-03,   1.25436194e+00,   1.27764654e-01,\n",
       "        -3.08091596e+00,  -3.66003968e-01,  -2.30929260e+00,\n",
       "         4.62760443e-01,   4.48733387e-04,  -1.55529567e+00,\n",
       "         2.14080777e-01,  -1.34783452e-01,   4.31905630e-01,\n",
       "         2.63126895e+01,   1.40998997e+01,   2.85073516e+01,\n",
       "        -6.44607326e+00,  -9.56901543e+00,  -8.50945214e+00,\n",
       "         1.17511098e-01,   1.34765696e+01,  -1.35748213e+00,\n",
       "        -1.09208800e+00,  -5.56262088e+00,   4.69336829e-02,\n",
       "         5.51453701e-01,  -3.21813813e+00,  -3.75410025e-02,\n",
       "         1.18378061e-02,   3.13523163e+00,  -3.99101954e-02,\n",
       "        -5.86370670e-03,  -4.10003952e+00,  -4.38851120e-02,\n",
       "         3.42151408e+00,   7.29297450e-01,   1.54673037e+00,\n",
       "         3.68621403e-02,   1.13320625e-02,   1.18483982e+00,\n",
       "        -5.18247532e-02,   4.77361125e-02,   1.89507617e+00,\n",
       "        -1.01275719e+01,  -1.28326833e+01,  -3.10041595e+01,\n",
       "         7.02536302e+00,   4.51901849e+00,   5.29566808e+00,\n",
       "        -1.00078938e-01,  -3.27021273e+00,  -3.11344134e-01,\n",
       "         1.15438954e+00,   3.93413646e+00,  -2.01111235e-01,\n",
       "        -2.05113489e-01,   3.33579368e+00,   1.85179401e-03,\n",
       "        -1.53057287e-02,  -2.01172006e+00,  -1.43486395e-01,\n",
       "         1.24575918e-02,   4.47377555e+00,  -1.64239763e-01,\n",
       "        -1.74098854e+00,  -5.94978937e-01,  -3.97707694e-01,\n",
       "        -9.38507595e-02,  -3.10589372e-02,  -1.01056097e-01,\n",
       "        -7.57379114e-03,   1.24677337e-01,  -2.10009147e+00,\n",
       "        -1.56260684e+00])"
      ]
     },
     "execution_count": 900,
     "metadata": {},
     "output_type": "execute_result"
    }
   ],
   "source": [
    "w1 = w_agdr\n",
    "w1"
   ]
  },
  {
   "cell_type": "markdown",
   "metadata": {},
   "source": [
    "# test"
   ]
  },
  {
   "cell_type": "code",
   "execution_count": 750,
   "metadata": {
    "collapsed": false
   },
   "outputs": [],
   "source": [
    "no_missing_featuers = [i for i in range(30) if i not in columns_with_missing_values]"
   ]
  },
  {
   "cell_type": "code",
   "execution_count": 658,
   "metadata": {
    "collapsed": true
   },
   "outputs": [],
   "source": [
    "status_tX =np.sum(tX == -999, axis=1)"
   ]
  },
  {
   "cell_type": "code",
   "execution_count": 883,
   "metadata": {
    "collapsed": true
   },
   "outputs": [],
   "source": [
    "non_missing_tX = tX[status_tX == 0, :]\n",
    "missing_tX = tX[status_tX != 0, :]"
   ]
  },
  {
   "cell_type": "code",
   "execution_count": 751,
   "metadata": {
    "collapsed": false
   },
   "outputs": [
    {
     "data": {
      "text/plain": [
       "(250000, 301)"
      ]
     },
     "execution_count": 751,
     "metadata": {},
     "output_type": "execute_result"
    }
   ],
   "source": [
    "tmp = build_polynomial_without_mixed_term(fill_na(tX, np.median), degree=10)\n",
    "tX7, mean_x7, std_x7 = standardize(tmp)\n",
    "y7 = transform_y(y)\n",
    "tX7.shape"
   ]
  },
  {
   "cell_type": "code",
   "execution_count": 759,
   "metadata": {
    "collapsed": false
   },
   "outputs": [
    {
     "data": {
      "text/plain": [
       "(25000, 301)"
      ]
     },
     "execution_count": 759,
     "metadata": {},
     "output_type": "execute_result"
    }
   ],
   "source": [
    "training_ratio = 0.9\n",
    "train_tX7, cv_tX7, train_y7, cv_y7 = split_data(tX7, y7, training_ratio)\n",
    "cv_tX7.shape"
   ]
  },
  {
   "cell_type": "code",
   "execution_count": 758,
   "metadata": {
    "collapsed": false,
    "scrolled": true
   },
   "outputs": [
    {
     "name": "stdout",
     "output_type": "stream",
     "text": [
      "(3.49473614186e-05+0j)\n",
      "Losgistic Regression(0/100000): loss=-44619.0435651786\n",
      "Losgistic Regression(1000/100000): loss=-154856.83025499398\n",
      "Losgistic Regression(2000/100000): loss=-142309.8661505646\n",
      "Losgistic Regression(3000/100000): loss=-145717.54056625118\n",
      "Losgistic Regression(4000/100000): loss=-152960.1357161893\n",
      "Losgistic Regression(5000/100000): loss=-159643.1937239881\n",
      "Losgistic Regression(6000/100000): loss=-165739.41687550774\n",
      "Losgistic Regression(7000/100000): loss=-171345.22204597376\n",
      "Losgistic Regression(8000/100000): loss=-176512.10742339757\n",
      "Losgistic Regression(9000/100000): loss=-181282.82337985822\n",
      "Losgistic Regression(10000/100000): loss=-185699.22739621307\n",
      "Losgistic Regression(11000/100000): loss=-189801.72317867383\n",
      "Losgistic Regression(12000/100000): loss=-193628.15191199194\n",
      "Losgistic Regression(13000/100000): loss=-197213.15342974968\n",
      "Losgistic Regression(14000/100000): loss=-200587.66586620157\n",
      "Losgistic Regression(15000/100000): loss=-203778.91895909168\n",
      "Losgistic Regression(16000/100000): loss=-206810.53935261403\n",
      "Losgistic Regression(17000/100000): loss=-209702.7837786889\n",
      "Losgistic Regression(18000/100000): loss=-212472.59171053203\n",
      "Losgistic Regression(19000/100000): loss=-215134.17057606805\n",
      "Losgistic Regression(20000/100000): loss=-217699.28307508634\n",
      "Losgistic Regression(21000/100000): loss=-220177.58871101835\n",
      "Losgistic Regression(22000/100000): loss=-222576.9659365387\n",
      "Losgistic Regression(23000/100000): loss=-224903.9611453428\n",
      "Losgistic Regression(24000/100000): loss=-227164.09602443394\n",
      "Losgistic Regression(25000/100000): loss=-229362.0411662442\n",
      "Losgistic Regression(26000/100000): loss=-231501.88559864002\n",
      "Losgistic Regression(27000/100000): loss=-233587.2209028704\n",
      "Losgistic Regression(28000/100000): loss=-235621.2218698786\n",
      "Losgistic Regression(29000/100000): loss=-237606.78000594256\n",
      "Losgistic Regression(30000/100000): loss=-239546.52944255868\n",
      "Losgistic Regression(31000/100000): loss=-241442.8217958809\n",
      "Losgistic Regression(32000/100000): loss=-243297.82236092674\n",
      "Losgistic Regression(33000/100000): loss=-245113.5152853879\n",
      "Losgistic Regression(34000/100000): loss=-246891.67364572638\n",
      "Losgistic Regression(35000/100000): loss=-248633.95649644628\n",
      "Losgistic Regression(36000/100000): loss=-250341.88141672823\n",
      "Losgistic Regression(37000/100000): loss=-252016.84054350836\n",
      "Losgistic Regression(38000/100000): loss=-253660.11825247837\n",
      "Losgistic Regression(39000/100000): loss=-255272.90634234785\n",
      "Losgistic Regression(40000/100000): loss=-256856.29370029861\n",
      "Losgistic Regression(41000/100000): loss=-258411.31548304757\n",
      "Losgistic Regression(42000/100000): loss=-259938.95295832277\n",
      "Losgistic Regression(43000/100000): loss=-261440.0928176191\n",
      "Losgistic Regression(44000/100000): loss=-262915.6105595232\n",
      "Losgistic Regression(45000/100000): loss=-264366.3212414645\n",
      "Losgistic Regression(46000/100000): loss=-265793.00051039056\n",
      "Losgistic Regression(47000/100000): loss=-267196.4036268392\n",
      "Losgistic Regression(48000/100000): loss=-268577.2756116806\n",
      "Losgistic Regression(49000/100000): loss=-269936.2498388919\n",
      "Losgistic Regression(50000/100000): loss=-271274.0023760741\n",
      "Losgistic Regression(51000/100000): loss=-272591.1756603653\n",
      "Losgistic Regression(52000/100000): loss=-273888.3871307957\n",
      "Losgistic Regression(53000/100000): loss=-275166.2319600392\n",
      "Losgistic Regression(54000/100000): loss=-276425.2845359411\n",
      "Losgistic Regression(55000/100000): loss=-277666.10064163036\n",
      "Losgistic Regression(56000/100000): loss=-278889.21423312277\n",
      "Losgistic Regression(57000/100000): loss=-280095.13163128117\n",
      "Losgistic Regression(58000/100000): loss=-281284.3803962245\n",
      "Losgistic Regression(59000/100000): loss=-282457.4308686122\n",
      "Losgistic Regression(60000/100000): loss=-283614.73871331936\n",
      "Losgistic Regression(61000/100000): loss=-284756.7512317457\n",
      "Losgistic Regression(62000/100000): loss=-285883.90928247094\n",
      "Losgistic Regression(63000/100000): loss=-286996.6375226465\n",
      "Losgistic Regression(64000/100000): loss=-288095.35342889436\n",
      "Losgistic Regression(65000/100000): loss=-289180.4231357479\n",
      "Losgistic Regression(66000/100000): loss=-290252.2157900949\n",
      "Losgistic Regression(67000/100000): loss=-291311.09705059323\n",
      "Losgistic Regression(68000/100000): loss=-292357.421185898\n",
      "Losgistic Regression(69000/100000): loss=-293391.5282476685\n",
      "Losgistic Regression(70000/100000): loss=-294413.74384509516\n",
      "Losgistic Regression(71000/100000): loss=-295424.3814324547\n",
      "Losgistic Regression(72000/100000): loss=-296423.7389413081\n",
      "Losgistic Regression(73000/100000): loss=-297412.15044429246\n",
      "Losgistic Regression(74000/100000): loss=-298389.82647354365\n",
      "Losgistic Regression(75000/100000): loss=-299357.0674870768\n",
      "Losgistic Regression(76000/100000): loss=-300314.1338254353\n",
      "Losgistic Regression(77000/100000): loss=-301261.27851260814\n",
      "Losgistic Regression(78000/100000): loss=-302198.7446867059\n",
      "Losgistic Regression(79000/100000): loss=-303126.7666095449\n",
      "Losgistic Regression(80000/100000): loss=-304045.5655279103\n",
      "Losgistic Regression(81000/100000): loss=-304955.3565329858\n",
      "Losgistic Regression(82000/100000): loss=-305856.3484860978\n",
      "Losgistic Regression(83000/100000): loss=-306748.75882233016\n",
      "Losgistic Regression(84000/100000): loss=-307632.77709619916\n",
      "Losgistic Regression(85000/100000): loss=-308508.6003767585\n",
      "Losgistic Regression(86000/100000): loss=-309376.48164036963\n",
      "Losgistic Regression(87000/100000): loss=-310236.55093015207\n",
      "Losgistic Regression(88000/100000): loss=-311088.9346418826\n",
      "Losgistic Regression(89000/100000): loss=-311933.8037545129\n",
      "Losgistic Regression(90000/100000): loss=-312771.31804656103\n",
      "Losgistic Regression(91000/100000): loss=-313601.6334482724\n",
      "Losgistic Regression(92000/100000): loss=-314424.8991449588\n",
      "Losgistic Regression(93000/100000): loss=-315241.25893033994\n",
      "Losgistic Regression(94000/100000): loss=-316050.8514492733\n",
      "Losgistic Regression(95000/100000): loss=-316853.808615489\n",
      "Losgistic Regression(96000/100000): loss=-317650.2647809219\n",
      "Losgistic Regression(97000/100000): loss=-318440.3446491304\n",
      "Losgistic Regression(98000/100000): loss=-319224.1700612231\n",
      "Losgistic Regression(99000/100000): loss=-320001.8591833757\n",
      "0.843 0.77476\n"
     ]
    }
   ],
   "source": [
    "idxes = np.arange(1000)\n",
    "L = np.linalg.eigvals(train_tX7[idxes].T @ train_tX7[idxes]).max()\n",
    "print(1/L)\n",
    "\n",
    "w, losses = reg_logistic_regression_GD(train_y7[idxes], train_tX7[idxes], gamma=1e-5, \n",
    "                   max_iters = 100000, lambda_=0.0001, regularizor=regularizor_lasso)\n",
    "\n",
    "tr_acc, te_acc = prediction_and_accuracy(train_tX7[idxes], train_y7[idxes], cv_tX7, cv_y7, w)\n",
    "print(tr_acc, te_acc)"
   ]
  },
  {
   "cell_type": "markdown",
   "metadata": {},
   "source": [
    "# Only items whose values are good"
   ]
  },
  {
   "cell_type": "code",
   "execution_count": null,
   "metadata": {
    "collapsed": true
   },
   "outputs": [],
   "source": []
  },
  {
   "cell_type": "markdown",
   "metadata": {},
   "source": [
    "## Generate predictions and save ouput in csv format for submission:"
   ]
  },
  {
   "cell_type": "code",
   "execution_count": 331,
   "metadata": {
    "collapsed": false
   },
   "outputs": [],
   "source": [
    "DATA_TEST_PATH = '../data/test.csv'\n",
    "_, tX_test, ids_test = load_csv_data(DATA_TEST_PATH)"
   ]
  },
  {
   "cell_type": "code",
   "execution_count": 884,
   "metadata": {
    "collapsed": false,
    "scrolled": true
   },
   "outputs": [
    {
     "data": {
      "text/plain": [
       "[0, 1, 2, 3, 4, 5, 7, 8, 9, 10, 12, 13, 16, 19, 21, 22, 23, 26, 29]"
      ]
     },
     "execution_count": 884,
     "metadata": {},
     "output_type": "execute_result"
    }
   ],
   "source": [
    "def fill_na_test(method=np.mean):\n",
    "    filled = tX_test.copy()\n",
    "    for col in columns_with_missing_values:\n",
    "        tmp = filled[:, col]\n",
    "        tmp[tmp == -999] = method(tmp[tmp != -999])\n",
    "        filled[:, col] = tmp\n",
    "    return filled\n",
    "\n",
    "\n",
    "filled_test_tX = fill_na_test(np.median)\n",
    "\n",
    "columns_non_negative = []\n",
    "for i in range(n_total_features):\n",
    "    if len(filled_test_tX[filled_test_tX[:, i] < 0, i]) == 0:\n",
    "        columns_non_negative.append(i)\n",
    "\n",
    "columns_non_negative"
   ]
  },
  {
   "cell_type": "code",
   "execution_count": 688,
   "metadata": {
    "collapsed": false
   },
   "outputs": [
    {
     "data": {
      "text/plain": [
       "(568238, 121)"
      ]
     },
     "execution_count": 688,
     "metadata": {},
     "output_type": "execute_result"
    }
   ],
   "source": [
    "tmp = build_polynomial_without_mixed_term(filled_test_tX, degree=4)\n",
    "## We can take logs of each column Here *******************************\n",
    "test_tX, _, _ = standardize(tmp, mean_x7, std_x7)\n",
    "test_tX.shape"
   ]
  },
  {
   "cell_type": "code",
   "execution_count": 903,
   "metadata": {
    "collapsed": false
   },
   "outputs": [],
   "source": [
    "y0=transform_y_back(prediction(test_tX, w_agdr))"
   ]
  },
  {
   "cell_type": "code",
   "execution_count": 904,
   "metadata": {
    "collapsed": false
   },
   "outputs": [
    {
     "data": {
      "text/plain": [
       "(178677,)"
      ]
     },
     "execution_count": 904,
     "metadata": {},
     "output_type": "execute_result"
    }
   ],
   "source": [
    "y0[y0==1].shape"
   ]
  },
  {
   "cell_type": "code",
   "execution_count": 888,
   "metadata": {
    "collapsed": false
   },
   "outputs": [
    {
     "data": {
      "text/plain": [
       "(176985,)"
      ]
     },
     "execution_count": 888,
     "metadata": {},
     "output_type": "execute_result"
    }
   ],
   "source": [
    "y0[y0==1].shape"
   ]
  },
  {
   "cell_type": "code",
   "execution_count": 889,
   "metadata": {
    "collapsed": false
   },
   "outputs": [
    {
     "data": {
      "text/plain": [
       "(568238,)"
      ]
     },
     "execution_count": 889,
     "metadata": {},
     "output_type": "execute_result"
    }
   ],
   "source": [
    "y0.shape"
   ]
  },
  {
   "cell_type": "code",
   "execution_count": 905,
   "metadata": {
    "collapsed": false
   },
   "outputs": [],
   "source": [
    "OUTPUT_PATH = '../results/result6.csv' # TODO: fill in desired name of output file for submission\n",
    "y_pred = transform_y_back(y0)\n",
    "create_csv_submission(ids_test, y_pred, OUTPUT_PATH)"
   ]
  }
 ],
 "metadata": {
  "anaconda-cloud": {},
  "kernelspec": {
   "display_name": "Python 3",
   "language": "python",
   "name": "python3"
  },
  "language_info": {
   "codemirror_mode": {
    "name": "ipython",
    "version": 3
   },
   "file_extension": ".py",
   "mimetype": "text/x-python",
   "name": "python",
   "nbconvert_exporter": "python",
   "pygments_lexer": "ipython3",
   "version": "3.5.2"
  },
  "widgets": {
   "state": {
    "023cb81475a945fe97d29be3cb3600e9": {
     "views": []
    },
    "0656d01812174c589117e89a7f476eeb": {
     "views": []
    },
    "06e08db57e4c4440a3ad1b3951854893": {
     "views": []
    },
    "09d8152e0e4842f281b6992d966f84ff": {
     "views": []
    },
    "0b17fa30a11f499bbbb6b8402e16c6c0": {
     "views": []
    },
    "0e1159612a454425bbac65a45bf46ae4": {
     "views": []
    },
    "0e2681dfe3854507b8e382172c8d24a9": {
     "views": []
    },
    "0e3a8a0386ac4eeabbe0d75c720fe8ca": {
     "views": []
    },
    "12028e93822d44fb98bff43ebb5ae85f": {
     "views": []
    },
    "12c1d615bd694bcea1fd9ab1124e2733": {
     "views": []
    },
    "17693f1c9ae243fba5f88f6bd0563d5c": {
     "views": []
    },
    "19e769fc042640babb5295d1974c62b8": {
     "views": []
    },
    "19ee98066002482e9fc35c5c1daf61ba": {
     "views": []
    },
    "1a632485f2d8478193df72588650d618": {
     "views": []
    },
    "1a86c3fa0e2d4cd0b5251249d12134bc": {
     "views": []
    },
    "1ee72dc401884de7b2faf7aa90592e2e": {
     "views": []
    },
    "1f1d9fd36c85413abd59a0c5d2f6afac": {
     "views": []
    },
    "218b8bbbb96c44759803d1d7bb93518b": {
     "views": []
    },
    "22ac1bf8dc1a42ec9f6bf037c2b351e0": {
     "views": []
    },
    "2691c30802414c95b1e293e0281cb59c": {
     "views": []
    },
    "2802b13066f649798d7bf253e4bb2b91": {
     "views": []
    },
    "2f8de774e24d4bfbbe7fc7a6c589165b": {
     "views": []
    },
    "33a6f920af1a414eb26969a29ca0e9f5": {
     "views": []
    },
    "33d5f66f8db64bb29aee64e9e6f4b00a": {
     "views": []
    },
    "358ab636ff8949958e22afe4df4c92f5": {
     "views": []
    },
    "360a79441c40473eac4ed7aa38bc332e": {
     "views": []
    },
    "3732e557ec5f4420ae4be9ba1b0c6950": {
     "views": []
    },
    "3891a8618a4e46e0a33e3c1fc96e927f": {
     "views": []
    },
    "3b1570fddde04f0caf52f4ff45d29edb": {
     "views": []
    },
    "3d44ad00ad504e909c2c5165179b38f3": {
     "views": []
    },
    "3ff3abd2ef184017be0348ce847f1a3b": {
     "views": []
    },
    "4104a7b34dea4cac9f83200068a87e4e": {
     "views": []
    },
    "411967c7a0484176b05d585607f58205": {
     "views": []
    },
    "42283aa269b24b079eba746badb6b732": {
     "views": []
    },
    "42a2771cc4de461b8e1f7930eb1a5b05": {
     "views": []
    },
    "43533ec6a6424e228d82dedae9d2e033": {
     "views": []
    },
    "44341b3861874225ac2c4a39d9e9b20a": {
     "views": []
    },
    "4514ac6a980d4c1cb0b2865b036f78b4": {
     "views": []
    },
    "462a940358654d2b84aa86fb2ddb7fa5": {
     "views": []
    },
    "467d39db9951416ca21632ab9321781c": {
     "views": []
    },
    "48db65e31eb143489065ea6f27cdafee": {
     "views": []
    },
    "4a47e66ec8f145b2a4ce40452beb05eb": {
     "views": []
    },
    "4e8c9deaad524bda8b1da06a0ec346ca": {
     "views": []
    },
    "514aac3eeee24c6d950fdbc506e2c983": {
     "views": []
    },
    "51600ba1f25f46f28712de210eecac48": {
     "views": []
    },
    "53b9a6a0056f4d3eb3d049a6b79902e6": {
     "views": []
    },
    "54f2df5f3b374a7b92906e2c6f9ec3b6": {
     "views": []
    },
    "55a0f08bc43a45199474b57bfab46e44": {
     "views": []
    },
    "5608d42ea9e94999ab42b8ad0c206f85": {
     "views": []
    },
    "58b9d8f8c94d4706bfa0fb67ecbbd1c8": {
     "views": []
    },
    "59566267562941e28c581d183adfb31b": {
     "views": []
    },
    "59b6af240339412ca33740de32807e72": {
     "views": []
    },
    "5a53fd2cbfcc483e84a2d66c3874dcd4": {
     "views": []
    },
    "5c9a253daa9641bdb41bb1e907995314": {
     "views": []
    },
    "5da1672732bf4560a2f195fbfa18fd2f": {
     "views": []
    },
    "5f61c6f48bc6407f808b26dfd3ff650e": {
     "views": []
    },
    "60025b85d7d7483cbd0389d15fa40b24": {
     "views": []
    },
    "6290e48913ff4b9785efd7c0fc29e29a": {
     "views": []
    },
    "64aa7fe3a5964b7289a6e95b667b7697": {
     "views": []
    },
    "68319ce5b3a74f10b5004a4a7e6e9bde": {
     "views": []
    },
    "69b3066124164f6e9fee59423542e6ce": {
     "views": []
    },
    "6f2439baf7df4a6ba620e3c431601ec5": {
     "views": []
    },
    "712bf0da5abb466daed7cb112ac4be9f": {
     "views": []
    },
    "737b5fb46e5647d58c0167b33056f32d": {
     "views": []
    },
    "74e7c1ac51d44ba99eb3190482e44c9f": {
     "views": []
    },
    "74f46c0299024dbd9fa900a91a41e71c": {
     "views": []
    },
    "7646e6b27e164eb4a922f3369c0d1359": {
     "views": []
    },
    "76716f91d3974e5188e3ce2031b8edc6": {
     "views": []
    },
    "7856af6c59bf4b02ad553e5de1667e6e": {
     "views": []
    },
    "84cc99bad75e48c79fd29af3b3b6cf23": {
     "views": []
    },
    "8554ffcd85804c4480cb9568679288e6": {
     "views": []
    },
    "86d8b3ca74394075a5040754a7d0f112": {
     "views": []
    },
    "8712c2d770b044e580b70be8ff47a70c": {
     "views": []
    },
    "89e5d5a410f148b3b9f038d07b985826": {
     "views": []
    },
    "8bc31e9d2e244f859b9944277b10685e": {
     "views": []
    },
    "8c8280c2e5e843ea912ce840c1f9a815": {
     "views": []
    },
    "8de53ca2548b46ffa4709418cdc5e47a": {
     "views": []
    },
    "8f571f7019b648d6982443a00678ca09": {
     "views": []
    },
    "8fd8e55f342e4cd2854b16ae86e8431b": {
     "views": []
    },
    "905c684e215f46b9851f87a98a19cbe8": {
     "views": []
    },
    "910792a394e442a2b3537417187c38f0": {
     "views": [
      {
       "cell_index": 137
      }
     ]
    },
    "92c8926847d9495698e180d643661298": {
     "views": []
    },
    "957d7a710a95407ba7de2bc66a90cb87": {
     "views": []
    },
    "95b6733c17ac4871b980ba45f329b81e": {
     "views": []
    },
    "971324d43edb41bc906914d34cac4e84": {
     "views": []
    },
    "97aa3c9800f04dff94ded3f655bfda84": {
     "views": []
    },
    "9873d25dd712418e87df9d8e7d1140d3": {
     "views": [
      {
       "cell_index": 137
      }
     ]
    },
    "9cdc11d2dbb545308ed63a064fc63ece": {
     "views": []
    },
    "9f070cfb9678487d907255f42842b0fb": {
     "views": []
    },
    "9fedd7eee0504abbad19cbda3aebb022": {
     "views": []
    },
    "9ffc35d8432c40ee9895c565f3c4abda": {
     "views": []
    },
    "a0a41254ad204744aa98206b576555d0": {
     "views": []
    },
    "a72d857b82d54d389cc8a371a4b03d39": {
     "views": []
    },
    "a74ee4818b264fbb95d165877824da55": {
     "views": []
    },
    "a9f0e192ef384cabb84c130bb60cfaea": {
     "views": []
    },
    "aa47af235b6e4335a9843f236ab8fef9": {
     "views": []
    },
    "aafafbbeae1c40cebeb269ac6833d061": {
     "views": []
    },
    "af20bec9e7a54c8ea66dc4787a3a09ea": {
     "views": []
    },
    "b1b641006f214f70a713be0f41831858": {
     "views": []
    },
    "b4c1f164f05b4f3bb3a437b454a9e499": {
     "views": []
    },
    "ba3ea59619e4415b9aa586a7af6b945a": {
     "views": []
    },
    "bbd68922ec024005a35d8f6c24577f3c": {
     "views": []
    },
    "bc3a26e14c1e4962a46cf7287e8991b6": {
     "views": []
    },
    "bf54fb7095864dcba467fe64fb76a32d": {
     "views": []
    },
    "bfa043dfddd741abb68307bd0bff96b2": {
     "views": []
    },
    "c0f3489352ed4aa3b0b6ab1abb9777d8": {
     "views": []
    },
    "c107053cbde24768a5c39237e591246f": {
     "views": []
    },
    "c2853ffd303b4614aeeac08b8f09141a": {
     "views": []
    },
    "c7dc57c0cd694805bac3f843578ae253": {
     "views": []
    },
    "ca45a1359d0a47bf93208f7941df740a": {
     "views": []
    },
    "cc59f3ba01b04abfa8cd8b84857ed625": {
     "views": []
    },
    "cc6eb0825e3b4e6991f36100c530879f": {
     "views": []
    },
    "cde680dc31024d48b4812e5fefc39266": {
     "views": []
    },
    "ce5f660489ae4eb68bec161d9d3afce6": {
     "views": []
    },
    "cf32fbdee557427e8a9d06c5e36c7d24": {
     "views": []
    },
    "d3c5139772f14218afa6d3cf87edefb9": {
     "views": []
    },
    "d5d8edac095d4c858774ee96236435c0": {
     "views": []
    },
    "d76b311a962d49bd9af777ff5f3f6132": {
     "views": []
    },
    "da3ca8bd2ea84ef39e5e1280c6bebc25": {
     "views": []
    },
    "de3928afe68841acb45bd27c88dcb8f5": {
     "views": []
    },
    "df04152de8aa4696b0ffd12180b89e9c": {
     "views": []
    },
    "df0bf6fbe6514083a3c8dc0d19a23b2d": {
     "views": []
    },
    "e0ea1699749a41e687b5683624033244": {
     "views": []
    },
    "e2645b8789c242e18c5db1e0997cf20d": {
     "views": []
    },
    "e3e681e437c3484cb7f49bd2f0655669": {
     "views": []
    },
    "e841538f7d8742289247f2aa9626b7da": {
     "views": []
    },
    "e972522844ca40e1b9378bcffb5ce313": {
     "views": []
    },
    "e9a93b10f7e84f6d9247f21115304861": {
     "views": []
    },
    "eb932c58dcb649c784bd9ed1aef50a74": {
     "views": []
    },
    "ebf85c945d094c6c94f279c3522cf276": {
     "views": []
    },
    "edd161163b4f4188964b434d9a316a75": {
     "views": []
    },
    "ee2859b43dbe405db03026763ff27e6b": {
     "views": []
    },
    "ee4ecf624eb24702a501c36235e105d7": {
     "views": []
    },
    "f140365f0cef4c11b5c5390d1a64edc6": {
     "views": []
    },
    "f16dce26e29447fb92414f4a56c3d000": {
     "views": []
    },
    "f4888ce60df2468389ab39f32b9585b4": {
     "views": []
    },
    "f6930490a4964d05abfd130fcad37587": {
     "views": []
    },
    "f6aa17847f7a45d4bd2d512633e13fe4": {
     "views": [
      {
       "cell_index": 18
      }
     ]
    },
    "f6d9425b6be14c40b50c15979e35be99": {
     "views": []
    },
    "fca522c4fd7a47be86a1aab9fa26494c": {
     "views": []
    },
    "fd7dab3919ab4f0f838fe25f216d2d81": {
     "views": []
    },
    "fec936e794b94e74be9eed7a0c172ba7": {
     "views": []
    }
   },
   "version": "1.1.1"
  }
 },
 "nbformat": 4,
 "nbformat_minor": 0
}

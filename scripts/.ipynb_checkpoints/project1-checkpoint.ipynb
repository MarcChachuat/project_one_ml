{
 "cells": [
  {
   "cell_type": "code",
   "execution_count": 54,
   "metadata": {
    "collapsed": false
   },
   "outputs": [
    {
     "name": "stdout",
     "output_type": "stream",
     "text": [
      "The autoreload extension is already loaded. To reload it, use:\n",
      "  %reload_ext autoreload\n"
     ]
    }
   ],
   "source": [
    "# Useful starting lines\n",
    "%matplotlib inline\n",
    "import numpy as np\n",
    "import matplotlib.pyplot as plt\n",
    "\n",
    "from functions import *\n",
    "from helpers import *\n",
    "from proj1_helpers import *\n",
    "from costs import *\n",
    "from data_preprocessing import *\n",
    "\n",
    "%load_ext autoreload\n",
    "%autoreload 2"
   ]
  },
  {
   "cell_type": "markdown",
   "metadata": {},
   "source": [
    "## Load the training data into feature matrix, class labels, and event ids:"
   ]
  },
  {
   "cell_type": "code",
   "execution_count": 55,
   "metadata": {
    "collapsed": false
   },
   "outputs": [
    {
     "name": "stdout",
     "output_type": "stream",
     "text": [
      "loading of the data : done\n"
     ]
    }
   ],
   "source": [
    "from proj1_helpers import *\n",
    "DATA_TRAIN_PATH = '../data/train.csv' \n",
    "# TODO: download train data and supply path here \n",
    "y, tX, ids = load_csv_data(DATA_TRAIN_PATH)\n",
    "print(\"loading of the data : done\")"
   ]
  },
  {
   "cell_type": "markdown",
   "metadata": {},
   "source": [
    "## Data preprocessing"
   ]
  },
  {
   "cell_type": "code",
   "execution_count": 56,
   "metadata": {
    "collapsed": false
   },
   "outputs": [
    {
     "name": "stdout",
     "output_type": "stream",
     "text": [
      "random selection of samples : done\n",
      "number of samples :  500\n",
      "number of features :  30\n",
      "splitting of the data : done \n",
      "number of training samples : 250\n"
     ]
    }
   ],
   "source": [
    "# reduction of the size of the training data set: \n",
    "# random selection of the data\n",
    "num_samples=500\n",
    "seed=3\n",
    "y, tX = select_random(y, tX, num_samples, seed)\n",
    "print (\"random selection of samples : done\")\n",
    "print( \"number of samples : \", y.shape[0])\n",
    "\n",
    "# Selecting the features \n",
    "# currently : keep all the feature\n",
    "print (\"number of features : \", tX.shape[1])\n",
    "\n",
    "# Splitting the data\n",
    "xtrain,xvalid,ytrain,yvalid=split_data(tX, y, 0.5)\n",
    "print( \"splitting of the data : done \")\n",
    "print(\"number of training samples :\", xtrain.shape[0])\n"
   ]
  },
  {
   "cell_type": "markdown",
   "metadata": {},
   "source": [
    "## Machine Learning : test of the basic functions"
   ]
  },
  {
   "cell_type": "code",
   "execution_count": 57,
   "metadata": {
    "collapsed": false
   },
   "outputs": [
    {
     "name": "stdout",
     "output_type": "stream",
     "text": [
      "Training of the model : done\n"
     ]
    }
   ],
   "source": [
    "### Training of the model : test of least_squares_GD\n",
    "#weights = train_data(xtrain,ytrain,n_regression=1,gamma=0.0000001,max_iters=500)\n",
    "\n",
    "### Training of the model : test of least_squares (analytical)\n",
    "#weights = train_data(xtrain, ytrain, n_regression=3)\n",
    "\n",
    "### Training of the model : test of least_squares_SGD\n",
    "#weights = train_data(xtrain, ytrain, n_regression=2, gamma=10e-13, max_iters=500)\n",
    "\n",
    "### Training of the model : test of ridge_regression\n",
    "#weights = train_data(xtrain, ytrain, n_regression=4,lambd=100)\n",
    "\n",
    "print(\"Training of the model : done\")"
   ]
  },
  {
   "cell_type": "code",
   "execution_count": 58,
   "metadata": {
    "collapsed": false
   },
   "outputs": [
    {
     "name": "stdout",
     "output_type": "stream",
     "text": [
      "MSE computed, value :  0.39035988193\n"
     ]
    }
   ],
   "source": [
    "### Measure of the MSE for the trained model, over the validation set  : \n",
    "\n",
    "#MSE=compute_loss(yvalid,xvalid,weights) \n",
    "\n",
    "print ( \"MSE computed, value : \", MSE)"
   ]
  },
  {
   "cell_type": "markdown",
   "metadata": {},
   "source": [
    "## Machine Learning :  Comparison of models "
   ]
  },
  {
   "cell_type": "code",
   "execution_count": null,
   "metadata": {
    "collapsed": true
   },
   "outputs": [],
   "source": [
    "# First comparison : for the given training and validation set : choice of the best lambd_ for the ridge regression\n",
    "lambdas = np.logspace(-3, 2, 50)  \n",
    "#setting references\n",
    "w_ref = 0\n",
    "lambd_ref=0\n",
    "loss_ref = Inf\n",
    "for lambd_ in lambdas:\n",
    "    #training the model for the ridge regression given lambda\n",
    "    weights = train_data(xtrain, ytrain, n_regression=4,lambd=lambd_)\n",
    "    #computing its score\n",
    "    mse = compute_loss(yvalid, xvalid, weights)\n",
    "    #if its cost is better than the previous better one, i retain this cost and the associated weight, lambd\n",
    "    if mse<loss_ref:\n",
    "        w_ref=weights\n",
    "        loss_ref=mse\n",
    "        lambd_ref=lambd_\n",
    "    print(\"study of the parameter :\", str(lambd_), \" done. Cost associated : \", str(mse) )\n",
    "weights=w_ref\n",
    "loss=loss_ref\n",
    "print(\"comparison of the ridge regression parameters : done\")\n",
    "print(\"best parameter : \" + str(lambd_ref))\n",
    "print(\" associated MSE cost : \" + str(loss)\n",
    "print(\"associated weight vector\" + str(weights)"
   ]
  },
  {
   "cell_type": "markdown",
   "metadata": {},
   "source": [
    "## Generate predictions and save ouput in csv format for submission:"
   ]
  },
  {
   "cell_type": "code",
   "execution_count": 109,
   "metadata": {
    "collapsed": false
   },
   "outputs": [],
   "source": [
    "DATA_TEST_PATH = '../data/test.csv'\n",
    "_, tX_test, ids_test = load_csv_data(DATA_TEST_PATH)"
   ]
  },
  {
   "cell_type": "code",
   "execution_count": 110,
   "metadata": {
    "collapsed": false
   },
   "outputs": [],
   "source": [
    "#preprocessing of the submission data\n",
    "tX_test=tX_test[:,:up_features]"
   ]
  },
  {
   "cell_type": "code",
   "execution_count": 111,
   "metadata": {
    "collapsed": false
   },
   "outputs": [],
   "source": [
    "OUTPUT_PATH = '../results/result1.csv' # TODO: fill in desired name of output file for submission\n",
    "y_pred = predict_labels(weights, tX_test)\n",
    "create_csv_submission(ids_test, y_pred, OUTPUT_PATH)"
   ]
  },
  {
   "cell_type": "code",
   "execution_count": null,
   "metadata": {
    "collapsed": true
   },
   "outputs": [],
   "source": []
  }
 ],
 "metadata": {
  "anaconda-cloud": {},
  "kernelspec": {
   "display_name": "Python [Root]",
   "language": "python",
   "name": "Python [Root]"
  },
  "language_info": {
   "codemirror_mode": {
    "name": "ipython",
    "version": 3
   },
   "file_extension": ".py",
   "mimetype": "text/x-python",
   "name": "python",
   "nbconvert_exporter": "python",
   "pygments_lexer": "ipython3",
   "version": "3.5.2"
  }
 },
 "nbformat": 4,
 "nbformat_minor": 0
}

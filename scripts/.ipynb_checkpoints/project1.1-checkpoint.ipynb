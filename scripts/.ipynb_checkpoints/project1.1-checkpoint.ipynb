{
 "cells": [
  {
   "cell_type": "code",
   "execution_count": 290,
   "metadata": {
    "collapsed": false
   },
   "outputs": [
    {
     "name": "stdout",
     "output_type": "stream",
     "text": [
      "The autoreload extension is already loaded. To reload it, use:\n",
      "  %reload_ext autoreload\n"
     ]
    }
   ],
   "source": [
    "# Useful starting lines\n",
    "%matplotlib inline\n",
    "import numpy as np\n",
    "import matplotlib.pyplot as plt\n",
    "\n",
    "from functions import *\n",
    "from helpers import *\n",
    "from proj1_helpers import *\n",
    "from costs import *\n",
    "from data_preprocessing import *\n",
    "\n",
    "%load_ext autoreload\n",
    "%autoreload 2"
   ]
  },
  {
   "cell_type": "markdown",
   "metadata": {},
   "source": [
    "## Load the training data into feature matrix, class labels, and event ids:"
   ]
  },
  {
   "cell_type": "code",
   "execution_count": 2,
   "metadata": {
    "collapsed": false
   },
   "outputs": [
    {
     "name": "stdout",
     "output_type": "stream",
     "text": [
      "loading of the data : done\n"
     ]
    }
   ],
   "source": [
    "from proj1_helpers import *\n",
    "DATA_TRAIN_PATH = '../data/train.csv' \n",
    "# TODO: download train data and supply path here \n",
    "y, tX, ids = load_csv_data(DATA_TRAIN_PATH)\n",
    "print(\"loading of the data : done\")"
   ]
  },
  {
   "cell_type": "markdown",
   "metadata": {},
   "source": [
    "## Data preprocessing"
   ]
  },
  {
   "cell_type": "markdown",
   "metadata": {},
   "source": [
    "## Logistic Regression"
   ]
  },
  {
   "cell_type": "code",
   "execution_count": 306,
   "metadata": {
    "collapsed": false
   },
   "outputs": [
    {
     "data": {
      "text/plain": [
       "array([1, 0, 0, ..., 1, 0, 0])"
      ]
     },
     "execution_count": 306,
     "metadata": {},
     "output_type": "execute_result"
    }
   ],
   "source": [
    "new_y = np.array([0 if i==-1 else 1 for i in y])\n",
    "new_y"
   ]
  },
  {
   "cell_type": "code",
   "execution_count": 307,
   "metadata": {
    "collapsed": true
   },
   "outputs": [],
   "source": [
    "[n, p] = tX.shape\n",
    "new_tx = np.c_[np.ones(n), tX]"
   ]
  },
  {
   "cell_type": "markdown",
   "metadata": {},
   "source": [
    "#### Prepocessing data"
   ]
  },
  {
   "cell_type": "code",
   "execution_count": 9,
   "metadata": {
    "collapsed": false
   },
   "outputs": [
    {
     "ename": "NameError",
     "evalue": "name 'new_tx' is not defined",
     "output_type": "error",
     "traceback": [
      "\u001b[0;31m---------------------------------------------------------------------------\u001b[0m",
      "\u001b[0;31mNameError\u001b[0m                                 Traceback (most recent call last)",
      "\u001b[0;32m<ipython-input-9-1e1184c20779>\u001b[0m in \u001b[0;36m<module>\u001b[0;34m()\u001b[0m\n\u001b[0;32m----> 1\u001b[0;31m \u001b[0mstdandardlized_tx\u001b[0m\u001b[0;34m,\u001b[0m \u001b[0mmean_tx\u001b[0m\u001b[0;34m,\u001b[0m \u001b[0mstd_tx\u001b[0m \u001b[0;34m=\u001b[0m \u001b[0mstandardize\u001b[0m\u001b[0;34m(\u001b[0m\u001b[0mnew_tx\u001b[0m\u001b[0;34m)\u001b[0m\u001b[0;34m\u001b[0m\u001b[0m\n\u001b[0m",
      "\u001b[0;31mNameError\u001b[0m: name 'new_tx' is not defined"
     ]
    }
   ],
   "source": [
    "stdandardlized_tx, mean_tx, std_tx = standardize(new_tx)"
   ]
  },
  {
   "cell_type": "code",
   "execution_count": 231,
   "metadata": {
    "collapsed": true
   },
   "outputs": [],
   "source": [
    "from functions import logistic_regression_GD\n",
    "\n",
    "def prediction(tx, w):\n",
    "    y = tx @ w\n",
    "    y[y > 0] = 1\n",
    "    y[y <= 0] = 0\n",
    "    return y\n",
    "\n",
    "def accuracy(y, y_pred):\n",
    "    return np.mean(y == y_pred)"
   ]
  },
  {
   "cell_type": "code",
   "execution_count": 268,
   "metadata": {
    "collapsed": false
   },
   "outputs": [
    {
     "name": "stdout",
     "output_type": "stream",
     "text": [
      "max eigenvalue is 1433657581575.1267, gamma is 0.0001\n"
     ]
    }
   ],
   "source": [
    "m = 1\n",
    "train_tx = stdandardlized_tx[::m]\n",
    "train_y  = new_y[::m]\n",
    "max_eign = np.max(np.abs(np.linalg.eigvals(new_tx.T @ new_tx)))\n",
    "# L = max_eign/4\n",
    "gamma = 0.0001\n",
    "print (\"max eigenvalue is {e}, gamma is {g}\".format(e=max_eign, g=gamma))"
   ]
  },
  {
   "cell_type": "code",
   "execution_count": 269,
   "metadata": {
    "collapsed": false,
    "scrolled": true
   },
   "outputs": [
    {
     "name": "stdout",
     "output_type": "stream",
     "text": [
      "Losgistic Regression(0/1000): loss=142116945652.54926\n"
     ]
    }
   ],
   "source": [
    "w, loss = logistic_regression_GD(train_y, train_tx, gamma, 1000)"
   ]
  },
  {
   "cell_type": "code",
   "execution_count": 273,
   "metadata": {
    "collapsed": false,
    "scrolled": true
   },
   "outputs": [
    {
     "data": {
      "image/png": "[encoded data removed]",
      "text/plain": [
       "<matplotlib.figure.Figure at 0x118ca8c88>"
      ]
     },
     "metadata": {},
     "output_type": "display_data"
    }
   ],
   "source": [
    "plt.plot(loss)\n",
    "plt.show()"
   ]
  },
  {
   "cell_type": "code",
   "execution_count": 270,
   "metadata": {
    "collapsed": false
   },
   "outputs": [
    {
     "data": {
      "text/plain": [
       "array([ -1.89191747e+01,   4.88366224e-02,   7.64212079e-01,\n",
       "        -1.14347886e+01,  -1.66741751e+01,   4.79625750e+00,\n",
       "        -1.03730615e+01,   6.56133074e+01,  -1.24133834e+01,\n",
       "         1.55106136e+01,  -2.42368839e+00,  -9.53681925e+00,\n",
       "        -9.92298111e+00,   3.41640321e+00,  -1.09563879e+01,\n",
       "         1.31636555e+01,  -1.05837844e-01,  -7.17321221e-02,\n",
       "         1.61485001e+01,   2.17950227e-02,   1.37542465e-01,\n",
       "         5.38801116e+00,   7.97429456e-02,  -4.52366889e+00,\n",
       "        -2.44290259e+01,   5.90950579e+00,   5.54485765e+00,\n",
       "         5.51279118e+00,  -1.10782727e+01,  -1.12701123e+01,\n",
       "        -1.10983254e+01,  -1.80453210e+01])"
      ]
     },
     "execution_count": 270,
     "metadata": {},
     "output_type": "execute_result"
    }
   ],
   "source": [
    "w"
   ]
  },
  {
   "cell_type": "code",
   "execution_count": 272,
   "metadata": {
    "collapsed": false
   },
   "outputs": [
    {
     "data": {
      "text/plain": [
       "0.657972"
      ]
     },
     "execution_count": 272,
     "metadata": {},
     "output_type": "execute_result"
    }
   ],
   "source": [
    "y_pred = prediction(stdandardlized_tx, w)\n",
    "accuracy(new_y, y_pred)"
   ]
  },
  {
   "cell_type": "markdown",
   "metadata": {},
   "source": [
    "#### Case 2: polynomial"
   ]
  },
  {
   "cell_type": "code",
   "execution_count": 94,
   "metadata": {
    "collapsed": true
   },
   "outputs": [],
   "source": [
    "def build_polynomial(tx, degree):\n",
    "    \"\"\"polynomial basis functions for input data x, for j=0 up to j=degree. the first column are 1s\"\"\"\n",
    "    assert(degree >= 2)\n",
    "    m = []\n",
    "    for i in range(1, tx.shape[1]):\n",
    "        x0 = tx[:, i]\n",
    "        [m.append((x0**j).flatten()) for j in range(2, degree+1)]\n",
    "    return np.c_[tx, np.array(m).T]"
   ]
  },
  {
   "cell_type": "code",
   "execution_count": 97,
   "metadata": {
    "collapsed": false
   },
   "outputs": [],
   "source": [
    "poly_std_tx = build_polynomial(stdandardlized_tx, 2)"
   ]
  },
  {
   "cell_type": "code",
   "execution_count": 98,
   "metadata": {
    "collapsed": false
   },
   "outputs": [
    {
     "data": {
      "text/plain": [
       "(250000, 32)"
      ]
     },
     "execution_count": 98,
     "metadata": {},
     "output_type": "execute_result"
    }
   ],
   "source": [
    "stdandardlized_tx.shape"
   ]
  },
  {
   "cell_type": "code",
   "execution_count": 88,
   "metadata": {
    "collapsed": true
   },
   "outputs": [],
   "source": [
    "m = 10\n",
    "train_tx = poly_std_tx[::m]\n",
    "train_y  = y[::m]\n",
    "gamma = 0.0001"
   ]
  },
  {
   "cell_type": "code",
   "execution_count": 89,
   "metadata": {
    "collapsed": false
   },
   "outputs": [
    {
     "name": "stdout",
     "output_type": "stream",
     "text": [
      "Losgistic Regression(0/1000): loss=-14490189555.625147\n",
      "Losgistic Regression(1/1000): loss=-21535097772.69643\n",
      "Losgistic Regression(2/1000): loss=-28580005989.74446\n",
      "Losgistic Regression(3/1000): loss=-35624914206.792496\n",
      "Losgistic Regression(4/1000): loss=-42669822423.84051\n",
      "Losgistic Regression(5/1000): loss=-49714730640.88857\n",
      "Losgistic Regression(6/1000): loss=-56759638857.93658\n",
      "Losgistic Regression(7/1000): loss=-63804547074.9846\n",
      "Losgistic Regression(8/1000): loss=-70849455292.03264\n",
      "Losgistic Regression(9/1000): loss=-77894363509.08069\n",
      "Losgistic Regression(10/1000): loss=-84939271726.1287\n",
      "Losgistic Regression(11/1000): loss=-91984179943.17673\n",
      "Losgistic Regression(12/1000): loss=-99029088160.2248\n",
      "Losgistic Regression(13/1000): loss=-106073996377.27277\n",
      "Losgistic Regression(14/1000): loss=-113118904594.3208\n",
      "Losgistic Regression(15/1000): loss=-120163812811.36885\n",
      "Losgistic Regression(16/1000): loss=-127208721028.41693\n",
      "Losgistic Regression(17/1000): loss=-134253629245.4649\n",
      "Losgistic Regression(18/1000): loss=-141298537462.5129\n",
      "Losgistic Regression(19/1000): loss=-148343445679.56097\n",
      "Losgistic Regression(20/1000): loss=-155388353896.60898\n",
      "Losgistic Regression(21/1000): loss=-162433262113.65698\n",
      "Losgistic Regression(22/1000): loss=-169478170330.70508\n",
      "Losgistic Regression(23/1000): loss=-176523078547.75305\n",
      "Losgistic Regression(24/1000): loss=-183567986764.80103\n",
      "Losgistic Regression(25/1000): loss=-190612894981.84915\n",
      "Losgistic Regression(26/1000): loss=-197657803198.89713\n",
      "Losgistic Regression(27/1000): loss=-204702711415.9451\n",
      "Losgistic Regression(28/1000): loss=-211747619632.9932\n",
      "Losgistic Regression(29/1000): loss=-218792527850.04123\n",
      "Losgistic Regression(30/1000): loss=-225837436067.08917\n",
      "Losgistic Regression(31/1000): loss=-232882344284.13727\n",
      "Losgistic Regression(32/1000): loss=-239927252501.1853\n",
      "Losgistic Regression(33/1000): loss=-246972160718.23325\n",
      "Losgistic Regression(34/1000): loss=-254017068935.2813\n",
      "Losgistic Regression(35/1000): loss=-261061977152.3294\n",
      "Losgistic Regression(36/1000): loss=-268106885369.3775\n",
      "Losgistic Regression(37/1000): loss=-275151793586.4255\n",
      "Losgistic Regression(38/1000): loss=-282196701803.47345\n",
      "Losgistic Regression(39/1000): loss=-289241610020.52155\n",
      "Losgistic Regression(40/1000): loss=-296286518237.5697\n",
      "Losgistic Regression(41/1000): loss=-303331426454.6177\n",
      "Losgistic Regression(42/1000): loss=-310376334671.66565\n",
      "Losgistic Regression(43/1000): loss=-317421242888.7137\n",
      "Losgistic Regression(44/1000): loss=-324466151105.7617\n",
      "Losgistic Regression(45/1000): loss=-331511059322.8097\n",
      "Losgistic Regression(46/1000): loss=-338555967539.8579\n",
      "Losgistic Regression(47/1000): loss=-345600875756.9059\n",
      "Losgistic Regression(48/1000): loss=-352645783973.95386\n",
      "Losgistic Regression(49/1000): loss=-359690692191.00183\n",
      "Losgistic Regression(50/1000): loss=-366735600408.04987\n",
      "Losgistic Regression(51/1000): loss=-373780508625.0982\n",
      "Losgistic Regression(52/1000): loss=-380825416842.1462\n",
      "Losgistic Regression(53/1000): loss=-387870325059.19403\n",
      "Losgistic Regression(54/1000): loss=-394915233276.24207\n",
      "Losgistic Regression(55/1000): loss=-401960141493.29004\n",
      "Losgistic Regression(56/1000): loss=-409005049710.338\n",
      "Losgistic Regression(57/1000): loss=-416049957927.3864\n",
      "Losgistic Regression(58/1000): loss=-423094866144.43427\n",
      "Losgistic Regression(59/1000): loss=-430139774361.48224\n",
      "Losgistic Regression(60/1000): loss=-437184682578.5303\n",
      "Losgistic Regression(61/1000): loss=-444229590795.57825\n",
      "Losgistic Regression(62/1000): loss=-451274499012.6265\n",
      "Losgistic Regression(63/1000): loss=-458319407229.67444\n",
      "Losgistic Regression(64/1000): loss=-465364315446.72253\n",
      "Losgistic Regression(65/1000): loss=-472409223663.7704\n",
      "Losgistic Regression(66/1000): loss=-479454131880.8184\n",
      "Losgistic Regression(67/1000): loss=-486499040097.86676\n",
      "Losgistic Regression(68/1000): loss=-493543948314.9146\n",
      "Losgistic Regression(69/1000): loss=-500588856531.96265\n",
      "Losgistic Regression(70/1000): loss=-507633764749.0107\n",
      "Losgistic Regression(71/1000): loss=-514678672966.05865\n",
      "Losgistic Regression(72/1000): loss=-521723581183.1067\n",
      "Losgistic Regression(73/1000): loss=-528768489400.15485\n",
      "Losgistic Regression(74/1000): loss=-535813397617.2029\n",
      "Losgistic Regression(75/1000): loss=-542858305834.2511\n",
      "Losgistic Regression(76/1000): loss=-549903214051.299\n",
      "Losgistic Regression(77/1000): loss=-556948122268.3469\n",
      "Losgistic Regression(78/1000): loss=-563993030485.3948\n",
      "Losgistic Regression(79/1000): loss=-571037938702.4431\n",
      "Losgistic Regression(80/1000): loss=-578082846919.4908\n",
      "Losgistic Regression(81/1000): loss=-585127755136.5391\n",
      "Losgistic Regression(82/1000): loss=-592172663353.5872\n",
      "Losgistic Regression(83/1000): loss=-599217571570.635\n",
      "Losgistic Regression(84/1000): loss=-606262479787.6832\n",
      "Losgistic Regression(85/1000): loss=-613307388004.731\n",
      "Losgistic Regression(86/1000): loss=-620352296221.7792\n",
      "Losgistic Regression(87/1000): loss=-627397204438.8269\n",
      "Losgistic Regression(88/1000): loss=-634442112655.8752\n",
      "Losgistic Regression(89/1000): loss=-641487020872.9233\n",
      "Losgistic Regression(90/1000): loss=-648531929089.9712\n",
      "Losgistic Regression(91/1000): loss=-655576837307.0194\n",
      "Losgistic Regression(92/1000): loss=-662621745524.0671\n",
      "Losgistic Regression(93/1000): loss=-669666653741.1155\n",
      "Losgistic Regression(94/1000): loss=-676711561958.1636\n",
      "Losgistic Regression(95/1000): loss=-683756470175.2115\n",
      "Losgistic Regression(96/1000): loss=-690801378392.2596\n",
      "Losgistic Regression(97/1000): loss=-697846286609.3073\n",
      "Losgistic Regression(98/1000): loss=-704891194826.3557\n",
      "Losgistic Regression(99/1000): loss=-711936103043.4038\n",
      "Losgistic Regression(100/1000): loss=-718981011260.4515\n",
      "Losgistic Regression(101/1000): loss=-726025919477.4999\n",
      "Losgistic Regression(102/1000): loss=-733070827694.5476\n",
      "Losgistic Regression(103/1000): loss=-740115735911.5958\n",
      "Losgistic Regression(104/1000): loss=-747160644128.644\n",
      "Losgistic Regression(105/1000): loss=-754205552345.6918\n",
      "Losgistic Regression(106/1000): loss=-761250460562.74\n",
      "Losgistic Regression(107/1000): loss=-768295368779.7876\n",
      "Losgistic Regression(108/1000): loss=-775340276996.8359\n",
      "Losgistic Regression(109/1000): loss=-782385185213.8835\n",
      "Losgistic Regression(110/1000): loss=-789430093430.932\n",
      "Losgistic Regression(111/1000): loss=-796475001647.9802\n",
      "Losgistic Regression(112/1000): loss=-803519909865.0278\n",
      "Losgistic Regression(113/1000): loss=-810564818082.0762\n",
      "Losgistic Regression(114/1000): loss=-817609726299.1238\n",
      "Losgistic Regression(115/1000): loss=-824654634516.1722\n",
      "Losgistic Regression(116/1000): loss=-831699542733.2203\n",
      "Losgistic Regression(117/1000): loss=-838744450950.2681\n",
      "Losgistic Regression(118/1000): loss=-845789359167.3165\n",
      "Losgistic Regression(119/1000): loss=-852834267384.3649\n",
      "Losgistic Regression(120/1000): loss=-859879175601.4126\n",
      "Losgistic Regression(121/1000): loss=-866924083818.4606\n",
      "Losgistic Regression(122/1000): loss=-873968992035.5084\n",
      "Losgistic Regression(123/1000): loss=-881013900252.5565\n",
      "Losgistic Regression(124/1000): loss=-888058808469.6042\n",
      "Losgistic Regression(125/1000): loss=-895103716686.6526\n",
      "Losgistic Regression(126/1000): loss=-902148624903.7009\n",
      "Losgistic Regression(127/1000): loss=-909193533120.7487\n",
      "Losgistic Regression(128/1000): loss=-916238441337.7966\n",
      "Losgistic Regression(129/1000): loss=-923283349554.8445\n",
      "Losgistic Regression(130/1000): loss=-930328257771.8926\n",
      "Losgistic Regression(131/1000): loss=-937373165988.9402\n",
      "Losgistic Regression(132/1000): loss=-944418074205.9884\n",
      "Losgistic Regression(133/1000): loss=-951462982423.0369\n",
      "Losgistic Regression(134/1000): loss=-958507890640.0847\n",
      "Losgistic Regression(135/1000): loss=-965552798857.1326\n",
      "Losgistic Regression(136/1000): loss=-972597707074.1805\n",
      "Losgistic Regression(137/1000): loss=-979642615291.2286\n",
      "Losgistic Regression(138/1000): loss=-986687523508.2764\n",
      "Losgistic Regression(139/1000): loss=-993732431725.3247\n",
      "Losgistic Regression(140/1000): loss=-1000777339942.3722\n",
      "Losgistic Regression(141/1000): loss=-1007822248159.4208\n",
      "Losgistic Regression(142/1000): loss=-1014867156376.4689\n",
      "Losgistic Regression(143/1000): loss=-1021912064593.5166\n",
      "Losgistic Regression(144/1000): loss=-1028956972810.5646\n",
      "Losgistic Regression(145/1000): loss=-1036001881027.6124\n",
      "Losgistic Regression(146/1000): loss=-1043046789244.6605\n",
      "Losgistic Regression(147/1000): loss=-1050091697461.7084\n",
      "Losgistic Regression(148/1000): loss=-1057136605678.7561\n",
      "Losgistic Regression(149/1000): loss=-1064181513895.8047\n",
      "Losgistic Regression(150/1000): loss=-1071226422112.8523\n",
      "Losgistic Regression(151/1000): loss=-1078271330329.9006\n",
      "Losgistic Regression(152/1000): loss=-1085316238546.9485\n",
      "Losgistic Regression(153/1000): loss=-1092361146763.9965\n",
      "Losgistic Regression(154/1000): loss=-1099406054981.0443\n",
      "Losgistic Regression(155/1000): loss=-1106450963198.0925\n",
      "Losgistic Regression(156/1000): loss=-1113495871415.1409\n",
      "Losgistic Regression(157/1000): loss=-1120540779632.189\n",
      "Losgistic Regression(158/1000): loss=-1127585687849.2366\n",
      "Losgistic Regression(159/1000): loss=-1134630596066.2844\n",
      "Losgistic Regression(160/1000): loss=-1141675504283.3325\n",
      "Losgistic Regression(161/1000): loss=-1148720412500.3804\n",
      "Losgistic Regression(162/1000): loss=-1155765320717.4282\n",
      "Losgistic Regression(163/1000): loss=-1162810228934.4763\n",
      "Losgistic Regression(164/1000): loss=-1169855137151.5244\n",
      "Losgistic Regression(165/1000): loss=-1176900045368.5728\n",
      "Losgistic Regression(166/1000): loss=-1183944953585.6206\n",
      "Losgistic Regression(167/1000): loss=-1190989861802.6685\n",
      "Losgistic Regression(168/1000): loss=-1198034770019.7163\n",
      "Losgistic Regression(169/1000): loss=-1205079678236.7644\n",
      "Losgistic Regression(170/1000): loss=-1212124586453.8123\n",
      "Losgistic Regression(171/1000): loss=-1219169494670.8608\n",
      "Losgistic Regression(172/1000): loss=-1226214402887.9084\n",
      "Losgistic Regression(173/1000): loss=-1233259311104.9565\n",
      "Losgistic Regression(174/1000): loss=-1240304219322.0046\n",
      "Losgistic Regression(175/1000): loss=-1247349127539.0525\n",
      "Losgistic Regression(176/1000): loss=-1254394035756.1\n",
      "Losgistic Regression(177/1000): loss=-1261438943973.1482\n",
      "Losgistic Regression(178/1000): loss=-1268483852190.1963\n",
      "Losgistic Regression(179/1000): loss=-1275528760407.2446\n",
      "Losgistic Regression(180/1000): loss=-1282573668624.2927\n",
      "Losgistic Regression(181/1000): loss=-1289618576841.3403\n",
      "Losgistic Regression(182/1000): loss=-1296663485058.3884\n",
      "Losgistic Regression(183/1000): loss=-1303708393275.4365\n",
      "Losgistic Regression(184/1000): loss=-1310753301492.4849\n",
      "Losgistic Regression(185/1000): loss=-1317798209709.532\n",
      "Losgistic Regression(186/1000): loss=-1324843117926.58\n",
      "Losgistic Regression(187/1000): loss=-1331888026143.6287\n",
      "Losgistic Regression(188/1000): loss=-1338932934360.6765\n",
      "Losgistic Regression(189/1000): loss=-1345977842577.7249\n",
      "Losgistic Regression(190/1000): loss=-1353022750794.772\n",
      "Losgistic Regression(191/1000): loss=-1360067659011.8203\n",
      "Losgistic Regression(192/1000): loss=-1367112567228.8684\n",
      "Losgistic Regression(193/1000): loss=-1374157475445.917\n",
      "Losgistic Regression(194/1000): loss=-1381202383662.965\n",
      "Losgistic Regression(195/1000): loss=-1388247291880.0122\n",
      "Losgistic Regression(196/1000): loss=-1395292200097.0605\n",
      "Losgistic Regression(197/1000): loss=-1402337108314.1086\n",
      "Losgistic Regression(198/1000): loss=-1409382016531.1567\n",
      "Losgistic Regression(199/1000): loss=-1416426924748.205\n",
      "Losgistic Regression(200/1000): loss=-1423471832965.252\n",
      "Losgistic Regression(201/1000): loss=-1430516741182.3005\n",
      "Losgistic Regression(202/1000): loss=-1437561649399.3489\n",
      "Losgistic Regression(203/1000): loss=-1444606557616.397\n",
      "Losgistic Regression(204/1000): loss=-1451651465833.444\n",
      "Losgistic Regression(205/1000): loss=-1458696374050.4922\n",
      "Losgistic Regression(206/1000): loss=-1465741282267.5408\n",
      "Losgistic Regression(207/1000): loss=-1472786190484.5886\n",
      "Losgistic Regression(208/1000): loss=-1479831098701.6357\n",
      "Losgistic Regression(209/1000): loss=-1486876006918.6838\n",
      "Losgistic Regression(210/1000): loss=-1493920915135.7322\n",
      "Losgistic Regression(211/1000): loss=-1500965823352.7808\n",
      "Losgistic Regression(212/1000): loss=-1508010731569.8289\n",
      "Losgistic Regression(213/1000): loss=-1515055639786.876\n",
      "Losgistic Regression(214/1000): loss=-1522100548003.924\n",
      "Losgistic Regression(215/1000): loss=-1529145456220.9727\n",
      "Losgistic Regression(216/1000): loss=-1536190364438.021\n",
      "Losgistic Regression(217/1000): loss=-1543235272655.069\n",
      "Losgistic Regression(218/1000): loss=-1550280180872.116\n",
      "Losgistic Regression(219/1000): loss=-1557325089089.1643\n",
      "Losgistic Regression(220/1000): loss=-1564369997306.2126\n",
      "Losgistic Regression(221/1000): loss=-1571414905523.261\n",
      "Losgistic Regression(222/1000): loss=-1578459813740.3079\n",
      "Losgistic Regression(223/1000): loss=-1585504721957.356\n",
      "Losgistic Regression(224/1000): loss=-1592549630174.4045\n",
      "Losgistic Regression(225/1000): loss=-1599594538391.453\n",
      "Losgistic Regression(226/1000): loss=-1606639446608.501\n",
      "Losgistic Regression(227/1000): loss=-1613684354825.5479\n",
      "Losgistic Regression(228/1000): loss=-1620729263042.5962\n",
      "Losgistic Regression(229/1000): loss=-1627774171259.6443\n",
      "Losgistic Regression(230/1000): loss=-1634819079476.6929\n",
      "Losgistic Regression(231/1000): loss=-1641863987693.7412\n",
      "Losgistic Regression(232/1000): loss=-1648908895910.788\n",
      "Losgistic Regression(233/1000): loss=-1655953804127.8364\n",
      "Losgistic Regression(234/1000): loss=-1662998712344.8848\n",
      "Losgistic Regression(235/1000): loss=-1670043620561.933\n",
      "Losgistic Regression(236/1000): loss=-1677088528778.9814\n",
      "Losgistic Regression(237/1000): loss=-1684133436996.0286\n",
      "Losgistic Regression(238/1000): loss=-1691178345213.077\n",
      "Losgistic Regression(239/1000): loss=-1698223253430.1245\n",
      "Losgistic Regression(240/1000): loss=-1705268161647.173\n",
      "Losgistic Regression(241/1000): loss=-1712313069864.2202\n",
      "Losgistic Regression(242/1000): loss=-1719357978081.2686\n",
      "Losgistic Regression(243/1000): loss=-1726402886298.3162\n",
      "Losgistic Regression(244/1000): loss=-1733447794515.3645\n",
      "Losgistic Regression(245/1000): loss=-1740492702732.4133\n",
      "Losgistic Regression(246/1000): loss=-1747537610949.4604\n",
      "Losgistic Regression(247/1000): loss=-1754582519166.5083\n",
      "Losgistic Regression(248/1000): loss=-1761627427383.5564\n",
      "Losgistic Regression(249/1000): loss=-1768672335600.605\n",
      "Losgistic Regression(250/1000): loss=-1775717243817.652\n",
      "Losgistic Regression(251/1000): loss=-1782762152034.7004\n",
      "Losgistic Regression(252/1000): loss=-1789807060251.749\n",
      "Losgistic Regression(253/1000): loss=-1796851968468.7966\n",
      "Losgistic Regression(254/1000): loss=-1803896876685.8452\n",
      "Losgistic Regression(255/1000): loss=-1810941784902.8923\n",
      "Losgistic Regression(256/1000): loss=-1817986693119.9407\n",
      "Losgistic Regression(257/1000): loss=-1825031601336.9893\n",
      "Losgistic Regression(258/1000): loss=-1832076509554.0369\n",
      "Losgistic Regression(259/1000): loss=-1839121417771.0854\n",
      "Losgistic Regression(260/1000): loss=-1846166325988.1323\n",
      "Losgistic Regression(261/1000): loss=-1853211234205.1804\n",
      "Losgistic Regression(262/1000): loss=-1860256142422.229\n",
      "Losgistic Regression(263/1000): loss=-1867301050639.277\n",
      "Losgistic Regression(264/1000): loss=-1874345958856.3242\n",
      "Losgistic Regression(265/1000): loss=-1881390867073.3726\n",
      "Losgistic Regression(266/1000): loss=-1888435775290.4207\n",
      "Losgistic Regression(267/1000): loss=-1895480683507.4688\n",
      "Losgistic Regression(268/1000): loss=-1902525591724.517\n",
      "Losgistic Regression(269/1000): loss=-1909570499941.5645\n",
      "Losgistic Regression(270/1000): loss=-1916615408158.6128\n",
      "Losgistic Regression(271/1000): loss=-1923660316375.6614\n",
      "Losgistic Regression(272/1000): loss=-1930705224592.709\n",
      "Losgistic Regression(273/1000): loss=-1937750132809.7573\n",
      "Losgistic Regression(274/1000): loss=-1944795041026.805\n",
      "Losgistic Regression(275/1000): loss=-1951839949243.8533\n",
      "Losgistic Regression(276/1000): loss=-1958884857460.9011\n",
      "Losgistic Regression(277/1000): loss=-1965929765677.9487\n",
      "Losgistic Regression(278/1000): loss=-1972974673894.996\n",
      "Losgistic Regression(279/1000): loss=-1980019582112.045\n",
      "Losgistic Regression(280/1000): loss=-1987064490329.0933\n",
      "Losgistic Regression(281/1000): loss=-1994109398546.1414\n",
      "Losgistic Regression(282/1000): loss=-2001154306763.1892\n",
      "Losgistic Regression(283/1000): loss=-2008199214980.2366\n",
      "Losgistic Regression(284/1000): loss=-2015244123197.2854\n",
      "Losgistic Regression(285/1000): loss=-2022289031414.333\n",
      "Losgistic Regression(286/1000): loss=-2029333939631.3809\n",
      "Losgistic Regression(287/1000): loss=-2036378847848.428\n",
      "Losgistic Regression(288/1000): loss=-2043423756065.4763\n",
      "Losgistic Regression(289/1000): loss=-2050468664282.5251\n",
      "Losgistic Regression(290/1000): loss=-2057513572499.5737\n",
      "Losgistic Regression(291/1000): loss=-2064558480716.621\n",
      "Losgistic Regression(292/1000): loss=-2071603388933.6697\n",
      "Losgistic Regression(293/1000): loss=-2078648297150.7168\n",
      "Losgistic Regression(294/1000): loss=-2085693205367.7656\n",
      "Losgistic Regression(295/1000): loss=-2092738113584.8127\n",
      "Losgistic Regression(296/1000): loss=-2099783021801.861\n",
      "Losgistic Regression(297/1000): loss=-2106827930018.9082\n",
      "Losgistic Regression(298/1000): loss=-2113872838235.957\n",
      "Losgistic Regression(299/1000): loss=-2120917746453.0051\n",
      "Losgistic Regression(300/1000): loss=-2127962654670.0532\n",
      "Losgistic Regression(301/1000): loss=-2135007562887.1016\n",
      "Losgistic Regression(302/1000): loss=-2142052471104.149\n",
      "Losgistic Regression(303/1000): loss=-2149097379321.1975\n",
      "Losgistic Regression(304/1000): loss=-2156142287538.246\n",
      "Losgistic Regression(305/1000): loss=-2163187195755.2932\n",
      "Losgistic Regression(306/1000): loss=-2170232103972.3416\n",
      "Losgistic Regression(307/1000): loss=-2177277012189.389\n",
      "Losgistic Regression(308/1000): loss=-2184321920406.4375\n",
      "Losgistic Regression(309/1000): loss=-2191366828623.4856\n",
      "Losgistic Regression(310/1000): loss=-2198411736840.5337\n",
      "Losgistic Regression(311/1000): loss=-2205456645057.582\n",
      "Losgistic Regression(312/1000): loss=-2212501553274.6294\n",
      "Losgistic Regression(313/1000): loss=-2219546461491.6777\n",
      "Losgistic Regression(314/1000): loss=-2226591369708.725\n",
      "Losgistic Regression(315/1000): loss=-2233636277925.7725\n",
      "Losgistic Regression(316/1000): loss=-2240681186142.821\n",
      "Losgistic Regression(317/1000): loss=-2247726094359.869\n",
      "Losgistic Regression(318/1000): loss=-2254771002576.918\n",
      "Losgistic Regression(319/1000): loss=-2261815910793.9653\n",
      "Losgistic Regression(320/1000): loss=-2268860819011.0137\n",
      "Losgistic Regression(321/1000): loss=-2275905727228.0615\n",
      "Losgistic Regression(322/1000): loss=-2282950635445.11\n",
      "Losgistic Regression(323/1000): loss=-2289995543662.1567\n",
      "Losgistic Regression(324/1000): loss=-2297040451879.205\n",
      "Losgistic Regression(325/1000): loss=-2304085360096.253\n",
      "Losgistic Regression(326/1000): loss=-2311130268313.3013\n",
      "Losgistic Regression(327/1000): loss=-2318175176530.3496\n",
      "Losgistic Regression(328/1000): loss=-2325220084747.3975\n",
      "Losgistic Regression(329/1000): loss=-2332264992964.4463\n",
      "Losgistic Regression(330/1000): loss=-2339309901181.4946\n",
      "Losgistic Regression(331/1000): loss=-2346354809398.542\n",
      "Losgistic Regression(332/1000): loss=-2353399717615.5903\n",
      "Losgistic Regression(333/1000): loss=-2360444625832.637\n",
      "Losgistic Regression(334/1000): loss=-2367489534049.686\n",
      "Losgistic Regression(335/1000): loss=-2374534442266.7334\n",
      "Losgistic Regression(336/1000): loss=-2381579350483.7817\n",
      "Losgistic Regression(337/1000): loss=-2388624258700.8296\n",
      "Losgistic Regression(338/1000): loss=-2395669166917.878\n",
      "Losgistic Regression(339/1000): loss=-2402714075134.927\n",
      "Losgistic Regression(340/1000): loss=-2409758983351.9736\n",
      "Losgistic Regression(341/1000): loss=-2416803891569.0225\n",
      "Losgistic Regression(342/1000): loss=-2423848799786.069\n",
      "Losgistic Regression(343/1000): loss=-2430893708003.1177\n",
      "Losgistic Regression(344/1000): loss=-2437938616220.1655\n",
      "Losgistic Regression(345/1000): loss=-2444983524437.2134\n",
      "Losgistic Regression(346/1000): loss=-2452028432654.262\n",
      "Losgistic Regression(347/1000): loss=-2459073340871.3096\n",
      "Losgistic Regression(348/1000): loss=-2466118249088.3584\n",
      "Losgistic Regression(349/1000): loss=-2473163157305.4067\n",
      "Losgistic Regression(350/1000): loss=-2480208065522.454\n",
      "Losgistic Regression(351/1000): loss=-2487252973739.503\n",
      "Losgistic Regression(352/1000): loss=-2494297881956.5493\n",
      "Losgistic Regression(353/1000): loss=-2501342790173.598\n",
      "Losgistic Regression(354/1000): loss=-2508387698390.6465\n",
      "Losgistic Regression(355/1000): loss=-2515432606607.694\n",
      "Losgistic Regression(356/1000): loss=-2522477514824.7427\n",
      "Losgistic Regression(357/1000): loss=-2529522423041.7905\n",
      "Losgistic Regression(358/1000): loss=-2536567331258.839\n",
      "Losgistic Regression(359/1000): loss=-2543612239475.8877\n",
      "Losgistic Regression(360/1000): loss=-2550657147692.9346\n",
      "Losgistic Regression(361/1000): loss=-2557702055909.9814\n",
      "Losgistic Regression(362/1000): loss=-2564746964127.03\n",
      "Losgistic Regression(363/1000): loss=-2571791872344.078\n",
      "Losgistic Regression(364/1000): loss=-2578836780561.1265\n",
      "Losgistic Regression(365/1000): loss=-2585881688778.1743\n",
      "Losgistic Regression(366/1000): loss=-2592926596995.2227\n",
      "Losgistic Regression(367/1000): loss=-2599971505212.2705\n",
      "Losgistic Regression(368/1000): loss=-2607016413429.3193\n",
      "Losgistic Regression(369/1000): loss=-2614061321646.3667\n",
      "Losgistic Regression(370/1000): loss=-2621106229863.415\n",
      "Losgistic Regression(371/1000): loss=-2628151138080.462\n",
      "Losgistic Regression(372/1000): loss=-2635196046297.5103\n",
      "Losgistic Regression(373/1000): loss=-2642240954514.5586\n",
      "Losgistic Regression(374/1000): loss=-2649285862731.6064\n",
      "Losgistic Regression(375/1000): loss=-2656330770948.655\n",
      "Losgistic Regression(376/1000): loss=-2663375679165.7026\n",
      "Losgistic Regression(377/1000): loss=-2670420587382.751\n",
      "Losgistic Regression(378/1000): loss=-2677465495599.7993\n",
      "Losgistic Regression(379/1000): loss=-2684510403816.8477\n",
      "Losgistic Regression(380/1000): loss=-2691555312033.8936\n",
      "Losgistic Regression(381/1000): loss=-2698600220250.942\n",
      "Losgistic Regression(382/1000): loss=-2705645128467.99\n",
      "Losgistic Regression(383/1000): loss=-2712690036685.038\n",
      "Losgistic Regression(384/1000): loss=-2719734944902.087\n",
      "Losgistic Regression(385/1000): loss=-2726779853119.135\n",
      "Losgistic Regression(386/1000): loss=-2733824761336.183\n",
      "Losgistic Regression(387/1000): loss=-2740869669553.232\n",
      "Losgistic Regression(388/1000): loss=-2747914577770.2793\n",
      "Losgistic Regression(389/1000): loss=-2754959485987.328\n",
      "Losgistic Regression(390/1000): loss=-2762004394204.376\n",
      "Losgistic Regression(391/1000): loss=-2769049302421.4224\n",
      "Losgistic Regression(392/1000): loss=-2776094210638.4707\n",
      "Losgistic Regression(393/1000): loss=-2783139118855.5186\n",
      "Losgistic Regression(394/1000): loss=-2790184027072.5674\n",
      "Losgistic Regression(395/1000): loss=-2797228935289.615\n",
      "Losgistic Regression(396/1000): loss=-2804273843506.6636\n",
      "Losgistic Regression(397/1000): loss=-2811318751723.7124\n",
      "Losgistic Regression(398/1000): loss=-2818363659940.76\n",
      "Losgistic Regression(399/1000): loss=-2825408568157.8086\n",
      "Losgistic Regression(400/1000): loss=-2832453476374.854\n",
      "Losgistic Regression(401/1000): loss=-2839498384591.903\n",
      "Losgistic Regression(402/1000): loss=-2846543292808.95\n",
      "Losgistic Regression(403/1000): loss=-2853588201025.999\n",
      "Losgistic Regression(404/1000): loss=-2860633109243.048\n",
      "Losgistic Regression(405/1000): loss=-2867678017460.0957\n",
      "Losgistic Regression(406/1000): loss=-2874722925677.144\n",
      "Losgistic Regression(407/1000): loss=-2881767833894.193\n",
      "Losgistic Regression(408/1000): loss=-2888812742111.24\n",
      "Losgistic Regression(409/1000): loss=-2895857650328.289\n",
      "Losgistic Regression(410/1000): loss=-2902902558545.3345\n",
      "Losgistic Regression(411/1000): loss=-2909947466762.3833\n",
      "Losgistic Regression(412/1000): loss=-2916992374979.431\n",
      "Losgistic Regression(413/1000): loss=-2924037283196.4795\n",
      "Losgistic Regression(414/1000): loss=-2931082191413.5273\n",
      "Losgistic Regression(415/1000): loss=-2938127099630.5757\n",
      "Losgistic Regression(416/1000): loss=-2945172007847.6245\n",
      "Losgistic Regression(417/1000): loss=-2952216916064.6724\n",
      "Losgistic Regression(418/1000): loss=-2959261824281.7207\n",
      "Losgistic Regression(419/1000): loss=-2966306732498.7666\n",
      "Losgistic Regression(420/1000): loss=-2973351640715.815\n",
      "Losgistic Regression(421/1000): loss=-2980396548932.863\n",
      "Losgistic Regression(422/1000): loss=-2987441457149.9116\n",
      "Losgistic Regression(423/1000): loss=-2994486365366.96\n",
      "Losgistic Regression(424/1000): loss=-3001531273584.008\n",
      "Losgistic Regression(425/1000): loss=-3008576181801.056\n",
      "Losgistic Regression(426/1000): loss=-3015621090018.1045\n",
      "Losgistic Regression(427/1000): loss=-3022665998235.153\n",
      "Losgistic Regression(428/1000): loss=-3029710906452.198\n",
      "Losgistic Regression(429/1000): loss=-3036755814669.247\n",
      "Losgistic Regression(430/1000): loss=-3043800722886.2944\n",
      "Losgistic Regression(431/1000): loss=-3050845631103.3433\n",
      "Losgistic Regression(432/1000): loss=-3057890539320.392\n",
      "Losgistic Regression(433/1000): loss=-3064935447537.44\n",
      "Losgistic Regression(434/1000): loss=-3071980355754.4883\n",
      "Losgistic Regression(435/1000): loss=-3079025263971.5366\n",
      "Losgistic Regression(436/1000): loss=-3086070172188.5854\n",
      "Losgistic Regression(437/1000): loss=-3093115080405.6333\n",
      "Losgistic Regression(438/1000): loss=-3100159988622.6787\n",
      "Losgistic Regression(439/1000): loss=-3107204896839.7266\n",
      "Losgistic Regression(440/1000): loss=-3114249805056.775\n",
      "Losgistic Regression(441/1000): loss=-3121294713273.8237\n",
      "Losgistic Regression(442/1000): loss=-3128339621490.8726\n",
      "Losgistic Regression(443/1000): loss=-3135384529707.92\n",
      "Losgistic Regression(444/1000): loss=-3142429437924.9688\n",
      "Losgistic Regression(445/1000): loss=-3149474346142.0176\n",
      "Losgistic Regression(446/1000): loss=-3156519254359.065\n",
      "Losgistic Regression(447/1000): loss=-3163564162576.114\n",
      "Losgistic Regression(448/1000): loss=-3170609070793.159\n",
      "Losgistic Regression(449/1000): loss=-3177653979010.207\n",
      "Losgistic Regression(450/1000): loss=-3184698887227.2554\n",
      "Losgistic Regression(451/1000): loss=-3191743795444.303\n",
      "Losgistic Regression(452/1000): loss=-3198788703661.353\n",
      "Losgistic Regression(453/1000): loss=-3205833611878.4004\n",
      "Losgistic Regression(454/1000): loss=-3212878520095.449\n",
      "Losgistic Regression(455/1000): loss=-3219923428312.497\n",
      "Losgistic Regression(456/1000): loss=-3226968336529.5425\n",
      "Losgistic Regression(457/1000): loss=-3234013244746.5913\n",
      "Losgistic Regression(458/1000): loss=-3241058152963.6387\n",
      "Losgistic Regression(459/1000): loss=-3248103061180.6875\n",
      "Losgistic Regression(460/1000): loss=-3255147969397.7363\n",
      "Losgistic Regression(461/1000): loss=-3262192877614.784\n",
      "Losgistic Regression(462/1000): loss=-3269237785831.8325\n",
      "Losgistic Regression(463/1000): loss=-3276282694048.881\n",
      "Losgistic Regression(464/1000): loss=-3283327602265.929\n",
      "Losgistic Regression(465/1000): loss=-3290372510482.9775\n",
      "Losgistic Regression(466/1000): loss=-3297417418700.026\n",
      "Losgistic Regression(467/1000): loss=-3304462326917.072\n",
      "Losgistic Regression(468/1000): loss=-3311507235134.119\n",
      "Losgistic Regression(469/1000): loss=-3318552143351.168\n",
      "Losgistic Regression(470/1000): loss=-3325597051568.2163\n",
      "Losgistic Regression(471/1000): loss=-3332641959785.264\n",
      "Losgistic Regression(472/1000): loss=-3339686868002.313\n",
      "Losgistic Regression(473/1000): loss=-3346731776219.3613\n",
      "Losgistic Regression(474/1000): loss=-3353776684436.409\n",
      "Losgistic Regression(475/1000): loss=-3360821592653.455\n",
      "Losgistic Regression(476/1000): loss=-3367866500870.5034\n",
      "Losgistic Regression(477/1000): loss=-3374911409087.5522\n",
      "Losgistic Regression(478/1000): loss=-3381956317304.6\n",
      "Losgistic Regression(479/1000): loss=-3389001225521.649\n",
      "Losgistic Regression(480/1000): loss=-3396046133738.697\n",
      "Losgistic Regression(481/1000): loss=-3403091041955.744\n",
      "Losgistic Regression(482/1000): loss=-3410135950172.793\n",
      "Losgistic Regression(483/1000): loss=-3417180858389.841\n",
      "Losgistic Regression(484/1000): loss=-3424225766606.8867\n",
      "Losgistic Regression(485/1000): loss=-3431270674823.935\n",
      "Losgistic Regression(486/1000): loss=-3438315583040.9834\n",
      "Losgistic Regression(487/1000): loss=-3445360491258.032\n",
      "Losgistic Regression(488/1000): loss=-3452405399475.0806\n",
      "Losgistic Regression(489/1000): loss=-3459450307692.1284\n",
      "Losgistic Regression(490/1000): loss=-3466495215909.1763\n",
      "Losgistic Regression(491/1000): loss=-3473540124126.224\n",
      "Losgistic Regression(492/1000): loss=-3480585032343.2734\n",
      "Losgistic Regression(493/1000): loss=-3487629940560.3184\n",
      "Losgistic Regression(494/1000): loss=-3494674848777.367\n",
      "Losgistic Regression(495/1000): loss=-3501719756994.4155\n",
      "Losgistic Regression(496/1000): loss=-3508764665211.464\n",
      "Losgistic Regression(497/1000): loss=-3515809573428.5117\n",
      "Losgistic Regression(498/1000): loss=-3522854481645.561\n",
      "Losgistic Regression(499/1000): loss=-3529899389862.608\n",
      "Losgistic Regression(500/1000): loss=-3536944298079.6567\n",
      "Losgistic Regression(501/1000): loss=-3543989206296.7046\n",
      "Losgistic Regression(502/1000): loss=-3551034114513.7534\n",
      "Losgistic Regression(503/1000): loss=-3558079022730.799\n",
      "Losgistic Regression(504/1000): loss=-3565123930947.8477\n",
      "Losgistic Regression(505/1000): loss=-3572168839164.8965\n",
      "Losgistic Regression(506/1000): loss=-3579213747381.9443\n",
      "Losgistic Regression(507/1000): loss=-3586258655598.992\n",
      "Losgistic Regression(508/1000): loss=-3593303563816.0396\n",
      "Losgistic Regression(509/1000): loss=-3600348472033.0884\n",
      "Losgistic Regression(510/1000): loss=-3607393380250.137\n",
      "Losgistic Regression(511/1000): loss=-3614438288467.185\n",
      "Losgistic Regression(512/1000): loss=-3621483196684.231\n",
      "Losgistic Regression(513/1000): loss=-3628528104901.2793\n",
      "Losgistic Regression(514/1000): loss=-3635573013118.328\n",
      "Losgistic Regression(515/1000): loss=-3642617921335.3765\n",
      "Losgistic Regression(516/1000): loss=-3649662829552.424\n",
      "Losgistic Regression(517/1000): loss=-3656707737769.4717\n",
      "Losgistic Regression(518/1000): loss=-3663752645986.5205\n",
      "Losgistic Regression(519/1000): loss=-3670797554203.5684\n",
      "Losgistic Regression(520/1000): loss=-3677842462420.617\n",
      "Losgistic Regression(521/1000): loss=-3684887370637.6655\n",
      "Losgistic Regression(522/1000): loss=-3691932278854.7114\n",
      "Losgistic Regression(523/1000): loss=-3698977187071.7593\n",
      "Losgistic Regression(524/1000): loss=-3706022095288.808\n",
      "Losgistic Regression(525/1000): loss=-3713067003505.857\n",
      "Losgistic Regression(526/1000): loss=-3720111911722.9043\n",
      "Losgistic Regression(527/1000): loss=-3727156819939.952\n",
      "Losgistic Regression(528/1000): loss=-3734201728157.001\n",
      "Losgistic Regression(529/1000): loss=-3741246636374.049\n",
      "Losgistic Regression(530/1000): loss=-3748291544591.0977\n",
      "Losgistic Regression(531/1000): loss=-3755336452808.143\n",
      "Losgistic Regression(532/1000): loss=-3762381361025.192\n",
      "Losgistic Regression(533/1000): loss=-3769426269242.2407\n",
      "Losgistic Regression(534/1000): loss=-3776471177459.2886\n",
      "Losgistic Regression(535/1000): loss=-3783516085676.3364\n",
      "Losgistic Regression(536/1000): loss=-3790560993893.384\n",
      "Losgistic Regression(537/1000): loss=-3797605902110.4326\n",
      "Losgistic Regression(538/1000): loss=-3804650810327.481\n",
      "Losgistic Regression(539/1000): loss=-3811695718544.5293\n",
      "Losgistic Regression(540/1000): loss=-3818740626761.578\n",
      "Losgistic Regression(541/1000): loss=-3825785534978.6235\n",
      "Losgistic Regression(542/1000): loss=-3832830443195.672\n",
      "Losgistic Regression(543/1000): loss=-3839875351412.721\n",
      "Losgistic Regression(544/1000): loss=-3846920259629.768\n",
      "Losgistic Regression(545/1000): loss=-3853965167846.8154\n",
      "Losgistic Regression(546/1000): loss=-3861010076063.864\n",
      "Losgistic Regression(547/1000): loss=-3868054984280.912\n",
      "Losgistic Regression(548/1000): loss=-3875099892497.9614\n",
      "Losgistic Regression(549/1000): loss=-3882144800715.007\n",
      "Losgistic Regression(550/1000): loss=-3889189708932.0557\n",
      "Losgistic Regression(551/1000): loss=-3896234617149.1035\n",
      "Losgistic Regression(552/1000): loss=-3903279525366.1523\n",
      "Losgistic Regression(553/1000): loss=-3910324433583.201\n",
      "Losgistic Regression(554/1000): loss=-3917369341800.2495\n",
      "Losgistic Regression(555/1000): loss=-3924414250017.2964\n",
      "Losgistic Regression(556/1000): loss=-3931459158234.344\n",
      "Losgistic Regression(557/1000): loss=-3938504066451.393\n",
      "Losgistic Regression(558/1000): loss=-3945548974668.442\n",
      "Losgistic Regression(559/1000): loss=-3952593882885.49\n",
      "Losgistic Regression(560/1000): loss=-3959638791102.5366\n",
      "Losgistic Regression(561/1000): loss=-3966683699319.5845\n",
      "Losgistic Regression(562/1000): loss=-3973728607536.6333\n",
      "Losgistic Regression(563/1000): loss=-3980773515753.6807\n",
      "Losgistic Regression(564/1000): loss=-3987818423970.7275\n",
      "Losgistic Regression(565/1000): loss=-3994863332187.7764\n",
      "Losgistic Regression(566/1000): loss=-4001908240404.8247\n",
      "Losgistic Regression(567/1000): loss=-4008953148621.873\n",
      "Losgistic Regression(568/1000): loss=-4015998056838.9194\n",
      "Losgistic Regression(569/1000): loss=-4023042965055.968\n",
      "Losgistic Regression(570/1000): loss=-4030087873273.0166\n",
      "Losgistic Regression(571/1000): loss=-4037132781490.065\n",
      "Losgistic Regression(572/1000): loss=-4044177689707.1123\n",
      "Losgistic Regression(573/1000): loss=-4051222597924.16\n",
      "Losgistic Regression(574/1000): loss=-4058267506141.2085\n",
      "Losgistic Regression(575/1000): loss=-4065312414358.257\n",
      "Losgistic Regression(576/1000): loss=-4072357322575.305\n",
      "Losgistic Regression(577/1000): loss=-4079402230792.354\n",
      "Losgistic Regression(578/1000): loss=-4086447139009.4004\n",
      "Losgistic Regression(579/1000): loss=-4093492047226.448\n",
      "Losgistic Regression(580/1000): loss=-4100536955443.497\n",
      "Losgistic Regression(581/1000): loss=-4107581863660.5454\n",
      "Losgistic Regression(582/1000): loss=-4114626771877.593\n",
      "Losgistic Regression(583/1000): loss=-4121671680094.64\n",
      "Losgistic Regression(584/1000): loss=-4128716588311.6885\n",
      "Losgistic Regression(585/1000): loss=-4135761496528.7373\n",
      "Losgistic Regression(586/1000): loss=-4142806404745.785\n",
      "Losgistic Regression(587/1000): loss=-4149851312962.834\n",
      "Losgistic Regression(588/1000): loss=-4156896221179.8804\n",
      "Losgistic Regression(589/1000): loss=-4163941129396.9287\n",
      "Losgistic Regression(590/1000): loss=-4170986037613.977\n",
      "Losgistic Regression(591/1000): loss=-4178030945831.0254\n",
      "Losgistic Regression(592/1000): loss=-4185075854048.074\n",
      "Losgistic Regression(593/1000): loss=-4192120762265.122\n",
      "Losgistic Regression(594/1000): loss=-4199165670482.1694\n",
      "Losgistic Regression(595/1000): loss=-4206210578699.2183\n",
      "Losgistic Regression(596/1000): loss=-4213255486916.2666\n",
      "Losgistic Regression(597/1000): loss=-4220300395133.3125\n",
      "Losgistic Regression(598/1000): loss=-4227345303350.361\n",
      "Losgistic Regression(599/1000): loss=-4234390211567.4097\n",
      "Losgistic Regression(600/1000): loss=-4241435119784.458\n",
      "Losgistic Regression(601/1000): loss=-4248480028001.504\n",
      "Losgistic Regression(602/1000): loss=-4255524936218.5522\n",
      "Losgistic Regression(603/1000): loss=-4262569844435.601\n",
      "Losgistic Regression(604/1000): loss=-4269614752652.649\n",
      "Losgistic Regression(605/1000): loss=-4276659660869.698\n",
      "Losgistic Regression(606/1000): loss=-4283704569086.744\n",
      "Losgistic Regression(607/1000): loss=-4290749477303.7925\n",
      "Losgistic Regression(608/1000): loss=-4297794385520.841\n",
      "Losgistic Regression(609/1000): loss=-4304839293737.889\n",
      "Losgistic Regression(610/1000): loss=-4311884201954.938\n",
      "Losgistic Regression(611/1000): loss=-4318929110171.986\n",
      "Losgistic Regression(612/1000): loss=-4325974018389.033\n",
      "Losgistic Regression(613/1000): loss=-4333018926606.082\n",
      "Losgistic Regression(614/1000): loss=-4340063834823.1304\n",
      "Losgistic Regression(615/1000): loss=-4347108743040.1787\n",
      "Losgistic Regression(616/1000): loss=-4354153651257.2246\n",
      "Losgistic Regression(617/1000): loss=-4361198559474.2734\n",
      "Losgistic Regression(618/1000): loss=-4368243467691.322\n",
      "Losgistic Regression(619/1000): loss=-4375288375908.37\n",
      "Losgistic Regression(620/1000): loss=-4382333284125.419\n",
      "Losgistic Regression(621/1000): loss=-4389378192342.465\n",
      "Losgistic Regression(622/1000): loss=-4396423100559.513\n",
      "Losgistic Regression(623/1000): loss=-4403468008776.562\n",
      "Losgistic Regression(624/1000): loss=-4410512916993.607\n",
      "Losgistic Regression(625/1000): loss=-4417557825210.656\n",
      "Losgistic Regression(626/1000): loss=-4424602733427.705\n",
      "Losgistic Regression(627/1000): loss=-4431647641644.753\n",
      "Losgistic Regression(628/1000): loss=-4438692549861.802\n",
      "Losgistic Regression(629/1000): loss=-4445737458078.85\n",
      "Losgistic Regression(630/1000): loss=-4452782366295.896\n",
      "Losgistic Regression(631/1000): loss=-4459827274512.945\n",
      "Losgistic Regression(632/1000): loss=-4466872182729.994\n",
      "Losgistic Regression(633/1000): loss=-4473917090947.043\n",
      "Losgistic Regression(634/1000): loss=-4480961999164.091\n",
      "Losgistic Regression(635/1000): loss=-4488006907381.137\n",
      "Losgistic Regression(636/1000): loss=-4495051815598.186\n",
      "Losgistic Regression(637/1000): loss=-4502096723815.234\n",
      "Losgistic Regression(638/1000): loss=-4509141632032.283\n",
      "Losgistic Regression(639/1000): loss=-4516186540249.328\n",
      "Losgistic Regression(640/1000): loss=-4523231448466.377\n",
      "Losgistic Regression(641/1000): loss=-4530276356683.425\n",
      "Losgistic Regression(642/1000): loss=-4537321264900.474\n",
      "Losgistic Regression(643/1000): loss=-4544366173117.522\n",
      "Losgistic Regression(644/1000): loss=-4551411081334.569\n",
      "Losgistic Regression(645/1000): loss=-4558455989551.617\n",
      "Losgistic Regression(646/1000): loss=-4565500897768.665\n",
      "Losgistic Regression(647/1000): loss=-4572545805985.714\n",
      "Losgistic Regression(648/1000): loss=-4579590714202.763\n",
      "Losgistic Regression(649/1000): loss=-4586635622419.811\n",
      "Losgistic Regression(650/1000): loss=-4593680530636.858\n",
      "Losgistic Regression(651/1000): loss=-4600725438853.906\n",
      "Losgistic Regression(652/1000): loss=-4607770347070.955\n",
      "Losgistic Regression(653/1000): loss=-4614815255288.004\n",
      "Losgistic Regression(654/1000): loss=-4621860163505.05\n",
      "Losgistic Regression(655/1000): loss=-4628905071722.099\n",
      "Losgistic Regression(656/1000): loss=-4635949979939.146\n",
      "Losgistic Regression(657/1000): loss=-4642994888156.195\n",
      "Losgistic Regression(658/1000): loss=-4650039796373.244\n",
      "Losgistic Regression(659/1000): loss=-4657084704590.293\n",
      "Losgistic Regression(660/1000): loss=-4664129612807.338\n",
      "Losgistic Regression(661/1000): loss=-4671174521024.386\n",
      "Losgistic Regression(662/1000): loss=-4678219429241.433\n",
      "Losgistic Regression(663/1000): loss=-4685264337458.481\n",
      "Losgistic Regression(664/1000): loss=-4692309245675.53\n",
      "Losgistic Regression(665/1000): loss=-4699354153892.578\n",
      "Losgistic Regression(666/1000): loss=-4706399062109.626\n",
      "Losgistic Regression(667/1000): loss=-4713443970326.675\n",
      "Losgistic Regression(668/1000): loss=-4720488878543.722\n",
      "Losgistic Regression(669/1000): loss=-4727533786760.7705\n",
      "Losgistic Regression(670/1000): loss=-4734578694977.819\n",
      "Losgistic Regression(671/1000): loss=-4741623603194.867\n",
      "Losgistic Regression(672/1000): loss=-4748668511411.915\n",
      "Losgistic Regression(673/1000): loss=-4755713419628.962\n",
      "Losgistic Regression(674/1000): loss=-4762758327846.011\n",
      "Losgistic Regression(675/1000): loss=-4769803236063.06\n",
      "Losgistic Regression(676/1000): loss=-4776848144280.107\n",
      "Losgistic Regression(677/1000): loss=-4783893052497.156\n",
      "Losgistic Regression(678/1000): loss=-4790937960714.201\n",
      "Losgistic Regression(679/1000): loss=-4797982868931.25\n",
      "Losgistic Regression(680/1000): loss=-4805027777148.299\n",
      "Losgistic Regression(681/1000): loss=-4812072685365.347\n",
      "Losgistic Regression(682/1000): loss=-4819117593582.3955\n",
      "Losgistic Regression(683/1000): loss=-4826162501799.442\n",
      "Losgistic Regression(684/1000): loss=-4833207410016.49\n",
      "Losgistic Regression(685/1000): loss=-4840252318233.539\n",
      "Losgistic Regression(686/1000): loss=-4847297226450.586\n",
      "Losgistic Regression(687/1000): loss=-4854342134667.636\n",
      "Losgistic Regression(688/1000): loss=-4861387042884.683\n",
      "Losgistic Regression(689/1000): loss=-4868431951101.731\n",
      "Losgistic Regression(690/1000): loss=-4875476859318.78\n",
      "Losgistic Regression(691/1000): loss=-4882521767535.828\n",
      "Losgistic Regression(692/1000): loss=-4889566675752.876\n",
      "Losgistic Regression(693/1000): loss=-4896611583969.924\n",
      "Losgistic Regression(694/1000): loss=-4903656492186.972\n",
      "Losgistic Regression(695/1000): loss=-4910701400404.0205\n",
      "Losgistic Regression(696/1000): loss=-4917746308621.068\n",
      "Losgistic Regression(697/1000): loss=-4924791216838.117\n",
      "Losgistic Regression(698/1000): loss=-4931836125055.162\n",
      "Losgistic Regression(699/1000): loss=-4938881033272.211\n",
      "Losgistic Regression(700/1000): loss=-4945925941489.26\n",
      "Losgistic Regression(701/1000): loss=-4952970849706.307\n",
      "Losgistic Regression(702/1000): loss=-4960015757923.354\n",
      "Losgistic Regression(703/1000): loss=-4967060666140.402\n",
      "Losgistic Regression(704/1000): loss=-4974105574357.451\n",
      "Losgistic Regression(705/1000): loss=-4981150482574.5\n",
      "Losgistic Regression(706/1000): loss=-4988195390791.547\n",
      "Losgistic Regression(707/1000): loss=-4995240299008.595\n",
      "Losgistic Regression(708/1000): loss=-5002285207225.644\n",
      "Losgistic Regression(709/1000): loss=-5009330115442.692\n",
      "Losgistic Regression(710/1000): loss=-5016375023659.741\n",
      "Losgistic Regression(711/1000): loss=-5023419931876.788\n",
      "Losgistic Regression(712/1000): loss=-5030464840093.836\n",
      "Losgistic Regression(713/1000): loss=-5037509748310.885\n",
      "Losgistic Regression(714/1000): loss=-5044554656527.933\n",
      "Losgistic Regression(715/1000): loss=-5051599564744.981\n",
      "Losgistic Regression(716/1000): loss=-5058644472962.025\n",
      "Losgistic Regression(717/1000): loss=-5065689381179.074\n",
      "Losgistic Regression(718/1000): loss=-5072734289396.123\n",
      "Losgistic Regression(719/1000): loss=-5079779197613.172\n",
      "Losgistic Regression(720/1000): loss=-5086824105830.22\n",
      "Losgistic Regression(721/1000): loss=-5093869014047.267\n",
      "Losgistic Regression(722/1000): loss=-5100913922264.315\n",
      "Losgistic Regression(723/1000): loss=-5107958830481.363\n",
      "Losgistic Regression(724/1000): loss=-5115003738698.412\n",
      "Losgistic Regression(725/1000): loss=-5122048646915.461\n",
      "Losgistic Regression(726/1000): loss=-5129093555132.508\n",
      "Losgistic Regression(727/1000): loss=-5136138463349.556\n",
      "Losgistic Regression(728/1000): loss=-5143183371566.6045\n",
      "Losgistic Regression(729/1000): loss=-5150228279783.653\n",
      "Losgistic Regression(730/1000): loss=-5157273188000.702\n",
      "Losgistic Regression(731/1000): loss=-5164318096217.75\n",
      "Losgistic Regression(732/1000): loss=-5171363004434.798\n",
      "Losgistic Regression(733/1000): loss=-5178407912651.845\n",
      "Losgistic Regression(734/1000): loss=-5185452820868.894\n",
      "Losgistic Regression(735/1000): loss=-5192497729085.942\n",
      "Losgistic Regression(736/1000): loss=-5199542637302.99\n",
      "Losgistic Regression(737/1000): loss=-5206587545520.039\n",
      "Losgistic Regression(738/1000): loss=-5213632453737.084\n",
      "Losgistic Regression(739/1000): loss=-5220677361954.132\n",
      "Losgistic Regression(740/1000): loss=-5227722270171.18\n",
      "Losgistic Regression(741/1000): loss=-5234767178388.229\n",
      "Losgistic Regression(742/1000): loss=-5241812086605.276\n",
      "Losgistic Regression(743/1000): loss=-5248856994822.324\n",
      "Losgistic Regression(744/1000): loss=-5255901903039.373\n",
      "Losgistic Regression(745/1000): loss=-5262946811256.422\n",
      "Losgistic Regression(746/1000): loss=-5269991719473.469\n",
      "Losgistic Regression(747/1000): loss=-5277036627690.518\n",
      "Losgistic Regression(748/1000): loss=-5284081535907.565\n",
      "Losgistic Regression(749/1000): loss=-5291126444124.614\n",
      "Losgistic Regression(750/1000): loss=-5298171352341.663\n",
      "Losgistic Regression(751/1000): loss=-5305216260558.712\n",
      "Losgistic Regression(752/1000): loss=-5312261168775.757\n",
      "Losgistic Regression(753/1000): loss=-5319306076992.807\n",
      "Losgistic Regression(754/1000): loss=-5326350985209.8545\n",
      "Losgistic Regression(755/1000): loss=-5333395893426.899\n",
      "Losgistic Regression(756/1000): loss=-5340440801643.948\n",
      "Losgistic Regression(757/1000): loss=-5347485709860.996\n",
      "Losgistic Regression(758/1000): loss=-5354530618078.044\n",
      "Losgistic Regression(759/1000): loss=-5361575526295.093\n",
      "Losgistic Regression(760/1000): loss=-5368620434512.142\n",
      "Losgistic Regression(761/1000): loss=-5375665342729.188\n",
      "Losgistic Regression(762/1000): loss=-5382710250946.236\n",
      "Losgistic Regression(763/1000): loss=-5389755159163.285\n",
      "Losgistic Regression(764/1000): loss=-5396800067380.334\n",
      "Losgistic Regression(765/1000): loss=-5403844975597.383\n",
      "Losgistic Regression(766/1000): loss=-5410889883814.43\n",
      "Losgistic Regression(767/1000): loss=-5417934792031.478\n",
      "Losgistic Regression(768/1000): loss=-5424979700248.526\n",
      "Losgistic Regression(769/1000): loss=-5432024608465.575\n",
      "Losgistic Regression(770/1000): loss=-5439069516682.624\n",
      "Losgistic Regression(771/1000): loss=-5446114424899.673\n",
      "Losgistic Regression(772/1000): loss=-5453159333116.719\n",
      "Losgistic Regression(773/1000): loss=-5460204241333.768\n",
      "Losgistic Regression(774/1000): loss=-5467249149550.816\n",
      "Losgistic Regression(775/1000): loss=-5474294057767.859\n",
      "Losgistic Regression(776/1000): loss=-5481338965984.908\n",
      "Losgistic Regression(777/1000): loss=-5488383874201.956\n",
      "Losgistic Regression(778/1000): loss=-5495428782419.005\n",
      "Losgistic Regression(779/1000): loss=-5502473690636.052\n",
      "Losgistic Regression(780/1000): loss=-5509518598853.101\n",
      "Losgistic Regression(781/1000): loss=-5516563507070.149\n",
      "Losgistic Regression(782/1000): loss=-5523608415287.197\n",
      "Losgistic Regression(783/1000): loss=-5530653323504.246\n",
      "Losgistic Regression(784/1000): loss=-5537698231721.295\n",
      "Losgistic Regression(785/1000): loss=-5544743139938.342\n",
      "Losgistic Regression(786/1000): loss=-5551788048155.391\n",
      "Losgistic Regression(787/1000): loss=-5558832956372.438\n",
      "Losgistic Regression(788/1000): loss=-5565877864589.487\n",
      "Losgistic Regression(789/1000): loss=-5572922772806.536\n",
      "Losgistic Regression(790/1000): loss=-5579967681023.585\n",
      "Losgistic Regression(791/1000): loss=-5587012589240.634\n",
      "Losgistic Regression(792/1000): loss=-5594057497457.68\n",
      "Losgistic Regression(793/1000): loss=-5601102405674.729\n",
      "Losgistic Regression(794/1000): loss=-5608147313891.777\n",
      "Losgistic Regression(795/1000): loss=-5615192222108.821\n",
      "Losgistic Regression(796/1000): loss=-5622237130325.869\n",
      "Losgistic Regression(797/1000): loss=-5629282038542.917\n",
      "Losgistic Regression(798/1000): loss=-5636326946759.966\n",
      "Losgistic Regression(799/1000): loss=-5643371854977.015\n",
      "Losgistic Regression(800/1000): loss=-5650416763194.062\n",
      "Losgistic Regression(801/1000): loss=-5657461671411.11\n",
      "Losgistic Regression(802/1000): loss=-5664506579628.158\n",
      "Losgistic Regression(803/1000): loss=-5671551487845.207\n",
      "Losgistic Regression(804/1000): loss=-5678596396062.255\n",
      "Losgistic Regression(805/1000): loss=-5685641304279.304\n",
      "Losgistic Regression(806/1000): loss=-5692686212496.353\n",
      "Losgistic Regression(807/1000): loss=-5699731120713.399\n",
      "Losgistic Regression(808/1000): loss=-5706776028930.448\n",
      "Losgistic Regression(809/1000): loss=-5713820937147.497\n",
      "Losgistic Regression(810/1000): loss=-5720865845364.546\n",
      "Losgistic Regression(811/1000): loss=-5727910753581.593\n",
      "Losgistic Regression(812/1000): loss=-5734955661798.643\n",
      "Losgistic Regression(813/1000): loss=-5742000570015.689\n",
      "Losgistic Regression(814/1000): loss=-5749045478232.738\n",
      "Losgistic Regression(815/1000): loss=-5756090386449.781\n",
      "Losgistic Regression(816/1000): loss=-5763135294666.83\n",
      "Losgistic Regression(817/1000): loss=-5770180202883.878\n",
      "Losgistic Regression(818/1000): loss=-5777225111100.927\n",
      "Losgistic Regression(819/1000): loss=-5784270019317.974\n",
      "Losgistic Regression(820/1000): loss=-5791314927535.022\n",
      "Losgistic Regression(821/1000): loss=-5798359835752.071\n",
      "Losgistic Regression(822/1000): loss=-5805404743969.119\n",
      "Losgistic Regression(823/1000): loss=-5812449652186.168\n",
      "Losgistic Regression(824/1000): loss=-5819494560403.216\n",
      "Losgistic Regression(825/1000): loss=-5826539468620.265\n",
      "Losgistic Regression(826/1000): loss=-5833584376837.313\n",
      "Losgistic Regression(827/1000): loss=-5840629285054.36\n",
      "Losgistic Regression(828/1000): loss=-5847674193271.409\n",
      "Losgistic Regression(829/1000): loss=-5854719101488.458\n",
      "Losgistic Regression(830/1000): loss=-5861764009705.507\n",
      "Losgistic Regression(831/1000): loss=-5868808917922.556\n",
      "Losgistic Regression(832/1000): loss=-5875853826139.602\n",
      "Losgistic Regression(833/1000): loss=-5882898734356.65\n",
      "Losgistic Regression(834/1000): loss=-5889943642573.699\n",
      "Losgistic Regression(835/1000): loss=-5896988550790.743\n",
      "Losgistic Regression(836/1000): loss=-5904033459007.791\n",
      "Losgistic Regression(837/1000): loss=-5911078367224.839\n",
      "Losgistic Regression(838/1000): loss=-5918123275441.888\n",
      "Losgistic Regression(839/1000): loss=-5925168183658.937\n",
      "Losgistic Regression(840/1000): loss=-5932213091875.985\n",
      "Losgistic Regression(841/1000): loss=-5939258000093.032\n",
      "Losgistic Regression(842/1000): loss=-5946302908310.08\n",
      "Losgistic Regression(843/1000): loss=-5953347816527.129\n",
      "Losgistic Regression(844/1000): loss=-5960392724744.178\n",
      "Losgistic Regression(845/1000): loss=-5967437632961.226\n",
      "Losgistic Regression(846/1000): loss=-5974482541178.274\n",
      "Losgistic Regression(847/1000): loss=-5981527449395.322\n",
      "Losgistic Regression(848/1000): loss=-5988572357612.37\n",
      "Losgistic Regression(849/1000): loss=-5995617265829.419\n",
      "Losgistic Regression(850/1000): loss=-6002662174046.468\n",
      "Losgistic Regression(851/1000): loss=-6009707082263.516\n",
      "Losgistic Regression(852/1000): loss=-6016751990480.564\n",
      "Losgistic Regression(853/1000): loss=-6023796898697.611\n",
      "Losgistic Regression(854/1000): loss=-6030841806914.66\n",
      "Losgistic Regression(855/1000): loss=-6037886715131.709\n",
      "Losgistic Regression(856/1000): loss=-6044931623348.752\n",
      "Losgistic Regression(857/1000): loss=-6051976531565.807\n",
      "Losgistic Regression(858/1000): loss=-6059021439782.848\n",
      "Losgistic Regression(859/1000): loss=-6066066347999.896\n",
      "Losgistic Regression(860/1000): loss=-6073111256216.945\n",
      "Losgistic Regression(861/1000): loss=-6080156164433.993\n",
      "Losgistic Regression(862/1000): loss=-6087201072651.042\n",
      "Losgistic Regression(863/1000): loss=-6094245980868.09\n",
      "Losgistic Regression(864/1000): loss=-6101290889085.139\n",
      "Losgistic Regression(865/1000): loss=-6108335797302.187\n",
      "Losgistic Regression(866/1000): loss=-6115380705519.235\n",
      "Losgistic Regression(867/1000): loss=-6122425613736.283\n",
      "Losgistic Regression(868/1000): loss=-6129470521953.331\n",
      "Losgistic Regression(869/1000): loss=-6136515430170.38\n",
      "Losgistic Regression(870/1000): loss=-6143560338387.429\n",
      "Losgistic Regression(871/1000): loss=-6150605246604.477\n",
      "Losgistic Regression(872/1000): loss=-6157650154821.525\n",
      "Losgistic Regression(873/1000): loss=-6164695063038.572\n",
      "Losgistic Regression(874/1000): loss=-6171739971255.621\n",
      "Losgistic Regression(875/1000): loss=-6178784879472.664\n",
      "Losgistic Regression(876/1000): loss=-6185829787689.713\n",
      "Losgistic Regression(877/1000): loss=-6192874695906.762\n",
      "Losgistic Regression(878/1000): loss=-6199919604123.81\n",
      "Losgistic Regression(879/1000): loss=-6206964512340.856\n",
      "Losgistic Regression(880/1000): loss=-6214009420557.906\n",
      "Losgistic Regression(881/1000): loss=-6221054328774.956\n",
      "Losgistic Regression(882/1000): loss=-6228099236992.003\n",
      "Losgistic Regression(883/1000): loss=-6235144145209.051\n",
      "Losgistic Regression(884/1000): loss=-6242189053426.1\n",
      "Losgistic Regression(885/1000): loss=-6249233961643.147\n",
      "Losgistic Regression(886/1000): loss=-6256278869860.196\n",
      "Losgistic Regression(887/1000): loss=-6263323778077.244\n",
      "Losgistic Regression(888/1000): loss=-6270368686294.292\n",
      "Losgistic Regression(889/1000): loss=-6277413594511.341\n",
      "Losgistic Regression(890/1000): loss=-6284458502728.39\n",
      "Losgistic Regression(891/1000): loss=-6291503410945.4375\n",
      "Losgistic Regression(892/1000): loss=-6298548319162.486\n",
      "Losgistic Regression(893/1000): loss=-6305593227379.533\n",
      "Losgistic Regression(894/1000): loss=-6312638135596.582\n",
      "Losgistic Regression(895/1000): loss=-6319683043813.631\n",
      "Losgistic Regression(896/1000): loss=-6326727952030.68\n",
      "Losgistic Regression(897/1000): loss=-6333772860247.729\n",
      "Losgistic Regression(898/1000): loss=-6340817768464.7705\n",
      "Losgistic Regression(899/1000): loss=-6347862676681.817\n",
      "Losgistic Regression(900/1000): loss=-6354907584898.868\n",
      "Losgistic Regression(901/1000): loss=-6361952493115.915\n",
      "Losgistic Regression(902/1000): loss=-6368997401332.964\n",
      "Losgistic Regression(903/1000): loss=-6376042309550.012\n",
      "Losgistic Regression(904/1000): loss=-6383087217767.061\n",
      "Losgistic Regression(905/1000): loss=-6390132125984.108\n",
      "Losgistic Regression(906/1000): loss=-6397177034201.158\n",
      "Losgistic Regression(907/1000): loss=-6404221942418.206\n",
      "Losgistic Regression(908/1000): loss=-6411266850635.253\n",
      "Losgistic Regression(909/1000): loss=-6418311758852.302\n",
      "Losgistic Regression(910/1000): loss=-6425356667069.351\n",
      "Losgistic Regression(911/1000): loss=-6432401575286.399\n",
      "Losgistic Regression(912/1000): loss=-6439446483503.448\n",
      "Losgistic Regression(913/1000): loss=-6446491391720.497\n",
      "Losgistic Regression(914/1000): loss=-6453536299937.543\n",
      "Losgistic Regression(915/1000): loss=-6460581208154.592\n",
      "Losgistic Regression(916/1000): loss=-6467626116371.641\n",
      "Losgistic Regression(917/1000): loss=-6474671024588.684\n",
      "Losgistic Regression(918/1000): loss=-6481715932805.731\n",
      "Losgistic Regression(919/1000): loss=-6488760841022.78\n",
      "Losgistic Regression(920/1000): loss=-6495805749239.828\n",
      "Losgistic Regression(921/1000): loss=-6502850657456.877\n",
      "Losgistic Regression(922/1000): loss=-6509895565673.925\n",
      "Losgistic Regression(923/1000): loss=-6516940473890.973\n",
      "Losgistic Regression(924/1000): loss=-6523985382108.021\n",
      "Losgistic Regression(925/1000): loss=-6531030290325.07\n",
      "Losgistic Regression(926/1000): loss=-6538075198542.119\n",
      "Losgistic Regression(927/1000): loss=-6545120106759.168\n",
      "Losgistic Regression(928/1000): loss=-6552165014976.215\n",
      "Losgistic Regression(929/1000): loss=-6559209923193.263\n",
      "Losgistic Regression(930/1000): loss=-6566254831410.312\n",
      "Losgistic Regression(931/1000): loss=-6573299739627.36\n",
      "Losgistic Regression(932/1000): loss=-6580344647844.409\n",
      "Losgistic Regression(933/1000): loss=-6587389556061.458\n",
      "Losgistic Regression(934/1000): loss=-6594434464278.504\n",
      "Losgistic Regression(935/1000): loss=-6601479372495.553\n",
      "Losgistic Regression(936/1000): loss=-6608524280712.602\n",
      "Losgistic Regression(937/1000): loss=-6615569188929.65\n",
      "Losgistic Regression(938/1000): loss=-6622614097146.699\n",
      "Losgistic Regression(939/1000): loss=-6629659005363.741\n",
      "Losgistic Regression(940/1000): loss=-6636703913580.79\n",
      "Losgistic Regression(941/1000): loss=-6643748821797.837\n",
      "Losgistic Regression(942/1000): loss=-6650793730014.886\n",
      "Losgistic Regression(943/1000): loss=-6657838638231.935\n",
      "Losgistic Regression(944/1000): loss=-6664883546448.982\n",
      "Losgistic Regression(945/1000): loss=-6671928454666.031\n",
      "Losgistic Regression(946/1000): loss=-6678973362883.08\n",
      "Losgistic Regression(947/1000): loss=-6686018271100.129\n",
      "Losgistic Regression(948/1000): loss=-6693063179317.177\n",
      "Losgistic Regression(949/1000): loss=-6700108087534.225\n",
      "Losgistic Regression(950/1000): loss=-6707152995751.272\n",
      "Losgistic Regression(951/1000): loss=-6714197903968.32\n",
      "Losgistic Regression(952/1000): loss=-6721242812185.369\n",
      "Losgistic Regression(953/1000): loss=-6728287720402.418\n",
      "Losgistic Regression(954/1000): loss=-6735332628619.466\n",
      "Losgistic Regression(955/1000): loss=-6742377536836.514\n",
      "Losgistic Regression(956/1000): loss=-6749422445053.5625\n",
      "Losgistic Regression(957/1000): loss=-6756467353270.611\n",
      "Losgistic Regression(958/1000): loss=-6763512261487.66\n",
      "Losgistic Regression(959/1000): loss=-6770557169704.702\n",
      "Losgistic Regression(960/1000): loss=-6777602077921.751\n",
      "Losgistic Regression(961/1000): loss=-6784646986138.8\n",
      "Losgistic Regression(962/1000): loss=-6791691894355.849\n",
      "Losgistic Regression(963/1000): loss=-6798736802572.896\n",
      "Losgistic Regression(964/1000): loss=-6805781710789.944\n",
      "Losgistic Regression(965/1000): loss=-6812826619006.993\n",
      "Losgistic Regression(966/1000): loss=-6819871527224.043\n",
      "Losgistic Regression(967/1000): loss=-6826916435441.091\n",
      "Losgistic Regression(968/1000): loss=-6833961343658.14\n",
      "Losgistic Regression(969/1000): loss=-6841006251875.186\n",
      "Losgistic Regression(970/1000): loss=-6848051160092.232\n",
      "Losgistic Regression(971/1000): loss=-6855096068309.281\n",
      "Losgistic Regression(972/1000): loss=-6862140976526.332\n",
      "Losgistic Regression(973/1000): loss=-6869185884743.379\n",
      "Losgistic Regression(974/1000): loss=-6876230792960.427\n",
      "Losgistic Regression(975/1000): loss=-6883275701177.476\n",
      "Losgistic Regression(976/1000): loss=-6890320609394.524\n",
      "Losgistic Regression(977/1000): loss=-6897365517611.572\n",
      "Losgistic Regression(978/1000): loss=-6904410425828.621\n",
      "Losgistic Regression(979/1000): loss=-6911455334045.67\n",
      "Losgistic Regression(980/1000): loss=-6918500242262.718\n",
      "Losgistic Regression(981/1000): loss=-6925545150479.767\n",
      "Losgistic Regression(982/1000): loss=-6932590058696.815\n",
      "Losgistic Regression(983/1000): loss=-6939634966913.858\n",
      "Losgistic Regression(984/1000): loss=-6946679875130.906\n",
      "Losgistic Regression(985/1000): loss=-6953724783347.954\n",
      "Losgistic Regression(986/1000): loss=-6960769691565.003\n",
      "Losgistic Regression(987/1000): loss=-6967814599782.053\n",
      "Losgistic Regression(988/1000): loss=-6974859507999.101\n",
      "Losgistic Regression(989/1000): loss=-6981904416216.148\n",
      "Losgistic Regression(990/1000): loss=-6988949324433.197\n",
      "Losgistic Regression(991/1000): loss=-6995994232650.246\n",
      "Losgistic Regression(992/1000): loss=-7003039140867.295\n",
      "Losgistic Regression(993/1000): loss=-7010084049084.342\n",
      "Losgistic Regression(994/1000): loss=-7017128957301.391\n",
      "Losgistic Regression(995/1000): loss=-7024173865518.438\n",
      "Losgistic Regression(996/1000): loss=-7031218773735.487\n",
      "Losgistic Regression(997/1000): loss=-7038263681952.536\n",
      "Losgistic Regression(998/1000): loss=-7045308590169.583\n",
      "Losgistic Regression(999/1000): loss=-7052353498386.634\n"
     ]
    }
   ],
   "source": [
    "w, loss = logistic_regression_GD(train_y, train_tx, gamma, 1000)"
   ]
  },
  {
   "cell_type": "code",
   "execution_count": 99,
   "metadata": {
    "collapsed": false
   },
   "outputs": [
    {
     "data": {
      "image/png": "[encoded data removed]",
      "text/plain": [
       "<matplotlib.figure.Figure at 0x13103ef60>"
      ]
     },
     "metadata": {},
     "output_type": "display_data"
    }
   ],
   "source": [
    "plt.plot(loss)\n",
    "plt.show()"
   ]
  },
  {
   "cell_type": "code",
   "execution_count": 100,
   "metadata": {
    "collapsed": false
   },
   "outputs": [
    {
     "data": {
      "text/plain": [
       "0.65733200000000003"
      ]
     },
     "execution_count": 100,
     "metadata": {},
     "output_type": "execute_result"
    }
   ],
   "source": [
    "y_pred = prediction(poly_std_tx, w)\n",
    "accuracy(new_y, y_pred)"
   ]
  },
  {
   "cell_type": "markdown",
   "metadata": {},
   "source": [
    "### SGD"
   ]
  },
  {
   "cell_type": "code",
   "execution_count": 258,
   "metadata": {
    "collapsed": false
   },
   "outputs": [
    {
     "name": "stdout",
     "output_type": "stream",
     "text": [
      "max eigenvalue is 1433657581575.1267, gamma is 0.0001\n"
     ]
    }
   ],
   "source": [
    "m = 1\n",
    "train_tx = stdandardlized_tx[::m]\n",
    "train_y  = new_y[::m]\n",
    "max_eign = np.max(np.abs(np.linalg.eigvals(new_tx.T @ new_tx)))\n",
    "# L = max_eign/4\n",
    "gamma = 0.0001\n",
    "print (\"max eigenvalue is {e}, gamma is {g}\".format(e=max_eign, g=gamma))"
   ]
  },
  {
   "cell_type": "code",
   "execution_count": 259,
   "metadata": {
    "collapsed": true
   },
   "outputs": [],
   "source": [
    "def sgd_solver(y, tx, gamma, batch_size, num_iters, num_batches=None, shuffle=True):\n",
    "    costs = []\n",
    "    w = np.random.randn(tx.shape[1]) * 0.1\n",
    "    for i, (shuffled_y, shuffled_tx) in enumerate(batch_iter(y, tx, batch_size, num_batches, shuffle)):\n",
    "        w, loss = logistic_regression_GD(shuffled_y, shuffled_tx, 1/(1/gamma+i), num_iters, w0=w)\n",
    "#         print(loss)\n",
    "        costs.append(loss)\n",
    "    return w, costs"
   ]
  },
  {
   "cell_type": "code",
   "execution_count": 260,
   "metadata": {
    "collapsed": false
   },
   "outputs": [
    {
     "name": "stdout",
     "output_type": "stream",
     "text": [
      "Losgistic Regression(0/10000): loss=896.313607318988\n",
      "Losgistic Regression(1000/10000): loss=-2147.8633758430506\n",
      "Losgistic Regression(2000/10000): loss=-2737.2235768103724\n",
      "Losgistic Regression(3000/10000): loss=-3071.3067127682875\n",
      "Losgistic Regression(4000/10000): loss=-3308.0460831060727\n",
      "Losgistic Regression(5000/10000): loss=-3491.1502342743916\n",
      "Losgistic Regression(6000/10000): loss=-3639.5718862272106\n",
      "Losgistic Regression(7000/10000): loss=-3763.4842248456007\n",
      "Losgistic Regression(8000/10000): loss=-3869.1228287902622\n",
      "Losgistic Regression(9000/10000): loss=-3960.6478816624212\n",
      "Losgistic Regression(0/10000): loss=-5527.91588749719\n",
      "Losgistic Regression(1000/10000): loss=-4159.88620274663\n",
      "Losgistic Regression(2000/10000): loss=-4392.694898097011\n",
      "Losgistic Regression(3000/10000): loss=-4666.735024952528\n",
      "Losgistic Regression(4000/10000): loss=-4886.422658770219\n",
      "Losgistic Regression(5000/10000): loss=-5063.0450039825755\n",
      "Losgistic Regression(6000/10000): loss=-5209.747429681731\n",
      "Losgistic Regression(7000/10000): loss=-5335.0458651049785\n",
      "Losgistic Regression(8000/10000): loss=-5444.229141258592\n",
      "Losgistic Regression(9000/10000): loss=-5540.701956272018\n",
      "Losgistic Regression(0/10000): loss=640.4227128057521\n",
      "Losgistic Regression(1000/10000): loss=-2275.142835525069\n",
      "Losgistic Regression(2000/10000): loss=-3383.777516306036\n",
      "Losgistic Regression(3000/10000): loss=-3858.491486232196\n",
      "Losgistic Regression(4000/10000): loss=-4130.13301089553\n",
      "Losgistic Regression(5000/10000): loss=-4321.366629670914\n",
      "Losgistic Regression(6000/10000): loss=-4474.836498668485\n",
      "Losgistic Regression(7000/10000): loss=-4607.443809697338\n",
      "Losgistic Regression(8000/10000): loss=-4726.624596727252\n",
      "Losgistic Regression(9000/10000): loss=-4836.015081078574\n",
      "Losgistic Regression(0/10000): loss=-5364.865607590046\n",
      "Losgistic Regression(1000/10000): loss=-4137.300411705514\n",
      "Losgistic Regression(2000/10000): loss=-3373.5317100057423\n",
      "Losgistic Regression(3000/10000): loss=-3192.0867669102677\n",
      "Losgistic Regression(4000/10000): loss=-3222.0337409301383\n",
      "Losgistic Regression(5000/10000): loss=-3305.7585363400176\n",
      "Losgistic Regression(6000/10000): loss=-3391.7165443209724\n",
      "Losgistic Regression(7000/10000): loss=-3467.9479685628035\n",
      "Losgistic Regression(8000/10000): loss=-3534.0890440238136\n",
      "Losgistic Regression(9000/10000): loss=-3592.2392954669313\n",
      "Losgistic Regression(0/10000): loss=334.54336128275213\n",
      "Losgistic Regression(1000/10000): loss=-3697.951044636888\n",
      "Losgistic Regression(2000/10000): loss=-4979.054142166173\n",
      "Losgistic Regression(3000/10000): loss=-5797.395567687033\n",
      "Losgistic Regression(4000/10000): loss=-6413.24003820363\n",
      "Losgistic Regression(5000/10000): loss=-6907.146920792241\n",
      "Losgistic Regression(6000/10000): loss=-7317.245462783357\n",
      "Losgistic Regression(7000/10000): loss=-7666.539989982612\n",
      "Losgistic Regression(8000/10000): loss=-7970.377474593633\n",
      "Losgistic Regression(9000/10000): loss=-8239.363322905345\n",
      "Losgistic Regression(0/10000): loss=-3714.979617697521\n",
      "Losgistic Regression(1000/10000): loss=-4457.785917386258\n",
      "Losgistic Regression(2000/10000): loss=-5093.840983993516\n",
      "Losgistic Regression(3000/10000): loss=-5580.438069947928\n",
      "Losgistic Regression(4000/10000): loss=-5940.529511031291\n",
      "Losgistic Regression(5000/10000): loss=-6217.678509135089\n",
      "Losgistic Regression(6000/10000): loss=-6440.124768287312\n",
      "Losgistic Regression(7000/10000): loss=-6624.468043364138\n",
      "Losgistic Regression(8000/10000): loss=-6780.847907586563\n",
      "Losgistic Regression(9000/10000): loss=-6915.883334350609\n",
      "Losgistic Regression(0/10000): loss=-1249.1199232297104\n",
      "Losgistic Regression(1000/10000): loss=-1136.8366037148821\n",
      "Losgistic Regression(2000/10000): loss=-1351.37522231138\n",
      "Losgistic Regression(3000/10000): loss=-1617.3740602936168\n",
      "Losgistic Regression(4000/10000): loss=-1834.623066700654\n",
      "Losgistic Regression(5000/10000): loss=-1995.7552890667773\n",
      "Losgistic Regression(6000/10000): loss=-2116.9504042239687\n",
      "Losgistic Regression(7000/10000): loss=-2211.566568559444\n",
      "Losgistic Regression(8000/10000): loss=-2288.148175726648\n",
      "Losgistic Regression(9000/10000): loss=-2352.0226565743214\n",
      "Losgistic Regression(0/10000): loss=-3192.3079192411305\n",
      "Losgistic Regression(1000/10000): loss=-3536.580685649621\n",
      "Losgistic Regression(2000/10000): loss=-3923.945740317478\n",
      "Losgistic Regression(3000/10000): loss=-4109.178290339326\n",
      "Losgistic Regression(4000/10000): loss=-4261.079342410707\n",
      "Losgistic Regression(5000/10000): loss=-4401.196802295992\n",
      "Losgistic Regression(6000/10000): loss=-4527.76646805091\n",
      "Losgistic Regression(7000/10000): loss=-4640.808261647498\n",
      "Losgistic Regression(8000/10000): loss=-4741.883338509666\n",
      "Losgistic Regression(9000/10000): loss=-4832.855966315578\n",
      "Losgistic Regression(0/10000): loss=-1426.2017687948871\n",
      "Losgistic Regression(1000/10000): loss=-394.55413948039586\n",
      "Losgistic Regression(2000/10000): loss=-153.8523619784544\n",
      "Losgistic Regression(3000/10000): loss=-98.28618785155292\n",
      "Losgistic Regression(4000/10000): loss=-88.46358083497712\n",
      "Losgistic Regression(5000/10000): loss=-91.22995433761125\n",
      "Losgistic Regression(6000/10000): loss=-98.69862645638732\n",
      "Losgistic Regression(7000/10000): loss=-108.7684121704214\n",
      "Losgistic Regression(8000/10000): loss=-120.61707074199035\n",
      "Losgistic Regression(9000/10000): loss=-133.73099789973426\n",
      "Losgistic Regression(0/10000): loss=487.11957668055527\n",
      "Losgistic Regression(1000/10000): loss=-6603.984637700305\n",
      "Losgistic Regression(2000/10000): loss=-7762.211669578502\n",
      "Losgistic Regression(3000/10000): loss=-8346.250132434156\n",
      "Losgistic Regression(4000/10000): loss=-8704.294615826055\n",
      "Losgistic Regression(5000/10000): loss=-8946.068187664068\n",
      "Losgistic Regression(6000/10000): loss=-9115.685651370637\n",
      "Losgistic Regression(7000/10000): loss=-9237.303050317154\n",
      "Losgistic Regression(8000/10000): loss=-9326.15706979533\n",
      "Losgistic Regression(9000/10000): loss=-9392.21193216573\n",
      "Losgistic Regression(0/10000): loss=-2228.8991778771606\n",
      "Losgistic Regression(1000/10000): loss=-2076.1167622801972\n",
      "Losgistic Regression(2000/10000): loss=-2058.287771931228\n",
      "Losgistic Regression(3000/10000): loss=-2022.2386054766203\n",
      "Losgistic Regression(4000/10000): loss=-1974.2741489861842\n",
      "Losgistic Regression(5000/10000): loss=-1925.2440196381242\n",
      "Losgistic Regression(6000/10000): loss=-1880.5642444681082\n",
      "Losgistic Regression(7000/10000): loss=-1842.2348974712627\n",
      "Losgistic Regression(8000/10000): loss=-1810.6184622270284\n",
      "Losgistic Regression(9000/10000): loss=-1785.4207039175985\n",
      "Losgistic Regression(0/10000): loss=-873.0897741109708\n",
      "Losgistic Regression(1000/10000): loss=-1579.786846214394\n",
      "Losgistic Regression(2000/10000): loss=-2089.6308631344896\n",
      "Losgistic Regression(3000/10000): loss=-2350.5720328343436\n",
      "Losgistic Regression(4000/10000): loss=-2531.077027934217\n",
      "Losgistic Regression(5000/10000): loss=-2673.90579598036\n",
      "Losgistic Regression(6000/10000): loss=-2790.8572508174207\n",
      "Losgistic Regression(7000/10000): loss=-2887.4165091789596\n",
      "Losgistic Regression(8000/10000): loss=-2967.627658446755\n",
      "Losgistic Regression(9000/10000): loss=-3034.834803929996\n",
      "Losgistic Regression(0/10000): loss=-1755.2348249995991\n",
      "Losgistic Regression(1000/10000): loss=-1328.316003280474\n",
      "Losgistic Regression(2000/10000): loss=-1609.5536883783823\n",
      "Losgistic Regression(3000/10000): loss=-1791.9750033201192\n",
      "Losgistic Regression(4000/10000): loss=-1930.5806653882685\n",
      "Losgistic Regression(5000/10000): loss=-2046.4829913981866\n",
      "Losgistic Regression(6000/10000): loss=-2146.4763036427094\n",
      "Losgistic Regression(7000/10000): loss=-2234.3939961205506\n",
      "Losgistic Regression(8000/10000): loss=-2312.919653309583\n",
      "Losgistic Regression(9000/10000): loss=-2383.9851094741666\n",
      "Losgistic Regression(0/10000): loss=464.57834726891\n",
      "Losgistic Regression(1000/10000): loss=-3438.929450998183\n",
      "Losgistic Regression(2000/10000): loss=-4111.28300971395\n",
      "Losgistic Regression(3000/10000): loss=-4435.234856149013\n",
      "Losgistic Regression(4000/10000): loss=-4651.176522111728\n",
      "Losgistic Regression(5000/10000): loss=-4816.95071245573\n",
      "Losgistic Regression(6000/10000): loss=-4956.617149150855\n",
      "Losgistic Regression(7000/10000): loss=-5080.023452979698\n",
      "Losgistic Regression(8000/10000): loss=-5191.51242332678\n",
      "Losgistic Regression(9000/10000): loss=-5293.4194824502565\n",
      "Losgistic Regression(0/10000): loss=-2317.6843251854625\n",
      "Losgistic Regression(1000/10000): loss=-1681.8783112066567\n",
      "Losgistic Regression(2000/10000): loss=-1808.5888063399207\n",
      "Losgistic Regression(3000/10000): loss=-1885.9776302144198\n",
      "Losgistic Regression(4000/10000): loss=-1942.940313462726\n",
      "Losgistic Regression(5000/10000): loss=-1992.191982275852\n",
      "Losgistic Regression(6000/10000): loss=-2036.8114643147553\n",
      "Losgistic Regression(7000/10000): loss=-2077.7128450355644\n",
      "Losgistic Regression(8000/10000): loss=-2115.4268943646357\n",
      "Losgistic Regression(9000/10000): loss=-2150.3834371073053\n",
      "Losgistic Regression(0/10000): loss=-303.6220960311431\n",
      "Losgistic Regression(1000/10000): loss=-2020.7868171309026\n",
      "Losgistic Regression(2000/10000): loss=-2633.246487067444\n",
      "Losgistic Regression(3000/10000): loss=-2918.7830563057823\n",
      "Losgistic Regression(4000/10000): loss=-3086.198117441127\n",
      "Losgistic Regression(5000/10000): loss=-3215.5064007890974\n",
      "Losgistic Regression(6000/10000): loss=-3333.7201943058412\n",
      "Losgistic Regression(7000/10000): loss=-3448.9207143122308\n",
      "Losgistic Regression(8000/10000): loss=-3562.922144360824\n",
      "Losgistic Regression(9000/10000): loss=-3675.6850070824357\n",
      "Losgistic Regression(0/10000): loss=-5919.138698230949\n",
      "Losgistic Regression(1000/10000): loss=-6166.58060428017\n",
      "Losgistic Regression(2000/10000): loss=-6298.102561968924\n",
      "Losgistic Regression(3000/10000): loss=-6425.582751970427\n",
      "Losgistic Regression(4000/10000): loss=-6531.194239786606\n",
      "Losgistic Regression(5000/10000): loss=-6628.98162153489\n",
      "Losgistic Regression(6000/10000): loss=-6724.489601408244\n",
      "Losgistic Regression(7000/10000): loss=-6818.491570844274\n",
      "Losgistic Regression(8000/10000): loss=-6910.504703123655\n",
      "Losgistic Regression(9000/10000): loss=-6999.996822862606\n",
      "Losgistic Regression(0/10000): loss=-2817.1883964979047\n",
      "Losgistic Regression(1000/10000): loss=-5009.152151534174\n",
      "Losgistic Regression(2000/10000): loss=-5645.130240397935\n",
      "Losgistic Regression(3000/10000): loss=-5934.4756507575285\n",
      "Losgistic Regression(4000/10000): loss=-6140.326662506185\n",
      "Losgistic Regression(5000/10000): loss=-6307.131439416582\n",
      "Losgistic Regression(6000/10000): loss=-6448.52435538874\n",
      "Losgistic Regression(7000/10000): loss=-6571.162918703116\n",
      "Losgistic Regression(8000/10000): loss=-6679.154415970275\n",
      "Losgistic Regression(9000/10000): loss=-6775.343897269076\n",
      "Losgistic Regression(0/10000): loss=-3191.478659902109\n",
      "Losgistic Regression(1000/10000): loss=-3029.8179977422765\n",
      "Losgistic Regression(2000/10000): loss=-3215.520565882564\n",
      "Losgistic Regression(3000/10000): loss=-3288.7400292142993\n",
      "Losgistic Regression(4000/10000): loss=-3329.8002451629163\n",
      "Losgistic Regression(5000/10000): loss=-3361.7668209399617\n",
      "Losgistic Regression(6000/10000): loss=-3389.3944306478957\n",
      "Losgistic Regression(7000/10000): loss=-3413.3864622853225\n",
      "Losgistic Regression(8000/10000): loss=-3433.948905073292\n",
      "Losgistic Regression(9000/10000): loss=-3451.382196409094\n",
      "Losgistic Regression(0/10000): loss=-273.58033214409795\n",
      "Losgistic Regression(1000/10000): loss=-1707.8572483623382\n",
      "Losgistic Regression(2000/10000): loss=-2310.4541097206284\n",
      "Losgistic Regression(3000/10000): loss=-2611.3722580804997\n",
      "Losgistic Regression(4000/10000): loss=-2817.6937022963293\n",
      "Losgistic Regression(5000/10000): loss=-2982.202207800358\n",
      "Losgistic Regression(6000/10000): loss=-3121.9916095399367\n",
      "Losgistic Regression(7000/10000): loss=-3244.3754101318395\n",
      "Losgistic Regression(8000/10000): loss=-3353.3531387214925\n",
      "Losgistic Regression(9000/10000): loss=-3451.5662079892395\n",
      "Losgistic Regression(0/10000): loss=-1552.1283865563842\n",
      "Losgistic Regression(1000/10000): loss=-1968.2493234622802\n",
      "Losgistic Regression(2000/10000): loss=-1832.3647155653966\n",
      "Losgistic Regression(3000/10000): loss=-1788.4629663143367\n",
      "Losgistic Regression(4000/10000): loss=-1773.7234492120965\n",
      "Losgistic Regression(5000/10000): loss=-1771.45884314407\n",
      "Losgistic Regression(6000/10000): loss=-1775.8925778355356\n",
      "Losgistic Regression(7000/10000): loss=-1784.5853848740578\n",
      "Losgistic Regression(8000/10000): loss=-1796.2912850910548\n",
      "Losgistic Regression(9000/10000): loss=-1810.2675270512304\n",
      "Losgistic Regression(0/10000): loss=2099.361726516009\n",
      "Losgistic Regression(1000/10000): loss=106.53131713924765\n",
      "Losgistic Regression(2000/10000): loss=-248.49425981344757\n",
      "Losgistic Regression(3000/10000): loss=-462.07825926975954\n",
      "Losgistic Regression(4000/10000): loss=-618.5127948879848\n",
      "Losgistic Regression(5000/10000): loss=-739.6284403616984\n",
      "Losgistic Regression(6000/10000): loss=-835.4498810830723\n",
      "Losgistic Regression(7000/10000): loss=-912.4909689915864\n",
      "Losgistic Regression(8000/10000): loss=-975.5833821270886\n",
      "Losgistic Regression(9000/10000): loss=-1028.3573244620857\n",
      "Losgistic Regression(0/10000): loss=1638.8828303345567\n",
      "Losgistic Regression(1000/10000): loss=-2034.7983365239938\n",
      "Losgistic Regression(2000/10000): loss=-2792.5706460744527\n",
      "Losgistic Regression(3000/10000): loss=-3060.591314955644\n",
      "Losgistic Regression(4000/10000): loss=-3205.7921809367194\n",
      "Losgistic Regression(5000/10000): loss=-3303.0346409560525\n",
      "Losgistic Regression(6000/10000): loss=-3375.2596081184215\n",
      "Losgistic Regression(7000/10000): loss=-3431.875815051096\n",
      "Losgistic Regression(8000/10000): loss=-3477.744562077899\n",
      "Losgistic Regression(9000/10000): loss=-3515.809723675624\n",
      "Losgistic Regression(0/10000): loss=-6201.019534114793\n",
      "Losgistic Regression(1000/10000): loss=-5740.966989163786\n",
      "Losgistic Regression(2000/10000): loss=-5863.5188858249\n",
      "Losgistic Regression(3000/10000): loss=-5913.594670262272\n",
      "Losgistic Regression(4000/10000): loss=-5959.1366453338405\n",
      "Losgistic Regression(5000/10000): loss=-6010.86460360311\n",
      "Losgistic Regression(6000/10000): loss=-6068.2198192276055\n",
      "Losgistic Regression(7000/10000): loss=-6129.295270762379\n",
      "Losgistic Regression(8000/10000): loss=-6192.562314704943\n",
      "Losgistic Regression(9000/10000): loss=-6257.000658643252\n",
      "Losgistic Regression(0/10000): loss=-3337.0733578083505\n",
      "Losgistic Regression(1000/10000): loss=-2752.9608800853603\n",
      "Losgistic Regression(2000/10000): loss=-3109.789241747614\n",
      "Losgistic Regression(3000/10000): loss=-3396.033010458028\n",
      "Losgistic Regression(4000/10000): loss=-3610.8051555056236\n",
      "Losgistic Regression(5000/10000): loss=-3778.0545647358376\n",
      "Losgistic Regression(6000/10000): loss=-3914.061185382969\n",
      "Losgistic Regression(7000/10000): loss=-4028.7598419051496\n",
      "Losgistic Regression(8000/10000): loss=-4128.351547378199\n",
      "Losgistic Regression(9000/10000): loss=-4216.872547494202\n",
      "Losgistic Regression(0/10000): loss=-4582.165394863784\n",
      "Losgistic Regression(1000/10000): loss=-6541.75360091545\n",
      "Losgistic Regression(2000/10000): loss=-7147.553825570773\n",
      "Losgistic Regression(3000/10000): loss=-7473.264875876102\n",
      "Losgistic Regression(4000/10000): loss=-7699.325266895033\n",
      "Losgistic Regression(5000/10000): loss=-7877.822905539619\n",
      "Losgistic Regression(6000/10000): loss=-8028.493404567019\n",
      "Losgistic Regression(7000/10000): loss=-8161.314668633743\n",
      "Losgistic Regression(8000/10000): loss=-8281.95939533908\n",
      "Losgistic Regression(9000/10000): loss=-8393.804840722352\n",
      "Losgistic Regression(0/10000): loss=-2988.383048232697\n",
      "Losgistic Regression(1000/10000): loss=-1614.2591365147205\n",
      "Losgistic Regression(2000/10000): loss=-1381.8953419237341\n",
      "Losgistic Regression(3000/10000): loss=-1365.3736492373698\n",
      "Losgistic Regression(4000/10000): loss=-1395.9264368421332\n",
      "Losgistic Regression(5000/10000): loss=-1435.5641461000655\n",
      "Losgistic Regression(6000/10000): loss=-1473.8236680663638\n",
      "Losgistic Regression(7000/10000): loss=-1507.9307471352906\n",
      "Losgistic Regression(8000/10000): loss=-1537.5236235002546\n",
      "Losgistic Regression(9000/10000): loss=-1562.98788766444\n",
      "Losgistic Regression(0/10000): loss=1208.3371742230102\n",
      "Losgistic Regression(1000/10000): loss=-6903.41090830184\n",
      "Losgistic Regression(2000/10000): loss=-7678.409264487132\n",
      "Losgistic Regression(3000/10000): loss=-7969.014072885795\n",
      "Losgistic Regression(4000/10000): loss=-8117.336079615838\n",
      "Losgistic Regression(5000/10000): loss=-8216.215928250947\n",
      "Losgistic Regression(6000/10000): loss=-8297.219403716057\n",
      "Losgistic Regression(7000/10000): loss=-8371.692956437168\n",
      "Losgistic Regression(8000/10000): loss=-8443.827191442155\n",
      "Losgistic Regression(9000/10000): loss=-8515.169539408547\n",
      "Losgistic Regression(0/10000): loss=-3396.884552597634\n",
      "Losgistic Regression(1000/10000): loss=-3656.568932062667\n",
      "Losgistic Regression(2000/10000): loss=-4361.043478910157\n",
      "Losgistic Regression(3000/10000): loss=-4746.6388100076265\n",
      "Losgistic Regression(4000/10000): loss=-4943.542540336261\n",
      "Losgistic Regression(5000/10000): loss=-5047.858086364748\n",
      "Losgistic Regression(6000/10000): loss=-5108.361900198909\n",
      "Losgistic Regression(7000/10000): loss=-5148.268749693701\n",
      "Losgistic Regression(8000/10000): loss=-5178.459281257439\n",
      "Losgistic Regression(9000/10000): loss=-5204.047718075972\n",
      "Losgistic Regression(0/10000): loss=-2519.210899166856\n",
      "Losgistic Regression(1000/10000): loss=-1961.3278856069676\n",
      "Losgistic Regression(2000/10000): loss=-2418.6325341358256\n",
      "Losgistic Regression(3000/10000): loss=-2649.6656706824756\n",
      "Losgistic Regression(4000/10000): loss=-2770.406399380742\n",
      "Losgistic Regression(5000/10000): loss=-2843.205320355082\n",
      "Losgistic Regression(6000/10000): loss=-2892.791366618945\n",
      "Losgistic Regression(7000/10000): loss=-2929.7015703538846\n",
      "Losgistic Regression(8000/10000): loss=-2958.896415348822\n",
      "Losgistic Regression(9000/10000): loss=-2982.9460224131203\n",
      "Losgistic Regression(0/10000): loss=302.22287782003235\n",
      "Losgistic Regression(1000/10000): loss=-1864.3282189179733\n",
      "Losgistic Regression(2000/10000): loss=-2212.3748252054042\n",
      "Losgistic Regression(3000/10000): loss=-2413.6831505963182\n",
      "Losgistic Regression(4000/10000): loss=-2546.9663454018055\n",
      "Losgistic Regression(5000/10000): loss=-2637.5625402391206\n",
      "Losgistic Regression(6000/10000): loss=-2700.3842636225227\n",
      "Losgistic Regression(7000/10000): loss=-2745.1754522019355\n",
      "Losgistic Regression(8000/10000): loss=-2778.2383045400097\n",
      "Losgistic Regression(9000/10000): loss=-2803.622061470331\n",
      "Losgistic Regression(0/10000): loss=2159.5298035520136\n",
      "Losgistic Regression(1000/10000): loss=-591.9736150400017\n",
      "Losgistic Regression(2000/10000): loss=-1134.1292297394925\n",
      "Losgistic Regression(3000/10000): loss=-1399.7080417581085\n",
      "Losgistic Regression(4000/10000): loss=-1582.247297488936\n",
      "Losgistic Regression(5000/10000): loss=-1724.6020578922123\n",
      "Losgistic Regression(6000/10000): loss=-1843.7730682065474\n",
      "Losgistic Regression(7000/10000): loss=-1946.935998325384\n",
      "Losgistic Regression(8000/10000): loss=-2037.7862494361202\n",
      "Losgistic Regression(9000/10000): loss=-2118.6472771537046\n",
      "Losgistic Regression(0/10000): loss=-1194.3301887848047\n",
      "Losgistic Regression(1000/10000): loss=-1876.8174857344727\n",
      "Losgistic Regression(2000/10000): loss=-1973.197050464964\n",
      "Losgistic Regression(3000/10000): loss=-2050.4451549017704\n",
      "Losgistic Regression(4000/10000): loss=-2110.0822285176437\n",
      "Losgistic Regression(5000/10000): loss=-2155.473910040581\n",
      "Losgistic Regression(6000/10000): loss=-2192.152751613421\n",
      "Losgistic Regression(7000/10000): loss=-2223.558670431768\n",
      "Losgistic Regression(8000/10000): loss=-2251.5269911552523\n",
      "Losgistic Regression(9000/10000): loss=-2277.0508912628043\n",
      "Losgistic Regression(0/10000): loss=-1344.235429311202\n",
      "Losgistic Regression(1000/10000): loss=-1822.5039357926087\n",
      "Losgistic Regression(2000/10000): loss=-2209.1614866775526\n",
      "Losgistic Regression(3000/10000): loss=-2340.8230950348725\n",
      "Losgistic Regression(4000/10000): loss=-2394.227882675639\n",
      "Losgistic Regression(5000/10000): loss=-2423.5241414768375\n",
      "Losgistic Regression(6000/10000): loss=-2444.149410111728\n",
      "Losgistic Regression(7000/10000): loss=-2461.2355996770916\n",
      "Losgistic Regression(8000/10000): loss=-2476.814637965331\n",
      "Losgistic Regression(9000/10000): loss=-2491.7950254399307\n",
      "Losgistic Regression(0/10000): loss=-954.5999910439958\n",
      "Losgistic Regression(1000/10000): loss=-4474.818160243702\n",
      "Losgistic Regression(2000/10000): loss=-4848.840637734373\n",
      "Losgistic Regression(3000/10000): loss=-4994.614515003928\n",
      "Losgistic Regression(4000/10000): loss=-5092.519680062086\n",
      "Losgistic Regression(5000/10000): loss=-5162.533505038911\n",
      "Losgistic Regression(6000/10000): loss=-5211.946892103383\n",
      "Losgistic Regression(7000/10000): loss=-5246.218286489458\n",
      "Losgistic Regression(8000/10000): loss=-5269.614072713489\n",
      "Losgistic Regression(9000/10000): loss=-5285.306672292378\n",
      "Losgistic Regression(0/10000): loss=-1133.990339398183\n",
      "Losgistic Regression(1000/10000): loss=-453.96333684532595\n",
      "Losgistic Regression(2000/10000): loss=-625.9679205294256\n",
      "Losgistic Regression(3000/10000): loss=-783.6713633614182\n",
      "Losgistic Regression(4000/10000): loss=-885.2019135346526\n",
      "Losgistic Regression(5000/10000): loss=-956.367702274087\n",
      "Losgistic Regression(6000/10000): loss=-1011.9486488316165\n",
      "Losgistic Regression(7000/10000): loss=-1058.6056747331652\n",
      "Losgistic Regression(8000/10000): loss=-1099.4317796243147\n",
      "Losgistic Regression(9000/10000): loss=-1136.0147394330293\n",
      "Losgistic Regression(0/10000): loss=1434.9431341002048\n",
      "Losgistic Regression(1000/10000): loss=440.9020500862025\n",
      "Losgistic Regression(2000/10000): loss=-230.1553244412293\n",
      "Losgistic Regression(3000/10000): loss=-530.0385514542855\n",
      "Losgistic Regression(4000/10000): loss=-670.6929664195828\n",
      "Losgistic Regression(5000/10000): loss=-746.992727602794\n",
      "Losgistic Regression(6000/10000): loss=-794.1015720723939\n",
      "Losgistic Regression(7000/10000): loss=-826.0399479998033\n",
      "Losgistic Regression(8000/10000): loss=-849.2557100284715\n",
      "Losgistic Regression(9000/10000): loss=-867.1058705378501\n",
      "Losgistic Regression(0/10000): loss=-463.02134307444965\n",
      "Losgistic Regression(1000/10000): loss=-651.8552380527962\n",
      "Losgistic Regression(2000/10000): loss=-819.9978648667576\n",
      "Losgistic Regression(3000/10000): loss=-933.2279987218915\n",
      "Losgistic Regression(4000/10000): loss=-1026.257967823643\n",
      "Losgistic Regression(5000/10000): loss=-1104.8784303701573\n",
      "Losgistic Regression(6000/10000): loss=-1172.837738916306\n",
      "Losgistic Regression(7000/10000): loss=-1232.9861709936965\n",
      "Losgistic Regression(8000/10000): loss=-1287.3291201193376\n",
      "Losgistic Regression(9000/10000): loss=-1337.2393225806948\n",
      "Losgistic Regression(0/10000): loss=-255.60724104902474\n",
      "Losgistic Regression(1000/10000): loss=-1872.7626157367251\n",
      "Losgistic Regression(2000/10000): loss=-2151.2846512930446\n",
      "Losgistic Regression(3000/10000): loss=-2247.1255291427165\n",
      "Losgistic Regression(4000/10000): loss=-2301.2294038282757\n",
      "Losgistic Regression(5000/10000): loss=-2341.232820152189\n",
      "Losgistic Regression(6000/10000): loss=-2374.2622737745482\n",
      "Losgistic Regression(7000/10000): loss=-2402.7922970303903\n",
      "Losgistic Regression(8000/10000): loss=-2428.0305774887847\n",
      "Losgistic Regression(9000/10000): loss=-2450.7304562679246\n",
      "Losgistic Regression(0/10000): loss=2087.8166904600075\n",
      "Losgistic Regression(1000/10000): loss=-394.6533608657247\n",
      "Losgistic Regression(2000/10000): loss=-975.1938883771942\n",
      "Losgistic Regression(3000/10000): loss=-1211.9490731976493\n",
      "Losgistic Regression(4000/10000): loss=-1288.9612375385104\n",
      "Losgistic Regression(5000/10000): loss=-1304.4606268954276\n",
      "Losgistic Regression(6000/10000): loss=-1303.2636335322209\n",
      "Losgistic Regression(7000/10000): loss=-1300.443282935894\n",
      "Losgistic Regression(8000/10000): loss=-1299.8718756166022\n",
      "Losgistic Regression(9000/10000): loss=-1301.974735794333\n",
      "Losgistic Regression(0/10000): loss=1970.1014041823041\n",
      "Losgistic Regression(1000/10000): loss=-1916.7138373771297\n",
      "Losgistic Regression(2000/10000): loss=-2454.975134463013\n",
      "Losgistic Regression(3000/10000): loss=-2606.274628688988\n",
      "Losgistic Regression(4000/10000): loss=-2656.4179284484912\n",
      "Losgistic Regression(5000/10000): loss=-2676.43413324402\n",
      "Losgistic Regression(6000/10000): loss=-2685.6505268484125\n",
      "Losgistic Regression(7000/10000): loss=-2690.222683113439\n",
      "Losgistic Regression(8000/10000): loss=-2692.566396512142\n",
      "Losgistic Regression(9000/10000): loss=-2693.832687486976\n",
      "Losgistic Regression(0/10000): loss=-1116.2775958408586\n",
      "Losgistic Regression(1000/10000): loss=-2215.539293472039\n",
      "Losgistic Regression(2000/10000): loss=-2384.3235592442848\n",
      "Losgistic Regression(3000/10000): loss=-2434.539384039464\n",
      "Losgistic Regression(4000/10000): loss=-2467.374381000607\n",
      "Losgistic Regression(5000/10000): loss=-2499.578773514948\n",
      "Losgistic Regression(6000/10000): loss=-2533.025179663163\n",
      "Losgistic Regression(7000/10000): loss=-2566.9671620508525\n",
      "Losgistic Regression(8000/10000): loss=-2600.5040723012066\n",
      "Losgistic Regression(9000/10000): loss=-2633.0113482789816\n",
      "Losgistic Regression(0/10000): loss=-1234.0582400549063\n",
      "Losgistic Regression(1000/10000): loss=-1512.313961737204\n",
      "Losgistic Regression(2000/10000): loss=-1899.792952728214\n",
      "Losgistic Regression(3000/10000): loss=-2196.1399554796753\n",
      "Losgistic Regression(4000/10000): loss=-2417.1546565254175\n",
      "Losgistic Regression(5000/10000): loss=-2587.841778020741\n",
      "Losgistic Regression(6000/10000): loss=-2724.6846506408215\n",
      "Losgistic Regression(7000/10000): loss=-2838.249140227095\n",
      "Losgistic Regression(8000/10000): loss=-2935.1915985344567\n",
      "Losgistic Regression(9000/10000): loss=-3019.8656366514897\n",
      "Losgistic Regression(0/10000): loss=10.490181245287696\n",
      "Losgistic Regression(1000/10000): loss=-822.4122214306747\n",
      "Losgistic Regression(2000/10000): loss=-1111.9930154576527\n",
      "Losgistic Regression(3000/10000): loss=-1200.4650548043217\n",
      "Losgistic Regression(4000/10000): loss=-1249.0305507123664\n",
      "Losgistic Regression(5000/10000): loss=-1283.6589300990793\n",
      "Losgistic Regression(6000/10000): loss=-1312.118261140077\n",
      "Losgistic Regression(7000/10000): loss=-1337.2500710800928\n",
      "Losgistic Regression(8000/10000): loss=-1360.1852638264356\n",
      "Losgistic Regression(9000/10000): loss=-1381.4333261238735\n",
      "Losgistic Regression(0/10000): loss=-1268.158294422429\n",
      "Losgistic Regression(1000/10000): loss=-3104.9607724172415\n",
      "Losgistic Regression(2000/10000): loss=-3654.4573309787265\n",
      "Losgistic Regression(3000/10000): loss=-3989.3699965639175\n",
      "Losgistic Regression(4000/10000): loss=-4205.375863124145\n",
      "Losgistic Regression(5000/10000): loss=-4347.7459582188085\n",
      "Losgistic Regression(6000/10000): loss=-4445.734348690332\n",
      "Losgistic Regression(7000/10000): loss=-4517.256743070814\n",
      "Losgistic Regression(8000/10000): loss=-4572.625784275987\n",
      "Losgistic Regression(9000/10000): loss=-4617.646005741725\n",
      "Losgistic Regression(0/10000): loss=-1132.2421313790549\n",
      "Losgistic Regression(1000/10000): loss=-2655.4692860626865\n",
      "Losgistic Regression(2000/10000): loss=-3264.2453072275416\n",
      "Losgistic Regression(3000/10000): loss=-3614.6609321890282\n",
      "Losgistic Regression(4000/10000): loss=-3855.4027043191163\n",
      "Losgistic Regression(5000/10000): loss=-4032.4313577143444\n",
      "Losgistic Regression(6000/10000): loss=-4166.6257506078455\n",
      "Losgistic Regression(7000/10000): loss=-4270.3832968804\n",
      "Losgistic Regression(8000/10000): loss=-4351.93544286156\n",
      "Losgistic Regression(9000/10000): loss=-4416.994078633127\n",
      "Losgistic Regression(0/10000): loss=4071.6530350688386\n",
      "Losgistic Regression(1000/10000): loss=1383.9641179826422\n",
      "Losgistic Regression(2000/10000): loss=242.13918045552492\n",
      "Losgistic Regression(3000/10000): loss=-215.22902467408616\n",
      "Losgistic Regression(4000/10000): loss=-431.30779601768927\n",
      "Losgistic Regression(5000/10000): loss=-550.8115587258973\n",
      "Losgistic Regression(6000/10000): loss=-623.3861329237393\n",
      "Losgistic Regression(7000/10000): loss=-670.2801597797126\n",
      "Losgistic Regression(8000/10000): loss=-702.5883899551696\n",
      "Losgistic Regression(9000/10000): loss=-726.4332042320841\n",
      "Losgistic Regression(0/10000): loss=-97.82597555799603\n",
      "Losgistic Regression(1000/10000): loss=-48.45437175102407\n",
      "Losgistic Regression(2000/10000): loss=-384.48822494256234\n",
      "Losgistic Regression(3000/10000): loss=-675.6840803538842\n",
      "Losgistic Regression(4000/10000): loss=-889.5141999882283\n",
      "Losgistic Regression(5000/10000): loss=-1044.5984514580439\n",
      "Losgistic Regression(6000/10000): loss=-1161.8608136156836\n",
      "Losgistic Regression(7000/10000): loss=-1255.7066603899145\n",
      "Losgistic Regression(8000/10000): loss=-1334.4220014724178\n",
      "Losgistic Regression(9000/10000): loss=-1402.4567056678827\n",
      "Losgistic Regression(0/10000): loss=1096.559859935271\n",
      "Losgistic Regression(1000/10000): loss=-1025.240443963229\n",
      "Losgistic Regression(2000/10000): loss=-1372.3611917979324\n",
      "Losgistic Regression(3000/10000): loss=-1509.6069675835026\n",
      "Losgistic Regression(4000/10000): loss=-1580.5669528194871\n",
      "Losgistic Regression(5000/10000): loss=-1622.2710122867265\n",
      "Losgistic Regression(6000/10000): loss=-1648.0026811772366\n",
      "Losgistic Regression(7000/10000): loss=-1663.8603160011653\n",
      "Losgistic Regression(8000/10000): loss=-1673.2853438202767\n",
      "Losgistic Regression(9000/10000): loss=-1678.4716714574313\n",
      "Losgistic Regression(0/10000): loss=-272.37389776669744\n",
      "Losgistic Regression(1000/10000): loss=-784.0116675400459\n",
      "Losgistic Regression(2000/10000): loss=-941.0721044910963\n",
      "Losgistic Regression(3000/10000): loss=-1069.411130518361\n",
      "Losgistic Regression(4000/10000): loss=-1174.5194707794249\n",
      "Losgistic Regression(5000/10000): loss=-1261.913049429105\n",
      "Losgistic Regression(6000/10000): loss=-1336.6260029305492\n",
      "Losgistic Regression(7000/10000): loss=-1402.254607204849\n",
      "Losgistic Regression(8000/10000): loss=-1461.2012862510803\n",
      "Losgistic Regression(9000/10000): loss=-1515.0481312760924\n",
      "Losgistic Regression(0/10000): loss=-814.6654641421737\n",
      "Losgistic Regression(1000/10000): loss=-2186.3349194547163\n",
      "Losgistic Regression(2000/10000): loss=-2492.530261447592\n",
      "Losgistic Regression(3000/10000): loss=-2659.7766328986067\n",
      "Losgistic Regression(4000/10000): loss=-2764.349992656863\n",
      "Losgistic Regression(5000/10000): loss=-2841.2648650975916\n",
      "Losgistic Regression(6000/10000): loss=-2904.5738661248606\n",
      "Losgistic Regression(7000/10000): loss=-2960.167351314831\n",
      "Losgistic Regression(8000/10000): loss=-3010.8585374327167\n",
      "Losgistic Regression(9000/10000): loss=-3058.191183941053\n",
      "Losgistic Regression(0/10000): loss=-2460.4499127547538\n",
      "Losgistic Regression(1000/10000): loss=-2193.736822104125\n",
      "Losgistic Regression(2000/10000): loss=-2503.8621424280705\n",
      "Losgistic Regression(3000/10000): loss=-2789.948612165775\n",
      "Losgistic Regression(4000/10000): loss=-3033.0187660234824\n",
      "Losgistic Regression(5000/10000): loss=-3237.3479186802474\n",
      "Losgistic Regression(6000/10000): loss=-3411.2496987918985\n",
      "Losgistic Regression(7000/10000): loss=-3561.8033745829007\n",
      "Losgistic Regression(8000/10000): loss=-3694.305324920556\n",
      "Losgistic Regression(9000/10000): loss=-3812.594223489916\n",
      "Losgistic Regression(0/10000): loss=-114.01860756938102\n",
      "Losgistic Regression(1000/10000): loss=571.0944777437101\n",
      "Losgistic Regression(2000/10000): loss=-77.80106953553408\n",
      "Losgistic Regression(3000/10000): loss=-414.17593422366593\n",
      "Losgistic Regression(4000/10000): loss=-586.60988614047\n",
      "Losgistic Regression(5000/10000): loss=-688.7184369207207\n",
      "Losgistic Regression(6000/10000): loss=-756.3531782653571\n",
      "Losgistic Regression(7000/10000): loss=-805.1530338876496\n",
      "Losgistic Regression(8000/10000): loss=-842.7116788483468\n",
      "Losgistic Regression(9000/10000): loss=-872.9892348534744\n",
      "Losgistic Regression(0/10000): loss=-935.4199128504775\n",
      "Losgistic Regression(1000/10000): loss=-925.3626737210151\n",
      "Losgistic Regression(2000/10000): loss=-1280.4786787206003\n",
      "Losgistic Regression(3000/10000): loss=-1462.5627220117085\n",
      "Losgistic Regression(4000/10000): loss=-1570.0834476457994\n",
      "Losgistic Regression(5000/10000): loss=-1637.0696266766054\n",
      "Losgistic Regression(6000/10000): loss=-1679.9404408354596\n",
      "Losgistic Regression(7000/10000): loss=-1707.9688820802924\n",
      "Losgistic Regression(8000/10000): loss=-1726.6518155427816\n",
      "Losgistic Regression(9000/10000): loss=-1739.3212740962974\n",
      "Losgistic Regression(0/10000): loss=1138.8673857070914\n",
      "Losgistic Regression(1000/10000): loss=-4222.034169107043\n",
      "Losgistic Regression(2000/10000): loss=-4857.647272637465\n",
      "Losgistic Regression(3000/10000): loss=-5127.8308489780775\n",
      "Losgistic Regression(4000/10000): loss=-5318.652062504939\n",
      "Losgistic Regression(5000/10000): loss=-5476.022920382095\n",
      "Losgistic Regression(6000/10000): loss=-5613.508050470398\n",
      "Losgistic Regression(7000/10000): loss=-5737.038944722549\n",
      "Losgistic Regression(8000/10000): loss=-5850.039866410334\n",
      "Losgistic Regression(9000/10000): loss=-5954.774324846345\n",
      "Losgistic Regression(0/10000): loss=-932.5618087739249\n",
      "Losgistic Regression(1000/10000): loss=-836.6443522278139\n",
      "Losgistic Regression(2000/10000): loss=-1519.1564995815322\n",
      "Losgistic Regression(3000/10000): loss=-1944.6652492530322\n",
      "Losgistic Regression(4000/10000): loss=-2211.478253417747\n",
      "Losgistic Regression(5000/10000): loss=-2401.102560713605\n",
      "Losgistic Regression(6000/10000): loss=-2547.577250811568\n",
      "Losgistic Regression(7000/10000): loss=-2666.688480800265\n",
      "Losgistic Regression(8000/10000): loss=-2767.09130300107\n",
      "Losgistic Regression(9000/10000): loss=-2854.0937112271545\n",
      "Losgistic Regression(0/10000): loss=1997.2091677004485\n",
      "Losgistic Regression(1000/10000): loss=-993.3017284450221\n",
      "Losgistic Regression(2000/10000): loss=-1773.8817570438755\n",
      "Losgistic Regression(3000/10000): loss=-2120.664034373939\n",
      "Losgistic Regression(4000/10000): loss=-2302.8155965528917\n",
      "Losgistic Regression(5000/10000): loss=-2404.922836696216\n",
      "Losgistic Regression(6000/10000): loss=-2467.418223182353\n",
      "Losgistic Regression(7000/10000): loss=-2510.2472344364273\n",
      "Losgistic Regression(8000/10000): loss=-2542.87079142527\n",
      "Losgistic Regression(9000/10000): loss=-2569.7600768259413\n",
      "Losgistic Regression(0/10000): loss=-238.97205599795706\n",
      "Losgistic Regression(1000/10000): loss=-490.99353326445214\n",
      "Losgistic Regression(2000/10000): loss=-534.8471277390364\n",
      "Losgistic Regression(3000/10000): loss=-611.8733551568299\n",
      "Losgistic Regression(4000/10000): loss=-690.476531140294\n",
      "Losgistic Regression(5000/10000): loss=-759.2209814578031\n",
      "Losgistic Regression(6000/10000): loss=-816.285610177844\n",
      "Losgistic Regression(7000/10000): loss=-862.7920354066028\n",
      "Losgistic Regression(8000/10000): loss=-900.5885577598632\n",
      "Losgistic Regression(9000/10000): loss=-931.4883417501516\n",
      "Losgistic Regression(0/10000): loss=-1169.1516733869064\n",
      "Losgistic Regression(1000/10000): loss=-2410.464381278846\n",
      "Losgistic Regression(2000/10000): loss=-2546.7225776320247\n",
      "Losgistic Regression(3000/10000): loss=-2653.6412588201442\n",
      "Losgistic Regression(4000/10000): loss=-2722.236191455304\n",
      "Losgistic Regression(5000/10000): loss=-2772.3355063440918\n",
      "Losgistic Regression(6000/10000): loss=-2814.540215933814\n",
      "Losgistic Regression(7000/10000): loss=-2853.2508173910633\n",
      "Losgistic Regression(8000/10000): loss=-2890.1134918083662\n",
      "Losgistic Regression(9000/10000): loss=-2925.6934164212485\n",
      "Losgistic Regression(0/10000): loss=528.9142996731204\n",
      "Losgistic Regression(1000/10000): loss=-4933.373201387854\n",
      "Losgistic Regression(2000/10000): loss=-6040.433669028286\n",
      "Losgistic Regression(3000/10000): loss=-6532.360132938662\n",
      "Losgistic Regression(4000/10000): loss=-6861.958548050374\n",
      "Losgistic Regression(5000/10000): loss=-7128.5595165607265\n",
      "Losgistic Regression(6000/10000): loss=-7363.943330457871\n",
      "Losgistic Regression(7000/10000): loss=-7580.458929095641\n",
      "Losgistic Regression(8000/10000): loss=-7783.716108338043\n",
      "Losgistic Regression(9000/10000): loss=-7976.689656421301\n",
      "Losgistic Regression(0/10000): loss=-3691.675064339054\n",
      "Losgistic Regression(1000/10000): loss=-1363.688204380984\n",
      "Losgistic Regression(2000/10000): loss=-1850.094629225344\n",
      "Losgistic Regression(3000/10000): loss=-2394.120663235709\n",
      "Losgistic Regression(4000/10000): loss=-2798.075867761499\n",
      "Losgistic Regression(5000/10000): loss=-3066.217608566306\n",
      "Losgistic Regression(6000/10000): loss=-3244.6424392343883\n",
      "Losgistic Regression(7000/10000): loss=-3371.497557864206\n",
      "Losgistic Regression(8000/10000): loss=-3469.609083972685\n",
      "Losgistic Regression(9000/10000): loss=-3551.4507225076563\n",
      "Losgistic Regression(0/10000): loss=-316.73210257848274\n",
      "Losgistic Regression(1000/10000): loss=-541.8072734521352\n",
      "Losgistic Regression(2000/10000): loss=-620.0381240648288\n",
      "Losgistic Regression(3000/10000): loss=-586.6882030391952\n",
      "Losgistic Regression(4000/10000): loss=-525.0465457952239\n",
      "Losgistic Regression(5000/10000): loss=-471.3815239993594\n",
      "Losgistic Regression(6000/10000): loss=-431.58159966056627\n",
      "Losgistic Regression(7000/10000): loss=-403.0218706331017\n",
      "Losgistic Regression(8000/10000): loss=-382.2982523709789\n",
      "Losgistic Regression(9000/10000): loss=-366.847073694162\n",
      "Losgistic Regression(0/10000): loss=1142.1432848945847\n",
      "Losgistic Regression(1000/10000): loss=-1601.9160816532271\n",
      "Losgistic Regression(2000/10000): loss=-2402.026710276344\n",
      "Losgistic Regression(3000/10000): loss=-2678.381109434126\n",
      "Losgistic Regression(4000/10000): loss=-2828.671456468442\n",
      "Losgistic Regression(5000/10000): loss=-2948.624464146891\n",
      "Losgistic Regression(6000/10000): loss=-3049.1558481987813\n",
      "Losgistic Regression(7000/10000): loss=-3133.730046668403\n",
      "Losgistic Regression(8000/10000): loss=-3205.3044286067434\n",
      "Losgistic Regression(9000/10000): loss=-3266.6731249311706\n",
      "Losgistic Regression(0/10000): loss=544.3889566643894\n",
      "Losgistic Regression(1000/10000): loss=-13.461124339455594\n",
      "Losgistic Regression(2000/10000): loss=-599.7096778115562\n",
      "Losgistic Regression(3000/10000): loss=-811.7854418878525\n",
      "Losgistic Regression(4000/10000): loss=-896.7946724635185\n",
      "Losgistic Regression(5000/10000): loss=-942.6564728223158\n",
      "Losgistic Regression(6000/10000): loss=-973.477524918977\n",
      "Losgistic Regression(7000/10000): loss=-997.0949081029879\n",
      "Losgistic Regression(8000/10000): loss=-1016.6610811800319\n",
      "Losgistic Regression(9000/10000): loss=-1033.6443442444195\n",
      "Losgistic Regression(0/10000): loss=941.017973332001\n",
      "Losgistic Regression(1000/10000): loss=-1810.0832698204179\n",
      "Losgistic Regression(2000/10000): loss=-2140.0542279516094\n",
      "Losgistic Regression(3000/10000): loss=-2359.8357729174318\n",
      "Losgistic Regression(4000/10000): loss=-2513.753348534869\n",
      "Losgistic Regression(5000/10000): loss=-2631.965983328027\n",
      "Losgistic Regression(6000/10000): loss=-2728.1607620351515\n",
      "Losgistic Regression(7000/10000): loss=-2809.3302139927814\n",
      "Losgistic Regression(8000/10000): loss=-2879.4558396426405\n",
      "Losgistic Regression(9000/10000): loss=-2941.048858207185\n",
      "Losgistic Regression(0/10000): loss=-478.4231362413237\n",
      "Losgistic Regression(1000/10000): loss=-2310.6706022280578\n",
      "Losgistic Regression(2000/10000): loss=-3229.5007864360327\n",
      "Losgistic Regression(3000/10000): loss=-3730.5038909710547\n",
      "Losgistic Regression(4000/10000): loss=-4103.454416382915\n",
      "Losgistic Regression(5000/10000): loss=-4418.684391081788\n",
      "Losgistic Regression(6000/10000): loss=-4699.109825166994\n",
      "Losgistic Regression(7000/10000): loss=-4954.925785307475\n",
      "Losgistic Regression(8000/10000): loss=-5191.901768144198\n",
      "Losgistic Regression(9000/10000): loss=-5413.787639109407\n",
      "Losgistic Regression(0/10000): loss=4186.440698125348\n",
      "Losgistic Regression(1000/10000): loss=-156.35770459820245\n",
      "Losgistic Regression(2000/10000): loss=-1176.716571748864\n",
      "Losgistic Regression(3000/10000): loss=-1508.6621623024575\n",
      "Losgistic Regression(4000/10000): loss=-1633.0589933193464\n",
      "Losgistic Regression(5000/10000): loss=-1709.287714195913\n",
      "Losgistic Regression(6000/10000): loss=-1770.8294473200058\n",
      "Losgistic Regression(7000/10000): loss=-1825.0437249867375\n",
      "Losgistic Regression(8000/10000): loss=-1874.057921146812\n",
      "Losgistic Regression(9000/10000): loss=-1918.8475545164724\n",
      "Losgistic Regression(0/10000): loss=464.6801011600148\n",
      "Losgistic Regression(1000/10000): loss=-979.7491025302652\n",
      "Losgistic Regression(2000/10000): loss=-1216.7628671994823\n",
      "Losgistic Regression(3000/10000): loss=-1294.2947348838534\n",
      "Losgistic Regression(4000/10000): loss=-1344.8463648160302\n",
      "Losgistic Regression(5000/10000): loss=-1392.829000606471\n",
      "Losgistic Regression(6000/10000): loss=-1441.070563594087\n",
      "Losgistic Regression(7000/10000): loss=-1488.265049217863\n",
      "Losgistic Regression(8000/10000): loss=-1533.0031816517064\n",
      "Losgistic Regression(9000/10000): loss=-1574.5356985462618\n",
      "Losgistic Regression(0/10000): loss=-1636.588324495509\n",
      "Losgistic Regression(1000/10000): loss=-1649.919221581927\n",
      "Losgistic Regression(2000/10000): loss=-2048.6109161730396\n",
      "Losgistic Regression(3000/10000): loss=-2289.455042926872\n",
      "Losgistic Regression(4000/10000): loss=-2426.7561801175866\n",
      "Losgistic Regression(5000/10000): loss=-2516.2203493938823\n",
      "Losgistic Regression(6000/10000): loss=-2584.722453810803\n",
      "Losgistic Regression(7000/10000): loss=-2643.530045783683\n",
      "Losgistic Regression(8000/10000): loss=-2697.141005131248\n",
      "Losgistic Regression(9000/10000): loss=-2747.357009972875\n",
      "Losgistic Regression(0/10000): loss=453.9163206208843\n",
      "Losgistic Regression(1000/10000): loss=-1229.7574858740759\n",
      "Losgistic Regression(2000/10000): loss=-2448.4349887567337\n",
      "Losgistic Regression(3000/10000): loss=-3248.3911840126375\n",
      "Losgistic Regression(4000/10000): loss=-3752.126569449332\n",
      "Losgistic Regression(5000/10000): loss=-4082.577515533652\n",
      "Losgistic Regression(6000/10000): loss=-4312.828877968539\n",
      "Losgistic Regression(7000/10000): loss=-4483.137170530166\n",
      "Losgistic Regression(8000/10000): loss=-4615.7472544422235\n",
      "Losgistic Regression(9000/10000): loss=-4723.335225761156\n",
      "Losgistic Regression(0/10000): loss=-4428.178047340515\n",
      "Losgistic Regression(1000/10000): loss=-4536.06189890302\n",
      "Losgistic Regression(2000/10000): loss=-4528.991043668548\n",
      "Losgistic Regression(3000/10000): loss=-4636.244858224968\n",
      "Losgistic Regression(4000/10000): loss=-4758.677991015934\n",
      "Losgistic Regression(5000/10000): loss=-4874.135653990058\n",
      "Losgistic Regression(6000/10000): loss=-4977.494415105832\n",
      "Losgistic Regression(7000/10000): loss=-5068.129631987481\n",
      "Losgistic Regression(8000/10000): loss=-5146.940102540652\n",
      "Losgistic Regression(9000/10000): loss=-5215.320929686183\n",
      "Losgistic Regression(0/10000): loss=-1812.7193229752463\n",
      "Losgistic Regression(1000/10000): loss=-3499.817996469717\n",
      "Losgistic Regression(2000/10000): loss=-3651.51710829287\n",
      "Losgistic Regression(3000/10000): loss=-3737.2266950021613\n",
      "Losgistic Regression(4000/10000): loss=-3820.480771461533\n",
      "Losgistic Regression(5000/10000): loss=-3901.7869144345955\n",
      "Losgistic Regression(6000/10000): loss=-3980.9931450918116\n",
      "Losgistic Regression(7000/10000): loss=-4058.3718720292363\n",
      "Losgistic Regression(8000/10000): loss=-4134.10317194963\n",
      "Losgistic Regression(9000/10000): loss=-4208.2367145159815\n",
      "Losgistic Regression(0/10000): loss=-488.03971944876207\n",
      "Losgistic Regression(1000/10000): loss=-3802.572584991362\n",
      "Losgistic Regression(2000/10000): loss=-4696.780265804565\n",
      "Losgistic Regression(3000/10000): loss=-5211.792692983459\n",
      "Losgistic Regression(4000/10000): loss=-5556.7952966654575\n",
      "Losgistic Regression(5000/10000): loss=-5818.421628187001\n",
      "Losgistic Regression(6000/10000): loss=-6044.189513011554\n",
      "Losgistic Regression(7000/10000): loss=-6257.8813310943115\n",
      "Losgistic Regression(8000/10000): loss=-6466.349603135547\n",
      "Losgistic Regression(9000/10000): loss=-6668.580286062076\n",
      "Losgistic Regression(0/10000): loss=-3360.6176279308165\n",
      "Losgistic Regression(1000/10000): loss=-4390.699054388466\n",
      "Losgistic Regression(2000/10000): loss=-4915.004340836762\n",
      "Losgistic Regression(3000/10000): loss=-5193.935540740633\n",
      "Losgistic Regression(4000/10000): loss=-5361.572675585159\n",
      "Losgistic Regression(5000/10000): loss=-5491.39473899599\n",
      "Losgistic Regression(6000/10000): loss=-5609.940145929683\n",
      "Losgistic Regression(7000/10000): loss=-5725.139799877156\n",
      "Losgistic Regression(8000/10000): loss=-5838.817783524804\n",
      "Losgistic Regression(9000/10000): loss=-5951.067063335489\n",
      "Losgistic Regression(0/10000): loss=-290.0558479750739\n",
      "Losgistic Regression(1000/10000): loss=-989.9078947865502\n",
      "Losgistic Regression(2000/10000): loss=-1124.1456355208354\n",
      "Losgistic Regression(3000/10000): loss=-1231.656344228749\n",
      "Losgistic Regression(4000/10000): loss=-1310.718948638796\n",
      "Losgistic Regression(5000/10000): loss=-1369.5042884639097\n",
      "Losgistic Regression(6000/10000): loss=-1416.5723269907896\n",
      "Losgistic Regression(7000/10000): loss=-1456.9845000804912\n",
      "Losgistic Regression(8000/10000): loss=-1493.283723636131\n",
      "Losgistic Regression(9000/10000): loss=-1526.7230457537357\n",
      "Losgistic Regression(0/10000): loss=-1803.304179337432\n",
      "Losgistic Regression(1000/10000): loss=-1292.8713849693704\n",
      "Losgistic Regression(2000/10000): loss=-1627.6424516273812\n",
      "Losgistic Regression(3000/10000): loss=-1850.464366793416\n",
      "Losgistic Regression(4000/10000): loss=-2011.7063761237937\n",
      "Losgistic Regression(5000/10000): loss=-2132.145390370661\n",
      "Losgistic Regression(6000/10000): loss=-2224.7123254030043\n",
      "Losgistic Regression(7000/10000): loss=-2297.9913234228434\n",
      "Losgistic Regression(8000/10000): loss=-2357.7234829172116\n",
      "Losgistic Regression(9000/10000): loss=-2407.765686053695\n",
      "Losgistic Regression(0/10000): loss=3859.9559247003103\n",
      "Losgistic Regression(1000/10000): loss=-1387.176925919051\n",
      "Losgistic Regression(2000/10000): loss=-2493.0955639718186\n",
      "Losgistic Regression(3000/10000): loss=-2885.449176079164\n",
      "Losgistic Regression(4000/10000): loss=-3065.604665266391\n",
      "Losgistic Regression(5000/10000): loss=-3172.1102247856297\n",
      "Losgistic Regression(6000/10000): loss=-3249.3904471033\n",
      "Losgistic Regression(7000/10000): loss=-3312.6797113466964\n",
      "Losgistic Regression(8000/10000): loss=-3367.947980339553\n",
      "Losgistic Regression(9000/10000): loss=-3417.9432185164783\n",
      "Losgistic Regression(0/10000): loss=-2404.8908951933677\n",
      "Losgistic Regression(1000/10000): loss=-1934.3245373027046\n",
      "Losgistic Regression(2000/10000): loss=-1888.6227724010432\n",
      "Losgistic Regression(3000/10000): loss=-1933.5533749219949\n",
      "Losgistic Regression(4000/10000): loss=-1984.8525997798997\n",
      "Losgistic Regression(5000/10000): loss=-2029.3932124445969\n",
      "Losgistic Regression(6000/10000): loss=-2066.524827381919\n",
      "Losgistic Regression(7000/10000): loss=-2098.115461542014\n",
      "Losgistic Regression(8000/10000): loss=-2125.982758502383\n",
      "Losgistic Regression(9000/10000): loss=-2151.4266076852246\n",
      "Losgistic Regression(0/10000): loss=432.8282997601363\n",
      "Losgistic Regression(1000/10000): loss=-58.5305786681114\n",
      "Losgistic Regression(2000/10000): loss=-307.0383041229587\n",
      "Losgistic Regression(3000/10000): loss=-438.6588856296957\n",
      "Losgistic Regression(4000/10000): loss=-528.3923666655802\n",
      "Losgistic Regression(5000/10000): loss=-599.9638298394028\n",
      "Losgistic Regression(6000/10000): loss=-662.5516693792042\n",
      "Losgistic Regression(7000/10000): loss=-720.0252801553885\n",
      "Losgistic Regression(8000/10000): loss=-774.2224879193535\n",
      "Losgistic Regression(9000/10000): loss=-826.1295928695622\n",
      "Losgistic Regression(0/10000): loss=1635.8615503916749\n",
      "Losgistic Regression(1000/10000): loss=-3809.2032744689727\n",
      "Losgistic Regression(2000/10000): loss=-4229.492378991285\n",
      "Losgistic Regression(3000/10000): loss=-4298.580974835817\n",
      "Losgistic Regression(4000/10000): loss=-4322.922893705818\n",
      "Losgistic Regression(5000/10000): loss=-4334.199378856007\n",
      "Losgistic Regression(6000/10000): loss=-4341.736644728189\n",
      "Losgistic Regression(7000/10000): loss=-4350.206524673868\n",
      "Losgistic Regression(8000/10000): loss=-4361.711078836179\n",
      "Losgistic Regression(9000/10000): loss=-4376.871111706501\n",
      "Losgistic Regression(0/10000): loss=645.9852340825911\n",
      "Losgistic Regression(1000/10000): loss=296.91558030001653\n",
      "Losgistic Regression(2000/10000): loss=78.62690083851884\n",
      "Losgistic Regression(3000/10000): loss=-27.789333316654115\n",
      "Losgistic Regression(4000/10000): loss=-105.25449533513007\n",
      "Losgistic Regression(5000/10000): loss=-172.24858869934693\n",
      "Losgistic Regression(6000/10000): loss=-233.1821517240165\n",
      "Losgistic Regression(7000/10000): loss=-289.60431674512444\n",
      "Losgistic Regression(8000/10000): loss=-342.318982665521\n",
      "Losgistic Regression(9000/10000): loss=-391.8502734873612\n",
      "Losgistic Regression(0/10000): loss=1766.8248090575717\n",
      "Losgistic Regression(1000/10000): loss=-1372.3975638325146\n",
      "Losgistic Regression(2000/10000): loss=-1856.847807883464\n",
      "Losgistic Regression(3000/10000): loss=-2075.0532361574396\n",
      "Losgistic Regression(4000/10000): loss=-2205.779589648132\n",
      "Losgistic Regression(5000/10000): loss=-2300.043180852498\n",
      "Losgistic Regression(6000/10000): loss=-2374.330692507337\n",
      "Losgistic Regression(7000/10000): loss=-2435.3299940499164\n",
      "Losgistic Regression(8000/10000): loss=-2486.7151146056904\n",
      "Losgistic Regression(9000/10000): loss=-2530.919987599801\n",
      "Losgistic Regression(0/10000): loss=-2893.4648423953895\n",
      "Losgistic Regression(1000/10000): loss=-2510.8699669032517\n",
      "Losgistic Regression(2000/10000): loss=-2762.3011025063624\n",
      "Losgistic Regression(3000/10000): loss=-2995.476733713349\n",
      "Losgistic Regression(4000/10000): loss=-3173.8652332346396\n",
      "Losgistic Regression(5000/10000): loss=-3310.8684142332163\n",
      "Losgistic Regression(6000/10000): loss=-3418.582623916796\n",
      "Losgistic Regression(7000/10000): loss=-3505.45177111919\n",
      "Losgistic Regression(8000/10000): loss=-3577.2626077958175\n",
      "Losgistic Regression(9000/10000): loss=-3637.9991114634336\n",
      "Losgistic Regression(0/10000): loss=-2169.7764791345357\n",
      "Losgistic Regression(1000/10000): loss=-552.7119987369476\n",
      "Losgistic Regression(2000/10000): loss=-570.5983862029017\n",
      "Losgistic Regression(3000/10000): loss=-713.3520129349465\n",
      "Losgistic Regression(4000/10000): loss=-837.7914080773023\n",
      "Losgistic Regression(5000/10000): loss=-930.7283499411449\n",
      "Losgistic Regression(6000/10000): loss=-998.249945181534\n",
      "Losgistic Regression(7000/10000): loss=-1047.656028248529\n",
      "Losgistic Regression(8000/10000): loss=-1084.5794038748259\n",
      "Losgistic Regression(9000/10000): loss=-1112.9672175907258\n",
      "Losgistic Regression(0/10000): loss=859.9364674144812\n",
      "Losgistic Regression(1000/10000): loss=-2008.5321135565266\n",
      "Losgistic Regression(2000/10000): loss=-2505.3530976615866\n",
      "Losgistic Regression(3000/10000): loss=-2769.999841286572\n",
      "Losgistic Regression(4000/10000): loss=-2986.3756598214522\n",
      "Losgistic Regression(5000/10000): loss=-3156.8092241160552\n",
      "Losgistic Regression(6000/10000): loss=-3280.938562354338\n",
      "Losgistic Regression(7000/10000): loss=-3370.3013446122845\n",
      "Losgistic Regression(8000/10000): loss=-3437.081974915484\n",
      "Losgistic Regression(9000/10000): loss=-3488.9613481855445\n",
      "Losgistic Regression(0/10000): loss=-1841.185899882778\n",
      "Losgistic Regression(1000/10000): loss=-2585.491029028967\n",
      "Losgistic Regression(2000/10000): loss=-2940.854168027441\n",
      "Losgistic Regression(3000/10000): loss=-3088.459980207924\n",
      "Losgistic Regression(4000/10000): loss=-3146.741878286882\n",
      "Losgistic Regression(5000/10000): loss=-3185.9108907866184\n",
      "Losgistic Regression(6000/10000): loss=-3229.2978493846817\n",
      "Losgistic Regression(7000/10000): loss=-3280.4863018348387\n",
      "Losgistic Regression(8000/10000): loss=-3336.3763369740695\n",
      "Losgistic Regression(9000/10000): loss=-3393.807102206323\n",
      "Losgistic Regression(0/10000): loss=1383.6394956156098\n",
      "Losgistic Regression(1000/10000): loss=300.1252596296528\n",
      "Losgistic Regression(2000/10000): loss=-50.28434089648925\n",
      "Losgistic Regression(3000/10000): loss=-164.0473665638545\n",
      "Losgistic Regression(4000/10000): loss=-216.74375701162046\n",
      "Losgistic Regression(5000/10000): loss=-248.43507223860422\n",
      "Losgistic Regression(6000/10000): loss=-270.3236798246487\n",
      "Losgistic Regression(7000/10000): loss=-286.77826558722046\n",
      "Losgistic Regression(8000/10000): loss=-299.9472060560771\n",
      "Losgistic Regression(9000/10000): loss=-311.02000088005286\n",
      "Losgistic Regression(0/10000): loss=1191.3088175668238\n",
      "Losgistic Regression(1000/10000): loss=746.852221392768\n",
      "Losgistic Regression(2000/10000): loss=309.86570250537113\n",
      "Losgistic Regression(3000/10000): loss=109.6644789093785\n",
      "Losgistic Regression(4000/10000): loss=8.154491700824305\n",
      "Losgistic Regression(5000/10000): loss=-58.63713523976436\n",
      "Losgistic Regression(6000/10000): loss=-111.58281811484807\n",
      "Losgistic Regression(7000/10000): loss=-157.169419387036\n",
      "Losgistic Regression(8000/10000): loss=-197.6677724566212\n",
      "Losgistic Regression(9000/10000): loss=-234.1367597561353\n",
      "Losgistic Regression(0/10000): loss=54.98200330992948\n",
      "Losgistic Regression(1000/10000): loss=-1136.1400956054438\n",
      "Losgistic Regression(2000/10000): loss=-1901.9798398846747\n",
      "Losgistic Regression(3000/10000): loss=-2382.8532339022436\n",
      "Losgistic Regression(4000/10000): loss=-2640.8900122026503\n",
      "Losgistic Regression(5000/10000): loss=-2775.4423243122933\n",
      "Losgistic Regression(6000/10000): loss=-2857.4739056166136\n",
      "Losgistic Regression(7000/10000): loss=-2918.4378675718526\n",
      "Losgistic Regression(8000/10000): loss=-2971.366073426618\n",
      "Losgistic Regression(9000/10000): loss=-3021.1500399411807\n",
      "Losgistic Regression(0/10000): loss=1490.4372788292324\n",
      "Losgistic Regression(1000/10000): loss=1169.1765522755063\n",
      "Losgistic Regression(2000/10000): loss=665.5042204439816\n",
      "Losgistic Regression(3000/10000): loss=367.9222090208466\n",
      "Losgistic Regression(4000/10000): loss=208.55342974258093\n",
      "Losgistic Regression(5000/10000): loss=111.65988648780584\n",
      "Losgistic Regression(6000/10000): loss=41.77048702384386\n",
      "Losgistic Regression(7000/10000): loss=-14.925947710620473\n",
      "Losgistic Regression(8000/10000): loss=-64.10130320281952\n",
      "Losgistic Regression(9000/10000): loss=-108.33296322409026\n",
      "Losgistic Regression(0/10000): loss=1109.852476842199\n",
      "Losgistic Regression(1000/10000): loss=-1883.6743219707328\n",
      "Losgistic Regression(2000/10000): loss=-2264.1538566328545\n",
      "Losgistic Regression(3000/10000): loss=-2458.1561813260564\n",
      "Losgistic Regression(4000/10000): loss=-2573.663831074883\n",
      "Losgistic Regression(5000/10000): loss=-2653.0977274670236\n",
      "Losgistic Regression(6000/10000): loss=-2713.1834024109507\n",
      "Losgistic Regression(7000/10000): loss=-2761.1950853721746\n",
      "Losgistic Regression(8000/10000): loss=-2800.8389871637055\n",
      "Losgistic Regression(9000/10000): loss=-2834.3057959257517\n",
      "Losgistic Regression(0/10000): loss=17.8388197789522\n",
      "Losgistic Regression(1000/10000): loss=-819.8223125394243\n",
      "Losgistic Regression(2000/10000): loss=-1435.5949686031595\n",
      "Losgistic Regression(3000/10000): loss=-1786.681757096904\n",
      "Losgistic Regression(4000/10000): loss=-2010.1516292566598\n",
      "Losgistic Regression(5000/10000): loss=-2164.927944314222\n",
      "Losgistic Regression(6000/10000): loss=-2279.3615988929846\n",
      "Losgistic Regression(7000/10000): loss=-2368.535432460729\n",
      "Losgistic Regression(8000/10000): loss=-2440.904354808798\n",
      "Losgistic Regression(9000/10000): loss=-2501.445182550027\n",
      "Losgistic Regression(0/10000): loss=2242.2285840628174\n",
      "Losgistic Regression(1000/10000): loss=-343.88621084711144\n",
      "Losgistic Regression(2000/10000): loss=-993.1527439802101\n",
      "Losgistic Regression(3000/10000): loss=-1226.8343268102567\n",
      "Losgistic Regression(4000/10000): loss=-1352.7838462202087\n",
      "Losgistic Regression(5000/10000): loss=-1446.2093491254025\n",
      "Losgistic Regression(6000/10000): loss=-1526.1870729625275\n",
      "Losgistic Regression(7000/10000): loss=-1598.2233305800364\n",
      "Losgistic Regression(8000/10000): loss=-1664.2957561397059\n",
      "Losgistic Regression(9000/10000): loss=-1725.4076908082998\n",
      "Losgistic Regression(0/10000): loss=279.45200613459576\n",
      "Losgistic Regression(1000/10000): loss=-1880.2689613120936\n",
      "Losgistic Regression(2000/10000): loss=-2454.0506447117696\n",
      "Losgistic Regression(3000/10000): loss=-2774.2618652279984\n",
      "Losgistic Regression(4000/10000): loss=-2988.643553933018\n",
      "Losgistic Regression(5000/10000): loss=-3149.1242666376615\n",
      "Losgistic Regression(6000/10000): loss=-3279.2497483678007\n",
      "Losgistic Regression(7000/10000): loss=-3390.9905442927065\n",
      "Losgistic Regression(8000/10000): loss=-3490.861041169228\n",
      "Losgistic Regression(9000/10000): loss=-3582.586806717604\n",
      "Losgistic Regression(0/10000): loss=-1040.0293000174718\n",
      "Losgistic Regression(1000/10000): loss=-1502.8955192607734\n",
      "Losgistic Regression(2000/10000): loss=-1661.7960285931858\n",
      "Losgistic Regression(3000/10000): loss=-1783.4895308729897\n",
      "Losgistic Regression(4000/10000): loss=-1863.7628007186752\n",
      "Losgistic Regression(5000/10000): loss=-1914.7079343379955\n",
      "Losgistic Regression(6000/10000): loss=-1947.8206502946186\n",
      "Losgistic Regression(7000/10000): loss=-1970.121812366466\n",
      "Losgistic Regression(8000/10000): loss=-1985.8128250191396\n",
      "Losgistic Regression(9000/10000): loss=-1997.4946237657334\n",
      "Losgistic Regression(0/10000): loss=-1031.0762013951642\n",
      "Losgistic Regression(1000/10000): loss=-3334.4621480385163\n",
      "Losgistic Regression(2000/10000): loss=-3781.015618283318\n",
      "Losgistic Regression(3000/10000): loss=-4010.909496830716\n",
      "Losgistic Regression(4000/10000): loss=-4193.695769273543\n",
      "Losgistic Regression(5000/10000): loss=-4361.3189642793\n",
      "Losgistic Regression(6000/10000): loss=-4520.117932046836\n",
      "Losgistic Regression(7000/10000): loss=-4671.455308310507\n",
      "Losgistic Regression(8000/10000): loss=-4815.82524840847\n",
      "Losgistic Regression(9000/10000): loss=-4953.628558983566\n",
      "Losgistic Regression(0/10000): loss=-1539.4897073693628\n",
      "Losgistic Regression(1000/10000): loss=-519.3216479857572\n",
      "Losgistic Regression(2000/10000): loss=-621.8871596102705\n",
      "Losgistic Regression(3000/10000): loss=-706.3266953992263\n",
      "Losgistic Regression(4000/10000): loss=-767.9937455505811\n",
      "Losgistic Regression(5000/10000): loss=-817.6476298186905\n",
      "Losgistic Regression(6000/10000): loss=-858.8596004478269\n",
      "Losgistic Regression(7000/10000): loss=-893.5241948266422\n",
      "Losgistic Regression(8000/10000): loss=-923.1073548806095\n",
      "Losgistic Regression(9000/10000): loss=-948.76743814149\n",
      "Losgistic Regression(0/10000): loss=2140.007731625693\n",
      "Losgistic Regression(1000/10000): loss=-548.9413690675678\n",
      "Losgistic Regression(2000/10000): loss=-811.0438611574418\n",
      "Losgistic Regression(3000/10000): loss=-933.9274800965019\n",
      "Losgistic Regression(4000/10000): loss=-1018.8481746243936\n",
      "Losgistic Regression(5000/10000): loss=-1084.4497347699198\n",
      "Losgistic Regression(6000/10000): loss=-1137.5608982229435\n",
      "Losgistic Regression(7000/10000): loss=-1181.5865632282118\n",
      "Losgistic Regression(8000/10000): loss=-1218.5764719005624\n",
      "Losgistic Regression(9000/10000): loss=-1249.9355329307587\n",
      "Losgistic Regression(0/10000): loss=983.2788612346478\n",
      "Losgistic Regression(1000/10000): loss=-3998.6330555708278\n",
      "Losgistic Regression(2000/10000): loss=-4787.466817575057\n",
      "Losgistic Regression(3000/10000): loss=-5073.181420485755\n",
      "Losgistic Regression(4000/10000): loss=-5287.648450071811\n",
      "Losgistic Regression(5000/10000): loss=-5476.341981291586\n",
      "Losgistic Regression(6000/10000): loss=-5644.101551696416\n",
      "Losgistic Regression(7000/10000): loss=-5795.172439908101\n",
      "Losgistic Regression(8000/10000): loss=-5933.535692252244\n",
      "Losgistic Regression(9000/10000): loss=-6062.19685843483\n",
      "Losgistic Regression(0/10000): loss=-218.27828143574058\n",
      "Losgistic Regression(1000/10000): loss=-276.6520034647782\n",
      "Losgistic Regression(2000/10000): loss=-765.2613752465396\n",
      "Losgistic Regression(3000/10000): loss=-1084.6562612868058\n",
      "Losgistic Regression(4000/10000): loss=-1308.4964195264065\n",
      "Losgistic Regression(5000/10000): loss=-1479.8242544567288\n",
      "Losgistic Regression(6000/10000): loss=-1618.3654459470777\n",
      "Losgistic Regression(7000/10000): loss=-1734.8941244422103\n",
      "Losgistic Regression(8000/10000): loss=-1835.995902088825\n",
      "Losgistic Regression(9000/10000): loss=-1925.9027678368625\n"
     ]
    }
   ],
   "source": [
    "w, loss = sgd_solver(train_y, train_tx, gamma, batch_size=100, num_iters=10000, num_batches=100)"
   ]
  },
  {
   "cell_type": "code",
   "execution_count": 261,
   "metadata": {
    "collapsed": false
   },
   "outputs": [],
   "source": [
    "losses = np.array(loss)"
   ]
  },
  {
   "cell_type": "code",
   "execution_count": 262,
   "metadata": {
    "collapsed": false
   },
   "outputs": [
    {
     "data": {
      "text/plain": [
       "(100, 10000)"
      ]
     },
     "execution_count": 262,
     "metadata": {},
     "output_type": "execute_result"
    }
   ],
   "source": [
    "losses.shape"
   ]
  },
  {
   "cell_type": "code",
   "execution_count": 263,
   "metadata": {
    "collapsed": false,
    "scrolled": true
   },
   "outputs": [
    {
     "data": {
      "image/png": "[encoded data removed]",
      "text/plain": [
       "<matplotlib.figure.Figure at 0x10e7cfc18>"
      ]
     },
     "metadata": {},
     "output_type": "display_data"
    }
   ],
   "source": [
    "plt.plot(losses[:, ::50])\n",
    "plt.show()"
   ]
  },
  {
   "cell_type": "code",
   "execution_count": 264,
   "metadata": {
    "collapsed": false,
    "scrolled": true
   },
   "outputs": [
    {
     "data": {
      "text/plain": [
       "array([-1.25126784, -0.01409028, -0.04364957, -1.15931067, -2.05281455,\n",
       "        0.83312286, -0.04799297,  1.35143719,  0.07391563,  1.32483093,\n",
       "       -0.35726133, -0.1176224 , -0.46895741,  0.6663403 ,  0.17882937,\n",
       "        1.7613993 , -0.62559492,  0.29675977,  1.89621629,  0.20460349,\n",
       "       -0.67617963, -0.0255195 , -0.13102286,  1.35358415, -1.68159652,\n",
       "        0.6890909 , -0.1066527 ,  0.04074326, -0.75276932, -0.17573795,\n",
       "       -0.03230244, -0.90650472])"
      ]
     },
     "execution_count": 264,
     "metadata": {},
     "output_type": "execute_result"
    }
   ],
   "source": [
    "w"
   ]
  },
  {
   "cell_type": "code",
   "execution_count": 265,
   "metadata": {
    "collapsed": false
   },
   "outputs": [
    {
     "data": {
      "text/plain": [
       "0.71409199999999995"
      ]
     },
     "execution_count": 265,
     "metadata": {},
     "output_type": "execute_result"
    }
   ],
   "source": [
    "y_pred = prediction(stdandardlized_tx, w)\n",
    "accuracy(new_y, y_pred)"
   ]
  },
  {
   "cell_type": "code",
   "execution_count": 266,
   "metadata": {
    "collapsed": false
   },
   "outputs": [],
   "source": [
    "def sgd_reg_logistic_solver(y, tx, gamma, batch_size, num_iters, lambda_, num_batches=None, shuffle=True):\n",
    "    costs = []\n",
    "    w = np.random.randn(tx.shape[1]) * 0.1\n",
    "    for i, (shuffled_y, shuffled_tx) in enumerate(batch_iter(y, tx, batch_size, num_batches, shuffle)):\n",
    "        w, loss = reg_logistic_regression_GD(shuffled_y, shuffled_tx, 1/(1/gamma+i*2), num_iters, lambda_, w0=w)\n",
    "        y_pred = prediction(stdandardlized_tx, w)\n",
    "        acc = accuracy(new_y, y_pred)\n",
    "        print (\"batch index = {i}, acc={a} loss = {l}\".format(i=i, a=acc, l=loss))\n",
    "        costs.append(loss)\n",
    "    return w, np.array(costs)"
   ]
  },
  {
   "cell_type": "code",
   "execution_count": 267,
   "metadata": {
    "collapsed": false
   },
   "outputs": [
    {
     "name": "stdout",
     "output_type": "stream",
     "text": [
      "Losgistic Regression(0/5000): loss=369.1899406559628\n",
      "Losgistic Regression(1000/5000): loss=-7575.687655920653\n",
      "Losgistic Regression(2000/5000): loss=-9654.068794977402\n",
      "Losgistic Regression(3000/5000): loss=-10743.74166560797\n",
      "Losgistic Regression(4000/5000): loss=-11386.527666452528\n",
      "batch index = 0, acc=0.724172 loss = -11783.962486421487\n",
      "Losgistic Regression(0/5000): loss=-1891.7123366930205\n",
      "Losgistic Regression(1000/5000): loss=-1346.779369489979\n",
      "Losgistic Regression(2000/5000): loss=-1410.9479484241674\n",
      "Losgistic Regression(3000/5000): loss=-1434.51268643611\n",
      "Losgistic Regression(4000/5000): loss=-1444.3291738998814\n",
      "batch index = 1, acc=0.719976 loss = -1448.5857438798384\n",
      "Losgistic Regression(0/5000): loss=1162.8885607421437\n",
      "Losgistic Regression(1000/5000): loss=-3257.774080970284\n",
      "Losgistic Regression(2000/5000): loss=-3718.629828907282\n",
      "Losgistic Regression(3000/5000): loss=-3906.1489594746704\n",
      "Losgistic Regression(4000/5000): loss=-4004.3367490443657\n",
      "batch index = 2, acc=0.665076 loss = -4062.6506487529473\n",
      "Losgistic Regression(0/5000): loss=966.562140879899\n",
      "Losgistic Regression(1000/5000): loss=-436.1631745660522\n",
      "Losgistic Regression(2000/5000): loss=-553.5140470719119\n",
      "Losgistic Regression(3000/5000): loss=-603.9176682082331\n",
      "Losgistic Regression(4000/5000): loss=-632.0320898785792\n",
      "batch index = 3, acc=0.68946 loss = -649.2020797633455\n",
      "Losgistic Regression(0/5000): loss=3968.907517306562\n",
      "Losgistic Regression(1000/5000): loss=373.9655807542403\n",
      "Losgistic Regression(2000/5000): loss=190.70383940965343\n",
      "Losgistic Regression(3000/5000): loss=115.4550697954813\n",
      "Losgistic Regression(4000/5000): loss=78.88514110772704\n",
      "batch index = 4, acc=0.625044 loss = 59.56689592383394\n",
      "Losgistic Regression(0/5000): loss=6950.079093866822\n",
      "Losgistic Regression(1000/5000): loss=-3280.1928045905256\n",
      "Losgistic Regression(2000/5000): loss=-4137.074037305674\n",
      "Losgistic Regression(3000/5000): loss=-4561.501425320821\n",
      "Losgistic Regression(4000/5000): loss=-4779.683176201221\n",
      "batch index = 5, acc=0.699108 loss = -4895.437906239642\n",
      "Losgistic Regression(0/5000): loss=613.8126425544729\n",
      "Losgistic Regression(1000/5000): loss=-3021.5148369648773\n"
     ]
    },
    {
     "ename": "KeyboardInterrupt",
     "evalue": "",
     "output_type": "error",
     "traceback": [
      "\u001b[0;31m---------------------------------------------------------------------------\u001b[0m",
      "\u001b[0;31mKeyboardInterrupt\u001b[0m                         Traceback (most recent call last)",
      "\u001b[0;32m<ipython-input-267-aa7560487ccf>\u001b[0m in \u001b[0;36m<module>\u001b[0;34m()\u001b[0m\n\u001b[1;32m      5\u001b[0m \u001b[0mgamma\u001b[0m \u001b[0;34m=\u001b[0m \u001b[0;36m0.01\u001b[0m\u001b[0;34m\u001b[0m\u001b[0m\n\u001b[1;32m      6\u001b[0m w, loss = sgd_reg_logistic_solver(train_y, train_tx, gamma, batch_size=100, num_iters=5000, \n\u001b[0;32m----> 7\u001b[0;31m                                   lambda_=lamb, num_batches=250)\n\u001b[0m",
      "\u001b[0;32m<ipython-input-266-db903e3c28d1>\u001b[0m in \u001b[0;36msgd_reg_logistic_solver\u001b[0;34m(y, tx, gamma, batch_size, num_iters, lambda_, num_batches, shuffle)\u001b[0m\n\u001b[1;32m      3\u001b[0m     \u001b[0mw\u001b[0m \u001b[0;34m=\u001b[0m \u001b[0mnp\u001b[0m\u001b[0;34m.\u001b[0m\u001b[0mrandom\u001b[0m\u001b[0;34m.\u001b[0m\u001b[0mrandn\u001b[0m\u001b[0;34m(\u001b[0m\u001b[0mtx\u001b[0m\u001b[0;34m.\u001b[0m\u001b[0mshape\u001b[0m\u001b[0;34m[\u001b[0m\u001b[0;36m1\u001b[0m\u001b[0;34m]\u001b[0m\u001b[0;34m)\u001b[0m \u001b[0;34m*\u001b[0m \u001b[0;36m0.1\u001b[0m\u001b[0;34m\u001b[0m\u001b[0m\n\u001b[1;32m      4\u001b[0m     \u001b[0;32mfor\u001b[0m \u001b[0mi\u001b[0m\u001b[0;34m,\u001b[0m \u001b[0;34m(\u001b[0m\u001b[0mshuffled_y\u001b[0m\u001b[0;34m,\u001b[0m \u001b[0mshuffled_tx\u001b[0m\u001b[0;34m)\u001b[0m \u001b[0;32min\u001b[0m \u001b[0menumerate\u001b[0m\u001b[0;34m(\u001b[0m\u001b[0mbatch_iter\u001b[0m\u001b[0;34m(\u001b[0m\u001b[0my\u001b[0m\u001b[0;34m,\u001b[0m \u001b[0mtx\u001b[0m\u001b[0;34m,\u001b[0m \u001b[0mbatch_size\u001b[0m\u001b[0;34m,\u001b[0m \u001b[0mnum_batches\u001b[0m\u001b[0;34m,\u001b[0m \u001b[0mshuffle\u001b[0m\u001b[0;34m)\u001b[0m\u001b[0;34m)\u001b[0m\u001b[0;34m:\u001b[0m\u001b[0;34m\u001b[0m\u001b[0m\n\u001b[0;32m----> 5\u001b[0;31m         \u001b[0mw\u001b[0m\u001b[0;34m,\u001b[0m \u001b[0mloss\u001b[0m \u001b[0;34m=\u001b[0m \u001b[0mreg_logistic_regression_GD\u001b[0m\u001b[0;34m(\u001b[0m\u001b[0mshuffled_y\u001b[0m\u001b[0;34m,\u001b[0m \u001b[0mshuffled_tx\u001b[0m\u001b[0;34m,\u001b[0m \u001b[0;36m1\u001b[0m\u001b[0;34m/\u001b[0m\u001b[0;34m(\u001b[0m\u001b[0;36m1\u001b[0m\u001b[0;34m/\u001b[0m\u001b[0mgamma\u001b[0m\u001b[0;34m+\u001b[0m\u001b[0mi\u001b[0m\u001b[0;34m*\u001b[0m\u001b[0;36m2\u001b[0m\u001b[0;34m)\u001b[0m\u001b[0;34m,\u001b[0m \u001b[0mnum_iters\u001b[0m\u001b[0;34m,\u001b[0m \u001b[0mlambda_\u001b[0m\u001b[0;34m,\u001b[0m \u001b[0mw0\u001b[0m\u001b[0;34m=\u001b[0m\u001b[0mw\u001b[0m\u001b[0;34m)\u001b[0m\u001b[0;34m\u001b[0m\u001b[0m\n\u001b[0m\u001b[1;32m      6\u001b[0m         \u001b[0my_pred\u001b[0m \u001b[0;34m=\u001b[0m \u001b[0mprediction\u001b[0m\u001b[0;34m(\u001b[0m\u001b[0mstdandardlized_tx\u001b[0m\u001b[0;34m,\u001b[0m \u001b[0mw\u001b[0m\u001b[0;34m)\u001b[0m\u001b[0;34m\u001b[0m\u001b[0m\n\u001b[1;32m      7\u001b[0m         \u001b[0macc\u001b[0m \u001b[0;34m=\u001b[0m \u001b[0maccuracy\u001b[0m\u001b[0;34m(\u001b[0m\u001b[0mnew_y\u001b[0m\u001b[0;34m,\u001b[0m \u001b[0my_pred\u001b[0m\u001b[0;34m)\u001b[0m\u001b[0;34m\u001b[0m\u001b[0m\n",
      "\u001b[0;32m/Users/helie/projects/ML_Projects/project_one_ml/scripts/functions.py\u001b[0m in \u001b[0;36mreg_logistic_regression_GD\u001b[0;34m(y, tx, gamma, max_iters, lambda_, w0)\u001b[0m\n\u001b[1;32m    284\u001b[0m         \u001b[0mhession\u001b[0m  \u001b[0;34m=\u001b[0m \u001b[0mcalculate_hessian\u001b[0m\u001b[0;34m(\u001b[0m\u001b[0my\u001b[0m\u001b[0;34m,\u001b[0m \u001b[0mtx\u001b[0m\u001b[0;34m,\u001b[0m \u001b[0mw\u001b[0m\u001b[0;34m)\u001b[0m\u001b[0;34m\u001b[0m\u001b[0m\n\u001b[1;32m    285\u001b[0m \u001b[0;34m\u001b[0m\u001b[0m\n\u001b[0;32m--> 286\u001b[0;31m         \u001b[0mdw\u001b[0m \u001b[0;34m=\u001b[0m \u001b[0mnp\u001b[0m\u001b[0;34m.\u001b[0m\u001b[0mlinalg\u001b[0m\u001b[0;34m.\u001b[0m\u001b[0msolve\u001b[0m\u001b[0;34m(\u001b[0m\u001b[0mhession\u001b[0m\u001b[0;34m,\u001b[0m \u001b[0mgamma\u001b[0m\u001b[0;34m*\u001b[0m\u001b[0mgradient\u001b[0m\u001b[0;34m)\u001b[0m\u001b[0;34m\u001b[0m\u001b[0m\n\u001b[0m\u001b[1;32m    287\u001b[0m         \u001b[0mw\u001b[0m \u001b[0;34m=\u001b[0m \u001b[0mw\u001b[0m \u001b[0;34m-\u001b[0m \u001b[0mdw\u001b[0m\u001b[0;34m\u001b[0m\u001b[0m\n\u001b[1;32m    288\u001b[0m         \u001b[0;32mif\u001b[0m \u001b[0mi\u001b[0m \u001b[0;34m%\u001b[0m \u001b[0;36m1000\u001b[0m \u001b[0;34m==\u001b[0m \u001b[0;36m0\u001b[0m\u001b[0;34m:\u001b[0m\u001b[0;34m\u001b[0m\u001b[0m\n",
      "\u001b[0;32m/usr/local/lib/python3.5/site-packages/numpy/linalg/linalg.py\u001b[0m in \u001b[0;36msolve\u001b[0;34m(a, b)\u001b[0m\n\u001b[1;32m    358\u001b[0m     \u001b[0m_assertNdSquareness\u001b[0m\u001b[0;34m(\u001b[0m\u001b[0ma\u001b[0m\u001b[0;34m)\u001b[0m\u001b[0;34m\u001b[0m\u001b[0m\n\u001b[1;32m    359\u001b[0m     \u001b[0mb\u001b[0m\u001b[0;34m,\u001b[0m \u001b[0mwrap\u001b[0m \u001b[0;34m=\u001b[0m \u001b[0m_makearray\u001b[0m\u001b[0;34m(\u001b[0m\u001b[0mb\u001b[0m\u001b[0;34m)\u001b[0m\u001b[0;34m\u001b[0m\u001b[0m\n\u001b[0;32m--> 360\u001b[0;31m     \u001b[0mt\u001b[0m\u001b[0;34m,\u001b[0m \u001b[0mresult_t\u001b[0m \u001b[0;34m=\u001b[0m \u001b[0m_commonType\u001b[0m\u001b[0;34m(\u001b[0m\u001b[0ma\u001b[0m\u001b[0;34m,\u001b[0m \u001b[0mb\u001b[0m\u001b[0;34m)\u001b[0m\u001b[0;34m\u001b[0m\u001b[0m\n\u001b[0m\u001b[1;32m    361\u001b[0m \u001b[0;34m\u001b[0m\u001b[0m\n\u001b[1;32m    362\u001b[0m     \u001b[0;31m# We use the b = (..., M,) logic, only if the number of extra dimensions\u001b[0m\u001b[0;34m\u001b[0m\u001b[0;34m\u001b[0m\u001b[0m\n",
      "\u001b[0;32m/usr/local/lib/python3.5/site-packages/numpy/linalg/linalg.py\u001b[0m in \u001b[0;36m_commonType\u001b[0;34m(*arrays)\u001b[0m\n\u001b[1;32m    139\u001b[0m \u001b[0;32mdef\u001b[0m \u001b[0m_commonType\u001b[0m\u001b[0;34m(\u001b[0m\u001b[0;34m*\u001b[0m\u001b[0marrays\u001b[0m\u001b[0;34m)\u001b[0m\u001b[0;34m:\u001b[0m\u001b[0;34m\u001b[0m\u001b[0m\n\u001b[1;32m    140\u001b[0m     \u001b[0;31m# in lite version, use higher precision (always double or cdouble)\u001b[0m\u001b[0;34m\u001b[0m\u001b[0;34m\u001b[0m\u001b[0m\n\u001b[0;32m--> 141\u001b[0;31m     \u001b[0mresult_type\u001b[0m \u001b[0;34m=\u001b[0m \u001b[0msingle\u001b[0m\u001b[0;34m\u001b[0m\u001b[0m\n\u001b[0m\u001b[1;32m    142\u001b[0m     \u001b[0mis_complex\u001b[0m \u001b[0;34m=\u001b[0m \u001b[0;32mFalse\u001b[0m\u001b[0;34m\u001b[0m\u001b[0m\n\u001b[1;32m    143\u001b[0m     \u001b[0;32mfor\u001b[0m \u001b[0ma\u001b[0m \u001b[0;32min\u001b[0m \u001b[0marrays\u001b[0m\u001b[0;34m:\u001b[0m\u001b[0;34m\u001b[0m\u001b[0m\n",
      "\u001b[0;31mKeyboardInterrupt\u001b[0m: "
     ]
    }
   ],
   "source": [
    "m = 1\n",
    "train_tx = stdandardlized_tx[::m]\n",
    "train_y  = new_y[::m]\n",
    "lamb = 0\n",
    "gamma = 0.01\n",
    "w, loss = sgd_reg_logistic_solver(train_y, train_tx, gamma, batch_size=100, num_iters=5000, \n",
    "                                  lambda_=lamb, num_batches=250)"
   ]
  },
  {
   "cell_type": "code",
   "execution_count": 69,
   "metadata": {
    "collapsed": false,
    "scrolled": true
   },
   "outputs": [
    {
     "data": {
      "text/plain": [
       "array([  -236423.9635299 ,   -659432.19768928,   -973023.46987398,\n",
       "        -1820292.64309514,  -1656482.13761311,  -2113604.88480403,\n",
       "        -2893241.0693707 ,  -3626899.38522608,  -2532488.16187574,\n",
       "        -3940060.31159734,  -4242410.64002684,  -3712040.26524518,\n",
       "        -5648007.92295768,  -3252752.51238254,  -4646254.09617795,\n",
       "        -6213254.57784838,  -5994373.75503937,  -6103246.85491254,\n",
       "        -5648636.3973462 ,  -5305012.3414855 ,  -5776378.13645988,\n",
       "        -7886606.14029623,  -6165476.53200023,  -8391227.52045283,\n",
       "        -8977592.99429015,  -8478957.2174031 ,  -7572996.72464001,\n",
       "        -9959591.86158299, -11646444.15179094, -11281768.77914203,\n",
       "       -11188038.31919621, -11170981.41470304,  -9825874.91959468,\n",
       "       -11669091.63767324, -13926766.40302308,  -9403050.70214451,\n",
       "       -10350074.07547356, -10880999.23175221, -11573451.81307174,\n",
       "       -16610524.00063431, -15262194.17803122, -12526288.58435133,\n",
       "       -17070612.2063867 , -12263260.08023408,  -5770254.87894439,\n",
       "       -15002647.18019326, -13811552.33262226, -15591951.40117339,\n",
       "       -17480815.21999988, -12716927.1462887 , -16638388.76092281,\n",
       "       -10746528.892256  , -23780723.98433449, -18814344.90112325,\n",
       "       -14366233.31294063, -14811468.20023239, -21619214.37206122,\n",
       "       -14075984.38148294, -19884049.59326885, -10428806.38587958,\n",
       "       -19726578.65459546, -20002783.87355607, -15261598.81140591,\n",
       "       -19294177.51396754, -22303870.10883313, -14710109.66458712,\n",
       "       -20761872.21655728, -17750648.46032421, -21406368.87517262,\n",
       "       -22163893.17512152, -15984930.82545988, -19882155.39489625,\n",
       "       -23382592.78690861, -16452103.41552485, -18125262.12401027,\n",
       "       -18405390.54670985, -25017987.36132041, -20101581.99327552,\n",
       "       -20361854.40060096, -25113565.3057838 , -24715581.54083797,\n",
       "       -26409875.42988246, -21072211.69006384, -20704650.36421615,\n",
       "       -21157704.80191426, -19981793.15037265, -21204627.0061384 ,\n",
       "       -25508797.49487456, -22884845.12782653, -22017628.77506599,\n",
       "       -30242274.0507455 , -27003326.46091606, -27766903.80710614,\n",
       "       -25776628.04236327, -19350841.99872483, -29405348.37056619,\n",
       "       -26760094.49117762, -20644729.9125188 , -34007363.80627456,\n",
       "       -31807426.33559871, -39560808.27190898, -30822156.89996041,\n",
       "       -19547255.68138847, -20855115.7585357 , -33164592.63507192,\n",
       "       -22835820.92627   , -30482882.14089604, -35440492.23140519,\n",
       "       -18728639.51097031, -24028652.00751215, -33984908.78698748,\n",
       "       -27295473.40205125, -35629332.86057276, -33179257.39102227,\n",
       "       -25868495.55759014, -30290442.60824508, -27563481.73074424,\n",
       "       -28778171.27996858, -27444841.63339757, -38749875.22006415,\n",
       "       -29423503.56859106, -26576053.39877812, -40948360.99503813,\n",
       "       -38905038.13266615, -31236153.56708813, -37943873.51763038,\n",
       "       -27089619.87801711, -30051818.37225291, -35368393.33007043,\n",
       "       -39192972.3887111 , -34895602.08928248, -33661617.41120919,\n",
       "       -34922369.64207765, -46851236.85132495, -33556923.66868985,\n",
       "       -35788219.51750386, -22825070.41209529, -42344794.20920084,\n",
       "       -32209505.88350958, -34961701.66215044, -27985130.93871735,\n",
       "       -32797851.00949515, -31092159.28295886, -40204415.76461834,\n",
       "       -25543017.56255934, -40405735.96107946, -34808912.39520713,\n",
       "       -35253530.37593789, -30370734.67775764, -42649618.59548159,\n",
       "       -50516302.5167569 , -30961179.69427914, -28061345.48441526,\n",
       "       -30293302.95841597, -46000233.490105  , -28248543.33279741,\n",
       "       -47249108.82251084, -50092087.73901244, -36964642.12509412,\n",
       "       -43864637.95849006, -38649723.74985476, -20761260.6200011 ,\n",
       "       -42082746.83112522, -40879778.62708649, -52840429.82245135,\n",
       "       -45781812.01232024, -38945517.18424191, -38532549.76202067,\n",
       "       -22991664.17273709, -53733042.08286932, -44546638.11816427,\n",
       "       -41710033.45474286, -41862469.50800616, -35542785.36384663,\n",
       "       -34151311.29850987, -26522647.98536179, -41003406.98498942,\n",
       "       -37482517.28618032, -42426714.37988029, -46927214.64962923,\n",
       "       -39676058.89389053, -44835725.46451535, -33904003.69773847,\n",
       "       -42563882.93378939, -42834066.07588144, -42245717.52003282,\n",
       "       -48013794.3079323 , -41585263.81261724, -51125838.94437347,\n",
       "       -45031073.19227273, -42083419.14663027, -39603775.78545143,\n",
       "       -45776142.95264459, -37398626.83842312, -50909081.31210758,\n",
       "       -48886660.09913395, -36246853.04339731, -42810011.95936771,\n",
       "       -50400281.64950946, -54644114.87950014])"
      ]
     },
     "execution_count": 69,
     "metadata": {},
     "output_type": "execute_result"
    }
   ],
   "source": [
    "loss"
   ]
  },
  {
   "cell_type": "code",
   "execution_count": 93,
   "metadata": {
    "collapsed": false,
    "scrolled": true
   },
   "outputs": [
    {
     "data": {
      "image/png": "[encoded data removed]",
      "text/plain": [
       "<matplotlib.figure.Figure at 0x12bdf6588>"
      ]
     },
     "metadata": {},
     "output_type": "display_data"
    }
   ],
   "source": [
    "plt.plot(loss)\n",
    "plt.show()"
   ]
  },
  {
   "cell_type": "code",
   "execution_count": 94,
   "metadata": {
    "collapsed": false
   },
   "outputs": [
    {
     "data": {
      "text/plain": [
       "0.70299199999999995"
      ]
     },
     "execution_count": 94,
     "metadata": {},
     "output_type": "execute_result"
    }
   ],
   "source": [
    "y_pred = prediction(stdandardlized_tx, w)\n",
    "accuracy(new_y, y_pred)"
   ]
  },
  {
   "cell_type": "markdown",
   "metadata": {},
   "source": [
    "### Data Processing"
   ]
  },
  {
   "cell_type": "code",
   "execution_count": 193,
   "metadata": {
    "collapsed": true
   },
   "outputs": [],
   "source": [
    "def build_polynomial(tx, degree):\n",
    "    \"\"\"polynomial basis functions for input data x, for j=0 up to j=degree. the first column are 1s\"\"\"\n",
    "    assert(degree >= 2)\n",
    "    m = []\n",
    "    for i in range(1, tx.shape[1]):\n",
    "        x0 = tx[:, i]\n",
    "        [m.append((x0**j).flatten()) for j in range(2, degree+1)]\n",
    "    return np.c_[tx, np.array(m).T]"
   ]
  },
  {
   "cell_type": "code",
   "execution_count": 104,
   "metadata": {
    "collapsed": false,
    "scrolled": true
   },
   "outputs": [
    {
     "data": {
      "text/plain": [
       "(250000, 30)"
      ]
     },
     "execution_count": 104,
     "metadata": {},
     "output_type": "execute_result"
    }
   ],
   "source": [
    "tX.shape"
   ]
  },
  {
   "cell_type": "code",
   "execution_count": 138,
   "metadata": {
    "collapsed": false
   },
   "outputs": [],
   "source": [
    "coef_list = []\n",
    "for i in range(tX.shape[1]):\n",
    "    mask = (tX[:, i] != -999)\n",
    "    coef_list.append(np.corrcoef(y[mask], tX[mask, i])[0, 1])\n",
    "    \n",
    "coef_list = np.array(coef_list)\n",
    "index_mask = abs(coef_list) > 0.1\n",
    "index_mask"
   ]
  },
  {
   "cell_type": "code",
   "execution_count": 219,
   "metadata": {
    "collapsed": false
   },
   "outputs": [],
   "source": [
    "m = 1\n",
    "candidates_x = tX[::m, np.arange(30)[index_mask]]\n",
    "candidates_x = build_polynomial(candidates_x, degree=3)\n",
    "train_tx, mean_x, std_x = standardize(candidates_x)\n",
    "train_y  = y[::m]\n",
    "gamma = 0.0001"
   ]
  },
  {
   "cell_type": "code",
   "execution_count": 220,
   "metadata": {
    "collapsed": false
   },
   "outputs": [
    {
     "data": {
      "text/plain": [
       "(250000, 41)"
      ]
     },
     "execution_count": 220,
     "metadata": {},
     "output_type": "execute_result"
    }
   ],
   "source": [
    "train_tx.shape"
   ]
  },
  {
   "cell_type": "code",
   "execution_count": 221,
   "metadata": {
    "collapsed": false
   },
   "outputs": [
    {
     "name": "stdout",
     "output_type": "stream",
     "text": [
      "Losgistic Regression(0/1000): loss=-1411499925984.9922\n"
     ]
    }
   ],
   "source": [
    "w, loss = logistic_regression_GD(train_y, train_tx, gamma, 1000)"
   ]
  },
  {
   "cell_type": "code",
   "execution_count": 222,
   "metadata": {
    "collapsed": false,
    "scrolled": false
   },
   "outputs": [
    {
     "data": {
      "image/png": "[encoded data removed]",
      "text/plain": [
       "<matplotlib.figure.Figure at 0x12ada2f98>"
      ]
     },
     "metadata": {},
     "output_type": "display_data"
    }
   ],
   "source": [
    "plt.plot(loss)\n",
    "plt.show()"
   ]
  },
  {
   "cell_type": "code",
   "execution_count": 230,
   "metadata": {
    "collapsed": false
   },
   "outputs": [
    {
     "data": {
      "text/plain": [
       "array([ -1.17642794e+04,  -4.81380652e+03,   6.98981355e+02,\n",
       "         1.48017049e+02,   8.29824098e+02,   1.33517396e+02,\n",
       "         3.41093272e+02,  -1.91191958e+03,   2.23329678e+03,\n",
       "         1.44105300e+02,   1.77086058e+03,   1.78505625e+02,\n",
       "         5.04647912e+01,   5.86412049e+02,   1.09230522e+01,\n",
       "         3.47310200e+02,   6.77570326e+01,  -1.42929346e+02,\n",
       "         1.42808084e+02,   1.16895673e+03,   9.21559748e+02,\n",
       "        -1.42809133e+02,   1.42727042e+02,  -1.62627202e+02,\n",
       "        -2.75567826e+02,  -9.08360177e+02,  -2.64438750e+02,\n",
       "         7.82114361e+02,   1.92512379e+03,  -1.42945244e+02,\n",
       "         1.42864435e+02,   3.25043780e+02,  -2.20886247e+02,\n",
       "        -3.36958644e+02,  -4.52523925e+02,  -3.89474689e+02,\n",
       "        -6.52734521e+02,  -5.93724436e+02,   5.85615197e+02,\n",
       "        -4.11519538e+02,  -3.60479918e+02])"
      ]
     },
     "execution_count": 230,
     "metadata": {},
     "output_type": "execute_result"
    }
   ],
   "source": [
    "w"
   ]
  },
  {
   "cell_type": "code",
   "execution_count": 226,
   "metadata": {
    "collapsed": false
   },
   "outputs": [
    {
     "data": {
      "text/plain": [
       "0.70704800000000001"
      ]
     },
     "execution_count": 226,
     "metadata": {},
     "output_type": "execute_result"
    }
   ],
   "source": [
    "test_candidates_x = tX[:, np.arange(30)[index_mask]]\n",
    "test_candidates_x = build_polynomial(test_candidates_x, degree=3)\n",
    "test_x,_,_ = standardize(test_candidates_x, mean_x, std_x)\n",
    "y_pred = prediction(test_x, w)\n",
    "accuracy(new_y, y_pred)"
   ]
  },
  {
   "cell_type": "markdown",
   "metadata": {},
   "source": [
    "## Only non missing values"
   ]
  },
  {
   "cell_type": "code",
   "execution_count": 403,
   "metadata": {
    "collapsed": false
   },
   "outputs": [],
   "source": [
    "def feature_selection_1(x):\n",
    "    coef_list = []\n",
    "    for i in range(x.shape[1]):\n",
    "        if -999 not in x[:, i]:\n",
    "            coef_list.append(i)\n",
    "    return np.array(coef_list)\n",
    "\n",
    "\n",
    "def transform_data_1(y, tx, rows=None, features=None, meanx=None, stdx=None):\n",
    "    if rows is None:\n",
    "        rows = np.arange(len(y))\n",
    "        \n",
    "    if features is None:\n",
    "        features = np.arange(tx.shape[1])\n",
    "\n",
    "    new1_tx, mean_x, std_x = standardize(tx[np.ix_(rows, features)], meanx, stdx)\n",
    "    new2_tx = build_polynomial(new1_tx, 3)\n",
    "    return y, new2_tx, mean_x, std_x"
   ]
  },
  {
   "cell_type": "code",
   "execution_count": 404,
   "metadata": {
    "collapsed": false
   },
   "outputs": [
    {
     "data": {
      "text/plain": [
       "array([ 1,  2,  3,  7,  8,  9, 10, 11, 13, 14, 15, 16, 17, 18, 19, 20, 21,\n",
       "       22, 29])"
      ]
     },
     "execution_count": 404,
     "metadata": {},
     "output_type": "execute_result"
    }
   ],
   "source": [
    "feature_used = feature_selection_1(tX)\n",
    "feature_used"
   ]
  },
  {
   "cell_type": "code",
   "execution_count": 405,
   "metadata": {
    "collapsed": false
   },
   "outputs": [],
   "source": [
    "train_y, train_tx, mean_x, std_x = transform_data_1(new_y, tX, features=feature_used)"
   ]
  },
  {
   "cell_type": "code",
   "execution_count": 406,
   "metadata": {
    "collapsed": true
   },
   "outputs": [],
   "source": [
    "def sgd_solver(y, tx, gamma, batch_size, num_iters, num_batches=None, shuffle=True):\n",
    "    costs = []\n",
    "    w = np.random.randn(tx.shape[1]) * 0.1\n",
    "    for i, (shuffled_y, shuffled_tx) in enumerate(batch_iter(y, tx, batch_size, num_batches, shuffle)):\n",
    "        w, loss = logistic_regression_GD(shuffled_y, shuffled_tx, 1/(1/gamma+i*2), num_iters, w0=w)\n",
    "        costs.append(loss)\n",
    "        return w, costs"
   ]
  },
  {
   "cell_type": "code",
   "execution_count": 407,
   "metadata": {
    "collapsed": false
   },
   "outputs": [
    {
     "name": "stdout",
     "output_type": "stream",
     "text": [
      "Losgistic Regression(0/2000): loss=9370.67088332969\n",
      "Losgistic Regression(100/2000): loss=-7317.263628440467\n",
      "Losgistic Regression(200/2000): loss=-8299.971977039226\n",
      "Losgistic Regression(300/2000): loss=-9062.254725313445\n",
      "Losgistic Regression(400/2000): loss=-9420.775365315048\n",
      "Losgistic Regression(500/2000): loss=-9736.135365949582\n",
      "Losgistic Regression(600/2000): loss=-9932.070536151125\n",
      "Losgistic Regression(700/2000): loss=-10206.082527461705\n",
      "Losgistic Regression(800/2000): loss=-10489.787143299836\n",
      "Losgistic Regression(900/2000): loss=-10770.454082013379\n",
      "Losgistic Regression(1000/2000): loss=-11044.54396057856\n",
      "Losgistic Regression(1100/2000): loss=-11311.786038305696\n",
      "Losgistic Regression(1200/2000): loss=-11571.939350641465\n",
      "Losgistic Regression(1300/2000): loss=-11824.936600470879\n",
      "Losgistic Regression(1400/2000): loss=-12070.854897451694\n",
      "Losgistic Regression(1500/2000): loss=-12309.889559069528\n",
      "Losgistic Regression(1600/2000): loss=-12542.325953195112\n",
      "Losgistic Regression(1700/2000): loss=-12768.514502930555\n",
      "Losgistic Regression(1800/2000): loss=-12988.850577997338\n",
      "Losgistic Regression(1900/2000): loss=-13203.758820895162\n"
     ]
    }
   ],
   "source": [
    "w, loss = sgd_solver(train_y, train_tx, gamma=0.001, batch_size=100, num_iters=2000, num_batches=2000)"
   ]
  },
  {
   "cell_type": "code",
   "execution_count": 408,
   "metadata": {
    "collapsed": false
   },
   "outputs": [
    {
     "data": {
      "image/png": "[encoded data removed]",
      "text/plain": [
       "<matplotlib.figure.Figure at 0x111358d68>"
      ]
     },
     "metadata": {},
     "output_type": "display_data"
    }
   ],
   "source": [
    "plt.plot(np.array(loss).T)\n",
    "plt.show()"
   ]
  },
  {
   "cell_type": "code",
   "execution_count": 409,
   "metadata": {
    "collapsed": false
   },
   "outputs": [
    {
     "data": {
      "text/plain": [
       "0.67090000000000005"
      ]
     },
     "execution_count": 409,
     "metadata": {},
     "output_type": "execute_result"
    }
   ],
   "source": [
    "test_set_tX = tX\n",
    "test_set_y = new_y\n",
    "test_y, test_tx, _, _= transform_data_1(test_set_y, test_set_tX, features=feature_used, meanx=mean_x, stdx=std_x)\n",
    "y_pred = prediction(test_tx, w)\n",
    "accuracy(test_y, y_pred)"
   ]
  },
  {
   "cell_type": "markdown",
   "metadata": {},
   "source": [
    "## All values"
   ]
  },
  {
   "cell_type": "code",
   "execution_count": 410,
   "metadata": {
    "collapsed": false
   },
   "outputs": [],
   "source": [
    "def feature_selection_2(x):\n",
    "    return np.arange(x.shape[1])\n",
    "\n",
    "\n",
    "def transform_data_2(y, tx, rows=None, features=None, meanx=None, stdx=None):\n",
    "    if rows is None:\n",
    "        rows = np.arange(len(y))\n",
    "        \n",
    "    if features is None:\n",
    "        features = np.arange(tx.shape[1])\n",
    "\n",
    "    new1_tx, mean_x, std_x = standardize(tx[np.ix_(rows, features)], meanx, stdx)\n",
    "    new2_tx = build_polynomial(new1_tx, 3)\n",
    "    return y, new2_tx, mean_x, std_x"
   ]
  },
  {
   "cell_type": "code",
   "execution_count": 411,
   "metadata": {
    "collapsed": false
   },
   "outputs": [
    {
     "data": {
      "text/plain": [
       "array([ 0,  1,  2,  3,  4,  5,  6,  7,  8,  9, 10, 11, 12, 13, 14, 15, 16,\n",
       "       17, 18, 19, 20, 21, 22, 23, 24, 25, 26, 27, 28, 29])"
      ]
     },
     "execution_count": 411,
     "metadata": {},
     "output_type": "execute_result"
    }
   ],
   "source": [
    "feature_used = feature_selection_2(tX)\n",
    "feature_used"
   ]
  },
  {
   "cell_type": "code",
   "execution_count": 412,
   "metadata": {
    "collapsed": false
   },
   "outputs": [],
   "source": [
    "train_y, train_tx, mean_x, std_x = transform_data_2(new_y, tX, features=feature_used)"
   ]
  },
  {
   "cell_type": "code",
   "execution_count": 425,
   "metadata": {
    "collapsed": true
   },
   "outputs": [],
   "source": [
    "def sgd_solver(y, tx, gamma, batch_size, num_iters, num_batches=None, shuffle=True):\n",
    "    costs = []\n",
    "    w = np.random.randn(tx.shape[1]) * 0.1 + 0.5\n",
    "    for i, (shuffled_y, shuffled_tx) in enumerate(batch_iter(y, tx, batch_size, num_batches, shuffle)):\n",
    "        w, loss = logistic_regression_GD(shuffled_y, shuffled_tx, 1/(1/gamma+i*2), num_iters, w0=w)\n",
    "        costs.append(loss)\n",
    "        return w, costs"
   ]
  },
  {
   "cell_type": "code",
   "execution_count": 426,
   "metadata": {
    "collapsed": false
   },
   "outputs": [
    {
     "name": "stdout",
     "output_type": "stream",
     "text": [
      "Losgistic Regression(0/2000): loss=-108291.1055679015\n",
      "Losgistic Regression(100/2000): loss=-10283.994634414732\n",
      "Losgistic Regression(200/2000): loss=-10593.23030384723\n",
      "Losgistic Regression(300/2000): loss=-11382.349396347598\n",
      "Losgistic Regression(400/2000): loss=-12195.155719349606\n",
      "Losgistic Regression(500/2000): loss=-12981.603581435262\n",
      "Losgistic Regression(600/2000): loss=-13706.260592720957\n",
      "Losgistic Regression(700/2000): loss=-14367.656382539708\n",
      "Losgistic Regression(800/2000): loss=-14973.067479066423\n",
      "Losgistic Regression(900/2000): loss=-15530.502007445442\n",
      "Losgistic Regression(1000/2000): loss=-16046.943162739497\n",
      "Losgistic Regression(1100/2000): loss=-16528.134277558762\n",
      "Losgistic Regression(1200/2000): loss=-16978.736549989615\n",
      "Losgistic Regression(1300/2000): loss=-17402.542765043294\n",
      "Losgistic Regression(1400/2000): loss=-17802.666194593283\n",
      "Losgistic Regression(1500/2000): loss=-18181.690533389436\n",
      "Losgistic Regression(1600/2000): loss=-18541.784607863516\n",
      "Losgistic Regression(1700/2000): loss=-18884.78914935043\n",
      "Losgistic Regression(1800/2000): loss=-19212.282436486315\n",
      "Losgistic Regression(1900/2000): loss=-19525.63025374402\n"
     ]
    }
   ],
   "source": [
    "w, loss = sgd_solver(train_y, train_tx, gamma=0.001, batch_size=100, num_iters=2000, num_batches=2000)"
   ]
  },
  {
   "cell_type": "code",
   "execution_count": 423,
   "metadata": {
    "collapsed": false
   },
   "outputs": [
    {
     "data": {
      "image/png": "[encoded data removed]",
      "text/plain": [
       "<matplotlib.figure.Figure at 0x110fe6eb8>"
      ]
     },
     "metadata": {},
     "output_type": "display_data"
    }
   ],
   "source": [
    "plt.plot(np.array(loss).T)\n",
    "plt.show()"
   ]
  },
  {
   "cell_type": "code",
   "execution_count": 427,
   "metadata": {
    "collapsed": false
   },
   "outputs": [
    {
     "data": {
      "text/plain": [
       "0.70977999999999997"
      ]
     },
     "execution_count": 427,
     "metadata": {},
     "output_type": "execute_result"
    }
   ],
   "source": [
    "test_set_tX = tX\n",
    "test_set_y = new_y\n",
    "test_y, test_tx, _, _= transform_data_1(test_set_y, test_set_tX, features=feature_used, meanx=mean_x, stdx=std_x)\n",
    "y_pred = prediction(test_tx, w)\n",
    "accuracy(test_y, y_pred)"
   ]
  },
  {
   "cell_type": "markdown",
   "metadata": {},
   "source": [
    "## fill features"
   ]
  },
  {
   "cell_type": "code",
   "execution_count": 748,
   "metadata": {
    "collapsed": true
   },
   "outputs": [],
   "source": [
    "coef_list = []\n",
    "for i in range(tX.shape[1]):\n",
    "    if -999 not in tX[:, i]:\n",
    "        coef_list.append(i)\n",
    "\n",
    "columns_without_missing_data = coef_list"
   ]
  },
  {
   "cell_type": "code",
   "execution_count": 750,
   "metadata": {
    "collapsed": false
   },
   "outputs": [
    {
     "data": {
      "text/plain": [
       "[1, 2, 3, 7, 8, 9, 10, 11, 13, 14, 15, 16, 17, 18, 19, 20, 21, 22, 29]"
      ]
     },
     "execution_count": 750,
     "metadata": {},
     "output_type": "execute_result"
    }
   ],
   "source": [
    "columns_without_missing_data"
   ]
  },
  {
   "cell_type": "code",
   "execution_count": 657,
   "metadata": {
    "collapsed": false
   },
   "outputs": [],
   "source": [
    "def transform_data_3(y, tx, rows=None, features=None, meanx=None, stdx=None):\n",
    "    if rows is None:\n",
    "        rows = np.arange(len(y))\n",
    "        \n",
    "    if features is None:\n",
    "        features = np.arange(tx.shape[1])\n",
    "\n",
    "    new1_tx, mean_x, std_x = standardize(tx[np.ix_(rows, features)], meanx, stdx)\n",
    "    new2_tx = build_polynomial(new1_tx, 2)\n",
    "    new3_tx = np.c_[np.ones(new2_tx.shape[0]), new2_tx]\n",
    "    return y, new3_tx, mean_x, std_x\n",
    "\n",
    "def sgd_solver(y, tx, gamma, batch_size, num_iters, num_batches=None, shuffle=True):\n",
    "    costs = []\n",
    "    w = np.random.randn(tx.shape[1]) * 0.1 + 0.5\n",
    "    for i, (shuffled_y, shuffled_tx) in enumerate(batch_iter(y, tx, batch_size, num_batches, shuffle)):\n",
    "        w, loss = logistic_regression_GD(shuffled_y, shuffled_tx, 1/(1/gamma+i*2), num_iters, w0=w)\n",
    "        costs.append(loss)\n",
    "        return w, costs"
   ]
  },
  {
   "cell_type": "code",
   "execution_count": null,
   "metadata": {
    "collapsed": true
   },
   "outputs": [],
   "source": [
    "def feature_selection_3(x):\n",
    "    return np.array([0, 1, 2, 3, 4, 5, 7])"
   ]
  },
  {
   "cell_type": "code",
   "execution_count": 491,
   "metadata": {
    "collapsed": false
   },
   "outputs": [
    {
     "data": {
      "text/plain": [
       "array([0, 1, 2, 3, 4, 5, 7])"
      ]
     },
     "execution_count": 491,
     "metadata": {},
     "output_type": "execute_result"
    }
   ],
   "source": [
    "feature_used = feature_selection_3(tX)\n",
    "feature_used"
   ]
  },
  {
   "cell_type": "code",
   "execution_count": 753,
   "metadata": {
    "collapsed": false
   },
   "outputs": [],
   "source": [
    "def run(feature_used):\n",
    "    train_y, train_tx, mean_x, std_x = transform_data_3(new_y, tX, features=feature_used)\n",
    "    w, loss = sgd_solver(train_y, train_tx, gamma=0.01, batch_size=200, num_iters=5000, num_batches=1000)\n",
    "    return w, mean_x, std_x"
   ]
  },
  {
   "cell_type": "code",
   "execution_count": 711,
   "metadata": {
    "collapsed": false
   },
   "outputs": [
    {
     "data": {
      "text/plain": [
       "0.74528399999999995"
      ]
     },
     "execution_count": 711,
     "metadata": {},
     "output_type": "execute_result"
    }
   ],
   "source": [
    "feature_used = [0, 1, 2, 3]\n",
    "w, mean_x, std_x =run(feature_used)\n",
    "test_set_tX = tX\n",
    "test_set_y = new_y\n",
    "test_y, test_tx, _, _= transform_data_3(test_set_y, test_set_tX, features=feature_used, meanx=mean_x, stdx=std_x)\n",
    "y_pred = prediction(test_tx, w)\n",
    "accuracy(test_y, y_pred)"
   ]
  },
  {
   "cell_type": "markdown",
   "metadata": {},
   "source": [
    "#### One feature contest"
   ]
  },
  {
   "cell_type": "code",
   "execution_count": 589,
   "metadata": {
    "collapsed": false
   },
   "outputs": [
    {
     "name": "stdout",
     "output_type": "stream",
     "text": [
      "0th feature's accuracy = 0.6502404000000002\n",
      "1th feature's accuracy = 0.6782032\n",
      "2th feature's accuracy = 0.6577216\n",
      "3th feature's accuracy = 0.659332\n",
      "4th feature's accuracy = 0.6477288000000001\n",
      "5th feature's accuracy = 0.6818092000000001\n",
      "6th feature's accuracy = 0.6512416000000001\n",
      "7th feature's accuracy = 0.6573320000000001\n",
      "8th feature's accuracy = 0.6553024000000002\n",
      "9th feature's accuracy = 0.6423479999999999\n",
      "10th feature's accuracy = 0.6741307999999999\n",
      "11th feature's accuracy = 0.6606460000000001\n",
      "12th feature's accuracy = 0.6542868000000002\n",
      "13th feature's accuracy = 0.6739559999999999\n",
      "14th feature's accuracy = 0.6413568000000002\n",
      "15th feature's accuracy = 0.6450272000000001\n",
      "16th feature's accuracy = 0.6522387999999999\n",
      "17th feature's accuracy = 0.6331716000000001\n",
      "18th feature's accuracy = 0.6570732000000001\n",
      "19th feature's accuracy = 0.657766\n",
      "20th feature's accuracy = 0.6520408000000002\n",
      "21th feature's accuracy = 0.6433848\n",
      "22th feature's accuracy = 0.6397824\n",
      "23th feature's accuracy = 0.6565444\n",
      "24th feature's accuracy = 0.6573320000000001\n",
      "25th feature's accuracy = 0.6573320000000001\n",
      "26th feature's accuracy = 0.6481956000000001\n",
      "27th feature's accuracy = 0.6481964000000001\n",
      "28th feature's accuracy = 0.6512416000000001\n",
      "29th feature's accuracy = 0.6539224000000001\n"
     ]
    }
   ],
   "source": [
    "feature_list = []\n",
    "for i in np.arange(30):\n",
    "    feature_used = [i]\n",
    "    temp = 0\n",
    "    for _ in range(10):\n",
    "        w, mean_x, std_x =run(feature_used)\n",
    "        test_set_tX = tX\n",
    "        test_set_y = new_y\n",
    "        test_y, test_tx, _, _= transform_data_3(test_set_y, test_set_tX, features=feature_used, meanx=mean_x, stdx=std_x)\n",
    "        y_pred = prediction(test_tx, w)\n",
    "        acc = accuracy(test_y, y_pred)\n",
    "        temp = temp + acc\n",
    "    temp = temp/10\n",
    "    feature_list.append(temp)\n",
    "    print(\"{i}th feature's accuracy = {a}\".format(i=i, a=temp))"
   ]
  },
  {
   "cell_type": "code",
   "execution_count": 740,
   "metadata": {
    "collapsed": false
   },
   "outputs": [
    {
     "data": {
      "text/plain": [
       "array([], dtype=int64)"
      ]
     },
     "execution_count": 740,
     "metadata": {},
     "output_type": "execute_result"
    }
   ],
   "source": [
    "feature_list = np.array(feature_list)\n",
    "potential_features = np.arange(30)[feature_list>0.69]\n",
    "potential_features"
   ]
  },
  {
   "cell_type": "code",
   "execution_count": 774,
   "metadata": {
    "collapsed": false
   },
   "outputs": [
    {
     "name": "stdout",
     "output_type": "stream",
     "text": [
      "feature's accuracy = 0.765936\n",
      "feature's accuracy = 0.731252\n",
      "feature's accuracy = 0.747448\n",
      "feature's accuracy = 0.724484\n",
      "feature's accuracy = 0.758988\n",
      "feature's accuracy = 0.74844\n",
      "feature's accuracy = 0.709388\n",
      "feature's accuracy = 0.746884\n",
      "feature's accuracy = 0.743228\n",
      "feature's accuracy = 0.732828\n",
      "Total feature's accuracy = 0.7408876\n"
     ]
    }
   ],
   "source": [
    "feature_used = [1, 2, 3]\n",
    "\n",
    "temp = 0\n",
    "for _ in range(10):\n",
    "    w, mean_x, std_x =run(feature_used)\n",
    "    test_set_tX = tX\n",
    "    test_set_y = new_y\n",
    "    test_y, test_tx, _, _= transform_data_3(test_set_y, test_set_tX, features=feature_used, meanx=mean_x, stdx=std_x)\n",
    "    y_pred = prediction(test_tx, w)\n",
    "    acc = accuracy(test_y, y_pred)\n",
    "    print(\"feature's accuracy = {a}\".format(a=acc))\n",
    "    temp = temp + acc\n",
    "\n",
    "temp = temp/10\n",
    "print(\"Total feature's accuracy = {a}\".format(a=temp))"
   ]
  },
  {
   "cell_type": "markdown",
   "metadata": {},
   "source": [
    "#### Test correlated"
   ]
  },
  {
   "cell_type": "code",
   "execution_count": 775,
   "metadata": {
    "collapsed": false
   },
   "outputs": [
    {
     "data": {
      "text/plain": [
       "array([False,  True, False, False,  True,  True,  True, False, False,\n",
       "       False, False,  True,  True, False, False, False, False, False,\n",
       "       False, False, False, False, False, False, False, False, False,\n",
       "       False, False, False], dtype=bool)"
      ]
     },
     "execution_count": 775,
     "metadata": {},
     "output_type": "execute_result"
    }
   ],
   "source": [
    "coef_list = []\n",
    "for i in range(tX.shape[1]):\n",
    "    mask = (tX[:, i] != -999)\n",
    "    coef_list.append(np.corrcoef(y[mask], tX[mask, i])[0, 1])\n",
    "    \n",
    "coef_list = np.array(coef_list)\n",
    "index_mask = abs(coef_list) > 0.25\n",
    "index_mask"
   ]
  },
  {
   "cell_type": "code",
   "execution_count": 776,
   "metadata": {
    "collapsed": false
   },
   "outputs": [
    {
     "name": "stdout",
     "output_type": "stream",
     "text": [
      "[ 1  4  5  6 11 12]\n",
      "feature's accuracy = 0.690924\n",
      "feature's accuracy = 0.673844\n",
      "feature's accuracy = 0.67604\n",
      "feature's accuracy = 0.661352\n",
      "feature's accuracy = 0.680808\n",
      "feature's accuracy = 0.669596\n",
      "feature's accuracy = 0.6577\n",
      "feature's accuracy = 0.677004\n",
      "feature's accuracy = 0.655592\n",
      "feature's accuracy = 0.705388\n",
      "Total feature's accuracy = 0.6748248000000001\n"
     ]
    }
   ],
   "source": [
    "feature_used = np.arange(30)[index_mask]\n",
    "print(feature_used)\n",
    "\n",
    "temp = 0\n",
    "for _ in range(10):\n",
    "    w, mean_x, std_x =run(feature_used)\n",
    "    test_set_tX = tX\n",
    "    test_set_y = new_y\n",
    "    test_y, test_tx, _, _= transform_data_3(test_set_y, test_set_tX, features=feature_used, meanx=mean_x, stdx=std_x)\n",
    "    y_pred = prediction(test_tx, w)\n",
    "    acc = accuracy(test_y, y_pred)\n",
    "    print(\"feature's accuracy = {a}\".format(a=acc))\n",
    "    temp = temp + acc\n",
    "\n",
    "temp = temp/10\n",
    "print(\"Total feature's accuracy = {a}\".format(a=temp))"
   ]
  },
  {
   "cell_type": "markdown",
   "metadata": {},
   "source": [
    "## Fill missing value with their mean"
   ]
  },
  {
   "cell_type": "code",
   "execution_count": 924,
   "metadata": {
    "collapsed": false
   },
   "outputs": [],
   "source": [
    "def transform_data_4(y, tx, rows=None, features=None, meanx=None, stdx=None, degree=2):\n",
    "    if rows is None:\n",
    "        rows = np.arange(tx.shape[0])\n",
    "        \n",
    "    if features is None:\n",
    "        features = np.arange(tx.shape[1])\n",
    "    \n",
    "    filled_tx = tx[:, features].copy()\n",
    "    if meanx is None:\n",
    "        for i in range(filled_tx.shape[1]):\n",
    "            icolumn = filled_tx[:, i]\n",
    "            if -999 in icolumn:\n",
    "                filled_tx[icolumn==-999, i] = np.median(icolumn[icolumn!=-999])\n",
    "#                 filled_tx[icolumn==-999, i] = np.mean(icolumn[icolumn!=-999])\n",
    "    else:\n",
    "        for i in range(filled_tx.shape[1]):\n",
    "            icolumn = filled_tx[:, i]\n",
    "            if -999 in icolumn:\n",
    "                filled_tx[icolumn==-999, i] = meanx[i]\n",
    "\n",
    "    new1_tx, mean_x, std_x = standardize(filled_tx[rows, :], meanx, stdx)\n",
    "    new2_tx = build_polynomial(new1_tx, degree)\n",
    "    new3_tx = np.c_[np.ones(new2_tx.shape[0]), new2_tx]\n",
    "    return y, new3_tx, mean_x, std_x\n",
    "\n",
    "def run4(feature_used, degree=2):\n",
    "    train_y, train_tx, mean_x, std_x = transform_data_4(new_y, tX, features=feature_used, degree=degree)\n",
    "    w, loss = sgd_solver(train_y, train_tx, gamma=0.001, batch_size=300, num_iters=5000, num_batches=1500)\n",
    "    return w, mean_x, std_x"
   ]
  },
  {
   "cell_type": "code",
   "execution_count": 917,
   "metadata": {
    "collapsed": false,
    "scrolled": true
   },
   "outputs": [
    {
     "name": "stdout",
     "output_type": "stream",
     "text": [
      "feature's accuracy = 0.7696\n",
      "feature's accuracy = 0.775948\n",
      "feature's accuracy = 0.731004\n",
      "feature's accuracy = 0.775712\n",
      "feature's accuracy = 0.740852\n",
      "feature's accuracy = 0.750304\n",
      "feature's accuracy = 0.724168\n",
      "feature's accuracy = 0.747788\n",
      "feature's accuracy = 0.749508\n",
      "feature's accuracy = 0.763044\n",
      "Total feature's accuracy = 0.7527927999999998\n"
     ]
    }
   ],
   "source": [
    "feature_used = np.arange(30)\n",
    "# MAE with lambda = 1, gamma=0.001, batch_size=300, num_iters=5000, num_batches=1500\n",
    "temp = 0\n",
    "for _ in range(10):\n",
    "    w, mean_x, std_x =run4(feature_used)\n",
    "    test_set_tX = tX\n",
    "    test_set_y = new_y\n",
    "    test_y, test_tx, _, _= transform_data_4(test_set_y, test_set_tX, features=feature_used, meanx=mean_x, stdx=std_x)\n",
    "    y_pred = prediction(test_tx, w)\n",
    "    acc = accuracy(test_y, y_pred)\n",
    "    print(\"feature's accuracy = {a}\".format(a=acc))\n",
    "    temp = temp + acc\n",
    "\n",
    "temp = temp/10\n",
    "print(\"Total feature's accuracy = {a}\".format(a=temp))"
   ]
  },
  {
   "cell_type": "markdown",
   "metadata": {},
   "source": [
    "## All values"
   ]
  },
  {
   "cell_type": "code",
   "execution_count": 410,
   "metadata": {
    "collapsed": false
   },
   "outputs": [],
   "source": [
    "def feature_selection_2(x):\n",
    "    return np.arange(x.shape[1])\n",
    "\n",
    "\n",
    "def transform_data_2(y, tx, rows=None, features=None, meanx=None, stdx=None):\n",
    "    if rows is None:\n",
    "        rows = np.arange(len(y))\n",
    "        \n",
    "    if features is None:\n",
    "        features = np.arange(tx.shape[1])\n",
    "\n",
    "    new1_tx, mean_x, std_x = standardize(tx[np.ix_(rows, features)], meanx, stdx)\n",
    "    new2_tx = build_polynomial(new1_tx, 3)\n",
    "    return y, new2_tx, mean_x, std_x"
   ]
  },
  {
   "cell_type": "code",
   "execution_count": 411,
   "metadata": {
    "collapsed": false
   },
   "outputs": [
    {
     "data": {
      "text/plain": [
       "array([ 0,  1,  2,  3,  4,  5,  6,  7,  8,  9, 10, 11, 12, 13, 14, 15, 16,\n",
       "       17, 18, 19, 20, 21, 22, 23, 24, 25, 26, 27, 28, 29])"
      ]
     },
     "execution_count": 411,
     "metadata": {},
     "output_type": "execute_result"
    }
   ],
   "source": [
    "feature_used = feature_selection_2(tX)\n",
    "feature_used"
   ]
  },
  {
   "cell_type": "code",
   "execution_count": 412,
   "metadata": {
    "collapsed": false
   },
   "outputs": [],
   "source": [
    "train_y, train_tx, mean_x, std_x = transform_data_2(new_y, tX, features=feature_used)"
   ]
  },
  {
   "cell_type": "code",
   "execution_count": 425,
   "metadata": {
    "collapsed": true
   },
   "outputs": [],
   "source": [
    "def sgd_solver(y, tx, gamma, batch_size, num_iters, num_batches=None, shuffle=True):\n",
    "    costs = []\n",
    "    w = np.random.randn(tx.shape[1]) * 0.1 + 0.5\n",
    "    for i, (shuffled_y, shuffled_tx) in enumerate(batch_iter(y, tx, batch_size, num_batches, shuffle)):\n",
    "        w, loss = logistic_regression_GD(shuffled_y, shuffled_tx, 1/(1/gamma+i*2), num_iters, w0=w)\n",
    "        costs.append(loss)\n",
    "        return w, costs"
   ]
  },
  {
   "cell_type": "code",
   "execution_count": 426,
   "metadata": {
    "collapsed": false
   },
   "outputs": [
    {
     "name": "stdout",
     "output_type": "stream",
     "text": [
      "Losgistic Regression(0/2000): loss=-108291.1055679015\n",
      "Losgistic Regression(100/2000): loss=-10283.994634414732\n",
      "Losgistic Regression(200/2000): loss=-10593.23030384723\n",
      "Losgistic Regression(300/2000): loss=-11382.349396347598\n",
      "Losgistic Regression(400/2000): loss=-12195.155719349606\n",
      "Losgistic Regression(500/2000): loss=-12981.603581435262\n",
      "Losgistic Regression(600/2000): loss=-13706.260592720957\n",
      "Losgistic Regression(700/2000): loss=-14367.656382539708\n",
      "Losgistic Regression(800/2000): loss=-14973.067479066423\n",
      "Losgistic Regression(900/2000): loss=-15530.502007445442\n",
      "Losgistic Regression(1000/2000): loss=-16046.943162739497\n",
      "Losgistic Regression(1100/2000): loss=-16528.134277558762\n",
      "Losgistic Regression(1200/2000): loss=-16978.736549989615\n",
      "Losgistic Regression(1300/2000): loss=-17402.542765043294\n",
      "Losgistic Regression(1400/2000): loss=-17802.666194593283\n",
      "Losgistic Regression(1500/2000): loss=-18181.690533389436\n",
      "Losgistic Regression(1600/2000): loss=-18541.784607863516\n",
      "Losgistic Regression(1700/2000): loss=-18884.78914935043\n",
      "Losgistic Regression(1800/2000): loss=-19212.282436486315\n",
      "Losgistic Regression(1900/2000): loss=-19525.63025374402\n"
     ]
    }
   ],
   "source": [
    "w, loss = sgd_solver(train_y, train_tx, gamma=0.001, batch_size=100, num_iters=2000, num_batches=2000)"
   ]
  },
  {
   "cell_type": "code",
   "execution_count": 423,
   "metadata": {
    "collapsed": false
   },
   "outputs": [
    {
     "data": {
      "image/png": "[encoded data removed]",
      "text/plain": [
       "<matplotlib.figure.Figure at 0x110fe6eb8>"
      ]
     },
     "metadata": {},
     "output_type": "display_data"
    }
   ],
   "source": [
    "plt.plot(np.array(loss).T)\n",
    "plt.show()"
   ]
  },
  {
   "cell_type": "code",
   "execution_count": 427,
   "metadata": {
    "collapsed": false
   },
   "outputs": [
    {
     "data": {
      "text/plain": [
       "0.70977999999999997"
      ]
     },
     "execution_count": 427,
     "metadata": {},
     "output_type": "execute_result"
    }
   ],
   "source": [
    "test_set_tX = tX\n",
    "test_set_y = new_y\n",
    "test_y, test_tx, _, _= transform_data_1(test_set_y, test_set_tX, features=feature_used, meanx=mean_x, stdx=std_x)\n",
    "y_pred = prediction(test_tx, w)\n",
    "accuracy(test_y, y_pred)"
   ]
  },
  {
   "cell_type": "code",
   "execution_count": null,
   "metadata": {
    "collapsed": true
   },
   "outputs": [],
   "source": []
  },
  {
   "cell_type": "code",
   "execution_count": 892,
   "metadata": {
    "collapsed": false
   },
   "outputs": [
    {
     "data": {
      "text/plain": [
       "[<matplotlib.lines.Line2D at 0x110567cc0>]"
      ]
     },
     "execution_count": 892,
     "metadata": {},
     "output_type": "execute_result"
    },
    {
     "data": {
      "image/png": "[encoded data removed]",
      "text/plain": [
       "<matplotlib.figure.Figure at 0x118b5fa20>"
      ]
     },
     "metadata": {},
     "output_type": "display_data"
    }
   ],
   "source": [
    "plt.plot(w)"
   ]
  },
  {
   "cell_type": "code",
   "execution_count": 893,
   "metadata": {
    "collapsed": false
   },
   "outputs": [],
   "source": [
    "sparsed_feature = np.arange(len(w))[np.abs(w)>0.02]"
   ]
  },
  {
   "cell_type": "code",
   "execution_count": 894,
   "metadata": {
    "collapsed": false
   },
   "outputs": [
    {
     "name": "stdout",
     "output_type": "stream",
     "text": [
      "feature's accuracy = 0.750152\n",
      "feature's accuracy = 0.711472\n",
      "feature's accuracy = 0.724376\n",
      "feature's accuracy = 0.669664\n",
      "feature's accuracy = 0.723492\n",
      "feature's accuracy = 0.73606\n",
      "feature's accuracy = 0.73358\n",
      "feature's accuracy = 0.74048\n",
      "feature's accuracy = 0.729204\n",
      "feature's accuracy = 0.732848\n",
      "Total feature's accuracy = 0.7251328\n"
     ]
    }
   ],
   "source": [
    "feature_used = sparsed_feature[sparsed_feature<30]\n",
    "\n",
    "temp = 0\n",
    "for _ in range(10):\n",
    "    w, mean_x, std_x =run4(feature_used)\n",
    "    test_set_tX = tX\n",
    "    test_set_y = new_y\n",
    "    test_y, test_tx, _, _= transform_data_4(test_set_y, test_set_tX, features=feature_used, meanx=mean_x, stdx=std_x)\n",
    "    y_pred = prediction(test_tx, w)\n",
    "    acc = accuracy(test_y, y_pred)\n",
    "    print(\"feature's accuracy = {a}\".format(a=acc))\n",
    "    temp = temp + acc\n",
    "\n",
    "temp = temp/10\n",
    "print(\"Total feature's accuracy = {a}\".format(a=temp))"
   ]
  },
  {
   "cell_type": "markdown",
   "metadata": {},
   "source": [
    "# Distribution of data Feature engineering"
   ]
  },
  {
   "cell_type": "code",
   "execution_count": 935,
   "metadata": {
    "collapsed": false
   },
   "outputs": [
    {
     "name": "stdout",
     "output_type": "stream",
     "text": [
      "index 0\n"
     ]
    },
    {
     "data": {
      "image/png": "[encoded data removed]",
      "text/plain": [
       "<matplotlib.figure.Figure at 0x1c35515c0>"
      ]
     },
     "metadata": {},
     "output_type": "display_data"
    },
    {
     "name": "stdout",
     "output_type": "stream",
     "text": [
      "index 1\n"
     ]
    },
    {
     "data": {
      "image/png": "[encoded data removed]",
      "text/plain": [
       "<matplotlib.figure.Figure at 0x1b15bcf28>"
      ]
     },
     "metadata": {},
     "output_type": "display_data"
    },
    {
     "name": "stdout",
     "output_type": "stream",
     "text": [
      "index 2\n"
     ]
    },
    {
     "data": {
      "image/png": "[encoded data removed]",
      "text/plain": [
       "<matplotlib.figure.Figure at 0x1acb1efd0>"
      ]
     },
     "metadata": {},
     "output_type": "display_data"
    },
    {
     "name": "stdout",
     "output_type": "stream",
     "text": [
      "index 3\n"
     ]
    },
    {
     "data": {
      "image/png": "[encoded data removed]",
      "text/plain": [
       "<matplotlib.figure.Figure at 0x1acb1ef98>"
      ]
     },
     "metadata": {},
     "output_type": "display_data"
    },
    {
     "name": "stdout",
     "output_type": "stream",
     "text": [
      "index 4\n"
     ]
    },
    {
     "data": {
      "image/png": "[encoded data removed]",
      "text/plain": [
       "<matplotlib.figure.Figure at 0x1c6074550>"
      ]
     },
     "metadata": {},
     "output_type": "display_data"
    },
    {
     "name": "stdout",
     "output_type": "stream",
     "text": [
      "index 5\n"
     ]
    },
    {
     "data": {
      "image/png": "[encoded data removed]",
      "text/plain": [
       "<matplotlib.figure.Figure at 0x115d6d4e0>"
      ]
     },
     "metadata": {},
     "output_type": "display_data"
    },
    {
     "name": "stdout",
     "output_type": "stream",
     "text": [
      "index 6\n"
     ]
    },
    {
     "data": {
      "image/png": "[encoded data removed]",
      "text/plain": [
       "<matplotlib.figure.Figure at 0x110053668>"
      ]
     },
     "metadata": {},
     "output_type": "display_data"
    },
    {
     "name": "stdout",
     "output_type": "stream",
     "text": [
      "index 7\n"
     ]
    },
    {
     "data": {
      "image/png": "[encoded data removed]",
      "text/plain": [
       "<matplotlib.figure.Figure at 0x1c80d5470>"
      ]
     },
     "metadata": {},
     "output_type": "display_data"
    },
    {
     "name": "stdout",
     "output_type": "stream",
     "text": [
      "index 8\n"
     ]
    },
    {
     "data": {
      "image/png": "[encoded data removed]",
      "text/plain": [
       "<matplotlib.figure.Figure at 0x1ca6200f0>"
      ]
     },
     "metadata": {},
     "output_type": "display_data"
    },
    {
     "name": "stdout",
     "output_type": "stream",
     "text": [
      "index 9\n"
     ]
    },
    {
     "data": {
      "image/png": "[encoded data removed]",
      "text/plain": [
       "<matplotlib.figure.Figure at 0x11058ce10>"
      ]
     },
     "metadata": {},
     "output_type": "display_data"
    },
    {
     "name": "stdout",
     "output_type": "stream",
     "text": [
      "index 10\n"
     ]
    },
    {
     "data": {
      "image/png": "[encoded data removed]",
      "text/plain": [
       "<matplotlib.figure.Figure at 0x1b15c8dd8>"
      ]
     },
     "metadata": {},
     "output_type": "display_data"
    },
    {
     "name": "stdout",
     "output_type": "stream",
     "text": [
      "index 11\n"
     ]
    },
    {
     "data": {
      "image/png": "[encoded data removed]",
      "text/plain": [
       "<matplotlib.figure.Figure at 0x1cb867d68>"
      ]
     },
     "metadata": {},
     "output_type": "display_data"
    },
    {
     "name": "stdout",
     "output_type": "stream",
     "text": [
      "index 12\n"
     ]
    },
    {
     "data": {
      "image/png": "[encoded data removed]",
      "text/plain": [
       "<matplotlib.figure.Figure at 0x1b15bdd30>"
      ]
     },
     "metadata": {},
     "output_type": "display_data"
    },
    {
     "name": "stdout",
     "output_type": "stream",
     "text": [
      "index 13\n"
     ]
    },
    {
     "data": {
      "image/png": "[encoded data removed]",
      "text/plain": [
       "<matplotlib.figure.Figure at 0x1c0128f28>"
      ]
     },
     "metadata": {},
     "output_type": "display_data"
    },
    {
     "name": "stdout",
     "output_type": "stream",
     "text": [
      "index 14\n"
     ]
    },
    {
     "data": {
      "image/png": "[encoded data removed]",
      "text/plain": [
       "<matplotlib.figure.Figure at 0x110c458d0>"
      ]
     },
     "metadata": {},
     "output_type": "display_data"
    },
    {
     "name": "stdout",
     "output_type": "stream",
     "text": [
      "index 15\n"
     ]
    },
    {
     "data": {
      "image/png": "[encoded data removed]",
      "text/plain": [
       "<matplotlib.figure.Figure at 0x1c00fdba8>"
      ]
     },
     "metadata": {},
     "output_type": "display_data"
    },
    {
     "name": "stdout",
     "output_type": "stream",
     "text": [
      "index 16\n"
     ]
    },
    {
     "data": {
      "image/png": "[encoded data removed]",
      "text/plain": [
       "<matplotlib.figure.Figure at 0x1c01284e0>"
      ]
     },
     "metadata": {},
     "output_type": "display_data"
    },
    {
     "name": "stdout",
     "output_type": "stream",
     "text": [
      "index 17\n"
     ]
    },
    {
     "data": {
      "image/png": "[encoded data removed]",
      "text/plain": [
       "<matplotlib.figure.Figure at 0x1c80ba208>"
      ]
     },
     "metadata": {},
     "output_type": "display_data"
    },
    {
     "name": "stdout",
     "output_type": "stream",
     "text": [
      "index 18\n"
     ]
    },
    {
     "data": {
      "image/png": "[encoded data removed]",
      "text/plain": [
       "<matplotlib.figure.Figure at 0x1cb877908>"
      ]
     },
     "metadata": {},
     "output_type": "display_data"
    },
    {
     "name": "stdout",
     "output_type": "stream",
     "text": [
      "index 19\n"
     ]
    },
    {
     "data": {
      "image/png": "[encoded data removed]",
      "text/plain": [
       "<matplotlib.figure.Figure at 0x1b0342cc0>"
      ]
     },
     "metadata": {},
     "output_type": "display_data"
    },
    {
     "name": "stdout",
     "output_type": "stream",
     "text": [
      "index 20\n"
     ]
    },
    {
     "data": {
      "image/png": "[encoded data removed]",
      "text/plain": [
       "<matplotlib.figure.Figure at 0x1ccb57c18>"
      ]
     },
     "metadata": {},
     "output_type": "display_data"
    },
    {
     "name": "stdout",
     "output_type": "stream",
     "text": [
      "index 21\n"
     ]
    },
    {
     "data": {
      "image/png": "[encoded data removed]",
      "text/plain": [
       "<matplotlib.figure.Figure at 0x1c0fda400>"
      ]
     },
     "metadata": {},
     "output_type": "display_data"
    },
    {
     "name": "stdout",
     "output_type": "stream",
     "text": [
      "index 22\n"
     ]
    },
    {
     "data": {
      "image/png": "[encoded data removed]",
      "text/plain": [
       "<matplotlib.figure.Figure at 0x1bd80e550>"
      ]
     },
     "metadata": {},
     "output_type": "display_data"
    },
    {
     "name": "stdout",
     "output_type": "stream",
     "text": [
      "index 23\n"
     ]
    },
    {
     "data": {
      "image/png": "[encoded data removed]",
      "text/plain": [
       "<matplotlib.figure.Figure at 0x1af09e0f0>"
      ]
     },
     "metadata": {},
     "output_type": "display_data"
    },
    {
     "name": "stdout",
     "output_type": "stream",
     "text": [
      "index 24\n"
     ]
    },
    {
     "data": {
      "image/png": "[encoded data removed]",
      "text/plain": [
       "<matplotlib.figure.Figure at 0x1acb30320>"
      ]
     },
     "metadata": {},
     "output_type": "display_data"
    },
    {
     "name": "stdout",
     "output_type": "stream",
     "text": [
      "index 25\n"
     ]
    },
    {
     "data": {
      "image/png": "[encoded data removed]",
      "text/plain": [
       "<matplotlib.figure.Figure at 0x11056e8d0>"
      ]
     },
     "metadata": {},
     "output_type": "display_data"
    },
    {
     "name": "stdout",
     "output_type": "stream",
     "text": [
      "index 26\n"
     ]
    },
    {
     "data": {
      "image/png": "[encoded data removed]",
      "text/plain": [
       "<matplotlib.figure.Figure at 0x1c80e70b8>"
      ]
     },
     "metadata": {},
     "output_type": "display_data"
    },
    {
     "name": "stdout",
     "output_type": "stream",
     "text": [
      "index 27\n"
     ]
    },
    {
     "data": {
      "image/png": "[encoded data removed]",
      "text/plain": [
       "<matplotlib.figure.Figure at 0x1acb1f518>"
      ]
     },
     "metadata": {},
     "output_type": "display_data"
    },
    {
     "name": "stdout",
     "output_type": "stream",
     "text": [
      "index 28\n"
     ]
    },
    {
     "data": {
      "image/png": "[encoded data removed]",
      "text/plain": [
       "<matplotlib.figure.Figure at 0x110567c88>"
      ]
     },
     "metadata": {},
     "output_type": "display_data"
    },
    {
     "name": "stdout",
     "output_type": "stream",
     "text": [
      "index 29\n"
     ]
    },
    {
     "data": {
      "image/png": "[encoded data removed]",
      "text/plain": [
       "<matplotlib.figure.Figure at 0x1c80cc320>"
      ]
     },
     "metadata": {},
     "output_type": "display_data"
    }
   ],
   "source": [
    "for i in range(30):\n",
    "    temp = tX[:, i]\n",
    "    print(\"index {i}\".format(i=i))\n",
    "    plt.hist(temp[temp!=-999], bins=100)\n",
    "    plt.show()"
   ]
  },
  {
   "cell_type": "markdown",
   "metadata": {},
   "source": [
    "## We pay attention to those not like normal distribution"
   ]
  },
  {
   "cell_type": "code",
   "execution_count": 1022,
   "metadata": {
    "collapsed": false
   },
   "outputs": [
    {
     "name": "stdout",
     "output_type": "stream",
     "text": [
      "min of temp = 0.000000\n",
      "index 1\n"
     ]
    },
    {
     "data": {
      "image/png": "[encoded data removed]",
      "text/plain": [
       "<matplotlib.figure.Figure at 0x1c0121128>"
      ]
     },
     "metadata": {},
     "output_type": "display_data"
    },
    {
     "data": {
      "image/png": "[encoded data removed]",
      "text/plain": [
       "<matplotlib.figure.Figure at 0x1c0fda160>"
      ]
     },
     "metadata": {},
     "output_type": "display_data"
    }
   ],
   "source": [
    "i = 1\n",
    "temp = tX[:, i]\n",
    "print(\"min of temp = %f\" % np.min(temp))\n",
    "print(\"index {i}\".format(i=i))\n",
    "plt.figure()\n",
    "plt.hist((temp[temp!=-999]+1e-6*(np.max(temp)-np.min(temp))), bins=100)\n",
    "plt.figure()\n",
    "plt.hist(np.log(temp[temp!=-999]+1e-6*(np.max(temp)-np.min(temp))), bins=100)\n",
    "plt.show()"
   ]
  },
  {
   "cell_type": "code",
   "execution_count": 1018,
   "metadata": {
    "collapsed": false
   },
   "outputs": [
    {
     "name": "stdout",
     "output_type": "stream",
     "text": [
      "min of temp = 0.000000\n",
      "index 3\n"
     ]
    },
    {
     "data": {
      "image/png": "[encoded data removed]",
      "text/plain": [
       "<matplotlib.figure.Figure at 0x1b15be4e0>"
      ]
     },
     "metadata": {},
     "output_type": "display_data"
    },
    {
     "data": {
      "image/png": "[encoded data removed]",
      "text/plain": [
       "<matplotlib.figure.Figure at 0x1b15b6f28>"
      ]
     },
     "metadata": {},
     "output_type": "display_data"
    }
   ],
   "source": [
    "i = 3\n",
    "temp = tX[:, i]\n",
    "print(\"min of temp = %f\" % np.min(temp))\n",
    "print(\"index {i}\".format(i=i))\n",
    "plt.figure()\n",
    "plt.hist((temp[temp!=-999]+1e-6*(np.max(temp)-np.min(temp))), bins=100)\n",
    "plt.figure()\n",
    "plt.hist(np.log(temp[temp!=-999]+1e-6*(np.max(temp)-np.min(temp))), bins=100)\n",
    "plt.show()"
   ]
  },
  {
   "cell_type": "code",
   "execution_count": 960,
   "metadata": {
    "collapsed": false
   },
   "outputs": [
    {
     "name": "stdout",
     "output_type": "stream",
     "text": [
      "min of temp = 13.602000\n",
      "index 5\n"
     ]
    },
    {
     "data": {
      "image/png": "[encoded data removed]",
      "text/plain": [
       "<matplotlib.figure.Figure at 0x1cb861d30>"
      ]
     },
     "metadata": {},
     "output_type": "display_data"
    },
    {
     "data": {
      "image/png": "[encoded data removed]",
      "text/plain": [
       "<matplotlib.figure.Figure at 0x1c934d4a8>"
      ]
     },
     "metadata": {},
     "output_type": "display_data"
    }
   ],
   "source": [
    "i = 5\n",
    "temp = tX[:, i]\n",
    "print(\"min of temp = %f\" % np.min(temp[temp!=-999]))\n",
    "print(\"index {i}\".format(i=i))\n",
    "plt.figure()\n",
    "plt.hist((temp[temp!=-999]+1e-6*(np.max(temp)-np.min(temp))), bins=100)\n",
    "plt.figure()\n",
    "plt.hist(np.log(temp[temp!=-999]+1e-6*(np.max(temp)-np.min(temp))), bins=100)\n",
    "plt.show()"
   ]
  },
  {
   "cell_type": "code",
   "execution_count": 965,
   "metadata": {
    "collapsed": false
   },
   "outputs": [
    {
     "name": "stdout",
     "output_type": "stream",
     "text": [
      "min of temp = 0.000000\n",
      "index 8\n"
     ]
    },
    {
     "data": {
      "image/png": "[encoded data removed]",
      "text/plain": [
       "<matplotlib.figure.Figure at 0x1cb87beb8>"
      ]
     },
     "metadata": {},
     "output_type": "display_data"
    },
    {
     "data": {
      "image/png": "[encoded data removed]",
      "text/plain": [
       "<matplotlib.figure.Figure at 0x1c010d710>"
      ]
     },
     "metadata": {},
     "output_type": "display_data"
    }
   ],
   "source": [
    "i = 8\n",
    "temp = tX[:, i]\n",
    "print(\"min of temp = %f\" % np.min(temp[temp!=-999]))\n",
    "print(\"index {i}\".format(i=i))\n",
    "plt.figure()\n",
    "plt.hist((temp[temp!=-999]+1e-6*(np.max(temp)-np.min(temp))), bins=100)\n",
    "plt.figure()\n",
    "plt.hist(np.log(temp[temp!=-999]+1e-6*(np.max(temp)-np.min(temp))), bins=100)\n",
    "plt.show()"
   ]
  },
  {
   "cell_type": "code",
   "execution_count": 967,
   "metadata": {
    "collapsed": false
   },
   "outputs": [
    {
     "name": "stdout",
     "output_type": "stream",
     "text": [
      "min of temp = 46.104000\n",
      "index 9\n"
     ]
    },
    {
     "data": {
      "image/png": "[encoded data removed]",
      "text/plain": [
       "<matplotlib.figure.Figure at 0x1b4898ef0>"
      ]
     },
     "metadata": {},
     "output_type": "display_data"
    },
    {
     "data": {
      "image/png": "[encoded data removed]",
      "text/plain": [
       "<matplotlib.figure.Figure at 0x1c63e9d30>"
      ]
     },
     "metadata": {},
     "output_type": "display_data"
    }
   ],
   "source": [
    "i = 9\n",
    "temp = tX[:, i]\n",
    "print(\"min of temp = %f\" % np.min(temp[temp!=-999]))\n",
    "print(\"index {i}\".format(i=i))\n",
    "plt.figure()\n",
    "plt.hist((temp[temp!=-999]+1e-6*(np.max(temp)-np.min(temp))), bins=100)\n",
    "plt.figure()\n",
    "plt.hist(np.log(temp[temp!=-999]+1e-6*(np.max(temp)-np.min(temp))), bins=100)\n",
    "plt.show()"
   ]
  },
  {
   "cell_type": "code",
   "execution_count": 976,
   "metadata": {
    "collapsed": false
   },
   "outputs": [
    {
     "name": "stdout",
     "output_type": "stream",
     "text": [
      "min of temp = -1.414000\n",
      "index 11\n"
     ]
    },
    {
     "data": {
      "image/png": "[encoded data removed]",
      "text/plain": [
       "<matplotlib.figure.Figure at 0x1c4ba06a0>"
      ]
     },
     "metadata": {},
     "output_type": "display_data"
    }
   ],
   "source": [
    "i = 11\n",
    "temp = tX[:, i]\n",
    "print(\"min of temp = %f\" % np.min(temp[temp!=-999]))\n",
    "print(\"index {i}\".format(i=i))\n",
    "plt.figure()\n",
    "plt.hist((temp[temp!=-999]+1e-6*(np.max(temp)-np.min(temp))), bins=100)\n",
    "plt.show()"
   ]
  },
  {
   "cell_type": "code",
   "execution_count": 977,
   "metadata": {
    "collapsed": false
   },
   "outputs": [
    {
     "name": "stdout",
     "output_type": "stream",
     "text": [
      "min of temp = 0.000000\n",
      "index 12\n"
     ]
    },
    {
     "data": {
      "image/png": "[encoded data removed]",
      "text/plain": [
       "<matplotlib.figure.Figure at 0x1c0fae5f8>"
      ]
     },
     "metadata": {},
     "output_type": "display_data"
    }
   ],
   "source": [
    "i = 12\n",
    "temp = tX[:, i]\n",
    "print(\"min of temp = %f\" % np.min(temp[temp!=-999]))\n",
    "print(\"index {i}\".format(i=i))\n",
    "plt.figure()\n",
    "plt.hist((temp[temp!=-999]+1e-6*(np.max(temp)-np.min(temp))), bins=100)\n",
    "plt.show()"
   ]
  },
  {
   "cell_type": "code",
   "execution_count": 979,
   "metadata": {
    "collapsed": false
   },
   "outputs": [
    {
     "name": "stdout",
     "output_type": "stream",
     "text": [
      "min of temp = 20.000000\n",
      "index 13\n"
     ]
    },
    {
     "data": {
      "image/png": "[encoded data removed]",
      "text/plain": [
       "<matplotlib.figure.Figure at 0x1105b12e8>"
      ]
     },
     "metadata": {},
     "output_type": "display_data"
    },
    {
     "data": {
      "image/png": "[encoded data removed]",
      "text/plain": [
       "<matplotlib.figure.Figure at 0x1105c2b38>"
      ]
     },
     "metadata": {},
     "output_type": "display_data"
    }
   ],
   "source": [
    "i = 13\n",
    "temp = tX[:, i]\n",
    "print(\"min of temp = %f\" % np.min(temp[temp!=-999]))\n",
    "print(\"index {i}\".format(i=i))\n",
    "plt.figure()\n",
    "plt.hist((temp[temp!=-999]+1e-6*(np.max(temp)-np.min(temp))), bins=100)\n",
    "plt.figure()\n",
    "plt.hist(np.log(temp[temp!=-999]+1e-6*(np.max(temp)-np.min(temp))), bins=100)\n",
    "plt.show()"
   ]
  },
  {
   "cell_type": "code",
   "execution_count": 987,
   "metadata": {
    "collapsed": false
   },
   "outputs": [
    {
     "name": "stdout",
     "output_type": "stream",
     "text": [
      "min of temp = 26.000000\n",
      "index 16\n"
     ]
    },
    {
     "data": {
      "image/png": "[encoded data removed]",
      "text/plain": [
       "<matplotlib.figure.Figure at 0x1c00ffda0>"
      ]
     },
     "metadata": {},
     "output_type": "display_data"
    },
    {
     "data": {
      "image/png": "[encoded data removed]",
      "text/plain": [
       "<matplotlib.figure.Figure at 0x1d1910400>"
      ]
     },
     "metadata": {},
     "output_type": "display_data"
    }
   ],
   "source": [
    "i = 16\n",
    "temp = tX[:, i]\n",
    "print(\"min of temp = %f\" % np.min(temp[temp!=-999]))\n",
    "print(\"index {i}\".format(i=i))\n",
    "plt.figure()\n",
    "plt.hist((temp[temp!=-999]+1e-6*(np.max(temp)-np.min(temp))), bins=100)\n",
    "plt.figure()\n",
    "plt.hist(np.log(temp[temp!=-999]+1e-6*(np.max(temp)-np.min(temp))), bins=100)\n",
    "plt.show()"
   ]
  },
  {
   "cell_type": "code",
   "execution_count": 992,
   "metadata": {
    "collapsed": false
   },
   "outputs": [
    {
     "name": "stdout",
     "output_type": "stream",
     "text": [
      "min of temp = 0.109000\n",
      "index 19\n"
     ]
    },
    {
     "data": {
      "image/png": "[encoded data removed]",
      "text/plain": [
       "<matplotlib.figure.Figure at 0x11059d518>"
      ]
     },
     "metadata": {},
     "output_type": "display_data"
    },
    {
     "data": {
      "image/png": "[encoded data removed]",
      "text/plain": [
       "<matplotlib.figure.Figure at 0x1a973a748>"
      ]
     },
     "metadata": {},
     "output_type": "display_data"
    }
   ],
   "source": [
    "i = 19\n",
    "temp = tX[:, i]\n",
    "print(\"min of temp = %f\" % np.min(temp[temp!=-999]))\n",
    "print(\"index {i}\".format(i=i))\n",
    "plt.figure()\n",
    "plt.hist((temp[temp!=-999]+1e-6*(np.max(temp)-np.min(temp))), bins=100)\n",
    "plt.figure()\n",
    "plt.hist(np.log(temp[temp!=-999]+1e-6*(np.max(temp)-np.min(temp))), bins=100)\n",
    "plt.show()"
   ]
  },
  {
   "cell_type": "code",
   "execution_count": 995,
   "metadata": {
    "collapsed": false
   },
   "outputs": [
    {
     "name": "stdout",
     "output_type": "stream",
     "text": [
      "min of temp = 0.000000\n",
      "index 22\n"
     ]
    },
    {
     "data": {
      "image/png": "[encoded data removed]",
      "text/plain": [
       "<matplotlib.figure.Figure at 0x1c356cb00>"
      ]
     },
     "metadata": {},
     "output_type": "display_data"
    }
   ],
   "source": [
    "i = 22\n",
    "temp = tX[:, i]\n",
    "print(\"min of temp = %f\" % np.min(temp[temp!=-999]))\n",
    "print(\"index {i}\".format(i=i))\n",
    "plt.figure()\n",
    "plt.hist((temp[temp!=-999]+1e-6*(np.max(temp)-np.min(temp))), bins=100)\n",
    "# plt.figure()\n",
    "# plt.hist(np.log(temp[temp!=-999]+1e-6*(np.max(temp)-np.min(temp))), bins=100)\n",
    "plt.show()"
   ]
  },
  {
   "cell_type": "code",
   "execution_count": 997,
   "metadata": {
    "collapsed": false
   },
   "outputs": [
    {
     "name": "stdout",
     "output_type": "stream",
     "text": [
      "min of temp = 30.000000\n",
      "index 23\n"
     ]
    },
    {
     "data": {
      "image/png": "[encoded data removed]",
      "text/plain": [
       "<matplotlib.figure.Figure at 0x1d68be6a0>"
      ]
     },
     "metadata": {},
     "output_type": "display_data"
    },
    {
     "data": {
      "image/png": "[encoded data removed]",
      "text/plain": [
       "<matplotlib.figure.Figure at 0x1d064f438>"
      ]
     },
     "metadata": {},
     "output_type": "display_data"
    }
   ],
   "source": [
    "i = 23\n",
    "temp = tX[:, i]\n",
    "print(\"min of temp = %f\" % np.min(temp[temp!=-999]))\n",
    "print(\"index {i}\".format(i=i))\n",
    "plt.figure()\n",
    "plt.hist((temp[temp!=-999]+1e-6*(np.max(temp)-np.min(temp))), bins=100)\n",
    "plt.figure()\n",
    "plt.hist(np.log(temp[temp!=-999]+1e-6*(np.max(temp)-np.min(temp))), bins=100)\n",
    "plt.show()"
   ]
  },
  {
   "cell_type": "code",
   "execution_count": 1002,
   "metadata": {
    "collapsed": false
   },
   "outputs": [
    {
     "name": "stdout",
     "output_type": "stream",
     "text": [
      "min of temp = 30.000000\n",
      "index 26\n"
     ]
    },
    {
     "data": {
      "image/png": "[encoded data removed]",
      "text/plain": [
       "<matplotlib.figure.Figure at 0x1c353de80>"
      ]
     },
     "metadata": {},
     "output_type": "display_data"
    },
    {
     "data": {
      "image/png": "[encoded data removed]",
      "text/plain": [
       "<matplotlib.figure.Figure at 0x1c6060d68>"
      ]
     },
     "metadata": {},
     "output_type": "display_data"
    }
   ],
   "source": [
    "i = 26\n",
    "temp = tX[:, i]\n",
    "print(\"min of temp = %f\" % np.min(temp[temp!=-999]))\n",
    "print(\"index {i}\".format(i=i))\n",
    "plt.figure()\n",
    "plt.hist((temp[temp!=-999]+1e-6*(np.max(temp)-np.min(temp))), bins=100)\n",
    "plt.figure()\n",
    "plt.hist(np.log(temp[temp!=-999]+1e-6*(np.max(temp)-np.min(temp))), bins=100)\n",
    "plt.show()"
   ]
  },
  {
   "cell_type": "code",
   "execution_count": 1007,
   "metadata": {
    "collapsed": false
   },
   "outputs": [
    {
     "name": "stdout",
     "output_type": "stream",
     "text": [
      "min of temp = 0.000000\n",
      "index 29\n"
     ]
    },
    {
     "data": {
      "image/png": "[encoded data removed]",
      "text/plain": [
       "<matplotlib.figure.Figure at 0x1c80ca080>"
      ]
     },
     "metadata": {},
     "output_type": "display_data"
    },
    {
     "data": {
      "image/png": "[encoded data removed]",
      "text/plain": [
       "<matplotlib.figure.Figure at 0x1c3547d68>"
      ]
     },
     "metadata": {},
     "output_type": "display_data"
    }
   ],
   "source": [
    "i = 29\n",
    "temp = tX[:, i]\n",
    "print(\"min of temp = %f\" % np.min(temp[temp!=-999]))\n",
    "print(\"index {i}\".format(i=i))\n",
    "plt.figure()\n",
    "plt.hist((temp[temp!=-999]+1e-6*(np.max(temp)-np.min(temp))), bins=100)\n",
    "# plt.figure()\n",
    "# plt.hist(np.log(temp[temp!=-999]+1e-6*(np.max(temp)-np.min(temp))), bins=100)\n",
    "plt.show()"
   ]
  },
  {
   "cell_type": "markdown",
   "metadata": {},
   "source": [
    "## Feature Engineering"
   ]
  },
  {
   "cell_type": "markdown",
   "metadata": {},
   "source": [
    "#### logrithm\n",
    "Take log for each none -999 term and then "
   ]
  },
  {
   "cell_type": "code",
   "execution_count": 1032,
   "metadata": {
    "collapsed": true
   },
   "outputs": [],
   "source": [
    "log_features = [1, 3, 4, 5, 8, 9, 13, 16, 19, 23, 26, 29]\n",
    "normal_features = [0, 2, 6, 7, 10, 14, 17, 21, 24, 27]\n",
    "uniform_feature = [15, 18, 20, 25, 28]\n",
    "# two side are large\n",
    "bernoulli_feature = [11, 12]\n",
    "categorical_features = [22]"
   ]
  },
  {
   "cell_type": "code",
   "execution_count": 1033,
   "metadata": {
    "collapsed": false
   },
   "outputs": [
    {
     "data": {
      "text/plain": [
       "30"
      ]
     },
     "execution_count": 1033,
     "metadata": {},
     "output_type": "execute_result"
    }
   ],
   "source": [
    "len(log_features) + len(normal_features) + len(uniform_feature) + len(bernoulli_feature) + len(categorical_features)"
   ]
  },
  {
   "cell_type": "code",
   "execution_count": 1045,
   "metadata": {
    "collapsed": true
   },
   "outputs": [],
   "source": [
    "a = np.array([[1,2],[2,3]])\n",
    "b = a[:, 1]"
   ]
  },
  {
   "cell_type": "code",
   "execution_count": 1073,
   "metadata": {
    "collapsed": false
   },
   "outputs": [
    {
     "data": {
      "text/plain": [
       "array([[ 0.59675204,  0.0212218 ],\n",
       "       [ 0.38353882,  0.26717709]])"
      ]
     },
     "execution_count": 1073,
     "metadata": {},
     "output_type": "execute_result"
    }
   ],
   "source": [
    "np.random.uniform(0.0, 1.0, (2,2))"
   ]
  },
  {
   "cell_type": "code",
   "execution_count": 1076,
   "metadata": {
    "collapsed": false
   },
   "outputs": [
    {
     "data": {
      "text/plain": [
       "array([0, 1, 2, 3])"
      ]
     },
     "execution_count": 1076,
     "metadata": {},
     "output_type": "execute_result"
    }
   ],
   "source": [
    "a[:] = np.random.uniform(1.0, 2.0, (2,2))\n",
    "a = np.arange(4)\n",
    "a"
   ]
  },
  {
   "cell_type": "code",
   "execution_count": 1090,
   "metadata": {
    "collapsed": false
   },
   "outputs": [
    {
     "data": {
      "text/plain": [
       "array([4, 2, 2, 4])"
      ]
     },
     "execution_count": 1090,
     "metadata": {},
     "output_type": "execute_result"
    }
   ],
   "source": [
    "a[:] = np.random.choice([7, 2,2,7, 3, 4, 2,2,2,2,3,4], 4, replace=True)\n",
    "a"
   ]
  },
  {
   "cell_type": "code",
   "execution_count": 1121,
   "metadata": {
    "collapsed": true
   },
   "outputs": [],
   "source": [
    "def transform_data_5(y, tx, rows=None, meanx=None, stdx=None, degree=2):\n",
    "    if rows is None:\n",
    "        rows = np.arange(tx.shape[0])\n",
    "        \n",
    "    new_tx = tx.copy()\n",
    "    for i in log_features:\n",
    "        temp = new_tx[:, i]\n",
    "        \n",
    "        temp[temp!=-999] = np.log(temp[temp!=-999] + 1e-10)\n",
    "#         r = np.random.randn(l)*np.std(non_missing_range) + np.mean(non_missing_range)\n",
    "#         if -999 in temp:\n",
    "#             temp[temp==-999] = np.mean(temp[temp!=-999])\n",
    "        new_tx[:, i] = temp\n",
    "        \n",
    "#     for i in uniform_feature:\n",
    "#         temp = new_tx[:, i]\n",
    "#         if -999 in temp:\n",
    "#             non_missing_range = temp[temp!=-999]\n",
    "#             r = np.random.uniform(low=np.min(non_missing_range), high=np.max(non_missing_range), \n",
    "#                                   len(temp[temp==-999]))\n",
    "#             temp[temp==-999] = r\n",
    "#         new_tx[:, i] = temp\n",
    "        \n",
    "#     for i in normal_features:\n",
    "#         temp = new_tx[:, i]\n",
    "#         if -999 in temp:\n",
    "#             non_missing_range = temp[temp!=-999]\n",
    "#             l = len(temp[temp==-999])\n",
    "#             r = np.random.randn(l)*np.std(non_missing_range) + np.mean(non_missing_range)\n",
    "#             temp[temp==-999] = r\n",
    "#         new_tx[:, i] = temp\n",
    "\n",
    "    for i in range(30):\n",
    "        temp = new_tx[:, i]\n",
    "        temp[temp==-999] = np.random.choice(temp[temp!=-999], len(temp[temp==-999]),replace=True)\n",
    "        new_tx[:, i] = temp\n",
    "\n",
    "#     if meanx is None:\n",
    "#         for i in range(filled_tx.shape[1]):\n",
    "#             icolumn = filled_tx[:, i]\n",
    "#             if -999 in icolumn:\n",
    "#                 filled_tx[icolumn==-999, i] = np.median(icolumn[icolumn!=-999])\n",
    "# #                 filled_tx[icolumn==-999, i] = np.mean(icolumn[icolumn!=-999])\n",
    "#     else:\n",
    "#         for i in range(filled_tx.shape[1]):\n",
    "#             icolumn = filled_tx[:, i]\n",
    "#             if -999 in icolumn:\n",
    "#                 filled_tx[icolumn==-999, i] = meanx[i]\n",
    "\n",
    "    new1_tx, mean_x, std_x = standardize(new_tx[rows, :], meanx, stdx)\n",
    "    new2_tx = build_polynomial(new1_tx, degree)\n",
    "    new3_tx = np.c_[np.ones(new2_tx.shape[0]), new2_tx]\n",
    "    return y, new3_tx, mean_x, std_x\n",
    "\n",
    "def run5(feature_used, degree=2):\n",
    "    train_y, train_tx, mean_x, std_x = transform_data_5(new_y, tX, degree=degree)\n",
    "    w, loss = sgd_solver(train_y, train_tx, gamma=0.0001, batch_size=300, num_iters=50000, num_batches=1500)\n",
    "    return w, mean_x, std_x"
   ]
  },
  {
   "cell_type": "code",
   "execution_count": 1122,
   "metadata": {
    "collapsed": false
   },
   "outputs": [],
   "source": [
    "train_y, train_tx, mean_x, std_x = transform_data_5(new_y, tX, degree=2)"
   ]
  },
  {
   "cell_type": "code",
   "execution_count": 1123,
   "metadata": {
    "collapsed": false
   },
   "outputs": [
    {
     "ename": "TypeError",
     "evalue": "only integer arrays with one element can be converted to an index",
     "output_type": "error",
     "traceback": [
      "\u001b[0;31m---------------------------------------------------------------------------\u001b[0m",
      "\u001b[0;31mTypeError\u001b[0m                                 Traceback (most recent call last)",
      "\u001b[0;32m<ipython-input-1123-6770e3412a0a>\u001b[0m in \u001b[0;36m<module>\u001b[0;34m()\u001b[0m\n\u001b[0;32m----> 1\u001b[0;31m \u001b[0;32mfor\u001b[0m \u001b[0mi\u001b[0m \u001b[0;32min\u001b[0m \u001b[0mrange\u001b[0m\u001b[0;34m(\u001b[0m\u001b[0mtrain_tx\u001b[0m\u001b[0;34m)\u001b[0m\u001b[0;34m:\u001b[0m\u001b[0;34m\u001b[0m\u001b[0m\n\u001b[0m\u001b[1;32m      2\u001b[0m     \u001b[0mtemp\u001b[0m \u001b[0;34m=\u001b[0m \u001b[0mtrain_tx\u001b[0m\u001b[0;34m[\u001b[0m\u001b[0;34m:\u001b[0m\u001b[0;34m,\u001b[0m \u001b[0mi\u001b[0m\u001b[0;34m]\u001b[0m\u001b[0;34m\u001b[0m\u001b[0m\n\u001b[1;32m      3\u001b[0m     \u001b[0mprint\u001b[0m\u001b[0;34m(\u001b[0m\u001b[0;34m\"index {i}\"\u001b[0m\u001b[0;34m.\u001b[0m\u001b[0mformat\u001b[0m\u001b[0;34m(\u001b[0m\u001b[0mi\u001b[0m\u001b[0;34m=\u001b[0m\u001b[0mi\u001b[0m\u001b[0;34m)\u001b[0m\u001b[0;34m)\u001b[0m\u001b[0;34m\u001b[0m\u001b[0m\n\u001b[1;32m      4\u001b[0m     \u001b[0mplt\u001b[0m\u001b[0;34m.\u001b[0m\u001b[0mhist\u001b[0m\u001b[0;34m(\u001b[0m\u001b[0mtemp\u001b[0m\u001b[0;34m[\u001b[0m\u001b[0mtemp\u001b[0m\u001b[0;34m!=\u001b[0m\u001b[0;34m-\u001b[0m\u001b[0;36m999\u001b[0m\u001b[0;34m]\u001b[0m\u001b[0;34m,\u001b[0m \u001b[0mbins\u001b[0m\u001b[0;34m=\u001b[0m\u001b[0;36m100\u001b[0m\u001b[0;34m)\u001b[0m\u001b[0;34m\u001b[0m\u001b[0m\n\u001b[1;32m      5\u001b[0m     \u001b[0mplt\u001b[0m\u001b[0;34m.\u001b[0m\u001b[0mshow\u001b[0m\u001b[0;34m(\u001b[0m\u001b[0;34m)\u001b[0m\u001b[0;34m\u001b[0m\u001b[0m\n",
      "\u001b[0;31mTypeError\u001b[0m: only integer arrays with one element can be converted to an index"
     ]
    }
   ],
   "source": [
    "for i in range(train_tx):\n",
    "    temp = train_tx[:, i]\n",
    "    print(\"index {i}\".format(i=i))\n",
    "    plt.hist(temp[temp!=-999], bins=100)\n",
    "    plt.show()"
   ]
  },
  {
   "cell_type": "code",
   "execution_count": 1124,
   "metadata": {
    "collapsed": false
   },
   "outputs": [
    {
     "name": "stdout",
     "output_type": "stream",
     "text": [
      "feature's accuracy = 0.731644\n",
      "feature's accuracy = 0.734056\n",
      "feature's accuracy = 0.738028\n",
      "feature's accuracy = 0.762892\n",
      "feature's accuracy = 0.746744\n",
      "feature's accuracy = 0.738752\n",
      "feature's accuracy = 0.740816\n",
      "feature's accuracy = 0.755268\n",
      "feature's accuracy = 0.76744\n",
      "feature's accuracy = 0.752588\n",
      "Total feature's accuracy = 0.7468228\n"
     ]
    }
   ],
   "source": [
    "feature_used = np.arange(30)\n",
    "# MAE with lambda = 1, gamma=0.001, batch_size=300, num_iters=5000, num_batches=1500\n",
    "temp = 0\n",
    "for _ in range(10):\n",
    "    w, mean_x, std_x =run5(feature_used)\n",
    "    test_set_tX = tX\n",
    "    test_set_y = new_y\n",
    "    test_y, test_tx, _, _= transform_data_5(test_set_y, test_set_tX, meanx=mean_x, stdx=std_x)\n",
    "    y_pred = prediction(test_tx, w)\n",
    "    acc = accuracy(test_y, y_pred)\n",
    "    print(\"feature's accuracy = {a}\".format(a=acc))\n",
    "    temp = temp + acc\n",
    "\n",
    "temp = temp/10\n",
    "print(\"Total feature's accuracy = {a}\".format(a=temp))"
   ]
  },
  {
   "cell_type": "code",
   "execution_count": 1104,
   "metadata": {
    "collapsed": false
   },
   "outputs": [
    {
     "data": {
      "image/png": "[encoded data removed]",
      "text/plain": [
       "<matplotlib.figure.Figure at 0x1c6ef3ba8>"
      ]
     },
     "metadata": {},
     "output_type": "display_data"
    },
    {
     "data": {
      "image/png": "[encoded data removed]",
      "text/plain": [
       "<matplotlib.figure.Figure at 0x10e82d4e0>"
      ]
     },
     "metadata": {},
     "output_type": "display_data"
    }
   ],
   "source": [
    "i = 1\n",
    "sample = np.random.choice(tX[:, i], 1000, replace=True)\n",
    "plt.figure()\n",
    "plt.hist(sample, bins=100)\n",
    "plt.figure()\n",
    "plt.hist(tX[:, i], bins=100)\n",
    "plt.show()"
   ]
  },
  {
   "cell_type": "code",
   "execution_count": 3,
   "metadata": {
    "collapsed": false
   },
   "outputs": [
    {
     "name": "stdout",
     "output_type": "stream",
     "text": [
      "loading of the data : done\n"
     ]
    }
   ],
   "source": [
    "from proj1_helpers import *\n",
    "DATA_TRAIN_PATH = '../data/train.csv' \n",
    "# TODO: download train data and supply path here \n",
    "y, tX, ids = load_csv_data(DATA_TRAIN_PATH)\n",
    "print(\"loading of the data : done\")"
   ]
  },
  {
   "cell_type": "markdown",
   "metadata": {},
   "source": [
    "# Understand The Data"
   ]
  },
  {
   "cell_type": "markdown",
   "metadata": {},
   "source": [
    "Basic"
   ]
  },
  {
   "cell_type": "code",
   "execution_count": 4,
   "metadata": {
    "collapsed": true
   },
   "outputs": [],
   "source": [
    "n_total_training_samples = tX.shape[0]\n",
    "n_total_features         = tX.shape[1]"
   ]
  },
  {
   "cell_type": "markdown",
   "metadata": {},
   "source": [
    "#### columns with missing values"
   ]
  },
  {
   "cell_type": "code",
   "execution_count": 5,
   "metadata": {
    "collapsed": false
   },
   "outputs": [
    {
     "data": {
      "text/plain": [
       "[0, 4, 5, 6, 12, 23, 24, 25, 26, 27, 28]"
      ]
     },
     "execution_count": 5,
     "metadata": {},
     "output_type": "execute_result"
    }
   ],
   "source": [
    "columns_with_missing_values = []\n",
    "for i in range(n_total_features):\n",
    "    if -999 in tX[:, i]:\n",
    "        columns_with_missing_values.append(i)\n",
    "\n",
    "columns_with_missing_values"
   ]
  },
  {
   "cell_type": "code",
   "execution_count": 58,
   "metadata": {
    "collapsed": true
   },
   "outputs": [],
   "source": [
    "log_features = [1, 3, 4, 5, 8, 9, 13, 16, 19, 23, 26, 29]\n",
    "normal_features = [0, 2, 6, 7, 10, 14, 17, 21, 24, 27]\n",
    "uniform_feature = [15, 18, 20, 25, 28]\n",
    "# two side are large (perhaps beta distribution)\n",
    "bernoulli_feature = [11, 12]\n",
    "categorical_features = [22]"
   ]
  },
  {
   "cell_type": "code",
   "execution_count": 166,
   "metadata": {
    "collapsed": true
   },
   "outputs": [],
   "source": [
    "def split_data(x, y, ratio_of_training):\n",
    "    \"\"\"split the dataset based on the split ratio.\"\"\"\n",
    "    p = np.random.permutation(np.arange(y.shape[0]))\n",
    "    n = int(y.shape[0] * ratio_of_training)\n",
    "    return  x[p][:n], x[p][n:], y[p][:n], y[p][n:]\n",
    "\n",
    "def prediction(tx, w):\n",
    "    y = tx @ w\n",
    "    y[y > 0] = 1\n",
    "    y[y <= 0] = 0\n",
    "    return y\n",
    "\n",
    "def accuracy(y, y_pred):\n",
    "    return np.mean(y == y_pred)"
   ]
  },
  {
   "cell_type": "code",
   "execution_count": 252,
   "metadata": {
    "collapsed": true
   },
   "outputs": [],
   "source": [
    "def transform_y(y):\n",
    "    tmp = y.copy()\n",
    "    tmp[tmp==-1]=0\n",
    "    return tmp\n",
    "\n",
    "def transform_y_back(y):\n",
    "    tmp = y.copy()\n",
    "    tmp[tmp==0]=-1  \n",
    "    return tmp\n",
    "\n",
    "def prediction_and_accuracy(tr_tx, tr_y, te_tx, te_y, w):\n",
    "    return accuracy(tr_y, prediction(tr_tx, w)), accuracy(te_y, prediction(te_tx, w))"
   ]
  },
  {
   "cell_type": "markdown",
   "metadata": {},
   "source": [
    "# Preprocessing"
   ]
  },
  {
   "cell_type": "markdown",
   "metadata": {},
   "source": [
    "#### fill missing values with their means."
   ]
  },
  {
   "cell_type": "code",
   "execution_count": 116,
   "metadata": {
    "collapsed": false
   },
   "outputs": [
    {
     "data": {
      "image/png": "[encoded data removed]",
      "text/plain": [
       "<matplotlib.figure.Figure at 0x124c6c5c0>"
      ]
     },
     "metadata": {},
     "output_type": "display_data"
    }
   ],
   "source": [
    "# Time Visualization\n",
    "from ipywidgets import IntSlider, interact\n",
    "from IPython.display import display\n",
    "\n",
    "def fill_na(method=np.mean):\n",
    "    filled = tX.copy()\n",
    "    for col in columns_with_missing_values:\n",
    "        tmp = filled[:, col]\n",
    "        tmp[tmp == -999] = method(tmp[tmp != -999])\n",
    "        filled[:, col] = tmp\n",
    "    return filled\n",
    "\n",
    "def plot_hist(tx, i, transformation=None):\n",
    "    plt.figure()\n",
    "    if transformation is None:\n",
    "        plt.hist(tx[:, i], bins=100)\n",
    "    else:\n",
    "        plt.hist(transformation(tx[:, i]), bins=100)\n",
    "    plt.title(\"feature %i\" % i)\n",
    "    plt.show()\n",
    "    \n",
    "# before processing \n",
    "interactive(lambda x:plot_hist(tX, x), x=IntSlider(min=0, max=29))"
   ]
  },
  {
   "cell_type": "markdown",
   "metadata": {},
   "source": [
    "#### Expand features to reduce bias"
   ]
  },
  {
   "cell_type": "code",
   "execution_count": 133,
   "metadata": {
    "collapsed": false
   },
   "outputs": [
    {
     "data": {
      "text/plain": [
       "array([[  0,   1,   0,   1,   0,   1],\n",
       "       [  2,   3,   4,   9,   8,  27],\n",
       "       [  4,   5,  16,  25,  64, 125],\n",
       "       [  6,   7,  36,  49, 216, 343],\n",
       "       [  8,   9,  64,  81, 512, 729]])"
      ]
     },
     "execution_count": 133,
     "metadata": {},
     "output_type": "execute_result"
    }
   ],
   "source": [
    "def build_polynomial_without_mixed_term(tx, degree=2):\n",
    "    n = tx.shape[0]\n",
    "    tmp = tx\n",
    "    for i in range(2, degree+1):\n",
    "        tmp = np.c_[tmp, tx**i]\n",
    "    # The function standardize will add a column of 1s in the first column\n",
    "    return tmp\n",
    "\n",
    "build_polynomial_without_mixed_term(np.arange(10).reshape(5,2), 3)"
   ]
  },
  {
   "cell_type": "markdown",
   "metadata": {},
   "source": [
    "## Classifier 1\n",
    "\n",
    "specifications\n",
    "    - polynomial of degree 2\n",
    "    - didin't apply log to some features\n",
    "    - validation (not cross validation)"
   ]
  },
  {
   "cell_type": "markdown",
   "metadata": {},
   "source": [
    "fill -999 with mean/median/..."
   ]
  },
  {
   "cell_type": "code",
   "execution_count": 119,
   "metadata": {
    "collapsed": false
   },
   "outputs": [
    {
     "data": {
      "text/plain": [
       "[0, 1, 2, 3, 4, 5, 7, 8, 9, 10, 12, 13, 16, 19, 21, 22, 23, 26, 29]"
      ]
     },
     "execution_count": 119,
     "metadata": {},
     "output_type": "execute_result"
    }
   ],
   "source": [
    "filled_tX = fill_na()\n",
    "\n",
    "columns_non_negative = []\n",
    "for i in range(n_total_features):\n",
    "    if len(filled_tX[filled_tX[:, i] < 0, i]) == 0:\n",
    "        columns_non_negative.append(i)\n",
    "\n",
    "columns_non_negative"
   ]
  },
  {
   "cell_type": "markdown",
   "metadata": {},
   "source": [
    "Here is the data used for interactive data analysis."
   ]
  },
  {
   "cell_type": "code",
   "execution_count": 122,
   "metadata": {
    "collapsed": false
   },
   "outputs": [
    {
     "data": {
      "image/png": "[encoded data removed]",
      "text/plain": [
       "<matplotlib.figure.Figure at 0x12b7ec780>"
      ]
     },
     "metadata": {},
     "output_type": "display_data"
    }
   ],
   "source": [
    "interactive(lambda x:plot_hist(filled_tX, x), x=IntSlider(value=1, min=0, max=n_total_features-1))"
   ]
  },
  {
   "cell_type": "code",
   "execution_count": 117,
   "metadata": {
    "collapsed": false,
    "scrolled": true
   },
   "outputs": [
    {
     "data": {
      "image/png": "[encoded data removed]",
      "text/plain": [
       "<matplotlib.figure.Figure at 0x106054128>"
      ]
     },
     "metadata": {},
     "output_type": "display_data"
    }
   ],
   "source": [
    "# some of the data is not allowed to perform log\n",
    "def plot_function(idx):\n",
    "    if idx in columns_non_negative:\n",
    "        plot_hist(filled_tX, idx, lambda y: np.log(y+1e-6))\n",
    "    else:\n",
    "        pass\n",
    "    \n",
    "interactive(plot_function, idx=IntSlider(value=1, min=0, max=n_total_features-1))"
   ]
  },
  {
   "cell_type": "markdown",
   "metadata": {},
   "source": [
    "#### standardize the columns"
   ]
  },
  {
   "cell_type": "code",
   "execution_count": 136,
   "metadata": {
    "collapsed": false
   },
   "outputs": [
    {
     "data": {
      "text/plain": [
       "(250000, 61)"
      ]
     },
     "execution_count": 136,
     "metadata": {},
     "output_type": "execute_result"
    }
   ],
   "source": [
    "tmp = build_polynomial_without_mixed_term(filled_tX, degree = 2)\n",
    "## We can take logs of each column Here *******************************\n",
    "tX1, mean_x1, std_x1 = standardize(tmp)\n",
    "y1 = transform_y(y)\n",
    "tX1.shape"
   ]
  },
  {
   "cell_type": "markdown",
   "metadata": {},
   "source": [
    "### sepearte training sets and cross validation sets and Predict w"
   ]
  },
  {
   "cell_type": "code",
   "execution_count": 167,
   "metadata": {
    "collapsed": false
   },
   "outputs": [
    {
     "data": {
      "text/plain": [
       "(25000, 61)"
      ]
     },
     "execution_count": 167,
     "metadata": {},
     "output_type": "execute_result"
    }
   ],
   "source": [
    "training_ratio = 0.9\n",
    "train_tX1, cv_tX1, train_y1, cv_y1 = split_data(tX1, y1, training_ratio)\n",
    "cv_tX1.shape"
   ]
  },
  {
   "cell_type": "code",
   "execution_count": 180,
   "metadata": {
    "collapsed": false
   },
   "outputs": [
    {
     "name": "stderr",
     "output_type": "stream",
     "text": [
      "/usr/local/lib/python3.5/site-packages/ipykernel/__main__.py:7: VisibleDeprecationWarning: using a non-integer number instead of an integer will result in an error in the future\n",
      "/usr/local/lib/python3.5/site-packages/ipykernel/__main__.py:8: VisibleDeprecationWarning: using a non-integer number instead of an integer will result in an error in the future\n"
     ]
    },
    {
     "name": "stdout",
     "output_type": "stream",
     "text": [
      "Losgistic Regression(0/1000): loss=-97058110675.28435\n",
      "Losgistic Regression(100/1000): loss=-32126476800.55421\n",
      "Losgistic Regression(200/1000): loss=-40217254551.56223\n",
      "Losgistic Regression(300/1000): loss=-38717750446.91495\n",
      "Losgistic Regression(400/1000): loss=-42759989320.45993\n",
      "Losgistic Regression(500/1000): loss=-43088388579.175385\n",
      "Losgistic Regression(600/1000): loss=-45703049628.79403\n",
      "Losgistic Regression(700/1000): loss=-45754965323.706345\n",
      "Losgistic Regression(800/1000): loss=-47112725909.126724\n",
      "Losgistic Regression(900/1000): loss=-49520120941.034676\n",
      "0.727555555556 0.72796\n",
      "Losgistic Regression(0/1000): loss=-1248865755216.8313\n",
      "Losgistic Regression(100/1000): loss=-1531519550166.7886\n",
      "Losgistic Regression(200/1000): loss=-1593628291437.9128\n",
      "Losgistic Regression(300/1000): loss=-1605036656023.8704\n",
      "Losgistic Regression(400/1000): loss=-1606901651234.206\n",
      "Losgistic Regression(500/1000): loss=-1615814259920.7747\n",
      "Losgistic Regression(600/1000): loss=-1618683756979.355\n",
      "Losgistic Regression(700/1000): loss=-1628674475475.1587\n",
      "Losgistic Regression(800/1000): loss=-1623361367474.4617\n",
      "Losgistic Regression(900/1000): loss=-1631101831942.8118\n",
      "0.699466666667 0.69776\n",
      "Losgistic Regression(0/1000): loss=-5618532715420.301\n",
      "Losgistic Regression(100/1000): loss=-4973685023503.752\n",
      "Losgistic Regression(200/1000): loss=-5196053525403.239\n",
      "Losgistic Regression(300/1000): loss=-5248167254664.467\n",
      "Losgistic Regression(400/1000): loss=-5293524846301.34\n",
      "Losgistic Regression(500/1000): loss=-5272653484213.885\n",
      "Losgistic Regression(600/1000): loss=-5313364396293.176\n",
      "Losgistic Regression(700/1000): loss=-5389548300909.402\n",
      "Losgistic Regression(800/1000): loss=-5333259173730.593\n",
      "Losgistic Regression(900/1000): loss=-5339717850908.216\n",
      "0.699881481481 0.69768\n",
      "Losgistic Regression(0/1000): loss=-13801927078329.664\n",
      "Losgistic Regression(100/1000): loss=-11675932483787.908\n",
      "Losgistic Regression(200/1000): loss=-12378901756941.666\n",
      "Losgistic Regression(300/1000): loss=-12724337912778.277\n",
      "Losgistic Regression(400/1000): loss=-12815524657391.164\n",
      "Losgistic Regression(500/1000): loss=-12823931958670.94\n",
      "Losgistic Regression(600/1000): loss=-12928807430666.963\n",
      "Losgistic Regression(700/1000): loss=-12954778516159.17\n",
      "Losgistic Regression(800/1000): loss=-13001600825541.951\n",
      "Losgistic Regression(900/1000): loss=-13072269927769.084\n",
      "0.699555555556 0.6974\n",
      "Losgistic Regression(0/1000): loss=-39457966217064.73\n",
      "Losgistic Regression(100/1000): loss=-23187906102102.3\n",
      "Losgistic Regression(200/1000): loss=-24634952554698.676\n",
      "Losgistic Regression(300/1000): loss=-25221771813491.707\n",
      "Losgistic Regression(400/1000): loss=-25410436339095.516\n",
      "Losgistic Regression(500/1000): loss=-25634649048794.145\n",
      "Losgistic Regression(600/1000): loss=-25735991050724.832\n",
      "Losgistic Regression(700/1000): loss=-25855016173104.273\n",
      "Losgistic Regression(800/1000): loss=-25957138650382.438\n",
      "Losgistic Regression(900/1000): loss=-26129315407834.016\n",
      "0.700675555556 0.69676\n",
      "Losgistic Regression(0/1000): loss=-52943308844641.42\n",
      "Losgistic Regression(100/1000): loss=-39684711960835.5\n",
      "Losgistic Regression(200/1000): loss=-42235128140847.09\n",
      "Losgistic Regression(300/1000): loss=-42653266061326.92\n",
      "Losgistic Regression(400/1000): loss=-42899441605077.89\n",
      "Losgistic Regression(500/1000): loss=-43149866261789.18\n",
      "Losgistic Regression(600/1000): loss=-43197405737602.98\n",
      "Losgistic Regression(700/1000): loss=-43215748978855.98\n",
      "Losgistic Regression(800/1000): loss=-43320466493934.414\n",
      "Losgistic Regression(900/1000): loss=-43517418952067.29\n",
      "0.699348148148 0.69624\n",
      "Losgistic Regression(0/1000): loss=-15615298171122.27\n",
      "Losgistic Regression(100/1000): loss=-8880452451607.271\n",
      "Losgistic Regression(200/1000): loss=-13520470184365.75\n",
      "Losgistic Regression(300/1000): loss=-15000162216976.979\n",
      "Losgistic Regression(400/1000): loss=-15711566395453.635\n",
      "Losgistic Regression(500/1000): loss=-16214395106380.053\n",
      "Losgistic Regression(600/1000): loss=-16435868183946.201\n",
      "Losgistic Regression(700/1000): loss=-16788026077009.062\n",
      "Losgistic Regression(800/1000): loss=-16980534089885.424\n",
      "Losgistic Regression(900/1000): loss=-17446432919597.434\n",
      "0.727028571429 0.72684\n",
      "Losgistic Regression(0/1000): loss=-113286395191754.72\n",
      "Losgistic Regression(100/1000): loss=-93071568615352.34\n",
      "Losgistic Regression(200/1000): loss=-98482174608070.95\n",
      "Losgistic Regression(300/1000): loss=-99920466361495.69\n",
      "Losgistic Regression(400/1000): loss=-100232310719964.77\n",
      "Losgistic Regression(500/1000): loss=-100765521087594.81\n",
      "Losgistic Regression(600/1000): loss=-101249211980484.28\n",
      "Losgistic Regression(700/1000): loss=-101370623586843.31\n",
      "Losgistic Regression(800/1000): loss=-101740157245712.33\n",
      "Losgistic Regression(900/1000): loss=-101827183579199.48\n",
      "0.698255555556 0.69512\n"
     ]
    }
   ],
   "source": [
    "# use outside functions cv_tX1, cv_y1\n",
    "\n",
    "n = train_tX1.shape[0]\n",
    "info = []\n",
    "for i in range(1, 9):\n",
    "    train_size = i*n/10\n",
    "    train_y = train_y1[:train_size]\n",
    "    train_tX= train_tX1[:train_size]\n",
    "    w, losses = reg_logistic_regression_GD(train_y, train_tX, gamma=0.1, \n",
    "                           max_iters = 1000, lambda_=0.01, regularizor=regularizor_lasso)\n",
    "\n",
    "    tr_acc, te_acc = prediction_and_accuracy(train_tX, train_y, cv_tX1, cv_y1, w)\n",
    "    print(tr_acc, te_acc)\n",
    "    info.append([tr_acc, te_acc, train_size])"
   ]
  },
  {
   "cell_type": "code",
   "execution_count": null,
   "metadata": {
    "collapsed": true
   },
   "outputs": [],
   "source": []
  },
  {
   "cell_type": "code",
   "execution_count": null,
   "metadata": {
    "collapsed": true
   },
   "outputs": [],
   "source": []
  },
  {
   "cell_type": "code",
   "execution_count": 187,
   "metadata": {
    "collapsed": false
   },
   "outputs": [],
   "source": [
    "plot_info = np.array(info)\n",
    "sizes = plot_info[:, 2]\n",
    "tr_error = plot_info[:, 0]\n",
    "te_error = plot_info[:, 1]"
   ]
  },
  {
   "cell_type": "code",
   "execution_count": 191,
   "metadata": {
    "collapsed": false
   },
   "outputs": [
    {
     "data": {
      "image/png": "[encoded data removed]",
      "text/plain": [
       "<matplotlib.figure.Figure at 0x124c7a320>"
      ]
     },
     "metadata": {},
     "output_type": "display_data"
    }
   ],
   "source": [
    "plt.plot(sizes, tr_error, 'r*-', sizes, te_error, 'b-')\n",
    "plt.show()"
   ]
  },
  {
   "cell_type": "code",
   "execution_count": null,
   "metadata": {
    "collapsed": true
   },
   "outputs": [],
   "source": []
  },
  {
   "cell_type": "code",
   "execution_count": null,
   "metadata": {
    "collapsed": true
   },
   "outputs": [],
   "source": []
  },
  {
   "cell_type": "code",
   "execution_count": null,
   "metadata": {
    "collapsed": true
   },
   "outputs": [],
   "source": []
  },
  {
   "cell_type": "markdown",
   "metadata": {},
   "source": [
    "## For how large the size, we can train it very accurately"
   ]
  },
  {
   "cell_type": "markdown",
   "metadata": {},
   "source": [
    "gamma=0.1\n",
    "lambda=0.01\n",
    "\n",
    "|training size|iteration| acc train| acc test|\n",
    "|:--:|:---:|:---:|\n",
    "|100|1000| 0.98|0.70|\n",
    "|150|1000|0.88|0.7|\n",
    "|150|5000|0.93|0.71|\n",
    "|150|10000|0.96|0.72464|\n",
    "|150|20000|0.947|0.707|\n",
    "|150|20000|0.953333333333| 0.70664|\n",
    "|200|10000|0.885| 0.70876|\n",
    "|10000|1000|0.6934| 0.69128|\n",
    "\n",
    "we can see that with the grow of training size, the same classifier performs bad on traing set very quickly. For the same training sets, the grows of iterations can improve training performance, but can hardly influence test error.\n",
    "\n",
    "Our model suffers from bias."
   ]
  },
  {
   "cell_type": "code",
   "execution_count": 250,
   "metadata": {
    "collapsed": false
   },
   "outputs": [
    {
     "name": "stdout",
     "output_type": "stream",
     "text": [
      "Losgistic Regression(0/2000): loss=2402.6957352974205\n",
      "Losgistic Regression(100/2000): loss=-8936.355222308823\n",
      "Losgistic Regression(200/2000): loss=-12594.63835008598\n",
      "Losgistic Regression(300/2000): loss=-15025.068421770844\n",
      "Losgistic Regression(400/2000): loss=-16851.15727650931\n",
      "Losgistic Regression(500/2000): loss=-18322.24101198037\n",
      "Losgistic Regression(600/2000): loss=-19558.5049300319\n",
      "Losgistic Regression(700/2000): loss=-20626.385404283\n",
      "Losgistic Regression(800/2000): loss=-21566.669930990374\n",
      "Losgistic Regression(900/2000): loss=-22406.45130901868\n",
      "Losgistic Regression(1000/2000): loss=-23164.809899810523\n",
      "Losgistic Regression(1100/2000): loss=-23855.783145353264\n",
      "Losgistic Regression(1200/2000): loss=-24490.046690219195\n",
      "Losgistic Regression(1300/2000): loss=-25075.931566815303\n",
      "Losgistic Regression(1400/2000): loss=-25620.074212802167\n",
      "Losgistic Regression(1500/2000): loss=-26127.85080153295\n",
      "Losgistic Regression(1600/2000): loss=-26603.67822884715\n",
      "Losgistic Regression(1700/2000): loss=-27051.229049840775\n",
      "Losgistic Regression(1800/2000): loss=-27473.588850339405\n",
      "Losgistic Regression(1900/2000): loss=-27873.37392097684\n",
      "0.86 0.72992\n"
     ]
    }
   ],
   "source": [
    "idxes = np.arange(200)\n",
    "w, losses = reg_logistic_regression_GD(train_y1[idxes], train_tX1[idxes], gamma=0.001, \n",
    "                       max_iters = 2000, lambda_=0, regularizor=regularizor_lasso)\n",
    "\n",
    "tr_acc, te_acc = prediction_and_accuracy(train_tX1[idxes], train_y1[idxes], cv_tX1, cv_y1, w)\n",
    "print(tr_acc, te_acc)"
   ]
  },
  {
   "cell_type": "markdown",
   "metadata": {},
   "source": [
    "We see that the (original) feature 2, 4, 15, 18 has small feature in in it self, but their square can be large"
   ]
  },
  {
   "cell_type": "code",
   "execution_count": 208,
   "metadata": {
    "collapsed": false
   },
   "outputs": [
    {
     "data": {
      "text/plain": [
       "array([ 3,  5, 16, 19, 35, 46, 51, 54])"
      ]
     },
     "execution_count": 208,
     "metadata": {},
     "output_type": "execute_result"
    }
   ],
   "source": [
    "np.arange(61)[abs(w)<1]"
   ]
  },
  {
   "cell_type": "code",
   "execution_count": 211,
   "metadata": {
    "collapsed": false
   },
   "outputs": [
    {
     "data": {
      "text/plain": [
       "-32.941597981244207"
      ]
     },
     "execution_count": 211,
     "metadata": {},
     "output_type": "execute_result"
    }
   ],
   "source": [
    "w[33]"
   ]
  },
  {
   "cell_type": "code",
   "execution_count": 178,
   "metadata": {
    "collapsed": false
   },
   "outputs": [
    {
     "name": "stdout",
     "output_type": "stream",
     "text": [
      "training error 0.6986177777777778\n",
      "training error 0.69612\n"
     ]
    }
   ],
   "source": [
    "print (\"training error {e}\".format(e=))\n",
    "print (\"training error {e}\".format(e=))"
   ]
  },
  {
   "cell_type": "markdown",
   "metadata": {},
   "source": [
    "# Classfier 2: Higher Order Polynomial"
   ]
  },
  {
   "cell_type": "code",
   "execution_count": 251,
   "metadata": {
    "collapsed": false
   },
   "outputs": [
    {
     "data": {
      "text/plain": [
       "[0, 1, 2, 3, 4, 5, 7, 8, 9, 10, 12, 13, 16, 19, 21, 22, 23, 26, 29]"
      ]
     },
     "execution_count": 251,
     "metadata": {},
     "output_type": "execute_result"
    }
   ],
   "source": [
    "filled_tX = fill_na()\n",
    "\n",
    "columns_non_negative = []\n",
    "for i in range(n_total_features):\n",
    "    if len(filled_tX[filled_tX[:, i] < 0, i]) == 0:\n",
    "        columns_non_negative.append(i)\n",
    "\n",
    "columns_non_negative"
   ]
  },
  {
   "cell_type": "markdown",
   "metadata": {},
   "source": [
    "#### standardize the columns"
   ]
  },
  {
   "cell_type": "code",
   "execution_count": 253,
   "metadata": {
    "collapsed": false
   },
   "outputs": [
    {
     "data": {
      "text/plain": [
       "(250000, 91)"
      ]
     },
     "execution_count": 253,
     "metadata": {},
     "output_type": "execute_result"
    }
   ],
   "source": [
    "tmp = build_polynomial_without_mixed_term(filled_tX, degree = 3)\n",
    "## We can take logs of each column Here *******************************\n",
    "tX2, mean_x2, std_x2 = standardize(tmp)\n",
    "y2 = transform_y(y)\n",
    "tX2.shape"
   ]
  },
  {
   "cell_type": "markdown",
   "metadata": {},
   "source": [
    "### sepearte training sets and cross validation sets and Predict w"
   ]
  },
  {
   "cell_type": "code",
   "execution_count": 260,
   "metadata": {
    "collapsed": false
   },
   "outputs": [
    {
     "data": {
      "text/plain": [
       "(25000, 91)"
      ]
     },
     "execution_count": 260,
     "metadata": {},
     "output_type": "execute_result"
    }
   ],
   "source": [
    "training_ratio = 0.9\n",
    "train_tX2, cv_tX2, train_y2, cv_y2 = split_data(tX2, y2, training_ratio)\n",
    "cv_tX2.shape"
   ]
  },
  {
   "cell_type": "code",
   "execution_count": 318,
   "metadata": {
    "collapsed": false
   },
   "outputs": [
    {
     "name": "stdout",
     "output_type": "stream",
     "text": [
      "Losgistic Regression(0/10000): loss=-290167.93609084206\n",
      "Losgistic Regression(1000/10000): loss=-321668.2293979147\n",
      "Losgistic Regression(2000/10000): loss=-357392.3584440844\n",
      "Losgistic Regression(3000/10000): loss=-379188.0857540379\n",
      "Losgistic Regression(4000/10000): loss=-394121.1036563469\n",
      "Losgistic Regression(5000/10000): loss=-404918.7051216961\n",
      "Losgistic Regression(6000/10000): loss=-413022.5653651512\n",
      "Losgistic Regression(7000/10000): loss=-419310.0520943742\n",
      "Losgistic Regression(8000/10000): loss=-424324.9557087058\n",
      "Losgistic Regression(9000/10000): loss=-428408.5048669645\n",
      "0.827 0.78556\n"
     ]
    }
   ],
   "source": [
    "idxes = np.arange(1000)\n",
    "train_tX2[idxes]\n",
    "w, losses = reg_logistic_regression_GD(train_y2[idxes], train_tX2[idxes], gamma=0.001, \n",
    "                       max_iters = 10000, lambda_=0.0001, regularizor=regularizor_lasso)\n",
    "\n",
    "tr_acc, te_acc = prediction_and_accuracy(train_tX2[idxes], train_y2[idxes], cv_tX2, cv_y2, w)\n",
    "print(tr_acc, te_acc)"
   ]
  },
  {
   "cell_type": "code",
   "execution_count": 275,
   "metadata": {
    "collapsed": false
   },
   "outputs": [
    {
     "data": {
      "text/plain": [
       "array([ 0,  1,  2,  4,  7,  9, 10, 11, 12, 13, 16, 19, 21, 22, 23, 26,  0,\n",
       "        1,  2,  3,  4,  5,  7,  8,  9, 10, 12, 13, 16, 19, 21, 22, 23, 24,\n",
       "       26, 27, 29,  0,  1,  2,  3,  4,  5,  7,  9, 10, 11, 13, 16, 19, 21,\n",
       "       22, 23, 26, 29,  0])"
      ]
     },
     "execution_count": 275,
     "metadata": {},
     "output_type": "execute_result"
    }
   ],
   "source": [
    "np.arange(91)[abs(w)>1]%30"
   ]
  },
  {
   "cell_type": "markdown",
   "metadata": {},
   "source": [
    "## Generate predictions and save ouput in csv format for submission:"
   ]
  },
  {
   "cell_type": "code",
   "execution_count": 925,
   "metadata": {
    "collapsed": true
   },
   "outputs": [],
   "source": [
    "feature_used = np.arange(30)\n",
    "test_set_tX = tX_test\n",
    "test_y, test_tx, _, _= transform_data_4(test_set_y, test_set_tX, features=feature_used, meanx=mean_x, stdx=std_x)"
   ]
  },
  {
   "cell_type": "code",
   "execution_count": 920,
   "metadata": {
    "collapsed": false
   },
   "outputs": [],
   "source": [
    "DATA_TEST_PATH = '../data/test.csv'\n",
    "_, tX_test, ids_test = load_csv_data(DATA_TEST_PATH)"
   ]
  },
  {
   "cell_type": "code",
   "execution_count": 931,
   "metadata": {
    "collapsed": false
   },
   "outputs": [
    {
     "data": {
      "text/plain": [
       "(568238, 62)"
      ]
     },
     "execution_count": 931,
     "metadata": {},
     "output_type": "execute_result"
    }
   ],
   "source": [
    "test_tx.shape"
   ]
  },
  {
   "cell_type": "code",
   "execution_count": 932,
   "metadata": {
    "collapsed": false
   },
   "outputs": [],
   "source": [
    "OUTPUT_PATH = '../results/result2.csv' # TODO: fill in desired name of output file for submission\n",
    "y_pred = transform_y_back(prediction(test_tx, w))\n",
    "create_csv_submission(ids_test, y_pred, OUTPUT_PATH)"
   ]
  },
  {
   "cell_type": "code",
   "execution_count": 933,
   "metadata": {
    "collapsed": false
   },
   "outputs": [
    {
     "data": {
      "text/plain": [
       "(568238,)"
      ]
     },
     "execution_count": 933,
     "metadata": {},
     "output_type": "execute_result"
    }
   ],
   "source": [
    "y_pred.shape"
   ]
  }
 ],
 "metadata": {
  "anaconda-cloud": {},
  "kernelspec": {
   "display_name": "Python 3",
   "language": "python",
   "name": "python3"
  },
  "language_info": {
   "codemirror_mode": {
    "name": "ipython",
    "version": 3
   },
   "file_extension": ".py",
   "mimetype": "text/x-python",
   "name": "python",
   "nbconvert_exporter": "python",
   "pygments_lexer": "ipython3",
   "version": "3.5.2"
  },
  "widgets": {
   "state": {
    "023cb81475a945fe97d29be3cb3600e9": {
     "views": []
    },
    "0656d01812174c589117e89a7f476eeb": {
     "views": []
    },
    "06e08db57e4c4440a3ad1b3951854893": {
     "views": []
    },
    "09d8152e0e4842f281b6992d966f84ff": {
     "views": []
    },
    "0b17fa30a11f499bbbb6b8402e16c6c0": {
     "views": []
    },
    "0e1159612a454425bbac65a45bf46ae4": {
     "views": []
    },
    "0e2681dfe3854507b8e382172c8d24a9": {
     "views": []
    },
    "0e3a8a0386ac4eeabbe0d75c720fe8ca": {
     "views": []
    },
    "12028e93822d44fb98bff43ebb5ae85f": {
     "views": []
    },
    "12c1d615bd694bcea1fd9ab1124e2733": {
     "views": []
    },
    "17693f1c9ae243fba5f88f6bd0563d5c": {
     "views": []
    },
    "19e769fc042640babb5295d1974c62b8": {
     "views": []
    },
    "19ee98066002482e9fc35c5c1daf61ba": {
     "views": []
    },
    "1a632485f2d8478193df72588650d618": {
     "views": []
    },
    "1a86c3fa0e2d4cd0b5251249d12134bc": {
     "views": []
    },
    "1ee72dc401884de7b2faf7aa90592e2e": {
     "views": []
    },
    "1f1d9fd36c85413abd59a0c5d2f6afac": {
     "views": []
    },
    "218b8bbbb96c44759803d1d7bb93518b": {
     "views": []
    },
    "22ac1bf8dc1a42ec9f6bf037c2b351e0": {
     "views": []
    },
    "2691c30802414c95b1e293e0281cb59c": {
     "views": []
    },
    "2802b13066f649798d7bf253e4bb2b91": {
     "views": []
    },
    "2f8de774e24d4bfbbe7fc7a6c589165b": {
     "views": []
    },
    "33a6f920af1a414eb26969a29ca0e9f5": {
     "views": []
    },
    "33d5f66f8db64bb29aee64e9e6f4b00a": {
     "views": []
    },
    "358ab636ff8949958e22afe4df4c92f5": {
     "views": []
    },
    "360a79441c40473eac4ed7aa38bc332e": {
     "views": []
    },
    "3732e557ec5f4420ae4be9ba1b0c6950": {
     "views": []
    },
    "3891a8618a4e46e0a33e3c1fc96e927f": {
     "views": []
    },
    "3b1570fddde04f0caf52f4ff45d29edb": {
     "views": []
    },
    "3d44ad00ad504e909c2c5165179b38f3": {
     "views": []
    },
    "3ff3abd2ef184017be0348ce847f1a3b": {
     "views": []
    },
    "4104a7b34dea4cac9f83200068a87e4e": {
     "views": []
    },
    "411967c7a0484176b05d585607f58205": {
     "views": []
    },
    "42a2771cc4de461b8e1f7930eb1a5b05": {
     "views": []
    },
    "43533ec6a6424e228d82dedae9d2e033": {
     "views": []
    },
    "44341b3861874225ac2c4a39d9e9b20a": {
     "views": []
    },
    "4514ac6a980d4c1cb0b2865b036f78b4": {
     "views": [
      {
       "cell_index": 132
      }
     ]
    },
    "462a940358654d2b84aa86fb2ddb7fa5": {
     "views": []
    },
    "467d39db9951416ca21632ab9321781c": {
     "views": []
    },
    "48db65e31eb143489065ea6f27cdafee": {
     "views": []
    },
    "4a47e66ec8f145b2a4ce40452beb05eb": {
     "views": []
    },
    "4e8c9deaad524bda8b1da06a0ec346ca": {
     "views": []
    },
    "514aac3eeee24c6d950fdbc506e2c983": {
     "views": []
    },
    "51600ba1f25f46f28712de210eecac48": {
     "views": []
    },
    "53b9a6a0056f4d3eb3d049a6b79902e6": {
     "views": []
    },
    "54f2df5f3b374a7b92906e2c6f9ec3b6": {
     "views": []
    },
    "55a0f08bc43a45199474b57bfab46e44": {
     "views": []
    },
    "5608d42ea9e94999ab42b8ad0c206f85": {
     "views": []
    },
    "58b9d8f8c94d4706bfa0fb67ecbbd1c8": {
     "views": []
    },
    "59566267562941e28c581d183adfb31b": {
     "views": []
    },
    "59b6af240339412ca33740de32807e72": {
     "views": []
    },
    "5c9a253daa9641bdb41bb1e907995314": {
     "views": []
    },
    "5da1672732bf4560a2f195fbfa18fd2f": {
     "views": []
    },
    "5f61c6f48bc6407f808b26dfd3ff650e": {
     "views": []
    },
    "60025b85d7d7483cbd0389d15fa40b24": {
     "views": []
    },
    "6290e48913ff4b9785efd7c0fc29e29a": {
     "views": []
    },
    "64aa7fe3a5964b7289a6e95b667b7697": {
     "views": []
    },
    "68319ce5b3a74f10b5004a4a7e6e9bde": {
     "views": []
    },
    "69b3066124164f6e9fee59423542e6ce": {
     "views": []
    },
    "6f2439baf7df4a6ba620e3c431601ec5": {
     "views": []
    },
    "712bf0da5abb466daed7cb112ac4be9f": {
     "views": []
    },
    "737b5fb46e5647d58c0167b33056f32d": {
     "views": []
    },
    "74e7c1ac51d44ba99eb3190482e44c9f": {
     "views": []
    },
    "74f46c0299024dbd9fa900a91a41e71c": {
     "views": []
    },
    "7646e6b27e164eb4a922f3369c0d1359": {
     "views": []
    },
    "76716f91d3974e5188e3ce2031b8edc6": {
     "views": []
    },
    "7856af6c59bf4b02ad553e5de1667e6e": {
     "views": []
    },
    "84cc99bad75e48c79fd29af3b3b6cf23": {
     "views": []
    },
    "8554ffcd85804c4480cb9568679288e6": {
     "views": []
    },
    "86d8b3ca74394075a5040754a7d0f112": {
     "views": []
    },
    "8712c2d770b044e580b70be8ff47a70c": {
     "views": []
    },
    "89e5d5a410f148b3b9f038d07b985826": {
     "views": []
    },
    "8bc31e9d2e244f859b9944277b10685e": {
     "views": []
    },
    "8c8280c2e5e843ea912ce840c1f9a815": {
     "views": []
    },
    "8de53ca2548b46ffa4709418cdc5e47a": {
     "views": []
    },
    "8f571f7019b648d6982443a00678ca09": {
     "views": []
    },
    "8fd8e55f342e4cd2854b16ae86e8431b": {
     "views": []
    },
    "905c684e215f46b9851f87a98a19cbe8": {
     "views": []
    },
    "910792a394e442a2b3537417187c38f0": {
     "views": [
      {
       "cell_index": 137
      }
     ]
    },
    "92c8926847d9495698e180d643661298": {
     "views": []
    },
    "957d7a710a95407ba7de2bc66a90cb87": {
     "views": []
    },
    "95b6733c17ac4871b980ba45f329b81e": {
     "views": []
    },
    "971324d43edb41bc906914d34cac4e84": {
     "views": []
    },
    "97aa3c9800f04dff94ded3f655bfda84": {
     "views": []
    },
    "9873d25dd712418e87df9d8e7d1140d3": {
     "views": [
      {
       "cell_index": 137
      }
     ]
    },
    "9cdc11d2dbb545308ed63a064fc63ece": {
     "views": []
    },
    "9f070cfb9678487d907255f42842b0fb": {
     "views": []
    },
    "9fedd7eee0504abbad19cbda3aebb022": {
     "views": []
    },
    "9ffc35d8432c40ee9895c565f3c4abda": {
     "views": []
    },
    "a0a41254ad204744aa98206b576555d0": {
     "views": []
    },
    "a72d857b82d54d389cc8a371a4b03d39": {
     "views": []
    },
    "a74ee4818b264fbb95d165877824da55": {
     "views": []
    },
    "a9f0e192ef384cabb84c130bb60cfaea": {
     "views": []
    },
    "aa47af235b6e4335a9843f236ab8fef9": {
     "views": []
    },
    "aafafbbeae1c40cebeb269ac6833d061": {
     "views": []
    },
    "af20bec9e7a54c8ea66dc4787a3a09ea": {
     "views": []
    },
    "b1b641006f214f70a713be0f41831858": {
     "views": []
    },
    "b4c1f164f05b4f3bb3a437b454a9e499": {
     "views": []
    },
    "ba3ea59619e4415b9aa586a7af6b945a": {
     "views": []
    },
    "bbd68922ec024005a35d8f6c24577f3c": {
     "views": []
    },
    "bc3a26e14c1e4962a46cf7287e8991b6": {
     "views": []
    },
    "bf54fb7095864dcba467fe64fb76a32d": {
     "views": []
    },
    "bfa043dfddd741abb68307bd0bff96b2": {
     "views": []
    },
    "c0f3489352ed4aa3b0b6ab1abb9777d8": {
     "views": []
    },
    "c107053cbde24768a5c39237e591246f": {
     "views": []
    },
    "c2853ffd303b4614aeeac08b8f09141a": {
     "views": []
    },
    "c7dc57c0cd694805bac3f843578ae253": {
     "views": []
    },
    "ca45a1359d0a47bf93208f7941df740a": {
     "views": []
    },
    "cc59f3ba01b04abfa8cd8b84857ed625": {
     "views": []
    },
    "cc6eb0825e3b4e6991f36100c530879f": {
     "views": []
    },
    "ce5f660489ae4eb68bec161d9d3afce6": {
     "views": []
    },
    "cf32fbdee557427e8a9d06c5e36c7d24": {
     "views": []
    },
    "d3c5139772f14218afa6d3cf87edefb9": {
     "views": []
    },
    "d5d8edac095d4c858774ee96236435c0": {
     "views": []
    },
    "d76b311a962d49bd9af777ff5f3f6132": {
     "views": []
    },
    "da3ca8bd2ea84ef39e5e1280c6bebc25": {
     "views": []
    },
    "de3928afe68841acb45bd27c88dcb8f5": {
     "views": []
    },
    "df04152de8aa4696b0ffd12180b89e9c": {
     "views": []
    },
    "df0bf6fbe6514083a3c8dc0d19a23b2d": {
     "views": []
    },
    "e0ea1699749a41e687b5683624033244": {
     "views": []
    },
    "e2645b8789c242e18c5db1e0997cf20d": {
     "views": []
    },
    "e3e681e437c3484cb7f49bd2f0655669": {
     "views": []
    },
    "e841538f7d8742289247f2aa9626b7da": {
     "views": []
    },
    "e972522844ca40e1b9378bcffb5ce313": {
     "views": []
    },
    "e9a93b10f7e84f6d9247f21115304861": {
     "views": []
    },
    "eb932c58dcb649c784bd9ed1aef50a74": {
     "views": []
    },
    "ebf85c945d094c6c94f279c3522cf276": {
     "views": []
    },
    "edd161163b4f4188964b434d9a316a75": {
     "views": []
    },
    "ee2859b43dbe405db03026763ff27e6b": {
     "views": []
    },
    "ee4ecf624eb24702a501c36235e105d7": {
     "views": []
    },
    "f140365f0cef4c11b5c5390d1a64edc6": {
     "views": []
    },
    "f16dce26e29447fb92414f4a56c3d000": {
     "views": []
    },
    "f4888ce60df2468389ab39f32b9585b4": {
     "views": []
    },
    "f6930490a4964d05abfd130fcad37587": {
     "views": []
    },
    "f6d9425b6be14c40b50c15979e35be99": {
     "views": []
    },
    "fca522c4fd7a47be86a1aab9fa26494c": {
     "views": []
    },
    "fd7dab3919ab4f0f838fe25f216d2d81": {
     "views": []
    },
    "fec936e794b94e74be9eed7a0c172ba7": {
     "views": []
    }
   },
   "version": "1.1.1"
  }
 },
 "nbformat": 4,
 "nbformat_minor": 0
}

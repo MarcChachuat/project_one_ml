{
 "cells": [
  {
   "cell_type": "code",
   "execution_count": 290,
   "metadata": {
    "collapsed": false
   },
   "outputs": [
    {
     "name": "stdout",
     "output_type": "stream",
     "text": [
      "The autoreload extension is already loaded. To reload it, use:\n",
      "  %reload_ext autoreload\n"
     ]
    }
   ],
   "source": [
    "# Useful starting lines\n",
    "%matplotlib inline\n",
    "import numpy as np\n",
    "import matplotlib.pyplot as plt\n",
    "\n",
    "from functions import *\n",
    "from helpers import *\n",
    "from proj1_helpers import *\n",
    "from costs import *\n",
    "from data_preprocessing import *\n",
    "\n",
    "%load_ext autoreload\n",
    "%autoreload 2"
   ]
  },
  {
   "cell_type": "markdown",
   "metadata": {},
   "source": [
    "## Load the training data into feature matrix, class labels, and event ids:"
   ]
  },
  {
   "cell_type": "code",
   "execution_count": 2,
   "metadata": {
    "collapsed": false
   },
   "outputs": [
    {
     "name": "stdout",
     "output_type": "stream",
     "text": [
      "loading of the data : done\n"
     ]
    }
   ],
   "source": [
    "from proj1_helpers import *\n",
    "DATA_TRAIN_PATH = '../data/train.csv' \n",
    "# TODO: download train data and supply path here \n",
    "y, tX, ids = load_csv_data(DATA_TRAIN_PATH)\n",
    "print(\"loading of the data : done\")"
   ]
  },
  {
   "cell_type": "markdown",
   "metadata": {},
   "source": [
    "## Data preprocessing"
   ]
  },
  {
   "cell_type": "markdown",
   "metadata": {},
   "source": [
    "## Logistic Regression"
   ]
  },
  {
   "cell_type": "code",
   "execution_count": 231,
   "metadata": {
    "collapsed": true
   },
   "outputs": [],
   "source": [
    "from functions import logistic_regression_GD\n",
    "\n",
    "def prediction(tx, w):\n",
    "    y = tx @ w\n",
    "    y[y > 0] = 1\n",
    "    y[y <= 0] = 0\n",
    "    return y\n",
    "\n",
    "def accuracy(y, y_pred):\n",
    "    return np.mean(y == y_pred)\n",
    "\n",
    "log_features = [1, 3, 4, 5, 8, 9, 13, 16, 19, 23, 26, 29]\n",
    "normal_features = [0, 2, 6, 7, 10, 14, 17, 21, 24, 27]\n",
    "uniform_feature = [15, 18, 20, 25, 28]\n",
    "# two side are large\n",
    "bernoulli_feature = [11, 12]\n",
    "categorical_features = [22]"
   ]
  },
  {
   "cell_type": "code",
   "execution_count": null,
   "metadata": {
    "collapsed": true
   },
   "outputs": [],
   "source": []
  },
  {
   "cell_type": "markdown",
   "metadata": {},
   "source": [
    "# Understand The Data"
   ]
  },
  {
   "cell_type": "code",
   "execution_count": null,
   "metadata": {
    "collapsed": true
   },
   "outputs": [],
   "source": [
    "from proj1_helpers import *\n",
    "DATA_TRAIN_PATH = '../data/train.csv' \n",
    "# TODO: download train data and supply path here \n",
    "y, tX, ids = load_csv_data(DATA_TRAIN_PATH)\n",
    "print(\"loading of the data : done\")"
   ]
  },
  {
   "cell_type": "markdown",
   "metadata": {},
   "source": [
    "Basic"
   ]
  },
  {
   "cell_type": "code",
   "execution_count": 4,
   "metadata": {
    "collapsed": true
   },
   "outputs": [],
   "source": [
    "n_total_training_samples = tX.shape[0]\n",
    "n_total_features         = tX.shape[1]"
   ]
  },
  {
   "cell_type": "markdown",
   "metadata": {},
   "source": [
    "#### columns with missing values"
   ]
  },
  {
   "cell_type": "code",
   "execution_count": 5,
   "metadata": {
    "collapsed": false
   },
   "outputs": [
    {
     "data": {
      "text/plain": [
       "[0, 4, 5, 6, 12, 23, 24, 25, 26, 27, 28]"
      ]
     },
     "execution_count": 5,
     "metadata": {},
     "output_type": "execute_result"
    }
   ],
   "source": [
    "columns_with_missing_values = []\n",
    "for i in range(n_total_features):\n",
    "    if -999 in tX[:, i]:\n",
    "        columns_with_missing_values.append(i)\n",
    "\n",
    "columns_with_missing_values"
   ]
  },
  {
   "cell_type": "code",
   "execution_count": 359,
   "metadata": {
    "collapsed": true
   },
   "outputs": [],
   "source": [
    "log_features = [1, 3, 4, 5, 8, 9, 13, 16, 19, 23, 26, 29]\n",
    "normal_features = [0, 2, 6, 7, 10, 14, 17, 21, 24, 27]\n",
    "uniform_feature = [15, 18, 20, 25, 28]\n",
    "# two side are large (perhaps beta distribution)\n",
    "bernoulli_feature = [11, 12]\n",
    "categorical_features = [22]"
   ]
  },
  {
   "cell_type": "code",
   "execution_count": 166,
   "metadata": {
    "collapsed": true
   },
   "outputs": [],
   "source": [
    "def split_data(x, y, ratio_of_training):\n",
    "    \"\"\"split the dataset based on the split ratio.\"\"\"\n",
    "    p = np.random.permutation(np.arange(y.shape[0]))\n",
    "    n = int(y.shape[0] * ratio_of_training)\n",
    "    return  x[p][:n], x[p][n:], y[p][:n], y[p][n:]\n",
    "\n",
    "def prediction(tx, w):\n",
    "    y = tx @ w\n",
    "    y[y > 0] = 1\n",
    "    y[y <= 0] = 0\n",
    "    return y\n",
    "\n",
    "def accuracy(y, y_pred):\n",
    "    return np.mean(y == y_pred)"
   ]
  },
  {
   "cell_type": "code",
   "execution_count": 252,
   "metadata": {
    "collapsed": true
   },
   "outputs": [],
   "source": [
    "def transform_y(y):\n",
    "    tmp = y.copy()\n",
    "    tmp[tmp==-1]=0\n",
    "    return tmp\n",
    "\n",
    "def transform_y_back(y):\n",
    "    tmp = y.copy()\n",
    "    tmp[tmp==0]=-1  \n",
    "    return tmp\n",
    "\n",
    "def prediction_and_accuracy(tr_tx, tr_y, te_tx, te_y, w):\n",
    "    return accuracy(tr_y, prediction(tr_tx, w)), accuracy(te_y, prediction(te_tx, w))"
   ]
  },
  {
   "cell_type": "markdown",
   "metadata": {},
   "source": [
    "# Preprocessing"
   ]
  },
  {
   "cell_type": "markdown",
   "metadata": {},
   "source": [
    "#### fill missing values with their means."
   ]
  },
  {
   "cell_type": "code",
   "execution_count": 116,
   "metadata": {
    "collapsed": false
   },
   "outputs": [
    {
     "data": {
      "image/png": "[encoded data removed]",
      "text/plain": [
       "<matplotlib.figure.Figure at 0x106090128>"
      ]
     },
     "metadata": {},
     "output_type": "display_data"
    }
   ],
   "source": [
    "# Time Visualization\n",
    "from ipywidgets import IntSlider, interact\n",
    "from IPython.display import display\n",
    "\n",
    "def fill_na(method=np.mean):\n",
    "    filled = tX.copy()\n",
    "    for col in columns_with_missing_values:\n",
    "        tmp = filled[:, col]\n",
    "        tmp[tmp == -999] = method(tmp[tmp != -999])\n",
    "        filled[:, col] = tmp\n",
    "    return filled\n",
    "\n",
    "def plot_hist(tx, i, transformation=None):\n",
    "    plt.figure()\n",
    "    if transformation is None:\n",
    "        plt.hist(tx[:, i], bins=100)\n",
    "    else:\n",
    "        plt.hist(transformation(tx[:, i]), bins=100)\n",
    "    plt.title(\"feature %i\" % i)\n",
    "    plt.show()\n",
    "    \n",
    "# before processing \n",
    "interactive(lambda x:plot_hist(tX, x), x=IntSlider(min=0, max=29))"
   ]
  },
  {
   "cell_type": "markdown",
   "metadata": {},
   "source": [
    "#### Expand features to reduce bias"
   ]
  },
  {
   "cell_type": "code",
   "execution_count": 133,
   "metadata": {
    "collapsed": false
   },
   "outputs": [
    {
     "data": {
      "text/plain": [
       "array([[  0,   1,   0,   1,   0,   1],\n",
       "       [  2,   3,   4,   9,   8,  27],\n",
       "       [  4,   5,  16,  25,  64, 125],\n",
       "       [  6,   7,  36,  49, 216, 343],\n",
       "       [  8,   9,  64,  81, 512, 729]])"
      ]
     },
     "execution_count": 133,
     "metadata": {},
     "output_type": "execute_result"
    }
   ],
   "source": [
    "def build_polynomial_without_mixed_term(tx, degree=2):\n",
    "    n = tx.shape[0]\n",
    "    tmp = tx\n",
    "    for i in range(2, degree+1):\n",
    "        tmp = np.c_[tmp, tx**i]\n",
    "    # The function standardize will add a column of 1s in the first column\n",
    "    return tmp\n",
    "\n",
    "build_polynomial_without_mixed_term(np.arange(10).reshape(5,2), 3)"
   ]
  },
  {
   "cell_type": "markdown",
   "metadata": {},
   "source": [
    "## Classifier 1\n",
    "\n",
    "specifications\n",
    "    - polynomial of degree 2\n",
    "    - didin't apply log to some features\n",
    "    - validation (not cross validation)"
   ]
  },
  {
   "cell_type": "markdown",
   "metadata": {},
   "source": [
    "fill -999 with mean/median/..."
   ]
  },
  {
   "cell_type": "code",
   "execution_count": 119,
   "metadata": {
    "collapsed": false
   },
   "outputs": [
    {
     "data": {
      "text/plain": [
       "[0, 1, 2, 3, 4, 5, 7, 8, 9, 10, 12, 13, 16, 19, 21, 22, 23, 26, 29]"
      ]
     },
     "execution_count": 119,
     "metadata": {},
     "output_type": "execute_result"
    }
   ],
   "source": [
    "filled_tX = fill_na()\n",
    "\n",
    "columns_non_negative = []\n",
    "for i in range(n_total_features):\n",
    "    if len(filled_tX[filled_tX[:, i] < 0, i]) == 0:\n",
    "        columns_non_negative.append(i)\n",
    "\n",
    "columns_non_negative"
   ]
  },
  {
   "cell_type": "markdown",
   "metadata": {},
   "source": [
    "Here is the data used for interactive data analysis."
   ]
  },
  {
   "cell_type": "code",
   "execution_count": 122,
   "metadata": {
    "collapsed": false
   },
   "outputs": [
    {
     "data": {
      "image/png": "[encoded data removed]",
      "text/plain": [
       "<matplotlib.figure.Figure at 0x105f6fa20>"
      ]
     },
     "metadata": {},
     "output_type": "display_data"
    }
   ],
   "source": [
    "interactive(lambda x:plot_hist(filled_tX, x), x=IntSlider(value=1, min=0, max=n_total_features-1))"
   ]
  },
  {
   "cell_type": "code",
   "execution_count": 117,
   "metadata": {
    "collapsed": false,
    "scrolled": true
   },
   "outputs": [],
   "source": [
    "# some of the data is not allowed to perform log\n",
    "def plot_function(idx):\n",
    "    if idx in columns_non_negative:\n",
    "        plot_hist(filled_tX, idx, lambda y: np.log(y+1e-6))\n",
    "    else:\n",
    "        pass\n",
    "    \n",
    "interactive(plot_function, idx=IntSlider(value=1, min=0, max=n_total_features-1))"
   ]
  },
  {
   "cell_type": "markdown",
   "metadata": {},
   "source": [
    "#### standardize the columns"
   ]
  },
  {
   "cell_type": "code",
   "execution_count": 136,
   "metadata": {
    "collapsed": false
   },
   "outputs": [
    {
     "data": {
      "text/plain": [
       "(250000, 61)"
      ]
     },
     "execution_count": 136,
     "metadata": {},
     "output_type": "execute_result"
    }
   ],
   "source": [
    "tmp = build_polynomial_without_mixed_term(filled_tX, degree = 2)\n",
    "## We can take logs of each column Here *******************************\n",
    "tX1, mean_x1, std_x1 = standardize(tmp)\n",
    "y1 = transform_y(y)\n",
    "tX1.shape"
   ]
  },
  {
   "cell_type": "markdown",
   "metadata": {},
   "source": [
    "### sepearte training sets and cross validation sets and Predict w"
   ]
  },
  {
   "cell_type": "code",
   "execution_count": 167,
   "metadata": {
    "collapsed": false
   },
   "outputs": [
    {
     "data": {
      "text/plain": [
       "(25000, 61)"
      ]
     },
     "execution_count": 167,
     "metadata": {},
     "output_type": "execute_result"
    }
   ],
   "source": [
    "training_ratio = 0.9\n",
    "train_tX1, cv_tX1, train_y1, cv_y1 = split_data(tX1, y1, training_ratio)\n",
    "cv_tX1.shape"
   ]
  },
  {
   "cell_type": "code",
   "execution_count": 187,
   "metadata": {
    "collapsed": false
   },
   "outputs": [],
   "source": [
    "plot_info = np.array(info)\n",
    "sizes = plot_info[:, 2]\n",
    "tr_error = plot_info[:, 0]\n",
    "te_error = plot_info[:, 1]"
   ]
  },
  {
   "cell_type": "code",
   "execution_count": 191,
   "metadata": {
    "collapsed": false
   },
   "outputs": [
    {
     "data": {
      "image/png": "[encoded data removed]",
      "text/plain": [
       "<matplotlib.figure.Figure at 0x124c7a320>"
      ]
     },
     "metadata": {},
     "output_type": "display_data"
    }
   ],
   "source": [
    "plt.plot(sizes, tr_error, 'r*-', sizes, te_error, 'b-')\n",
    "plt.show()"
   ]
  },
  {
   "cell_type": "markdown",
   "metadata": {},
   "source": [
    "## For how large the size, we can train it very accurately"
   ]
  },
  {
   "cell_type": "markdown",
   "metadata": {},
   "source": [
    "gamma=0.1\n",
    "lambda=0.01\n",
    "\n",
    "|training size|iteration| acc train| acc test|\n",
    "|:--:|:---:|:---:|\n",
    "|100|1000| 0.98|0.70|\n",
    "|150|1000|0.88|0.7|\n",
    "|150|5000|0.93|0.71|\n",
    "|150|10000|0.96|0.72464|\n",
    "|150|20000|0.947|0.707|\n",
    "|150|20000|0.953333333333| 0.70664|\n",
    "|200|10000|0.885| 0.70876|\n",
    "|10000|1000|0.6934| 0.69128|\n",
    "\n",
    "we can see that with the grow of training size, the same classifier performs bad on traing set very quickly. For the same training sets, the grows of iterations can improve training performance, but can hardly influence test error.\n",
    "\n",
    "Our model suffers from bias."
   ]
  },
  {
   "cell_type": "code",
   "execution_count": 250,
   "metadata": {
    "collapsed": false
   },
   "outputs": [
    {
     "name": "stdout",
     "output_type": "stream",
     "text": [
      "Losgistic Regression(0/2000): loss=2402.6957352974205\n",
      "Losgistic Regression(100/2000): loss=-8936.355222308823\n",
      "Losgistic Regression(200/2000): loss=-12594.63835008598\n",
      "Losgistic Regression(300/2000): loss=-15025.068421770844\n",
      "Losgistic Regression(400/2000): loss=-16851.15727650931\n",
      "Losgistic Regression(500/2000): loss=-18322.24101198037\n",
      "Losgistic Regression(600/2000): loss=-19558.5049300319\n",
      "Losgistic Regression(700/2000): loss=-20626.385404283\n",
      "Losgistic Regression(800/2000): loss=-21566.669930990374\n",
      "Losgistic Regression(900/2000): loss=-22406.45130901868\n",
      "Losgistic Regression(1000/2000): loss=-23164.809899810523\n",
      "Losgistic Regression(1100/2000): loss=-23855.783145353264\n",
      "Losgistic Regression(1200/2000): loss=-24490.046690219195\n",
      "Losgistic Regression(1300/2000): loss=-25075.931566815303\n",
      "Losgistic Regression(1400/2000): loss=-25620.074212802167\n",
      "Losgistic Regression(1500/2000): loss=-26127.85080153295\n",
      "Losgistic Regression(1600/2000): loss=-26603.67822884715\n",
      "Losgistic Regression(1700/2000): loss=-27051.229049840775\n",
      "Losgistic Regression(1800/2000): loss=-27473.588850339405\n",
      "Losgistic Regression(1900/2000): loss=-27873.37392097684\n",
      "0.86 0.72992\n"
     ]
    }
   ],
   "source": [
    "idxes = np.arange(200)\n",
    "w, losses = reg_logistic_regression_GD(train_y1[idxes], train_tX1[idxes], gamma=0.001, \n",
    "                       max_iters = 2000, lambda_=0, regularizor=regularizor_lasso)\n",
    "\n",
    "tr_acc, te_acc = prediction_and_accuracy(train_tX1[idxes], train_y1[idxes], cv_tX1, cv_y1, w)\n",
    "print(tr_acc, te_acc)"
   ]
  },
  {
   "cell_type": "markdown",
   "metadata": {},
   "source": [
    "We see that the (original) feature 2, 4, 15, 18 has small feature in in it self, but their square can be large"
   ]
  },
  {
   "cell_type": "code",
   "execution_count": 178,
   "metadata": {
    "collapsed": false
   },
   "outputs": [
    {
     "name": "stdout",
     "output_type": "stream",
     "text": [
      "training error 0.6986177777777778\n",
      "training error 0.69612\n"
     ]
    }
   ],
   "source": [
    "print (\"training error {e}\".format(e=))\n",
    "print (\"training error {e}\".format(e=))"
   ]
  },
  {
   "cell_type": "markdown",
   "metadata": {},
   "source": [
    "# Classfier 2: Higher Order Polynomial"
   ]
  },
  {
   "cell_type": "code",
   "execution_count": 356,
   "metadata": {
    "collapsed": false
   },
   "outputs": [
    {
     "data": {
      "text/plain": [
       "[0, 1, 2, 3, 4, 5, 7, 8, 9, 10, 12, 13, 16, 19, 21, 22, 23, 26, 29]"
      ]
     },
     "execution_count": 356,
     "metadata": {},
     "output_type": "execute_result"
    }
   ],
   "source": [
    "filled_tX = fill_na()\n",
    "\n",
    "columns_non_negative = []\n",
    "for i in range(n_total_features):\n",
    "    if len(filled_tX[filled_tX[:, i] < 0, i]) == 0:\n",
    "        columns_non_negative.append(i)\n",
    "\n",
    "columns_non_negative"
   ]
  },
  {
   "cell_type": "markdown",
   "metadata": {},
   "source": [
    "#### standardize the columns"
   ]
  },
  {
   "cell_type": "code",
   "execution_count": 253,
   "metadata": {
    "collapsed": false
   },
   "outputs": [
    {
     "data": {
      "text/plain": [
       "(250000, 91)"
      ]
     },
     "execution_count": 253,
     "metadata": {},
     "output_type": "execute_result"
    }
   ],
   "source": [
    "tmp = build_polynomial_without_mixed_term(filled_tX, degree = 3)\n",
    "## We can take logs of each column Here *******************************\n",
    "tX2, mean_x2, std_x2 = standardize(tmp)\n",
    "y2 = transform_y(y)\n",
    "tX2.shape"
   ]
  },
  {
   "cell_type": "markdown",
   "metadata": {},
   "source": [
    "### sepearte training sets and cross validation sets and Predict w"
   ]
  },
  {
   "cell_type": "code",
   "execution_count": 260,
   "metadata": {
    "collapsed": false
   },
   "outputs": [
    {
     "data": {
      "text/plain": [
       "(25000, 91)"
      ]
     },
     "execution_count": 260,
     "metadata": {},
     "output_type": "execute_result"
    }
   ],
   "source": [
    "training_ratio = 0.9\n",
    "train_tX2, cv_tX2, train_y2, cv_y2 = split_data(tX2, y2, training_ratio)\n",
    "cv_tX2.shape"
   ]
  },
  {
   "cell_type": "code",
   "execution_count": 357,
   "metadata": {
    "collapsed": false
   },
   "outputs": [
    {
     "name": "stdout",
     "output_type": "stream",
     "text": [
      "1.31858812606e-05\n",
      "Losgistic Regression(0/100000): loss=-1576381.4131746194\n",
      "Losgistic Regression(1000/100000): loss=-2609588.730715125\n",
      "Losgistic Regression(2000/100000): loss=-3167813.2138219867\n",
      "Losgistic Regression(3000/100000): loss=-3472116.763273852\n",
      "Losgistic Regression(4000/100000): loss=-3685713.505443715\n",
      "Losgistic Regression(5000/100000): loss=-3849144.4587358832\n",
      "Losgistic Regression(6000/100000): loss=-3981252.780542511\n",
      "Losgistic Regression(7000/100000): loss=-4091986.6941092336\n",
      "Losgistic Regression(8000/100000): loss=-4187103.3739277883\n",
      "Losgistic Regression(9000/100000): loss=-4270247.950210498\n",
      "Losgistic Regression(10000/100000): loss=-4343888.490349865\n",
      "Losgistic Regression(11000/100000): loss=-4409771.966527175\n",
      "Losgistic Regression(12000/100000): loss=-4469173.647771348\n",
      "Losgistic Regression(13000/100000): loss=-4523053.768381426\n",
      "Losgistic Regression(14000/100000): loss=-4572165.075756724\n",
      "Losgistic Regression(15000/100000): loss=-4617120.198719306\n",
      "Losgistic Regression(16000/100000): loss=-4658431.460440949\n",
      "Losgistic Regression(17000/100000): loss=-4696533.776438372\n",
      "Losgistic Regression(18000/100000): loss=-4731798.785862885\n",
      "Losgistic Regression(19000/100000): loss=-4764546.182064939\n",
      "Losgistic Regression(20000/100000): loss=-4795051.625150841\n",
      "Losgistic Regression(21000/100000): loss=-4823553.743449943\n",
      "Losgistic Regression(22000/100000): loss=-4850259.862277383\n",
      "Losgistic Regression(23000/100000): loss=-4875350.531390548\n",
      "Losgistic Regression(24000/100000): loss=-4898983.454344895\n",
      "Losgistic Regression(25000/100000): loss=-4921297.340273586\n",
      "Losgistic Regression(26000/100000): loss=-4942413.462051473\n",
      "Losgistic Regression(27000/100000): loss=-4962438.986907133\n",
      "Losgistic Regression(28000/100000): loss=-4981468.558170063\n",
      "Losgistic Regression(29000/100000): loss=-4999585.841008508\n",
      "Losgistic Regression(30000/100000): loss=-5016864.965058875\n",
      "Losgistic Regression(31000/100000): loss=-5033371.745346901\n",
      "Losgistic Regression(32000/100000): loss=-5049164.741337445\n",
      "Losgistic Regression(33000/100000): loss=-5064296.186086943\n",
      "Losgistic Regression(34000/100000): loss=-5078812.804623643\n",
      "Losgistic Regression(35000/100000): loss=-5092756.393514927\n",
      "Losgistic Regression(36000/100000): loss=-5106165.058016837\n",
      "Losgistic Regression(37000/100000): loss=-5119072.781526758\n",
      "Losgistic Regression(38000/100000): loss=-5131511.020404617\n",
      "Losgistic Regression(39000/100000): loss=-5143507.664347334\n",
      "Losgistic Regression(40000/100000): loss=-5155088.63508416\n",
      "Losgistic Regression(41000/100000): loss=-5166277.743503345\n",
      "Losgistic Regression(42000/100000): loss=-5177096.9263597075\n",
      "Losgistic Regression(43000/100000): loss=-5187566.4487711685\n",
      "Losgistic Regression(44000/100000): loss=-5197705.050099795\n",
      "Losgistic Regression(45000/100000): loss=-5207530.119119958\n",
      "Losgistic Regression(46000/100000): loss=-5217057.79366191\n",
      "Losgistic Regression(47000/100000): loss=-5226303.074583019\n",
      "Losgistic Regression(48000/100000): loss=-5235279.921821131\n",
      "Losgistic Regression(49000/100000): loss=-5244001.340726925\n",
      "Losgistic Regression(50000/100000): loss=-5252479.46022717\n",
      "Losgistic Regression(51000/100000): loss=-5260725.603928999\n",
      "Losgistic Regression(52000/100000): loss=-5268750.354984655\n",
      "Losgistic Regression(53000/100000): loss=-5276563.615347583\n",
      "Losgistic Regression(54000/100000): loss=-5284174.659932345\n",
      "Losgistic Regression(55000/100000): loss=-5291592.18611666\n",
      "Losgistic Regression(56000/100000): loss=-5298824.358974835\n",
      "Losgistic Regression(57000/100000): loss=-5305878.852597846\n",
      "Losgistic Regression(58000/100000): loss=-5312762.887828574\n",
      "Losgistic Regression(59000/100000): loss=-5319483.252422188\n",
      "Losgistic Regression(60000/100000): loss=-5326046.3873747615\n",
      "Losgistic Regression(61000/100000): loss=-5332458.353504039\n",
      "Losgistic Regression(62000/100000): loss=-5338724.852569162\n",
      "Losgistic Regression(63000/100000): loss=-5344851.300808033\n",
      "Losgistic Regression(64000/100000): loss=-5350842.828958583\n",
      "Losgistic Regression(65000/100000): loss=-5356704.300721952\n",
      "Losgistic Regression(66000/100000): loss=-5362440.331261646\n",
      "Losgistic Regression(67000/100000): loss=-5368055.304237758\n",
      "Losgistic Regression(68000/100000): loss=-5373553.387373273\n",
      "Losgistic Regression(69000/100000): loss=-5378938.546697936\n",
      "Losgistic Regression(70000/100000): loss=-5384214.559610502\n",
      "Losgistic Regression(71000/100000): loss=-5389385.026880057\n",
      "Losgistic Regression(72000/100000): loss=-5394453.383690101\n",
      "Losgistic Regression(73000/100000): loss=-5399422.909817011\n",
      "Losgistic Regression(74000/100000): loss=-5404296.739022105\n",
      "Losgistic Regression(75000/100000): loss=-5409077.867729876\n",
      "Losgistic Regression(76000/100000): loss=-5413769.163055664\n",
      "Losgistic Regression(77000/100000): loss=-5418373.370240863\n",
      "Losgistic Regression(78000/100000): loss=-5422893.119547225\n",
      "Losgistic Regression(79000/100000): loss=-5427330.9326570975\n",
      "Losgistic Regression(80000/100000): loss=-5431689.228621795\n",
      "Losgistic Regression(81000/100000): loss=-5435970.329396363\n",
      "Losgistic Regression(82000/100000): loss=-5440176.464994871\n",
      "Losgistic Regression(83000/100000): loss=-5444309.778297924\n",
      "Losgistic Regression(84000/100000): loss=-5448372.329540389\n",
      "Losgistic Regression(85000/100000): loss=-5452366.100504982\n",
      "Losgistic Regression(86000/100000): loss=-5456293.185446158\n",
      "Losgistic Regression(87000/100000): loss=-5460155.1175794825\n",
      "Losgistic Regression(88000/100000): loss=-5463953.779596244\n",
      "Losgistic Regression(89000/100000): loss=-5467690.875100382\n",
      "Losgistic Regression(90000/100000): loss=-5471368.045793549\n",
      "Losgistic Regression(91000/100000): loss=-5474986.876479005\n",
      "Losgistic Regression(92000/100000): loss=-5478548.896940535\n",
      "Losgistic Regression(93000/100000): loss=-5482055.584147429\n",
      "Losgistic Regression(94000/100000): loss=-5485508.364485841\n",
      "Losgistic Regression(95000/100000): loss=-5488908.615921628\n",
      "Losgistic Regression(96000/100000): loss=-5492257.670073381\n",
      "Losgistic Regression(97000/100000): loss=-5495556.814190101\n",
      "Losgistic Regression(98000/100000): loss=-5498807.293032587\n",
      "Losgistic Regression(99000/100000): loss=-5502010.310660532\n",
      "0.8172 0.80656\n"
     ]
    }
   ],
   "source": [
    "idxes = np.arange(5000)\n",
    "L=np.linalg.eigvals(train_tX2[idxes].T @ train_tX2[idxes]).max()\n",
    "print(1/L)\n",
    "w, losses = reg_logistic_regression_GD(train_y2[idxes], train_tX2[idxes], gamma=1/L, \n",
    "                       max_iters = 100000, lambda_=0.0001, regularizor=regularizor_lasso)\n",
    "\n",
    "tr_acc, te_acc = prediction_and_accuracy(train_tX2[idxes], train_y2[idxes], cv_tX2, cv_y2, w)\n",
    "print(tr_acc, te_acc)"
   ]
  },
  {
   "cell_type": "code",
   "execution_count": 364,
   "metadata": {
    "collapsed": false
   },
   "outputs": [
    {
     "name": "stdout",
     "output_type": "stream",
     "text": [
      "6.6932772662e-06\n",
      "Losgistic Regression(0/100000): loss=434457.21842224855\n",
      "Losgistic Regression(1000/100000): loss=-10234622.776920963\n",
      "Losgistic Regression(2000/100000): loss=-12230873.927219868\n",
      "Losgistic Regression(3000/100000): loss=-13370184.385959959\n",
      "Losgistic Regression(4000/100000): loss=-14177368.686676051\n",
      "Losgistic Regression(5000/100000): loss=-14804224.395295477\n",
      "Losgistic Regression(6000/100000): loss=-15313039.706620015\n",
      "Losgistic Regression(7000/100000): loss=-15737437.263241317\n",
      "Losgistic Regression(8000/100000): loss=-16098504.39866479\n",
      "Losgistic Regression(9000/100000): loss=-16410311.024095053\n",
      "Losgistic Regression(10000/100000): loss=-16682700.350381702\n",
      "Losgistic Regression(11000/100000): loss=-16922849.827691004\n",
      "Losgistic Regression(12000/100000): loss=-17136175.98913687\n",
      "Losgistic Regression(13000/100000): loss=-17326879.368117437\n",
      "Losgistic Regression(14000/100000): loss=-17498293.407778494\n",
      "Losgistic Regression(15000/100000): loss=-17653107.48084559\n",
      "Losgistic Regression(16000/100000): loss=-17793529.65548029\n",
      "Losgistic Regression(17000/100000): loss=-17921393.395987857\n",
      "Losgistic Regression(18000/100000): loss=-18038237.25761377\n",
      "Losgistic Regression(19000/100000): loss=-18145364.019332215\n",
      "Losgistic Regression(20000/100000): loss=-18243884.099737927\n",
      "Losgistic Regression(21000/100000): loss=-18334751.18453073\n",
      "Losgistic Regression(22000/100000): loss=-18418786.030906536\n",
      "Losgistic Regression(23000/100000): loss=-18496700.57322757\n",
      "Losgistic Regression(24000/100000): loss=-18569113.75459297\n",
      "Losgistic Regression(25000/100000): loss=-18636565.985747747\n",
      "Losgistic Regression(26000/100000): loss=-18699530.91251867\n",
      "Losgistic Regression(27000/100000): loss=-18758425.16131391\n",
      "Losgistic Regression(28000/100000): loss=-18813617.131521203\n",
      "Losgistic Regression(29000/100000): loss=-18865433.07428224\n",
      "Losgistic Regression(30000/100000): loss=-18914163.557746664\n",
      "Losgistic Regression(31000/100000): loss=-18960068.0583519\n",
      "Losgistic Regression(32000/100000): loss=-19003378.944174524\n",
      "Losgistic Regression(33000/100000): loss=-19044304.78913666\n",
      "Losgistic Regression(34000/100000): loss=-19083033.163536843\n",
      "Losgistic Regression(35000/100000): loss=-19119733.020641763\n",
      "Losgistic Regression(36000/100000): loss=-19154556.770490967\n",
      "Losgistic Regression(37000/100000): loss=-19187642.10459073\n",
      "Losgistic Regression(38000/100000): loss=-19219113.613513943\n",
      "Losgistic Regression(39000/100000): loss=-19249083.985745035\n",
      "Losgistic Regression(40000/100000): loss=-19277656.17267111\n",
      "Losgistic Regression(41000/100000): loss=-19304923.26221315\n",
      "Losgistic Regression(42000/100000): loss=-19330970.35926909\n",
      "Losgistic Regression(43000/100000): loss=-19355875.180184305\n",
      "Losgistic Regression(44000/100000): loss=-19379708.859251298\n",
      "Losgistic Regression(45000/100000): loss=-19402536.647963177\n",
      "Losgistic Regression(46000/100000): loss=-19424418.52547581\n",
      "Losgistic Regression(47000/100000): loss=-19445409.734691165\n",
      "Losgistic Regression(48000/100000): loss=-19465561.254464686\n",
      "Losgistic Regression(49000/100000): loss=-19484920.21633419\n",
      "Losgistic Regression(50000/100000): loss=-19503530.27297856\n",
      "Losgistic Regression(51000/100000): loss=-19521431.924608763\n",
      "Losgistic Regression(52000/100000): loss=-19538662.808669314\n",
      "Losgistic Regression(53000/100000): loss=-19555257.95751001\n",
      "Losgistic Regression(54000/100000): loss=-19571250.028062366\n",
      "Losgistic Regression(55000/100000): loss=-19586669.621781625\n",
      "Losgistic Regression(56000/100000): loss=-19601544.96572731\n",
      "Losgistic Regression(57000/100000): loss=-19615902.92292718\n",
      "Losgistic Regression(58000/100000): loss=-19629768.48523869\n",
      "Losgistic Regression(59000/100000): loss=-19643165.110032324\n",
      "Losgistic Regression(60000/100000): loss=-19656115.52071395\n",
      "Losgistic Regression(61000/100000): loss=-19668639.440809503\n",
      "Losgistic Regression(62000/100000): loss=-19680756.558475815\n",
      "Losgistic Regression(63000/100000): loss=-19692485.377999134\n",
      "Losgistic Regression(64000/100000): loss=-19703843.2780626\n",
      "Losgistic Regression(65000/100000): loss=-19714846.658731826\n",
      "Losgistic Regression(66000/100000): loss=-19725511.017401554\n",
      "Losgistic Regression(67000/100000): loss=-19735851.0127058\n",
      "Losgistic Regression(68000/100000): loss=-19745880.52210366\n",
      "Losgistic Regression(69000/100000): loss=-19755612.69436495\n",
      "Losgistic Regression(70000/100000): loss=-19765059.997607972\n",
      "Losgistic Regression(71000/100000): loss=-19774234.26339828\n",
      "Losgistic Regression(72000/100000): loss=-19783146.727319214\n",
      "Losgistic Regression(73000/100000): loss=-19791808.066357877\n",
      "Losgistic Regression(74000/100000): loss=-19800228.433412656\n",
      "Losgistic Regression(75000/100000): loss=-19808417.489186414\n",
      "Losgistic Regression(76000/100000): loss=-19816384.43170213\n",
      "Losgistic Regression(77000/100000): loss=-19824138.023650773\n",
      "Losgistic Regression(78000/100000): loss=-19831686.617763985\n",
      "Losgistic Regression(79000/100000): loss=-19839038.180371005\n",
      "Losgistic Regression(80000/100000): loss=-19846200.40784303\n",
      "Losgistic Regression(81000/100000): loss=-19853180.31290167\n",
      "Losgistic Regression(82000/100000): loss=-19859985.01820347\n",
      "Losgistic Regression(83000/100000): loss=-19866621.119001914\n",
      "Losgistic Regression(84000/100000): loss=-19873094.94309165\n",
      "Losgistic Regression(85000/100000): loss=-19879412.547330413\n",
      "Losgistic Regression(86000/100000): loss=-19885579.728835315\n",
      "Losgistic Regression(87000/100000): loss=-19891602.03770426\n",
      "Losgistic Regression(88000/100000): loss=-19897484.78940485\n",
      "Losgistic Regression(89000/100000): loss=-19903233.07653867\n",
      "Losgistic Regression(90000/100000): loss=-19908851.77993583\n",
      "Losgistic Regression(91000/100000): loss=-19914345.57909794\n",
      "Losgistic Regression(92000/100000): loss=-19919718.96202289\n",
      "Losgistic Regression(93000/100000): loss=-19924976.2344513\n",
      "Losgistic Regression(94000/100000): loss=-19930121.528572276\n",
      "Losgistic Regression(95000/100000): loss=-19935158.811225545\n",
      "Losgistic Regression(96000/100000): loss=-19940091.891634226\n",
      "Losgistic Regression(97000/100000): loss=-19944924.428700306\n",
      "Losgistic Regression(98000/100000): loss=-19949659.93789192\n",
      "Losgistic Regression(99000/100000): loss=-19954301.79774978\n",
      "0.8108 0.8062\n"
     ]
    }
   ],
   "source": [
    "idxes = np.arange(10000)\n",
    "L=np.linalg.eigvals(train_tX2[idxes].T @ train_tX2[idxes]).max()\n",
    "print(1/L)\n",
    "w, losses = reg_logistic_regression_GD(train_y2[idxes], train_tX2[idxes], gamma=1/L, \n",
    "                       max_iters = 100000, lambda_=0.0001, regularizor=regularizor_lasso)\n",
    "\n",
    "tr_acc, te_acc = prediction_and_accuracy(train_tX2[idxes], train_y2[idxes], cv_tX2, cv_y2, w)\n",
    "print(tr_acc, te_acc)"
   ]
  },
  {
   "cell_type": "code",
   "execution_count": 330,
   "metadata": {
    "collapsed": false,
    "scrolled": true
   },
   "outputs": [
    {
     "data": {
      "text/plain": [
       "array([ 0,  7, 10, 13, 16,  0,  2,  8,  9, 13, 19,  0,  1,  3,  9, 13, 19,\n",
       "        0])"
      ]
     },
     "execution_count": 330,
     "metadata": {},
     "output_type": "execute_result"
    }
   ],
   "source": [
    "np.arange(91)[abs(w)>1]%30"
   ]
  },
  {
   "cell_type": "markdown",
   "metadata": {},
   "source": [
    "# Classifier 3"
   ]
  },
  {
   "cell_type": "code",
   "execution_count": null,
   "metadata": {
    "collapsed": true
   },
   "outputs": [],
   "source": [
    "def log_features(tx, cols):\n",
    "    return tx[cols]"
   ]
  },
  {
   "cell_type": "code",
   "execution_count": null,
   "metadata": {
    "collapsed": true
   },
   "outputs": [],
   "source": [
    "tmp = build_polynomial_without_mixed_term(filled_tX, degree = 4)\n",
    "## We can take logs of each column Here *******************************\n",
    "tX3, mean_x3, std_x3 = standardize(tmp)\n",
    "y3 = transform_y(y)\n",
    "tX3.shape"
   ]
  },
  {
   "cell_type": "code",
   "execution_count": null,
   "metadata": {
    "collapsed": true
   },
   "outputs": [],
   "source": [
    "idxes = np.arange(10000)\n",
    "L=np.linalg.eigvals(train_tX3[idxes].T @ train_tX3[idxes]).max()\n",
    "print(1/L)\n",
    "w, losses = reg_logistic_regression_GD(train_y3[idxes], train_tX3[idxes], gamma=1/L, \n",
    "                       max_iters = 100000, lambda_=0.0001, regularizor=regularizor_lasso)\n",
    "\n",
    "tr_acc, te_acc = prediction_and_accuracy(train_tX3[idxes], train_y3[idxes], cv_tX3, cv_y3, w)\n",
    "print(tr_acc, te_acc)"
   ]
  },
  {
   "cell_type": "markdown",
   "metadata": {},
   "source": [
    "## Generate predictions and save ouput in csv format for submission:"
   ]
  },
  {
   "cell_type": "code",
   "execution_count": 331,
   "metadata": {
    "collapsed": false
   },
   "outputs": [],
   "source": [
    "DATA_TEST_PATH = '../data/test.csv'\n",
    "_, tX_test, ids_test = load_csv_data(DATA_TEST_PATH)"
   ]
  },
  {
   "cell_type": "code",
   "execution_count": 346,
   "metadata": {
    "collapsed": false
   },
   "outputs": [
    {
     "data": {
      "text/plain": [
       "(568238, 30)"
      ]
     },
     "execution_count": 346,
     "metadata": {},
     "output_type": "execute_result"
    }
   ],
   "source": [
    "tX_test.shape"
   ]
  },
  {
   "cell_type": "code",
   "execution_count": 349,
   "metadata": {
    "collapsed": false
   },
   "outputs": [
    {
     "data": {
      "text/plain": [
       "[0, 1, 2, 3, 4, 5, 7, 8, 9, 10, 12, 13, 16, 19, 21, 22, 23, 26, 29]"
      ]
     },
     "execution_count": 349,
     "metadata": {},
     "output_type": "execute_result"
    }
   ],
   "source": [
    "def fill_na_test(method=np.mean):\n",
    "    filled = tX_test.copy()\n",
    "    for col in columns_with_missing_values:\n",
    "        tmp = filled[:, col]\n",
    "        tmp[tmp == -999] = method(tmp[tmp != -999])\n",
    "        filled[:, col] = tmp\n",
    "    return filled\n",
    "\n",
    "\n",
    "filled_test_tX = fill_na_test()\n",
    "\n",
    "columns_non_negative = []\n",
    "for i in range(n_total_features):\n",
    "    if len(filled_test_tX[filled_test_tX[:, i] < 0, i]) == 0:\n",
    "        columns_non_negative.append(i)\n",
    "\n",
    "columns_non_negative"
   ]
  },
  {
   "cell_type": "code",
   "execution_count": 350,
   "metadata": {
    "collapsed": false
   },
   "outputs": [
    {
     "data": {
      "text/plain": [
       "(568238, 91)"
      ]
     },
     "execution_count": 350,
     "metadata": {},
     "output_type": "execute_result"
    }
   ],
   "source": [
    "tmp = build_polynomial_without_mixed_term(filled_test_tX, degree = 3)\n",
    "## We can take logs of each column Here *******************************\n",
    "test_tX, _, _ = standardize(tmp, mean_x2, std_x2)\n",
    "test_tX.shape"
   ]
  },
  {
   "cell_type": "code",
   "execution_count": 352,
   "metadata": {
    "collapsed": false
   },
   "outputs": [],
   "source": [
    "y0=transform_y_back(prediction(test_tX, w))"
   ]
  },
  {
   "cell_type": "code",
   "execution_count": 354,
   "metadata": {
    "collapsed": false
   },
   "outputs": [
    {
     "data": {
      "text/plain": [
       "(177703,)"
      ]
     },
     "execution_count": 354,
     "metadata": {},
     "output_type": "execute_result"
    }
   ],
   "source": [
    "y0[y0==1].shape"
   ]
  },
  {
   "cell_type": "code",
   "execution_count": 355,
   "metadata": {
    "collapsed": false
   },
   "outputs": [],
   "source": [
    "OUTPUT_PATH = '../results/result3.csv' # TODO: fill in desired name of output file for submission\n",
    "y_pred = transform_y_back(y0)\n",
    "create_csv_submission(ids_test, y_pred, OUTPUT_PATH)"
   ]
  }
 ],
 "metadata": {
  "anaconda-cloud": {},
  "kernelspec": {
   "display_name": "Python 3",
   "language": "python",
   "name": "python3"
  },
  "language_info": {
   "codemirror_mode": {
    "name": "ipython",
    "version": 3
   },
   "file_extension": ".py",
   "mimetype": "text/x-python",
   "name": "python",
   "nbconvert_exporter": "python",
   "pygments_lexer": "ipython3",
   "version": "3.5.2"
  },
  "widgets": {
   "state": {
    "023cb81475a945fe97d29be3cb3600e9": {
     "views": []
    },
    "0656d01812174c589117e89a7f476eeb": {
     "views": []
    },
    "06e08db57e4c4440a3ad1b3951854893": {
     "views": []
    },
    "09d8152e0e4842f281b6992d966f84ff": {
     "views": []
    },
    "0b17fa30a11f499bbbb6b8402e16c6c0": {
     "views": []
    },
    "0e1159612a454425bbac65a45bf46ae4": {
     "views": []
    },
    "0e2681dfe3854507b8e382172c8d24a9": {
     "views": []
    },
    "0e3a8a0386ac4eeabbe0d75c720fe8ca": {
     "views": []
    },
    "12028e93822d44fb98bff43ebb5ae85f": {
     "views": []
    },
    "12c1d615bd694bcea1fd9ab1124e2733": {
     "views": []
    },
    "17693f1c9ae243fba5f88f6bd0563d5c": {
     "views": []
    },
    "19e769fc042640babb5295d1974c62b8": {
     "views": []
    },
    "19ee98066002482e9fc35c5c1daf61ba": {
     "views": []
    },
    "1a632485f2d8478193df72588650d618": {
     "views": []
    },
    "1a86c3fa0e2d4cd0b5251249d12134bc": {
     "views": []
    },
    "1ee72dc401884de7b2faf7aa90592e2e": {
     "views": []
    },
    "1f1d9fd36c85413abd59a0c5d2f6afac": {
     "views": []
    },
    "218b8bbbb96c44759803d1d7bb93518b": {
     "views": []
    },
    "22ac1bf8dc1a42ec9f6bf037c2b351e0": {
     "views": []
    },
    "2691c30802414c95b1e293e0281cb59c": {
     "views": []
    },
    "2802b13066f649798d7bf253e4bb2b91": {
     "views": []
    },
    "2f8de774e24d4bfbbe7fc7a6c589165b": {
     "views": []
    },
    "33a6f920af1a414eb26969a29ca0e9f5": {
     "views": []
    },
    "33d5f66f8db64bb29aee64e9e6f4b00a": {
     "views": []
    },
    "358ab636ff8949958e22afe4df4c92f5": {
     "views": []
    },
    "360a79441c40473eac4ed7aa38bc332e": {
     "views": []
    },
    "3732e557ec5f4420ae4be9ba1b0c6950": {
     "views": []
    },
    "3891a8618a4e46e0a33e3c1fc96e927f": {
     "views": []
    },
    "3b1570fddde04f0caf52f4ff45d29edb": {
     "views": []
    },
    "3d44ad00ad504e909c2c5165179b38f3": {
     "views": []
    },
    "3ff3abd2ef184017be0348ce847f1a3b": {
     "views": []
    },
    "4104a7b34dea4cac9f83200068a87e4e": {
     "views": []
    },
    "411967c7a0484176b05d585607f58205": {
     "views": []
    },
    "42a2771cc4de461b8e1f7930eb1a5b05": {
     "views": []
    },
    "43533ec6a6424e228d82dedae9d2e033": {
     "views": []
    },
    "44341b3861874225ac2c4a39d9e9b20a": {
     "views": []
    },
    "4514ac6a980d4c1cb0b2865b036f78b4": {
     "views": [
      {
       "cell_index": 132
      }
     ]
    },
    "462a940358654d2b84aa86fb2ddb7fa5": {
     "views": []
    },
    "467d39db9951416ca21632ab9321781c": {
     "views": []
    },
    "48db65e31eb143489065ea6f27cdafee": {
     "views": []
    },
    "4a47e66ec8f145b2a4ce40452beb05eb": {
     "views": []
    },
    "4e8c9deaad524bda8b1da06a0ec346ca": {
     "views": []
    },
    "514aac3eeee24c6d950fdbc506e2c983": {
     "views": []
    },
    "51600ba1f25f46f28712de210eecac48": {
     "views": []
    },
    "53b9a6a0056f4d3eb3d049a6b79902e6": {
     "views": []
    },
    "54f2df5f3b374a7b92906e2c6f9ec3b6": {
     "views": []
    },
    "55a0f08bc43a45199474b57bfab46e44": {
     "views": []
    },
    "5608d42ea9e94999ab42b8ad0c206f85": {
     "views": []
    },
    "58b9d8f8c94d4706bfa0fb67ecbbd1c8": {
     "views": []
    },
    "59566267562941e28c581d183adfb31b": {
     "views": []
    },
    "59b6af240339412ca33740de32807e72": {
     "views": []
    },
    "5c9a253daa9641bdb41bb1e907995314": {
     "views": []
    },
    "5da1672732bf4560a2f195fbfa18fd2f": {
     "views": []
    },
    "5f61c6f48bc6407f808b26dfd3ff650e": {
     "views": []
    },
    "60025b85d7d7483cbd0389d15fa40b24": {
     "views": []
    },
    "6290e48913ff4b9785efd7c0fc29e29a": {
     "views": []
    },
    "64aa7fe3a5964b7289a6e95b667b7697": {
     "views": []
    },
    "68319ce5b3a74f10b5004a4a7e6e9bde": {
     "views": []
    },
    "69b3066124164f6e9fee59423542e6ce": {
     "views": []
    },
    "6f2439baf7df4a6ba620e3c431601ec5": {
     "views": []
    },
    "712bf0da5abb466daed7cb112ac4be9f": {
     "views": []
    },
    "737b5fb46e5647d58c0167b33056f32d": {
     "views": []
    },
    "74e7c1ac51d44ba99eb3190482e44c9f": {
     "views": []
    },
    "74f46c0299024dbd9fa900a91a41e71c": {
     "views": []
    },
    "7646e6b27e164eb4a922f3369c0d1359": {
     "views": []
    },
    "76716f91d3974e5188e3ce2031b8edc6": {
     "views": []
    },
    "7856af6c59bf4b02ad553e5de1667e6e": {
     "views": []
    },
    "84cc99bad75e48c79fd29af3b3b6cf23": {
     "views": []
    },
    "8554ffcd85804c4480cb9568679288e6": {
     "views": []
    },
    "86d8b3ca74394075a5040754a7d0f112": {
     "views": []
    },
    "8712c2d770b044e580b70be8ff47a70c": {
     "views": []
    },
    "89e5d5a410f148b3b9f038d07b985826": {
     "views": []
    },
    "8bc31e9d2e244f859b9944277b10685e": {
     "views": []
    },
    "8c8280c2e5e843ea912ce840c1f9a815": {
     "views": []
    },
    "8de53ca2548b46ffa4709418cdc5e47a": {
     "views": []
    },
    "8f571f7019b648d6982443a00678ca09": {
     "views": []
    },
    "8fd8e55f342e4cd2854b16ae86e8431b": {
     "views": []
    },
    "905c684e215f46b9851f87a98a19cbe8": {
     "views": []
    },
    "910792a394e442a2b3537417187c38f0": {
     "views": [
      {
       "cell_index": 137
      }
     ]
    },
    "92c8926847d9495698e180d643661298": {
     "views": []
    },
    "957d7a710a95407ba7de2bc66a90cb87": {
     "views": []
    },
    "95b6733c17ac4871b980ba45f329b81e": {
     "views": []
    },
    "971324d43edb41bc906914d34cac4e84": {
     "views": []
    },
    "97aa3c9800f04dff94ded3f655bfda84": {
     "views": []
    },
    "9873d25dd712418e87df9d8e7d1140d3": {
     "views": [
      {
       "cell_index": 137
      }
     ]
    },
    "9cdc11d2dbb545308ed63a064fc63ece": {
     "views": []
    },
    "9f070cfb9678487d907255f42842b0fb": {
     "views": []
    },
    "9fedd7eee0504abbad19cbda3aebb022": {
     "views": []
    },
    "9ffc35d8432c40ee9895c565f3c4abda": {
     "views": []
    },
    "a0a41254ad204744aa98206b576555d0": {
     "views": []
    },
    "a72d857b82d54d389cc8a371a4b03d39": {
     "views": []
    },
    "a74ee4818b264fbb95d165877824da55": {
     "views": []
    },
    "a9f0e192ef384cabb84c130bb60cfaea": {
     "views": []
    },
    "aa47af235b6e4335a9843f236ab8fef9": {
     "views": []
    },
    "aafafbbeae1c40cebeb269ac6833d061": {
     "views": []
    },
    "af20bec9e7a54c8ea66dc4787a3a09ea": {
     "views": []
    },
    "b1b641006f214f70a713be0f41831858": {
     "views": []
    },
    "b4c1f164f05b4f3bb3a437b454a9e499": {
     "views": []
    },
    "ba3ea59619e4415b9aa586a7af6b945a": {
     "views": []
    },
    "bbd68922ec024005a35d8f6c24577f3c": {
     "views": []
    },
    "bc3a26e14c1e4962a46cf7287e8991b6": {
     "views": []
    },
    "bf54fb7095864dcba467fe64fb76a32d": {
     "views": []
    },
    "bfa043dfddd741abb68307bd0bff96b2": {
     "views": []
    },
    "c0f3489352ed4aa3b0b6ab1abb9777d8": {
     "views": []
    },
    "c107053cbde24768a5c39237e591246f": {
     "views": []
    },
    "c2853ffd303b4614aeeac08b8f09141a": {
     "views": []
    },
    "c7dc57c0cd694805bac3f843578ae253": {
     "views": []
    },
    "ca45a1359d0a47bf93208f7941df740a": {
     "views": []
    },
    "cc59f3ba01b04abfa8cd8b84857ed625": {
     "views": []
    },
    "cc6eb0825e3b4e6991f36100c530879f": {
     "views": []
    },
    "ce5f660489ae4eb68bec161d9d3afce6": {
     "views": []
    },
    "cf32fbdee557427e8a9d06c5e36c7d24": {
     "views": []
    },
    "d3c5139772f14218afa6d3cf87edefb9": {
     "views": []
    },
    "d5d8edac095d4c858774ee96236435c0": {
     "views": []
    },
    "d76b311a962d49bd9af777ff5f3f6132": {
     "views": []
    },
    "da3ca8bd2ea84ef39e5e1280c6bebc25": {
     "views": []
    },
    "de3928afe68841acb45bd27c88dcb8f5": {
     "views": []
    },
    "df04152de8aa4696b0ffd12180b89e9c": {
     "views": []
    },
    "df0bf6fbe6514083a3c8dc0d19a23b2d": {
     "views": []
    },
    "e0ea1699749a41e687b5683624033244": {
     "views": []
    },
    "e2645b8789c242e18c5db1e0997cf20d": {
     "views": []
    },
    "e3e681e437c3484cb7f49bd2f0655669": {
     "views": []
    },
    "e841538f7d8742289247f2aa9626b7da": {
     "views": []
    },
    "e972522844ca40e1b9378bcffb5ce313": {
     "views": []
    },
    "e9a93b10f7e84f6d9247f21115304861": {
     "views": []
    },
    "eb932c58dcb649c784bd9ed1aef50a74": {
     "views": []
    },
    "ebf85c945d094c6c94f279c3522cf276": {
     "views": []
    },
    "edd161163b4f4188964b434d9a316a75": {
     "views": []
    },
    "ee2859b43dbe405db03026763ff27e6b": {
     "views": []
    },
    "ee4ecf624eb24702a501c36235e105d7": {
     "views": []
    },
    "f140365f0cef4c11b5c5390d1a64edc6": {
     "views": []
    },
    "f16dce26e29447fb92414f4a56c3d000": {
     "views": []
    },
    "f4888ce60df2468389ab39f32b9585b4": {
     "views": []
    },
    "f6930490a4964d05abfd130fcad37587": {
     "views": []
    },
    "f6d9425b6be14c40b50c15979e35be99": {
     "views": []
    },
    "fca522c4fd7a47be86a1aab9fa26494c": {
     "views": []
    },
    "fd7dab3919ab4f0f838fe25f216d2d81": {
     "views": []
    },
    "fec936e794b94e74be9eed7a0c172ba7": {
     "views": []
    }
   },
   "version": "1.1.1"
  }
 },
 "nbformat": 4,
 "nbformat_minor": 0
}
